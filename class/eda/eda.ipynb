{
 "cells": [
  {
   "cell_type": "markdown",
   "metadata": {
    "slideshow": {
     "slide_type": "slide"
    }
   },
   "source": [
    "# Introduction to Data Science\n",
    "\n",
    "## Collecting, Exploring and Cleaning Data"
   ]
  },
  {
   "cell_type": "markdown",
   "metadata": {
    "slideshow": {
     "slide_type": "slide"
    }
   },
   "source": [
    "# Collecting Data\n",
    "\n",
    "* Where do(es) data come from?\n",
    "\n",
    "* Web Scraping\n",
    "\n",
    "* Small Data, Big Data\n",
    "\n",
    "* Common Data Formats"
   ]
  },
  {
   "cell_type": "markdown",
   "metadata": {
    "slideshow": {
     "slide_type": "slide"
    }
   },
   "source": [
    "## Where do(es) data come from?\n",
    "\n",
    "* Then: Manual Curation\n",
    "* Now: Automatic Curation"
   ]
  },
  {
   "cell_type": "markdown",
   "metadata": {
    "slideshow": {
     "slide_type": "slide"
    }
   },
   "source": [
    "### Then: Manual Curation (I)\n",
    "\n",
    "\n",
    "If your parents have not taken note, anywhere, of how tall you were at the age of 1 - we may never be able to extract this information.\n",
    "\n",
    "<img src = \"images/height_marks.jpg\" width = \"80%\" height = \"80%\">"
   ]
  },
  {
   "cell_type": "markdown",
   "metadata": {
    "slideshow": {
     "slide_type": "slide"
    }
   },
   "source": [
    "### Then: Manual Curation (II)\n",
    "\n",
    "If the US government had not seen fit to estimate and record the level of alcohol consumption of its citizens, we would never have known.\n",
    "\n",
    "<img src = \"images/alcohol-consumption-per-person-us.png\" width = \"80%\" height = \"80%\">"
   ]
  },
  {
   "cell_type": "markdown",
   "metadata": {
    "slideshow": {
     "slide_type": "slide"
    }
   },
   "source": [
    "### Now: Automatic Curation (I)\n",
    "\n",
    "Have you ever opened up an Internet browser, searched for \"Amazon\", clicked on [amazon.com](amazon.com) and scrolled around to check the price of a T-shirt? You don't have to be logged in. You don't have to buy. You are data.\n",
    "\n",
    "<img src = \"images/you_are_data.png\">"
   ]
  },
  {
   "cell_type": "markdown",
   "metadata": {
    "slideshow": {
     "slide_type": "slide"
    }
   },
   "source": [
    "### Now: Automatic Curation (II)\n",
    "<img src = \"images/cambridge.png\">"
   ]
  },
  {
   "cell_type": "markdown",
   "metadata": {
    "slideshow": {
     "slide_type": "slide"
    }
   },
   "source": [
    "## Web Scraping\n",
    "\n",
    "* Public APIs\n",
    "* Beautiful Soup"
   ]
  },
  {
   "cell_type": "markdown",
   "metadata": {
    "slideshow": {
     "slide_type": "slide"
    }
   },
   "source": [
    "### Public APIs (I)\n",
    "\n",
    "It's not all bad news. You also have the power to automatically curate data, yourself.\n",
    "\n",
    "<img src = \"images/google_trends01.png\">"
   ]
  },
  {
   "cell_type": "markdown",
   "metadata": {
    "slideshow": {
     "slide_type": "slide"
    }
   },
   "source": [
    "### Public APIs (II)\n",
    "\n",
    "<img src = \"images/google_trends02.png\">"
   ]
  },
  {
   "cell_type": "markdown",
   "metadata": {
    "slideshow": {
     "slide_type": "slide"
    }
   },
   "source": [
    "### Beautiful Soup\n",
    "\n",
    "You may not even need an API.  The following code scrapes the Wikipedia page for the [Beatles discography](https://en.wikipedia.org/wiki/The_Beatles_discography) and creates a table, out of \"thin air\". See more advanced examples in recitation."
   ]
  },
  {
   "cell_type": "code",
   "execution_count": 1,
   "metadata": {
    "slideshow": {
     "slide_type": "-"
    }
   },
   "outputs": [],
   "source": [
    "from bs4 import BeautifulSoup\n",
    "import requests\n",
    "import re\n",
    "import pandas as pd\n",
    "\n",
    "url = \"https://en.wikipedia.org/wiki/The_Beatles_discography\"\n",
    "r = requests.get(url)\n",
    "soup = BeautifulSoup(r.content)"
   ]
  },
  {
   "cell_type": "code",
   "execution_count": 2,
   "metadata": {
    "slideshow": {
     "slide_type": "slide"
    }
   },
   "outputs": [],
   "source": [
    "def get_release_details(release_col):\n",
    "    release_date = None\n",
    "    release_label = None\n",
    "    if release_col is not None:\n",
    "        release_list = release_col.find('ul')\n",
    "        if release_list is not None:\n",
    "            release_list_elements = release_list.find_all('li')\n",
    "            for element in release_list_elements:\n",
    "                element_text = element.get_text()\n",
    "                if element_text.startswith('Released: '):\n",
    "                    release_date = re.search('Released: ([0-9a-zA-Z ]+)',\\\n",
    "                                             element_text).group(1)\n",
    "                if element_text.startswith('Label: '):\n",
    "                    release_label = re.search('Label: ([0-9a-zA-Z,\\(\\) ]+)', \\\n",
    "                                              element_text).group(1)\n",
    "    return release_date, release_label"
   ]
  },
  {
   "cell_type": "code",
   "execution_count": 3,
   "metadata": {
    "slideshow": {
     "slide_type": "slide"
    }
   },
   "outputs": [],
   "source": [
    "albums = dict()\n",
    "id = 0\n",
    "albums[id] = dict()\n",
    "tables = soup.find_all('table')\n",
    "for table in tables:\n",
    "    caption = table.find('caption')\n",
    "    if caption is not None:\n",
    "        header = caption.get_text()\n",
    "        if re.match(re.compile('^List of(.+?)albums'), header):\n",
    "            rows = table.find_all('tr')\n",
    "            for row in rows:\n",
    "                title_col = row.find('th')\n",
    "                if title_col is not None and 'scope' in title_col.attrs and\\\n",
    "                title_col.attrs['scope'] == 'row':\n",
    "                    title_cell = title_col.find('a')\n",
    "                    if title_cell is not None and title_cell.attrs is not None and\\\n",
    "                    'title' in title_cell.attrs:\n",
    "                        albums[id]['name'] = title_cell.attrs['title']\n",
    "                        release_col = row.find('td')\n",
    "                        release_date, release_label = get_release_details(release_col)\n",
    "                        if release_date is not None or release_label is not None:\n",
    "                            albums[id]['release_date'] = release_date\n",
    "                            albums[id]['release_label'] = release_label\n",
    "                            id += 1\n",
    "                            albums[id] = dict()"
   ]
  },
  {
   "cell_type": "code",
   "execution_count": 4,
   "metadata": {
    "slideshow": {
     "slide_type": "slide"
    }
   },
   "outputs": [
    {
     "data": {
      "text/html": [
       "<div>\n",
       "<style scoped>\n",
       "    .dataframe tbody tr th:only-of-type {\n",
       "        vertical-align: middle;\n",
       "    }\n",
       "\n",
       "    .dataframe tbody tr th {\n",
       "        vertical-align: top;\n",
       "    }\n",
       "\n",
       "    .dataframe thead th {\n",
       "        text-align: right;\n",
       "    }\n",
       "</style>\n",
       "<table border=\"1\" class=\"dataframe\">\n",
       "  <thead>\n",
       "    <tr style=\"text-align: right;\">\n",
       "      <th></th>\n",
       "      <th>name</th>\n",
       "      <th>release_date</th>\n",
       "      <th>release_label</th>\n",
       "    </tr>\n",
       "  </thead>\n",
       "  <tbody>\n",
       "    <tr>\n",
       "      <th>0</th>\n",
       "      <td>My Bonnie</td>\n",
       "      <td>5 January 1962</td>\n",
       "      <td>Polydor (GER)</td>\n",
       "    </tr>\n",
       "    <tr>\n",
       "      <th>1</th>\n",
       "      <td>Please Please Me</td>\n",
       "      <td>22 March 1963</td>\n",
       "      <td>Parlophone (UK)</td>\n",
       "    </tr>\n",
       "    <tr>\n",
       "      <th>2</th>\n",
       "      <td>With the Beatles</td>\n",
       "      <td>22 November 1963</td>\n",
       "      <td>Parlophone (UK), Capitol (CAN), Odeon (FRA)</td>\n",
       "    </tr>\n",
       "    <tr>\n",
       "      <th>3</th>\n",
       "      <td>Introducing... The Beatles</td>\n",
       "      <td>10 January 1964</td>\n",
       "      <td>Vee</td>\n",
       "    </tr>\n",
       "    <tr>\n",
       "      <th>4</th>\n",
       "      <td>Meet the Beatles!</td>\n",
       "      <td>20 January 1964</td>\n",
       "      <td>Capitol (US)</td>\n",
       "    </tr>\n",
       "    <tr>\n",
       "      <th>5</th>\n",
       "      <td>Twist and Shout (album)</td>\n",
       "      <td>3 February 1964</td>\n",
       "      <td>Capitol (CAN)</td>\n",
       "    </tr>\n",
       "    <tr>\n",
       "      <th>6</th>\n",
       "      <td>The Beatles' Second Album</td>\n",
       "      <td>10 April 1964</td>\n",
       "      <td>Capitol (US)</td>\n",
       "    </tr>\n",
       "  </tbody>\n",
       "</table>\n",
       "</div>"
      ],
      "text/plain": [
       "                         name      release_date  \\\n",
       "0                   My Bonnie    5 January 1962   \n",
       "1            Please Please Me     22 March 1963   \n",
       "2            With the Beatles  22 November 1963   \n",
       "3  Introducing... The Beatles   10 January 1964   \n",
       "4           Meet the Beatles!   20 January 1964   \n",
       "5     Twist and Shout (album)   3 February 1964   \n",
       "6   The Beatles' Second Album     10 April 1964   \n",
       "\n",
       "                                 release_label  \n",
       "0                                Polydor (GER)  \n",
       "1                              Parlophone (UK)  \n",
       "2  Parlophone (UK), Capitol (CAN), Odeon (FRA)  \n",
       "3                                          Vee  \n",
       "4                                 Capitol (US)  \n",
       "5                                Capitol (CAN)  \n",
       "6                                 Capitol (US)  "
      ]
     },
     "execution_count": 4,
     "metadata": {},
     "output_type": "execute_result"
    }
   ],
   "source": [
    "albums_df = pd.DataFrame.from_dict(albums, orient ='index')\n",
    "albums_df.head(7)"
   ]
  },
  {
   "cell_type": "markdown",
   "metadata": {
    "slideshow": {
     "slide_type": "slide"
    }
   },
   "source": [
    "## Small Data, Big Data\n",
    "\n",
    "* What's in a name?\n",
    "* Web Data is Big Data"
   ]
  },
  {
   "cell_type": "markdown",
   "metadata": {
    "slideshow": {
     "slide_type": "slide"
    }
   },
   "source": [
    "### What's in a name? (I)\n",
    "\n",
    "These definitions are constantly changing.\n",
    "\n",
    "* \"Everything processed in Excel is small data.\" ([Rufus Pollock, The Guardian](https://www.theguardian.com/news/datablog/2013/apr/25/forget-big-data-small-data-revolution))\n",
    "* \"[Big Data] is data so large it does not fit in main memory\" (Leskovec et al., Mining of Massive Datasets)\n",
    "\n",
    "Or maybe we should define the size of our data according how easy it is to process and understand it?\n",
    "\n",
    "\n",
    "* \"[Small Data is] data that has small enough size for human comprehension.\" ([jWork.ORG](jWork.ORG))\n",
    "* \"data sets that are too large or complex for traditional data-processing application software to adequately deal with\" ([Wikipedia](https://en.wikipedia.org/wiki/Big_data))"
   ]
  },
  {
   "cell_type": "markdown",
   "metadata": {
    "slideshow": {
     "slide_type": "slide"
    }
   },
   "source": [
    "### What's in a name? (II)\n",
    "\n",
    "The actual definition should probably merge both of the above.\n",
    "\n",
    "* Excel can fit 1M rows, 16K columns of double numbers. Try loading a matrix such as this into Matlab, Python or R, and invert it - you can't. So isn't that Big?\n",
    "* Facebook generates 4 Petabytes of data, daily. That's 4K Terabytes or 4M Gigabytes. ([Brandwatch.com](https://www.brandwatch.com/blog/47-facebook-statistics/)) But a Facebook Data Scientist in daily life typically needs only a copy of some of these data, which fits in her PC. Isn't that small?\n",
    "\n"
   ]
  },
  {
   "cell_type": "markdown",
   "metadata": {
    "slideshow": {
     "slide_type": "slide"
    }
   },
   "source": [
    "### Web data is Big Data\n",
    "\n",
    "We can all agree *this* is big: ([Domo.com](https://www.domo.com/learn/data-never-sleeps-5))\n",
    "    \n",
    "<img src = \"images/domo.png\" width = \"50%\" height = \"50%\">"
   ]
  },
  {
   "cell_type": "markdown",
   "metadata": {
    "slideshow": {
     "slide_type": "slide"
    }
   },
   "source": [
    "## Common Data Formats (in Data Science)\n",
    "\n",
    "* CSV\n",
    "* JSON\n",
    "* Plain Text\n",
    "* HTML"
   ]
  },
  {
   "cell_type": "markdown",
   "metadata": {
    "slideshow": {
     "slide_type": "slide"
    }
   },
   "source": [
    "### CSV: Comma Separated Values"
   ]
  },
  {
   "cell_type": "markdown",
   "metadata": {
    "slideshow": {
     "slide_type": "-"
    }
   },
   "source": [
    "<img src = \"images/csv.png\">"
   ]
  },
  {
   "cell_type": "code",
   "execution_count": 5,
   "metadata": {
    "slideshow": {
     "slide_type": "-"
    }
   },
   "outputs": [],
   "source": [
    "import pandas as pd\n",
    "\n",
    "df = pd.read_csv('../../datasets/test.csv')\n",
    "\n",
    "# for more customization you might want to try python's csv module"
   ]
  },
  {
   "cell_type": "markdown",
   "metadata": {
    "slideshow": {
     "slide_type": "slide"
    }
   },
   "source": [
    "### JSON: JavaScript Object Notation"
   ]
  },
  {
   "cell_type": "markdown",
   "metadata": {
    "slideshow": {
     "slide_type": "-"
    }
   },
   "source": [
    "<img src = \"images/json.png\" width = \"30%\" height = \"30%\">"
   ]
  },
  {
   "cell_type": "code",
   "execution_count": 6,
   "metadata": {
    "slideshow": {
     "slide_type": "-"
    }
   },
   "outputs": [],
   "source": [
    "import json\n",
    "\n",
    "data = dict()\n",
    "\n",
    "with open('../../datasets/test.json') as f:\n",
    "    for i, line in enumerate(f):\n",
    "        j = json.loads(line)\n",
    "        data[i] = j"
   ]
  },
  {
   "cell_type": "markdown",
   "metadata": {
    "slideshow": {
     "slide_type": "slide"
    }
   },
   "source": [
    "### Plain Text"
   ]
  },
  {
   "cell_type": "markdown",
   "metadata": {
    "slideshow": {
     "slide_type": "-"
    }
   },
   "source": [
    "<img src = \"images/txt.png\">"
   ]
  },
  {
   "cell_type": "code",
   "execution_count": 7,
   "metadata": {
    "slideshow": {
     "slide_type": "-"
    }
   },
   "outputs": [],
   "source": [
    "with open('../../datasets/test.txt') as f:\n",
    "    lines = f.readlines(2)"
   ]
  },
  {
   "cell_type": "markdown",
   "metadata": {
    "slideshow": {
     "slide_type": "slide"
    }
   },
   "source": [
    "### HTML"
   ]
  },
  {
   "cell_type": "markdown",
   "metadata": {
    "slideshow": {
     "slide_type": "-"
    }
   },
   "source": [
    "<img src = \"images/html.png\">"
   ]
  },
  {
   "cell_type": "code",
   "execution_count": 8,
   "metadata": {
    "slideshow": {
     "slide_type": "-"
    }
   },
   "outputs": [],
   "source": [
    "# see the codecs module and the BeautifulSoup library for Web Scraping, in recitation."
   ]
  },
  {
   "cell_type": "markdown",
   "metadata": {
    "slideshow": {
     "slide_type": "slide"
    }
   },
   "source": [
    "# Exploring Data\n",
    "\n",
    "* Summary Statistics\n",
    "\n",
    "* Basic Plots\n",
    "\n",
    "* Advanced (Yet Tamed) Visualization\n",
    "\n",
    "* Visualization Bonanza"
   ]
  },
  {
   "cell_type": "markdown",
   "metadata": {
    "slideshow": {
     "slide_type": "slide"
    }
   },
   "source": [
    "## Summary Statistics\n",
    "\n",
    "* Location\n",
    "* Dispersion\n",
    "* Shape"
   ]
  },
  {
   "cell_type": "markdown",
   "metadata": {
    "slideshow": {
     "slide_type": "slide"
    }
   },
   "source": [
    "### Location\n",
    "\n",
    "\"Where is this X located? Where is the central mass?\"\n",
    "\n",
    "* Mean: $$Mean(X) = \\frac{1}{N}\\sum\\limits_{i=1}^N X_i$$\n",
    "* Median: $$Med(X) = m\\space s.t. \\space P(X \\leq m) = P(X \\geq m) = 0.5$$\n",
    "* Mode: $$Mode(X) = Most \\space frequent \\space value \\space in \\space a \\space dataset$$"
   ]
  },
  {
   "cell_type": "code",
   "execution_count": 9,
   "metadata": {
    "slideshow": {
     "slide_type": "-"
    }
   },
   "outputs": [],
   "source": [
    "import numpy as np\n",
    "import seaborn as sns\n",
    "import matplotlib.pyplot as plt\n",
    "%matplotlib inline\n",
    "\n",
    "sns.set()\n",
    "X = np.random.chisquare(5, 1000)\n",
    "mean = np.mean(X)\n",
    "median = np.median(X)\n",
    "hist, _ = np.histogram(X, bins=range(20))\n",
    "mode = list(range(20))[hist.argsort()[::-1][0]]"
   ]
  },
  {
   "cell_type": "code",
   "execution_count": 10,
   "metadata": {
    "slideshow": {
     "slide_type": "slide"
    }
   },
   "outputs": [
    {
     "data": {
      "image/png": "[encoded data removed]",
      "text/plain": [
       "<Figure size 432x288 with 1 Axes>"
      ]
     },
     "metadata": {
      "needs_background": "light"
     },
     "output_type": "display_data"
    }
   ],
   "source": [
    "sns.distplot(X, bins = range(20), kde = False)\n",
    "plt.plot([mean, mean], [0, 160], linewidth=2, color='r')\n",
    "plt.plot([median, median], [0, 160], linewidth=2, color='g')\n",
    "plt.plot([mode, mode], [0, 160], linewidth=2, color='b')\n",
    "plt.legend({'Mean':mean,'Median':median,'Mode':mode})\n",
    "plt.xlabel('X')\n",
    "plt.ylabel('Frequency')\n",
    "plt.show()"
   ]
  },
  {
   "cell_type": "markdown",
   "metadata": {
    "slideshow": {
     "slide_type": "slide"
    }
   },
   "source": [
    "### Dispersion\n",
    "\n",
    "\"Is X widely spread out? Does it concentrate narrowly around the mean?\"\n",
    "\n",
    "* Quantiles/Percentiles: $$Q(X, q) = v\\space s.t. \\space P(X \\leq v) = 1-P(X \\geq v) = q$$\n",
    "* Range: $$Range(X) = Max(X) - Min(X)$$\n",
    "* Inter-Quartile-Range:$$IQR(X) = Q(X, 0.75) - Q(X, 0.25)$$\n",
    "* Variance: $$Var(X) = \\frac{1}{N}\\sum\\limits_{i=1}^N (X_i - Mean(X))^2$$\n",
    "* Standard Deviation: $$STD(X) = \\sqrt{Var(X)}$$"
   ]
  },
  {
   "cell_type": "code",
   "execution_count": 11,
   "metadata": {
    "slideshow": {
     "slide_type": "slide"
    }
   },
   "outputs": [
    {
     "name": "stdout",
     "output_type": "stream",
     "text": [
      "90th percentile: 9.617964870392237\n",
      "Range: 22.863901146989786\n",
      "IQR: 4.005641423246875\n",
      "Variance: 10.551052920565311\n",
      "Standard Deviation: 3.2482384334536327\n"
     ]
    }
   ],
   "source": [
    "print(f'90th percentile: {np.percentile(X, 90)}')\n",
    "print(f'Range: {np.max(X) - np.min(X)}')\n",
    "print(f'IQR: {np.percentile(X, 75) - np.percentile(X, 25)}')\n",
    "print(f'Variance: {np.var(X)}')\n",
    "print(f'Standard Deviation: {np.std(X)}')"
   ]
  },
  {
   "cell_type": "markdown",
   "metadata": {
    "slideshow": {
     "slide_type": "slide"
    }
   },
   "source": [
    "### Shape\n",
    "\n",
    "\"Is X symmetric or not? How 'tailed' is it?\"\n",
    "\n",
    "* Skewness: $$Skew(X) = \\frac{1}{N}\\frac{\\sum\\limits_{i=1}^N (X_i - Mean(X))^3}{STD(X)^3}$$\n",
    "* Kurtosis: $$Kurt(X) = \\frac{1}{N}\\frac{\\sum\\limits_{i=1}^N (X_i - Mean(X))^4}{STD(X)^4}$$"
   ]
  },
  {
   "cell_type": "code",
   "execution_count": 12,
   "metadata": {
    "slideshow": {
     "slide_type": "slide"
    }
   },
   "outputs": [
    {
     "name": "stdout",
     "output_type": "stream",
     "text": [
      "Skewness: 1.2859482073332524\n",
      "Kurtosis: 2.240104020416136\n"
     ]
    }
   ],
   "source": [
    "from scipy import stats\n",
    "\n",
    "print(f'Skewness: {stats.skew(X)}')\n",
    "print(f'Kurtosis: {stats.kurtosis(X)}')"
   ]
  },
  {
   "cell_type": "markdown",
   "metadata": {
    "slideshow": {
     "slide_type": "slide"
    }
   },
   "source": [
    "## Basic Plots\n",
    "\n",
    "* Box plot\n",
    "* Swarm plot\n",
    "* Histogram\n",
    "* Density plot\n",
    "* Scatter plot"
   ]
  },
  {
   "cell_type": "markdown",
   "metadata": {
    "slideshow": {
     "slide_type": "slide"
    }
   },
   "source": [
    "### Boxplot"
   ]
  },
  {
   "cell_type": "code",
   "execution_count": 13,
   "metadata": {
    "slideshow": {
     "slide_type": "-"
    }
   },
   "outputs": [
    {
     "data": {
      "image/png": "[encoded data removed]",
      "text/plain": [
       "<Figure size 432x288 with 1 Axes>"
      ]
     },
     "metadata": {
      "needs_background": "light"
     },
     "output_type": "display_data"
    }
   ],
   "source": [
    "sns.boxplot(X, orient = 'v')\n",
    "plt.ylabel('X')\n",
    "plt.show()"
   ]
  },
  {
   "cell_type": "markdown",
   "metadata": {
    "slideshow": {
     "slide_type": "slide"
    }
   },
   "source": [
    "### Swarmplot"
   ]
  },
  {
   "cell_type": "code",
   "execution_count": 14,
   "metadata": {
    "slideshow": {
     "slide_type": "-"
    }
   },
   "outputs": [
    {
     "data": {
      "image/png": "[encoded data removed]",
      "text/plain": [
       "<Figure size 432x288 with 1 Axes>"
      ]
     },
     "metadata": {
      "needs_background": "light"
     },
     "output_type": "display_data"
    }
   ],
   "source": [
    "sns.swarmplot(X, orient = 'v')\n",
    "plt.ylabel('X')\n",
    "plt.show()"
   ]
  },
  {
   "cell_type": "markdown",
   "metadata": {
    "slideshow": {
     "slide_type": "slide"
    }
   },
   "source": [
    "### Histogram"
   ]
  },
  {
   "cell_type": "code",
   "execution_count": 15,
   "metadata": {
    "slideshow": {
     "slide_type": "-"
    }
   },
   "outputs": [
    {
     "data": {
      "image/png": "[encoded data removed]",
      "text/plain": [
       "<Figure size 432x288 with 1 Axes>"
      ]
     },
     "metadata": {
      "needs_background": "light"
     },
     "output_type": "display_data"
    }
   ],
   "source": [
    "sns.distplot(X, kde = False)\n",
    "plt.ylabel('Frequency')\n",
    "plt.xlabel('X')\n",
    "plt.show()"
   ]
  },
  {
   "cell_type": "markdown",
   "metadata": {
    "slideshow": {
     "slide_type": "slide"
    }
   },
   "source": [
    "### Density Plot"
   ]
  },
  {
   "cell_type": "code",
   "execution_count": 16,
   "metadata": {
    "slideshow": {
     "slide_type": "-"
    }
   },
   "outputs": [
    {
     "data": {
      "image/png": "[encoded data removed]",
      "text/plain": [
       "<Figure size 432x288 with 1 Axes>"
      ]
     },
     "metadata": {
      "needs_background": "light"
     },
     "output_type": "display_data"
    }
   ],
   "source": [
    "sns.distplot(X, hist = False)\n",
    "plt.ylabel('Density')\n",
    "plt.xlabel('X')\n",
    "plt.show()"
   ]
  },
  {
   "cell_type": "markdown",
   "metadata": {
    "slideshow": {
     "slide_type": "slide"
    }
   },
   "source": [
    "### Scatterplot"
   ]
  },
  {
   "cell_type": "code",
   "execution_count": 17,
   "metadata": {
    "slideshow": {
     "slide_type": "-"
    }
   },
   "outputs": [
    {
     "data": {
      "image/png": "[encoded data removed]",
      "text/plain": [
       "<Figure size 432x288 with 1 Axes>"
      ]
     },
     "metadata": {
      "needs_background": "light"
     },
     "output_type": "display_data"
    }
   ],
   "source": [
    "b0 = 2\n",
    "b1 = 3\n",
    "Y = X * b1 + b0 + np.random.normal(0, 10, 1000)\n",
    "sns.scatterplot(X, Y)\n",
    "plt.ylabel('Density')\n",
    "plt.xlabel('X')\n",
    "plt.show()"
   ]
  },
  {
   "cell_type": "markdown",
   "metadata": {
    "slideshow": {
     "slide_type": "slide"
    }
   },
   "source": [
    "## Advanced (Yet Tamed) Visualization\n",
    "\n",
    "* Minard's Napoleon March\n",
    "* Heatmaps\n",
    "* Spotify: Total Eclipse of the Heart\n",
    "* Chernoff Faces\n",
    "* Ridges plot (a.k.a Joy plot)"
   ]
  },
  {
   "cell_type": "markdown",
   "metadata": {
    "slideshow": {
     "slide_type": "slide"
    }
   },
   "source": [
    "### Minard's Napoleon March\n",
    "\n",
    "<img src = \"images/minard.png\">"
   ]
  },
  {
   "cell_type": "markdown",
   "metadata": {
    "slideshow": {
     "slide_type": "slide"
    }
   },
   "source": [
    "### Heatmaps\n",
    "\n",
    "[source](https://towardsdatascience.com/exploring-infections-through-data-interactive-visualisation-of-measles-in-the-usa-6ae8d5949538)\n",
    "\n",
    "<img src = \"images/heatmap.png\">"
   ]
  },
  {
   "cell_type": "markdown",
   "metadata": {
    "slideshow": {
     "slide_type": "slide"
    }
   },
   "source": [
    "### Spotify: Total Eclipse of the Heart\n",
    "\n",
    "[source](https://insights.spotify.com/us/2017/08/24/data-viz-total-eclipse-of-the-heart-follows-the-eclipse/)\n",
    "\n",
    "<img src = \"images/total_eclipse.gif\">"
   ]
  },
  {
   "cell_type": "markdown",
   "metadata": {
    "slideshow": {
     "slide_type": "slide"
    }
   },
   "source": [
    "### Chernoff Faces\n",
    "\n",
    "[source](https://www.axios.com/the-emoji-states-of-america-1513302318-0ca61705-de75-4c8f-8521-5cbab12a45f2.html)\n",
    "\n",
    "<img src = \"images/chernoff.png\">"
   ]
  },
  {
   "cell_type": "markdown",
   "metadata": {
    "slideshow": {
     "slide_type": "slide"
    }
   },
   "source": [
    "### Ridge plot (a.k.a Joy plot)\n",
    "\n",
    "[source](http://giorasimchoni.com/2017/12/10/2017-12-10-ave-mariah/)\n",
    "\n",
    "<img src = \"images/ridge.png\" width = \"80%\" height = \"80%\">"
   ]
  },
  {
   "cell_type": "markdown",
   "metadata": {
    "slideshow": {
     "slide_type": "slide"
    }
   },
   "source": [
    "## Visualization Bonanza\n",
    "\n",
    "* Flowing Data: A day in the Life of Americans\n",
    "* The Pudding: Women's Pockets\n",
    "* A Visual Guide to The Big Lebowski\n",
    "* First Grade Self Evaluation"
   ]
  },
  {
   "cell_type": "markdown",
   "metadata": {
    "slideshow": {
     "slide_type": "slide"
    }
   },
   "source": [
    "### Flowing Data: A Day in the Life of Americans\n",
    "\n",
    "[source](https://flowingdata.com/2015/12/15/a-day-in-the-life-of-americans/)\n",
    "\n",
    "<iframe width=\"560\" height=\"315\" src=\"https://www.youtube.com/embed/k88d_fn3G-I\" frameborder=\"0\" allow=\"accelerometer; autoplay; encrypted-media; gyroscope; picture-in-picture\" allowfullscreen></iframe>"
   ]
  },
  {
   "cell_type": "markdown",
   "metadata": {
    "slideshow": {
     "slide_type": "slide"
    }
   },
   "source": [
    "### Pudding: Women's Pockets (and every single post on their site!)\n",
    "\n",
    "[source](https://pudding.cool/2018/08/pockets/)\n",
    "\n",
    "<img src =\"images/pockets.png\" width = \"80%\" height = \"80%\">"
   ]
  },
  {
   "cell_type": "markdown",
   "metadata": {
    "slideshow": {
     "slide_type": "slide"
    }
   },
   "source": [
    "### A Visual Guide to the Big Lebowski\n",
    "\n",
    "[source](https://www.stevengbraun.com/dev/big-lebowski/)\n",
    "\n",
    "<img src = \"images/big_lebowski.png\">"
   ]
  },
  {
   "cell_type": "markdown",
   "metadata": {
    "slideshow": {
     "slide_type": "slide"
    }
   },
   "source": [
    "### First Grade Self Evaluation\n",
    "\n",
    "<img src = \"images/self_evaluation.png\" width = \"60%\" height = \"60%\">"
   ]
  },
  {
   "cell_type": "markdown",
   "metadata": {
    "slideshow": {
     "slide_type": "slide"
    }
   },
   "source": [
    "# Cleaning Data\n",
    "\n",
    "* What could be dirty about data?\n",
    "\n",
    "* Dangers of Dirty Data\n",
    "\n",
    "* What can you do about it?"
   ]
  },
  {
   "cell_type": "markdown",
   "metadata": {
    "slideshow": {
     "slide_type": "slide"
    }
   },
   "source": [
    "## What could be dirty about data?\n",
    "\n",
    "* The data itself\n",
    "* The data's structure"
   ]
  },
  {
   "cell_type": "markdown",
   "metadata": {
    "slideshow": {
     "slide_type": "slide"
    }
   },
   "source": [
    "### The data itself\n",
    "\n",
    "* Numerical Outliers: This is a histogram of random ~2.3 million transactions on ebay US website in over a few weeks in 2013 ([source](https://users.soe.ucsc.edu/~draper/Reading-2015-Day-5.html)):\n",
    "<img src = \"images/ebay_dist.png\">\n",
    "\n",
    "* Missing Values\n",
    "\n",
    "* Textual Outliers: The [Blog Authorship Corpus](http://u.cs.biu.ac.il/~schlerj/schler_springsymp06.pdf) consists of 19K posts by bloggers from blogger.com in 2004. These are actual words used in the 10-20 age group:\n",
    "    >aaaaaaaaaaaaaaaaaaaaaargh, lolzi, jfjgfjhgjhfjgfjf, roflmfao, duuuuuuh, walang, dunno"
   ]
  },
  {
   "cell_type": "markdown",
   "metadata": {
    "slideshow": {
     "slide_type": "slide"
    }
   },
   "source": [
    "### The data's structure\n",
    "\n",
    "In a word: Excel.\n",
    "\n",
    "[source](https://medium.com/@miles.mcbain/tidying-the-australian-same-sex-marriage-postal-survey-data-with-r-5d35cea07962)\n",
    "<img src = \"images/messy_excel.png\" width = \"80%\" height = \"80%\">"
   ]
  },
  {
   "cell_type": "markdown",
   "metadata": {
    "slideshow": {
     "slide_type": "slide"
    }
   },
   "source": [
    "## Dangers of Dirty Data\n",
    "\n",
    "* The ebay A/B Test case study\n",
    "* Missing data in polls\n",
    "* Spreadsheet Blunder"
   ]
  },
  {
   "cell_type": "markdown",
   "metadata": {
    "slideshow": {
     "slide_type": "slide"
    }
   },
   "source": [
    "### The ebay A/B Test case study\n",
    "\n",
    "* An A/B Test is how Treatment/Control studies are often called in the Internet industry.\n",
    "* Before ebay decides to deploy a new feature it will usually run an A/B test, showing millions of users the site as is, and showing millions of other users the site with the new feature.\n",
    "* The significance of the difference between the two groups transactions in USD is usually determined with an automatized t-test.\n",
    "* N is in the millions (24M!). What could possibly go wrong?\n",
    "* Control group spent 8c more on average, p-value = 0.18, feature wasn't deployed.\n",
    "\n",
    "<img src = \"images/ebay_ab_test.png\">"
   ]
  },
  {
   "cell_type": "markdown",
   "metadata": {
    "slideshow": {
     "slide_type": "slide"
    }
   },
   "source": [
    "### Missing data in polls\n",
    "\n",
    "[source](https://www.themarker.com/news/1.2593452)\n",
    "\n",
    "<img src = \"images/elections.png\" width = \"80%\" height = \"80%\">"
   ]
  },
  {
   "cell_type": "markdown",
   "metadata": {
    "slideshow": {
     "slide_type": "slide"
    }
   },
   "source": [
    "### Spreadsheet Blunder\n",
    "\n",
    "[source](https://www.cio.com/article/2438188/enterprise-software/eight-of-the-worst-spreadsheet-blunders.html)\n",
    "\n",
    "<img src = \"images/toledo.png\" width = \"80%\" height = \"80%\">"
   ]
  },
  {
   "cell_type": "markdown",
   "metadata": {
    "slideshow": {
     "slide_type": "slide"
    }
   },
   "source": [
    "## What can you do about it?\n",
    "\n",
    "* Plot First\n",
    "* Common Transformations\n",
    "* Sensitivity Analysis\n",
    "* Robust Statistics\n",
    "* Tidy Data Philosophy"
   ]
  },
  {
   "cell_type": "markdown",
   "metadata": {
    "slideshow": {
     "slide_type": "slide"
    }
   },
   "source": [
    "### Plot First\n",
    "\n",
    "Got Data? Plot!"
   ]
  },
  {
   "cell_type": "code",
   "execution_count": 18,
   "metadata": {
    "slideshow": {
     "slide_type": "-"
    }
   },
   "outputs": [
    {
     "data": {
      "image/png": "[encoded data removed]",
      "text/plain": [
       "<Figure size 540x540 with 12 Axes>"
      ]
     },
     "metadata": {
      "needs_background": "light"
     },
     "output_type": "display_data"
    }
   ],
   "source": [
    "tips = sns.load_dataset('tips')\n",
    "\n",
    "sns.pairplot(tips)\n",
    "plt.show()"
   ]
  },
  {
   "cell_type": "markdown",
   "metadata": {
    "slideshow": {
     "slide_type": "slide"
    }
   },
   "source": [
    "### Common Transformations\n",
    "\n",
    "Here's how ebay's 2.3 million transactions look with a `log` transformation:\n",
    "\n",
    "<img src = \"images/ebay_log.png\">"
   ]
  },
  {
   "cell_type": "markdown",
   "metadata": {
    "slideshow": {
     "slide_type": "slide"
    }
   },
   "source": [
    "### Sensitivity Analysis\n",
    "\n",
    "<img src = \"images/ebay_ab_test.png\">"
   ]
  },
  {
   "cell_type": "markdown",
   "metadata": {
    "slideshow": {
     "slide_type": "slide"
    }
   },
   "source": [
    "### Robust Statistics\n",
    "\n",
    "An entire field in Statistics. For example the Median is much more robust to extreme values than the mean:\n",
    "\n",
    "<img src = \"images/median_mean_simulation.gif\">"
   ]
  },
  {
   "cell_type": "markdown",
   "metadata": {
    "slideshow": {
     "slide_type": "slide"
    }
   },
   "source": [
    "### Tidy Data Philosophy\n",
    "\n",
    "\"Each variable is a column, each observation is a row, and each type of observational unit is a table.\" ([Hadley Wickham](http://vita.had.co.nz/papers/tidy-data.html))\n",
    "\n",
    "Untidy (wide):\n",
    "\n",
    "<img src = \"images/untidy_data.png\">\n",
    "\n",
    "Tidy (long):\n",
    "\n",
    "<img src = \"images/tidy_data.png\">\n",
    "\n",
    "Though highly trendy, in many practical application tidy data may be just too long. But when feasible - go tidy."
   ]
  }
 ],
 "metadata": {
  "celltoolbar": "Slideshow",
  "kernelspec": {
   "display_name": "Python 3",
   "language": "python",
   "name": "python3"
  },
  "language_info": {
   "codemirror_mode": {
    "name": "ipython",
    "version": 3
   },
   "file_extension": ".py",
   "mimetype": "text/x-python",
   "name": "python",
   "nbconvert_exporter": "python",
   "pygments_lexer": "ipython3",
   "version": "3.6.6"
  }
 },
 "nbformat": 4,
 "nbformat_minor": 2
}
