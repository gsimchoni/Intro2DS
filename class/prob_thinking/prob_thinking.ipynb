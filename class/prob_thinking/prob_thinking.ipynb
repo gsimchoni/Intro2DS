{
 "cells": [
  {
   "cell_type": "markdown",
   "metadata": {
    "slideshow": {
     "slide_type": "slide"
    }
   },
   "source": [
    "# Introduction to Data Science\n",
    "\n",
    "## Probablistic Thinking and Advanced Exploratory Data Analysis"
   ]
  },
  {
   "cell_type": "markdown",
   "metadata": {
    "slideshow": {
     "slide_type": "slide"
    }
   },
   "source": [
    "# Probability Refresher\n",
    "\n",
    "* Probability Space\n",
    "\n",
    "* Basic Probability \"Rules\" You Should Know\n",
    "\n",
    "* Random Variable\n",
    "\n",
    "* Expectation and Variance\n",
    "\n",
    "* Common Discrete Distributions"
   ]
  },
  {
   "cell_type": "markdown",
   "metadata": {
    "slideshow": {
     "slide_type": "slide"
    }
   },
   "source": [
    "## Probability Space\n",
    "\n",
    "* A probability space is constructed with a specific situation or experiment in mind. \n",
    "\n",
    "* The result is unknown but the possible outcomes and their probabilities are known, and will remain the same should this situation arise again.\n",
    "\n",
    "\n",
    "* Formally, a probability space is a trio:\n",
    "\n",
    "\n",
    "1. A Sample Space, $\\Omega$: set of all possible outcomes\n",
    "2. A set of Events, $\\mathcal{F}$: each event containing zero or more outcomes\n",
    "3. Mapping $P$: a function from Events to $[0,1]$ probability"
   ]
  },
  {
   "cell_type": "markdown",
   "metadata": {
    "slideshow": {
     "slide_type": "slide"
    }
   },
   "source": [
    "### Sample Space $\\Omega$\n",
    "\n",
    "The set of all possible outcomes:\n",
    "\n",
    "* Will it rain today? {Rain_Today, No_Rain_Today}\n",
    "* Result of tossing two coins? {HH, HT, TT} or {HH, HT, TH, TT} (what's the difference?)\n",
    "* How many animals in this picture? {0, 1, 2, 3, ...}\n",
    "\n",
    "Note the property of mutual exclusion (two outcomes cannot happen at the same time) and exhaustiveness (one of the outcomes will happen, for sure)."
   ]
  },
  {
   "cell_type": "markdown",
   "metadata": {
    "slideshow": {
     "slide_type": "slide"
    }
   },
   "source": [
    "### Events $\\mathcal{F}$\n",
    "\n",
    "Any subset of the sample space:\n",
    "\n",
    "* Will it rain today?\n",
    "    * \"It's gonna rain today\"({Rain_Today})\n",
    "    * \"It's not gonna rain today\" ({No_Rain_Today})\n",
    "    * \"It will rain today. Or not.\" ({RainToday, No_Rain_Today})\n",
    "    * \"It will rain today. And not.\" ({})\n",
    "* Result of tossing two coins?\n",
    "    * \"No heads\" ({TT})\n",
    "    * \"Two heads\" ({HH})\n",
    "* How many animals in this picture?\n",
    "    * \"None.\" ({0})\n",
    "    * \"More than three ({4, 5, ...})"
   ]
  },
  {
   "cell_type": "markdown",
   "metadata": {
    "slideshow": {
     "slide_type": "slide"
    }
   },
   "source": [
    "### Probability $P$\n",
    "\n",
    "Each event gets a probability, such that (Probability Axioms):\n",
    "\n",
    "1. $P(\\Omega) = 1$\n",
    "2. $P(E) \\geq 0$\n",
    "3. For any sequence of mutually exclusive events $E_1,E_2,\\ldots$\n",
    "$P \\left( \\bigcup_{i=1}^{\\infty} E_i \\right) = \\sum_{i=1}^{\\infty} P(E_i)$\n",
    "\n",
    "\n",
    "* Will it rain today?\n",
    "\n",
    "    P(Rain_Today) = 0.4; P(No_Rain_Today) = 0.6\n",
    "\n",
    "* Result of tossing two coins?\n",
    "\n",
    "    P(HH) = 0.2; P(HT) = 0.3; P(TT) = 0.5 (And then what is the probability P(\"Same outcome in both tosses\")?)\n",
    "\n",
    "* How many animals in this picture?\n",
    "\n",
    "    P(n) = $\\frac{1}{2^{n + 1}}$"
   ]
  },
  {
   "cell_type": "markdown",
   "metadata": {
    "slideshow": {
     "slide_type": "slide"
    }
   },
   "source": [
    "### Symmetric Sample Space\n",
    "\n",
    "In the case where all outcomes are equally likely, we say the Sample Space is Symmetric, and *only then*:\n",
    "\n",
    "If $A$ is the set of outcomes in event $E$, then: $P(E) = \\frac{|A|}{|\\Omega|}$\n",
    "\n",
    "* Result of tossing two coins? Which of the following is a Symmetric Sample Space:\n",
    "    * {HH, HT, TT}\n",
    "    * {HH, HT, TH, TT}\n",
    "* It depends!\n",
    "* {HH, HT, TH, TT} could be Symmetric if the coin is fair, and then:\n",
    "    * P(\"Same outcome in both tosses\") = P({TT, HH}) = $\\frac{2}{4} = 0.5$\n",
    "* {HH, HT, TT} could also be Symmetric if we define it! (How do we define it?)"
   ]
  },
  {
   "cell_type": "markdown",
   "metadata": {
    "slideshow": {
     "slide_type": "slide"
    }
   },
   "source": [
    "## Basic Probability \"Rules\" You Should Know (I)\n",
    "\n",
    "See if you can locate where the Sample Space has to be Symmetric to make this true:\n",
    "\n",
    "* Probability of an event to NOT occur (\"complementary\"): $P(\\overline{A}) = 1 - P(A)$\n",
    "\n",
    "* Joint Probability, Probability of intesection (events occuring together): $P(A \\cap B) = \\frac{|A \\cap B|}{|\\Omega|}$\n",
    "\n",
    "* Probability of union (either of events occurs or both): $P(A \\cup B) = P(A) + P(B) - P(A \\cap B)$\n",
    "\n",
    "* Conditional Probability: $P(A|B) = \\frac{P(A \\cap B)}{P(B)}$\n",
    "\n",
    "* Independence of events if: $P(A|B) = P(A)$\n",
    "\n",
    "* Rule of Multiplication: $P(A \\cap B) = P(B)P(A|B) = P(A)P(B|A)$\n",
    "\n",
    "Quiz: If two events are disjoint, are they also independent?"
   ]
  },
  {
   "cell_type": "markdown",
   "metadata": {
    "slideshow": {
     "slide_type": "slide"
    }
   },
   "source": [
    "## Basic Probability \"Rules\" You Should Know (II)\n",
    "\n",
    "* Law of Total Probability: If ${B_{n}:n=1,2,3,\\ldots }$ is a partition of a sample space $\\Omega$ (each pair of events in $B$ are disjoint and together they make up $\\Omega$):\n",
    "\n",
    "$P(A) = \\sum _{n}P(A\\cap B_{n}) = \\sum _{n}P(A|B_{n})P(B_{n})$\n",
    "\n",
    "In words: \"The probability of you getting a ticket tomorrow, is the probability you getting a ticket if it rains, times the probability it rains, plus the probability you get a ticket if it doesn't rain, times the probability it doesn't rain\".\n",
    "\n",
    "* Bayes Theorem:\n",
    "\n",
    "$P(A|B) = \\frac {P(B|A)P(A)}{P(B)}\\space where \\space P(B) > 0$\n",
    "\n",
    "In words: \"The probability it rained yesterday if I got a ticket, is the probability that it rained and I get a ticket, divided by the probability of getting a ticket at all.\""
   ]
  },
  {
   "cell_type": "markdown",
   "metadata": {
    "slideshow": {
     "slide_type": "slide"
    }
   },
   "source": [
    "## Random Variable (I)\n",
    "\n",
    "A Random Variable (RV) $X$ is a function from Sample Space $\\Omega$, usually to a number in $R$: $X:\\Omega \\rightarrow R$  (but see later!)\n",
    "\n",
    "In other words a RV is a random quantity which measures something. For each outcome it will produce a number:\n",
    "\n",
    "* Result of tossing two coins? {HH, HT, TH, TT}\n",
    "    * X is the number of tails. So: X(HH) = 0, X(HT) = 1, X(TH) = 1, X(TT) = 2\n",
    "    * X is whether we got the same result in both coins. So: X(HH) = 1, X(HT) = 0, X(TH) = 0, X(TT) = 1"
   ]
  },
  {
   "cell_type": "markdown",
   "metadata": {
    "slideshow": {
     "slide_type": "slide"
    }
   },
   "source": [
    "## Random Variable (II)\n",
    "\n",
    "The Probability Distribution of $X$ is determined by the Probability Space.\n",
    "\n",
    "* Result of tossing two coins? {HH, HT, TH, TT} and let's assume a fair coin, Symmetric Sample Space:\n",
    "    * X is the number of tails. So: P(X = 0) = 0.25, P(X = 1) = 0.5, P(X = 2) = 0.25\n",
    "    * X is whether we got the same result in both coins. So: P(X = 0) = 0.5, P(X = 1) = 0.5\n",
    "    \n",
    "And we'll usually write this in a table if X is discrete and finite, unless we have a compact way of doing so:\n",
    "\n",
    "| X | 0  | 1  | 2  |\n",
    "|---|----|----|----|\n",
    "| P |0.25| 0.5|0.25|"
   ]
  },
  {
   "cell_type": "markdown",
   "metadata": {
    "slideshow": {
     "slide_type": "slide"
    }
   },
   "source": [
    "## Expectation and Variance\n",
    "\n",
    "Expectation and Variance of discrete RVs can be calculated from formulas:\n",
    "\n",
    "$\\mu = E(X) = X_1P(X = X_1) + ... + X_nP(X = X_n)$\n",
    "\n",
    "$\\sigma^2 = V(X) = E[(X - \\mu)^2] = E[(X - E(X))^2] = E(X^2) - [E(X)]^2$\n",
    "\n",
    "But they should be intuitively understood as we understand the sample mean and variance.\n",
    "\n",
    "Expectation is the mean expected value of X, if we repeat the Probability Space situation or experiment over and over again.\n",
    "\n",
    "Variace is a measure of expected dispersion of X around the Expectation."
   ]
  },
  {
   "cell_type": "markdown",
   "metadata": {
    "slideshow": {
     "slide_type": "slide"
    }
   },
   "source": [
    "## Common Discrete Distributions\n",
    "\n",
    "* Uniform\n",
    "* Bernoulli\n",
    "* Binomial\n",
    "* Poisson"
   ]
  },
  {
   "cell_type": "markdown",
   "metadata": {
    "slideshow": {
     "slide_type": "slide"
    }
   },
   "source": [
    "### Uniform: $U[a, b]$\n",
    "\n",
    "$Supp(X) = \\{a, a + 1, ..., b - 1, b\\}$ (we assume $a$ and $b$ are integers and that $b > a$)\n",
    "\n",
    "$P(X = i) = \\frac{1}{b - a + 1}$\n",
    "\n",
    "$E(X) = \\frac{a + b}{2}$\n",
    "\n",
    "$V(X) = \\frac{(b - a + 1)^2 - 1}{12}$\n",
    "\n",
    "Example: X is the resulting number when throwing a fair die. So $X \\sim U[1, 6]$\n",
    "\n",
    "How it looks:"
   ]
  },
  {
   "cell_type": "code",
   "execution_count": 1,
   "metadata": {
    "slideshow": {
     "slide_type": "slide"
    }
   },
   "outputs": [
    {
     "data": {
      "image/png": "[encoded data removed]",
      "text/plain": [
       "<Figure size 432x288 with 1 Axes>"
      ]
     },
     "metadata": {
      "needs_background": "light"
     },
     "output_type": "display_data"
    }
   ],
   "source": [
    "import matplotlib.pyplot as plt\n",
    "import numpy as np\n",
    "%matplotlib inline\n",
    "\n",
    "X = np.array([1,2,3,4,5,6])\n",
    "P = np.repeat(1/6, 6)\n",
    "\n",
    "plt.bar(X, P)\n",
    "plt.xlabel('X')\n",
    "plt.ylabel('P')\n",
    "plt.show()"
   ]
  },
  {
   "cell_type": "markdown",
   "metadata": {
    "slideshow": {
     "slide_type": "slide"
    }
   },
   "source": [
    "### Bernoulli - A Single Trial: $B(p)$\n",
    "\n",
    "$Supp(X) = \\{0, 1\\}$\n",
    "\n",
    "$P(X = i) = {\\begin{cases}1-p&{\\text{if }}i=0\\\\p&{\\text{if }}i=1\\end{cases}}$ ($p \\in [0, 1]$)\n",
    "\n",
    "$E(X) = p$\n",
    "\n",
    "$V(X) = p(1-p)$\n",
    "\n",
    "Example: X is whether you pass this course or not, with $p = 0.9$. So $X \\sim B(0.9)$\n",
    "\n",
    "How it looks:"
   ]
  },
  {
   "cell_type": "code",
   "execution_count": 2,
   "metadata": {
    "slideshow": {
     "slide_type": "slide"
    }
   },
   "outputs": [
    {
     "data": {
      "image/png": "[encoded data removed]",
      "text/plain": [
       "<Figure size 432x288 with 1 Axes>"
      ]
     },
     "metadata": {
      "needs_background": "light"
     },
     "output_type": "display_data"
    }
   ],
   "source": [
    "p = 0.9\n",
    "X = np.array([0, 1])\n",
    "P = np.array([1 - p, p])\n",
    "\n",
    "plt.bar(X, P)\n",
    "plt.xlabel('X')\n",
    "plt.ylabel('P')\n",
    "plt.show()"
   ]
  },
  {
   "cell_type": "markdown",
   "metadata": {
    "slideshow": {
     "slide_type": "slide"
    }
   },
   "source": [
    "### Binomial - $n$ Trials with success $p$: $Bin(n, p)$\n",
    "\n",
    "$Supp(X) = \\{0, ..., n\\}$ ($n$ is a positive integer, $p \\in [0, 1]$)\n",
    "\n",
    "$P(X = i) = \\textstyle {n \\choose i}\\,p^{i}(1-p)^{n-i}$\n",
    "\n",
    "$E(X) = np$\n",
    "\n",
    "$V(X) = np(1-p)$\n",
    "\n",
    "Example: X counts how many shots you get in the basket(ball) out of possible $n = 10$, where $p = 0.4$. So $X \\sim Bin(10, 0.4)$\n",
    "\n",
    "How it looks:"
   ]
  },
  {
   "cell_type": "code",
   "execution_count": 3,
   "metadata": {
    "slideshow": {
     "slide_type": "slide"
    }
   },
   "outputs": [
    {
     "data": {
      "image/png": "[encoded data removed]",
      "text/plain": [
       "<Figure size 432x288 with 1 Axes>"
      ]
     },
     "metadata": {
      "needs_background": "light"
     },
     "output_type": "display_data"
    }
   ],
   "source": [
    "from scipy.stats import binom\n",
    "n = 10\n",
    "p = 0.4\n",
    "X = np.array(range(1, 11))\n",
    "P = [binom.pmf(i, n, p) for i in X]\n",
    "\n",
    "plt.bar(X, P)\n",
    "plt.xlabel('X')\n",
    "plt.ylabel('P')\n",
    "plt.show()"
   ]
  },
  {
   "cell_type": "markdown",
   "metadata": {
    "slideshow": {
     "slide_type": "slide"
    }
   },
   "source": [
    "### Poisson - number of times an event occurs in an interval of time: $Pois(\\lambda)$\n",
    "\n",
    "$Supp(X) = \\{0, ..., \\}$\n",
    "\n",
    "$P(X = i) = {\\displaystyle {\\frac {\\lambda ^{i}e^{-\\lambda }}{i!}}}$ ($\\lambda > 0$)\n",
    "\n",
    "$E(X) = \\lambda$\n",
    "\n",
    "$V(X) = \\lambda$\n",
    "\n",
    "Example: X counts how many runners will pass you while you're sitting on a bench at the Yarkon for 1 hour, when you know the hourly average is $\\lambda = 20$. So $X \\sim Pois(20)$\n",
    "\n",
    "How it looks:"
   ]
  },
  {
   "cell_type": "code",
   "execution_count": 4,
   "metadata": {
    "slideshow": {
     "slide_type": "slide"
    }
   },
   "outputs": [
    {
     "data": {
      "image/png": "[encoded data removed]",
      "text/plain": [
       "<Figure size 432x288 with 1 Axes>"
      ]
     },
     "metadata": {
      "needs_background": "light"
     },
     "output_type": "display_data"
    }
   ],
   "source": [
    "from scipy.stats import poisson\n",
    "lambda1 = 20 # you can't call an object in Python \"lambda\"!\n",
    "X = np.array(range(50))\n",
    "P = [poisson.pmf(i, lambda1) for i in X]\n",
    "\n",
    "plt.bar(X, P)\n",
    "plt.xlabel('X')\n",
    "plt.ylabel('P')\n",
    "plt.show()"
   ]
  },
  {
   "cell_type": "markdown",
   "metadata": {
    "slideshow": {
     "slide_type": "slide"
    }
   },
   "source": [
    "# Probablistic Thinking\n",
    "\n",
    "* Relation Between a Pair of Discrete Variables\n",
    "\n",
    "* Measuring Independence\n",
    "\n",
    "* Simpson's Paradox"
   ]
  },
  {
   "cell_type": "markdown",
   "metadata": {
    "slideshow": {
     "slide_type": "slide"
    }
   },
   "source": [
    "## Relation Between a Pair of Discrete Variables\n",
    "\n",
    "* Contingency Table\n",
    "* Marginal Distribution\n",
    "* Joint Distribution\n",
    "* Conditional Distribution"
   ]
  },
  {
   "cell_type": "markdown",
   "metadata": {
    "slideshow": {
     "slide_type": "slide"
    }
   },
   "source": [
    "### Contingency Table\n",
    "\n",
    "A Contingency Table is an excellent choice for viewing the relation between a pair of discrete variables, with few values.\n",
    "\n",
    "The following is a real table, depicting the results of a [survey](http://www.statistics.org.il/2010/04/342) conducted after N = 66 participants went through basic and advanced workshops in R. This is one of the few questions asked.\n",
    "\n",
    "<img src = \"images/R_survey.png\">\n",
    "\n",
    "* X is the level of satisfaction of the workshop instructors (a 1-5 scale, X is Ordinal)\n",
    "* Y is the type of workshop taken (Basic/Advanced, Y is Dichotomous, might be considered Ordinal as well)\n",
    "* If we assume each participant is independent from the other, we might say the Sample Space is Symmetric"
   ]
  },
  {
   "cell_type": "markdown",
   "metadata": {
    "slideshow": {
     "slide_type": "slide"
    }
   },
   "source": [
    "### Marginal Distribution\n",
    "\n",
    "This is the \"total\" distribution for X and for Y: $P(X)$ and $P(Y)$.\n",
    "\n",
    "We'll usually extract it from the total column and row of the table.\n",
    "\n",
    "| X | 1  | 2  | 3  | 4  | 5  |\n",
    "|---|----|----|----|----|----|\n",
    "| P |0   |0.02|0.29|0.32|0.38|\n",
    "\n",
    "| Y | Basic  | Advanced|\n",
    "|---|--------|---------|\n",
    "| P |   0.48 |   0.52  |\n",
    "\n",
    "Which plots are suitable for these distributions?"
   ]
  },
  {
   "cell_type": "markdown",
   "metadata": {
    "slideshow": {
     "slide_type": "slide"
    }
   },
   "source": [
    "### Joint Distribution\n",
    "\n",
    "This is the \"detailed\" distribution of how X and Y change together: $P(X, Y)$\n",
    "\n",
    "In a sense the become a new RV. We extract these from the table's cells.\n",
    "\n",
    "| XY  | Basic  | Advanced|\n",
    "|-----|--------|---------|\n",
    "| 1   |   0    |   0     |\n",
    "| 2   |   0    |   0.02  |\n",
    "| 3   |   0.05 |   0.24  |\n",
    "| 4   |   0.15 |   0.29  |\n",
    "| 5   |   0.29 |   0.09  |\n",
    "\n",
    "Make sure these sum up to 1.\n"
   ]
  },
  {
   "cell_type": "markdown",
   "metadata": {
    "slideshow": {
     "slide_type": "slide"
    }
   },
   "source": [
    "### Conditional Distribution (I)\n",
    "\n",
    "This is the distribution of Y once we *know* X is fixed on a specific value: $P(Y|X)$, $P(X|Y)$\n",
    "\n",
    "It is the distribution of a single row (or column) in the table, as if it is the only existing row (column).\n",
    "\n",
    "$P(Y|X)$ would be:\n",
    "\n",
    "| Y given X | Basic  | Advanced| Total |\n",
    "|-----|--------|---------|---------|\n",
    "| 1   |   NA   |   NA    | NA|\n",
    "| 2   |   0    |   1     | 1 |\n",
    "| 3   |   0.16 |   0.84  | 1 |\n",
    "| 4   |   0.48 |   0.52  | 1 |\n",
    "| 5   |   0.76 |   0.24  | 1 |"
   ]
  },
  {
   "cell_type": "markdown",
   "metadata": {
    "slideshow": {
     "slide_type": "slide"
    }
   },
   "source": [
    "### Conditional Distribution (II)\n",
    "\n",
    "$P(X|Y)$ would be:\n",
    "\n",
    "| X given Y | Basic  | Advanced|\n",
    "|-----|--------|---------|\n",
    "| 1   |   0    |   0     |\n",
    "| 2   |   0    |   0.03  |\n",
    "| 3   |   0.1  |   0.47  |\n",
    "| 4   |   0.31 |   0.32  |\n",
    "| 5   |   0.59 |   0.18  |\n",
    "|Total|   1    |   1     |\n",
    "\n",
    "Notice the difference in $P(X|Y)$ where between Y = Basic and Y = Advanced. Conditional distribution is a powerful tool. What visualization could depict this difference?"
   ]
  },
  {
   "cell_type": "markdown",
   "metadata": {
    "slideshow": {
     "slide_type": "slide"
    }
   },
   "source": [
    "## Measuring Dependence\n",
    "\n",
    "* From Independence of Events to Independence of RVs\n",
    "* Odds Ratio"
   ]
  },
  {
   "cell_type": "markdown",
   "metadata": {
    "slideshow": {
     "slide_type": "slide"
    }
   },
   "source": [
    "### From Independence of Events to Independence of RVs\n",
    "\n",
    "* If $P(X|Y) = P(X)$, X and Y are Independent RVs.\n",
    "* In other words knowing the value of Y does not change the distribution of X.\n",
    "* In the table, the conditional distribution of each row (column) should be equal to the marginal distribution of the total row (column).\n",
    "* Another common formulization: $P(X, Y) = P(X)P(Y)$\n",
    "* In the table, the joint probability of each cell is equal to the multiplication of the marginal probabilities of its row and column\n",
    "\n",
    "Make sure you understand how other rules of probabilty generalize to RVs (Law of probabilty, Bayes theorem)."
   ]
  },
  {
   "cell_type": "markdown",
   "metadata": {
    "slideshow": {
     "slide_type": "slide"
    }
   },
   "source": [
    "### Odds Ratio\n",
    "\n",
    "One very common measure of dependence is the Odds Ratio, which a ratio between two conditional probabilities:\n",
    "\n",
    "$OR = \\frac{P(X = x_1 | Y = y_1 )}{P(X = x_1 | Y = y_2 )}$\n",
    "\n",
    "Example: Odds Ratio of statisfaction level 5 between Basic and Advanced workshop participants:\n",
    "\n",
    "$OR = \\frac{P(X = 5 | Y = Basic )}{P(X = 5 | Y = Advanced )} = \\frac{0.59}{0.18} = 3.27$\n",
    "\n",
    "Meaning: \"The Basic workshop participants are ~3 times more likely than Advanced workshop participants to report high satisfaction\".\n",
    "\n",
    "Odds Ratio will be back."
   ]
  },
  {
   "cell_type": "markdown",
   "metadata": {
    "slideshow": {
     "slide_type": "slide"
    }
   },
   "source": [
    "## Simpson's Paradox\n",
    "\n",
    "* Discrete Variables Example\n",
    "* Continuous Variables Example\n",
    "\n",
    "<img src = \"images/simpsons.png\">"
   ]
  },
  {
   "cell_type": "markdown",
   "metadata": {
    "slideshow": {
     "slide_type": "slide"
    }
   },
   "source": [
    "### Simpson's Paradox - Discrete (I)\n",
    "\n",
    "In 1973, UC Berkeley was ~~sued~~ afraid it would be sued for gender bias, because their graduate school admission figures showed obvious bias against women. We'll use made-up figures to simplify things.\n",
    "\n",
    "Let X be the gender of an applicant, Female or Male.\n",
    "\n",
    "Let Z be the admission to Berkeley, yes or no.\n",
    "\n",
    "And we're looking at proportion of admission given gender, the conditional distribution $P(Z = yes|X)$:\n",
    "\n",
    "| X | F  | M  |\n",
    "|---|----|----|\n",
    "| P(Z = yes\\|X) |0.41|0.59|\n",
    "\n",
    "Let Y be the departmant to which an applicant applied, say Law and Math. When looking at $P(Z = yes|X,Y)$ we get a different pattern:\n",
    "\n",
    "| Y/X  | F  | M  |\n",
    "|-----|----|----|\n",
    "| Law |0.33|0.28|\n",
    "| Math|0.72|0.67|\n",
    "\n",
    "So, when not considering Y - the department variable, it seems women are less likely to be admitted. But when considering Y, they are more likely to be admitted in each and every department!\n"
   ]
  },
  {
   "cell_type": "markdown",
   "metadata": {
    "slideshow": {
     "slide_type": "slide"
    }
   },
   "source": [
    "### Simpson's Paradox - Discrete (II)\n",
    "\n",
    "What sorcery is this?\n",
    "\n",
    "<img src = \"images/berkley.png\">\n",
    "\n",
    "* Women applied more for hard-to-get-in Law department!\n",
    "* This was NOT a random sample. Therefore the person who analyzed the data should have taken extra care to condition the results on possible confounding variables (in this case Y - the department the applicant applied to in the first place)\n",
    "* False use of Statistics is everywhere. Do better."
   ]
  },
  {
   "cell_type": "markdown",
   "metadata": {
    "slideshow": {
     "slide_type": "slide"
    }
   },
   "source": [
    "### Simpson's Paradox - Continuous\n",
    "\n",
    "[source](https://simplystatistics.org/2017/08/08/code-for-my-educational-gifs/)\n",
    "\n",
    "<img src = \"images/simpson_continuous.gif\">"
   ]
  },
  {
   "cell_type": "markdown",
   "metadata": {
    "slideshow": {
     "slide_type": "slide"
    }
   },
   "source": [
    "# Advanced Exploratory Data Analysis\n",
    "\n",
    "* Dimensionality Reduction with PCA"
   ]
  },
  {
   "cell_type": "markdown",
   "metadata": {
    "slideshow": {
     "slide_type": "slide"
    }
   },
   "source": [
    "### Dimensionality Reduction with PCA\n",
    "\n",
    "* You got the data.\n",
    "* You reported basic Summary Statistics for continuous variables.\n",
    "* You located missing values.\n",
    "* You used proper plots to visualize some aspects of your data.\n",
    "* You used Contingency Tables to analyze the relations between discrete variables, hopefully avoiding the Simpson's paradox. \n",
    "\n",
    "What now?\n",
    "\n",
    "Principal Component Analysis (PCA) has become a standard phase in Exploratory Data Analysis. Considering your data matrix $X$ has at least a few dozens of variables ($n$ rows or observations, $p$ columns or variables and $p$ is large), you can assume they are somewhat correlated. And it can be hard to see some structure in this high-dimesional space.\n",
    "\n",
    "PCA addresses both issues. First, it transforms the data matrix into a set of linearly uncorrelated variables called Principal Components. The first few PCs usually account for most of the variability in the data. So by visualizing only these PCs, the basic internal structure of the data can be revealed."
   ]
  },
  {
   "cell_type": "markdown",
   "metadata": {
    "slideshow": {
     "slide_type": "slide"
    }
   },
   "source": [
    "### Finding the First PC (I)\n",
    "\n",
    "We wish to find a vector $t_1$, which is a linear transformation of $X$:\n",
    "\n",
    "$t_1 = Xw_1$\n",
    "\n",
    "Such that it will have maximum variance $V(t_1) = E[t_1 - E(t_1)]^2 = E[Xw_1 - E(Xw_1)]^2$\n",
    "\n",
    "We can assume $E(X) = 0$ and if not we will subtract the mean off every column of $X$ (\"centering\"), therefore $E(Xw_1) = 0$ (why?!). And we are maximizing $E(Xw_1)^2$, which in the sample sense becomes:\n",
    "\n",
    "$V(t_1) = \\frac{1}{n}w_1^TX^TXw_1$\n",
    "\n",
    "Ignoring the normalizing constant, we could say we are really after $w_1$ which would maximize the quantity:\n",
    "\n",
    "$w_1 = argmax\\{w_1^TX^TXw_1\\}$\n",
    "\n",
    "However we can make this quantity as large as we would like by using $w_1$ with bigger and bigger norm, so we make $w_1$ be a unit vector and fix its norm at 1:\n",
    "\n",
    "$\\max{w_1^TX^TXw_1}$ s.t. $||w_1|| = 1$"
   ]
  },
  {
   "cell_type": "markdown",
   "metadata": {
    "slideshow": {
     "slide_type": "slide"
    }
   },
   "source": [
    "### Finding the First PC (II)\n",
    "\n",
    "Using Lagrange multiplier $\\lambda_1$:\n",
    "\n",
    "$\\max{w_1^TX^TXw_1 + \\lambda_1(1 - w_1^Tw_1)}$\n",
    "\n",
    "Taking derivative, setting to 0:\n",
    "\n",
    "$2X^TXw_1 - 2\\lambda_1w_1 = 0$\n",
    "\n",
    "$X^TXw_1 = \\lambda_1w_1$\n",
    "\n",
    "But we know this equation! $w_1$ must be an eigenvector of the square $X^TX$ matrix, and $\\lambda_1$ its eigenvalue.\n",
    "\n",
    "It is the eigenvector with maximum eigenvalue."
   ]
  },
  {
   "cell_type": "markdown",
   "metadata": {
    "slideshow": {
     "slide_type": "slide"
    }
   },
   "source": [
    "### Finding the next PCs\n",
    "\n",
    "In general we get a linear transformation $W$ of dimensions $pxp$, which is the set of eigenvectors of $X^TX$, ordered by their corresponding eigenvalues. Sometimes these are called the \"loadings\".\n",
    "\n",
    "We multiply (mean-centered) $X$ by $W^T$ and we get our linearly-uncorrelated Principal Components $T$:\n",
    "\n",
    "$T = XW^T$\n",
    "\n",
    "But here's the bottom-line:\n",
    "\n",
    "We can compute only the first few eigenvectors in $W$, and get only the first few PCs in $T$.\n",
    "\n",
    "We have *reduced* the dimensionality of our data matrix but kept most of the variability in it."
   ]
  },
  {
   "cell_type": "markdown",
   "metadata": {
    "slideshow": {
     "slide_type": "slide"
    }
   },
   "source": [
    "### PCA on the Netflix data\n",
    "\n",
    "Our Netflix dataset contains the 1-5 rankings made by 10,000 users to 99 movies.\n",
    "\n",
    "Let $X$ be the data matrix for the first 14 movies to which all users gave ranking.\n",
    "\n",
    "So: $n = 10000$ and $p = 14$. This isn't that \"Big\", however even with 14 variables it is almost impossible to see any latent structure hidden in the data.\n",
    "\n",
    "Let's perform PCA!"
   ]
  },
  {
   "cell_type": "code",
   "execution_count": 5,
   "metadata": {
    "slideshow": {
     "slide_type": "slide"
    }
   },
   "outputs": [
    {
     "name": "stdout",
     "output_type": "stream",
     "text": [
      "(10000, 14)\n",
      "[[2 4 4 4 5]\n",
      " [4 5 3 3 4]\n",
      " [5 5 5 5 5]\n",
      " [3 3 3 4 4]\n",
      " [4 4 4 5 4]]\n"
     ]
    }
   ],
   "source": [
    "import pandas as pd\n",
    "import numpy as np\n",
    "from sklearn.decomposition import PCA\n",
    "\n",
    "# read in the data\n",
    "X = pd.read_table(\"http://www.tau.ac.il/~saharon/StatsLearn2018/train_ratings_all.dat\",\n",
    "                  header = None, usecols = range(14)).values\n",
    "print(X.shape)\n",
    "print(X[:5, :5])"
   ]
  },
  {
   "cell_type": "code",
   "execution_count": 6,
   "metadata": {
    "slideshow": {
     "slide_type": "slide"
    }
   },
   "outputs": [
    {
     "name": "stdout",
     "output_type": "stream",
     "text": [
      "                                                title\n",
      "0                                    Independence Day\n",
      "1                                         The Patriot\n",
      "2                              The Day After Tomorrow\n",
      "3   Pirates of the Caribbean: The Curse of the Bla...\n",
      "4                                        Pretty Woman\n",
      "5                                        Forrest Gump\n",
      "6                                      The Green Mile\n",
      "7                                             Con Air\n",
      "8                                             Twister\n",
      "9                                  Sweet Home Alabama\n",
      "10                                       Pearl Harbor\n",
      "11                                         Armageddon\n",
      "12                                           The Rock\n",
      "13                                    What Women Want\n"
     ]
    },
    {
     "data": {
      "text/plain": [
       "PCA(copy=True, iterated_power='auto', n_components=None, random_state=None,\n",
       "  svd_solver='auto', tol=0.0, whiten=False)"
      ]
     },
     "execution_count": 6,
     "metadata": {},
     "output_type": "execute_result"
    }
   ],
   "source": [
    "# read in the movies names\n",
    "movies = pd.read_csv(\"http://www.tau.ac.il/~saharon/StatsLearn2018/movie_titles.txt\",\n",
    "                     header = None, usecols = [1], nrows = 14, names = ['title'])\n",
    "print(movies)\n",
    "\n",
    "# centering X: subtracting the mean from each column\n",
    "X_centered = X - X.mean(axis = 0)\n",
    "\n",
    "# instantiating PCA object\n",
    "pca = PCA()\n",
    "\n",
    "# performing PCA\n",
    "pca.fit(X_centered)"
   ]
  },
  {
   "cell_type": "code",
   "execution_count": 7,
   "metadata": {
    "slideshow": {
     "slide_type": "slide"
    }
   },
   "outputs": [
    {
     "name": "stdout",
     "output_type": "stream",
     "text": [
      "(14, 14)\n"
     ]
    }
   ],
   "source": [
    "# What did we get?\n",
    "\n",
    "# This is the W matrix, a.k.a the \"loadings\", a.k.a the matrix whose columns are XtX eigenvectors:\n",
    "W = pca.components_\n",
    "print(W.shape)\n",
    "\n",
    "# Helper function for better pandas styling\n",
    "def color_negative_red(val):\n",
    "    \"\"\"\n",
    "    Takes a scalar and returns a string with\n",
    "    the css property `'color: red'` for negative\n",
    "    strings, black otherwise.\n",
    "    \"\"\"\n",
    "    color = 'red' if val < 0 else 'black'\n",
    "    return 'color: %s' % color"
   ]
  },
  {
   "cell_type": "code",
   "execution_count": 8,
   "metadata": {
    "slideshow": {
     "slide_type": "slide"
    }
   },
   "outputs": [
    {
     "data": {
      "text/html": [
       "<style  type=\"text/css\" >\n",
       "    #T_06878320_e9e6_11e8_bdce_0242ac110002row0_col0 {\n",
       "            color:  black;\n",
       "        }    #T_06878320_e9e6_11e8_bdce_0242ac110002row0_col1 {\n",
       "            color:  red;\n",
       "        }    #T_06878320_e9e6_11e8_bdce_0242ac110002row0_col2 {\n",
       "            color:  red;\n",
       "        }    #T_06878320_e9e6_11e8_bdce_0242ac110002row0_col3 {\n",
       "            color:  black;\n",
       "        }    #T_06878320_e9e6_11e8_bdce_0242ac110002row1_col0 {\n",
       "            color:  black;\n",
       "        }    #T_06878320_e9e6_11e8_bdce_0242ac110002row1_col1 {\n",
       "            color:  red;\n",
       "        }    #T_06878320_e9e6_11e8_bdce_0242ac110002row1_col2 {\n",
       "            color:  red;\n",
       "        }    #T_06878320_e9e6_11e8_bdce_0242ac110002row1_col3 {\n",
       "            color:  red;\n",
       "        }    #T_06878320_e9e6_11e8_bdce_0242ac110002row2_col0 {\n",
       "            color:  black;\n",
       "        }    #T_06878320_e9e6_11e8_bdce_0242ac110002row2_col1 {\n",
       "            color:  red;\n",
       "        }    #T_06878320_e9e6_11e8_bdce_0242ac110002row2_col2 {\n",
       "            color:  red;\n",
       "        }    #T_06878320_e9e6_11e8_bdce_0242ac110002row2_col3 {\n",
       "            color:  black;\n",
       "        }    #T_06878320_e9e6_11e8_bdce_0242ac110002row3_col0 {\n",
       "            color:  black;\n",
       "        }    #T_06878320_e9e6_11e8_bdce_0242ac110002row3_col1 {\n",
       "            color:  red;\n",
       "        }    #T_06878320_e9e6_11e8_bdce_0242ac110002row3_col2 {\n",
       "            color:  red;\n",
       "        }    #T_06878320_e9e6_11e8_bdce_0242ac110002row3_col3 {\n",
       "            color:  black;\n",
       "        }    #T_06878320_e9e6_11e8_bdce_0242ac110002row4_col0 {\n",
       "            color:  black;\n",
       "        }    #T_06878320_e9e6_11e8_bdce_0242ac110002row4_col1 {\n",
       "            color:  red;\n",
       "        }    #T_06878320_e9e6_11e8_bdce_0242ac110002row4_col2 {\n",
       "            color:  black;\n",
       "        }    #T_06878320_e9e6_11e8_bdce_0242ac110002row4_col3 {\n",
       "            color:  black;\n",
       "        }    #T_06878320_e9e6_11e8_bdce_0242ac110002row5_col0 {\n",
       "            color:  black;\n",
       "        }    #T_06878320_e9e6_11e8_bdce_0242ac110002row5_col1 {\n",
       "            color:  red;\n",
       "        }    #T_06878320_e9e6_11e8_bdce_0242ac110002row5_col2 {\n",
       "            color:  black;\n",
       "        }    #T_06878320_e9e6_11e8_bdce_0242ac110002row5_col3 {\n",
       "            color:  red;\n",
       "        }    #T_06878320_e9e6_11e8_bdce_0242ac110002row6_col0 {\n",
       "            color:  black;\n",
       "        }    #T_06878320_e9e6_11e8_bdce_0242ac110002row6_col1 {\n",
       "            color:  red;\n",
       "        }    #T_06878320_e9e6_11e8_bdce_0242ac110002row6_col2 {\n",
       "            color:  black;\n",
       "        }    #T_06878320_e9e6_11e8_bdce_0242ac110002row6_col3 {\n",
       "            color:  red;\n",
       "        }    #T_06878320_e9e6_11e8_bdce_0242ac110002row7_col0 {\n",
       "            color:  black;\n",
       "        }    #T_06878320_e9e6_11e8_bdce_0242ac110002row7_col1 {\n",
       "            color:  red;\n",
       "        }    #T_06878320_e9e6_11e8_bdce_0242ac110002row7_col2 {\n",
       "            color:  red;\n",
       "        }    #T_06878320_e9e6_11e8_bdce_0242ac110002row7_col3 {\n",
       "            color:  black;\n",
       "        }    #T_06878320_e9e6_11e8_bdce_0242ac110002row8_col0 {\n",
       "            color:  black;\n",
       "        }    #T_06878320_e9e6_11e8_bdce_0242ac110002row8_col1 {\n",
       "            color:  red;\n",
       "        }    #T_06878320_e9e6_11e8_bdce_0242ac110002row8_col2 {\n",
       "            color:  red;\n",
       "        }    #T_06878320_e9e6_11e8_bdce_0242ac110002row8_col3 {\n",
       "            color:  black;\n",
       "        }    #T_06878320_e9e6_11e8_bdce_0242ac110002row9_col0 {\n",
       "            color:  black;\n",
       "        }    #T_06878320_e9e6_11e8_bdce_0242ac110002row9_col1 {\n",
       "            color:  red;\n",
       "        }    #T_06878320_e9e6_11e8_bdce_0242ac110002row9_col2 {\n",
       "            color:  black;\n",
       "        }    #T_06878320_e9e6_11e8_bdce_0242ac110002row9_col3 {\n",
       "            color:  black;\n",
       "        }    #T_06878320_e9e6_11e8_bdce_0242ac110002row10_col0 {\n",
       "            color:  black;\n",
       "        }    #T_06878320_e9e6_11e8_bdce_0242ac110002row10_col1 {\n",
       "            color:  red;\n",
       "        }    #T_06878320_e9e6_11e8_bdce_0242ac110002row10_col2 {\n",
       "            color:  black;\n",
       "        }    #T_06878320_e9e6_11e8_bdce_0242ac110002row10_col3 {\n",
       "            color:  red;\n",
       "        }    #T_06878320_e9e6_11e8_bdce_0242ac110002row11_col0 {\n",
       "            color:  black;\n",
       "        }    #T_06878320_e9e6_11e8_bdce_0242ac110002row11_col1 {\n",
       "            color:  red;\n",
       "        }    #T_06878320_e9e6_11e8_bdce_0242ac110002row11_col2 {\n",
       "            color:  red;\n",
       "        }    #T_06878320_e9e6_11e8_bdce_0242ac110002row11_col3 {\n",
       "            color:  black;\n",
       "        }    #T_06878320_e9e6_11e8_bdce_0242ac110002row12_col0 {\n",
       "            color:  black;\n",
       "        }    #T_06878320_e9e6_11e8_bdce_0242ac110002row12_col1 {\n",
       "            color:  red;\n",
       "        }    #T_06878320_e9e6_11e8_bdce_0242ac110002row12_col2 {\n",
       "            color:  red;\n",
       "        }    #T_06878320_e9e6_11e8_bdce_0242ac110002row12_col3 {\n",
       "            color:  black;\n",
       "        }    #T_06878320_e9e6_11e8_bdce_0242ac110002row13_col0 {\n",
       "            color:  black;\n",
       "        }    #T_06878320_e9e6_11e8_bdce_0242ac110002row13_col1 {\n",
       "            color:  red;\n",
       "        }    #T_06878320_e9e6_11e8_bdce_0242ac110002row13_col2 {\n",
       "            color:  black;\n",
       "        }    #T_06878320_e9e6_11e8_bdce_0242ac110002row13_col3 {\n",
       "            color:  black;\n",
       "        }</style>  \n",
       "<table id=\"T_06878320_e9e6_11e8_bdce_0242ac110002\" > \n",
       "<thead>    <tr> \n",
       "        <th class=\"blank level0\" ></th> \n",
       "        <th class=\"col_heading level0 col0\" >mean_rating</th> \n",
       "        <th class=\"col_heading level0 col1\" >0</th> \n",
       "        <th class=\"col_heading level0 col2\" >1</th> \n",
       "        <th class=\"col_heading level0 col3\" >2</th> \n",
       "    </tr>    <tr> \n",
       "        <th class=\"index_name level0\" >title</th> \n",
       "        <th class=\"blank\" ></th> \n",
       "        <th class=\"blank\" ></th> \n",
       "        <th class=\"blank\" ></th> \n",
       "        <th class=\"blank\" ></th> \n",
       "    </tr></thead> \n",
       "<tbody>    <tr> \n",
       "        <th id=\"T_06878320_e9e6_11e8_bdce_0242ac110002level0_row0\" class=\"row_heading level0 row0\" >Independence Day</th> \n",
       "        <td id=\"T_06878320_e9e6_11e8_bdce_0242ac110002row0_col0\" class=\"data row0 col0\" >4.15</td> \n",
       "        <td id=\"T_06878320_e9e6_11e8_bdce_0242ac110002row0_col1\" class=\"data row0 col1\" >-0.25</td> \n",
       "        <td id=\"T_06878320_e9e6_11e8_bdce_0242ac110002row0_col2\" class=\"data row0 col2\" >-0.26</td> \n",
       "        <td id=\"T_06878320_e9e6_11e8_bdce_0242ac110002row0_col3\" class=\"data row0 col3\" >0.14</td> \n",
       "    </tr>    <tr> \n",
       "        <th id=\"T_06878320_e9e6_11e8_bdce_0242ac110002level0_row1\" class=\"row_heading level0 row1\" >The Patriot</th> \n",
       "        <td id=\"T_06878320_e9e6_11e8_bdce_0242ac110002row1_col0\" class=\"data row1 col0\" >4.11</td> \n",
       "        <td id=\"T_06878320_e9e6_11e8_bdce_0242ac110002row1_col1\" class=\"data row1 col1\" >-0.26</td> \n",
       "        <td id=\"T_06878320_e9e6_11e8_bdce_0242ac110002row1_col2\" class=\"data row1 col2\" >-0.06</td> \n",
       "        <td id=\"T_06878320_e9e6_11e8_bdce_0242ac110002row1_col3\" class=\"data row1 col3\" >-0.41</td> \n",
       "    </tr>    <tr> \n",
       "        <th id=\"T_06878320_e9e6_11e8_bdce_0242ac110002level0_row2\" class=\"row_heading level0 row2\" >The Day After Tomorrow</th> \n",
       "        <td id=\"T_06878320_e9e6_11e8_bdce_0242ac110002row2_col0\" class=\"data row2 col0\" >3.70</td> \n",
       "        <td id=\"T_06878320_e9e6_11e8_bdce_0242ac110002row2_col1\" class=\"data row2 col1\" >-0.32</td> \n",
       "        <td id=\"T_06878320_e9e6_11e8_bdce_0242ac110002row2_col2\" class=\"data row2 col2\" >-0.15</td> \n",
       "        <td id=\"T_06878320_e9e6_11e8_bdce_0242ac110002row2_col3\" class=\"data row2 col3\" >0.05</td> \n",
       "    </tr>    <tr> \n",
       "        <th id=\"T_06878320_e9e6_11e8_bdce_0242ac110002level0_row3\" class=\"row_heading level0 row3\" >Pirates of the Caribbean: The Curse of the Black Pearl</th> \n",
       "        <td id=\"T_06878320_e9e6_11e8_bdce_0242ac110002row3_col0\" class=\"data row3 col0\" >4.35</td> \n",
       "        <td id=\"T_06878320_e9e6_11e8_bdce_0242ac110002row3_col1\" class=\"data row3 col1\" >-0.15</td> \n",
       "        <td id=\"T_06878320_e9e6_11e8_bdce_0242ac110002row3_col2\" class=\"data row3 col2\" >-0.03</td> \n",
       "        <td id=\"T_06878320_e9e6_11e8_bdce_0242ac110002row3_col3\" class=\"data row3 col3\" >0.21</td> \n",
       "    </tr>    <tr> \n",
       "        <th id=\"T_06878320_e9e6_11e8_bdce_0242ac110002level0_row4\" class=\"row_heading level0 row4\" >Pretty Woman</th> \n",
       "        <td id=\"T_06878320_e9e6_11e8_bdce_0242ac110002row4_col0\" class=\"data row4 col0\" >4.07</td> \n",
       "        <td id=\"T_06878320_e9e6_11e8_bdce_0242ac110002row4_col1\" class=\"data row4 col1\" >-0.23</td> \n",
       "        <td id=\"T_06878320_e9e6_11e8_bdce_0242ac110002row4_col2\" class=\"data row4 col2\" >0.45</td> \n",
       "        <td id=\"T_06878320_e9e6_11e8_bdce_0242ac110002row4_col3\" class=\"data row4 col3\" >0.24</td> \n",
       "    </tr>    <tr> \n",
       "        <th id=\"T_06878320_e9e6_11e8_bdce_0242ac110002level0_row5\" class=\"row_heading level0 row5\" >Forrest Gump</th> \n",
       "        <td id=\"T_06878320_e9e6_11e8_bdce_0242ac110002row5_col0\" class=\"data row5 col0\" >4.51</td> \n",
       "        <td id=\"T_06878320_e9e6_11e8_bdce_0242ac110002row5_col1\" class=\"data row5 col1\" >-0.11</td> \n",
       "        <td id=\"T_06878320_e9e6_11e8_bdce_0242ac110002row5_col2\" class=\"data row5 col2\" >0.01</td> \n",
       "        <td id=\"T_06878320_e9e6_11e8_bdce_0242ac110002row5_col3\" class=\"data row5 col3\" >-0.08</td> \n",
       "    </tr>    <tr> \n",
       "        <th id=\"T_06878320_e9e6_11e8_bdce_0242ac110002level0_row6\" class=\"row_heading level0 row6\" >The Green Mile</th> \n",
       "        <td id=\"T_06878320_e9e6_11e8_bdce_0242ac110002row6_col0\" class=\"data row6 col0\" >4.46</td> \n",
       "        <td id=\"T_06878320_e9e6_11e8_bdce_0242ac110002row6_col1\" class=\"data row6 col1\" >-0.16</td> \n",
       "        <td id=\"T_06878320_e9e6_11e8_bdce_0242ac110002row6_col2\" class=\"data row6 col2\" >0.00</td> \n",
       "        <td id=\"T_06878320_e9e6_11e8_bdce_0242ac110002row6_col3\" class=\"data row6 col3\" >-0.16</td> \n",
       "    </tr>    <tr> \n",
       "        <th id=\"T_06878320_e9e6_11e8_bdce_0242ac110002level0_row7\" class=\"row_heading level0 row7\" >Con Air</th> \n",
       "        <td id=\"T_06878320_e9e6_11e8_bdce_0242ac110002row7_col0\" class=\"data row7 col0\" >3.73</td> \n",
       "        <td id=\"T_06878320_e9e6_11e8_bdce_0242ac110002row7_col1\" class=\"data row7 col1\" >-0.30</td> \n",
       "        <td id=\"T_06878320_e9e6_11e8_bdce_0242ac110002row7_col2\" class=\"data row7 col2\" >-0.32</td> \n",
       "        <td id=\"T_06878320_e9e6_11e8_bdce_0242ac110002row7_col3\" class=\"data row7 col3\" >0.20</td> \n",
       "    </tr>    <tr> \n",
       "        <th id=\"T_06878320_e9e6_11e8_bdce_0242ac110002level0_row8\" class=\"row_heading level0 row8\" >Twister</th> \n",
       "        <td id=\"T_06878320_e9e6_11e8_bdce_0242ac110002row8_col0\" class=\"data row8 col0\" >3.75</td> \n",
       "        <td id=\"T_06878320_e9e6_11e8_bdce_0242ac110002row8_col1\" class=\"data row8 col1\" >-0.30</td> \n",
       "        <td id=\"T_06878320_e9e6_11e8_bdce_0242ac110002row8_col2\" class=\"data row8 col2\" >-0.14</td> \n",
       "        <td id=\"T_06878320_e9e6_11e8_bdce_0242ac110002row8_col3\" class=\"data row8 col3\" >0.22</td> \n",
       "    </tr>    <tr> \n",
       "        <th id=\"T_06878320_e9e6_11e8_bdce_0242ac110002level0_row9\" class=\"row_heading level0 row9\" >Sweet Home Alabama</th> \n",
       "        <td id=\"T_06878320_e9e6_11e8_bdce_0242ac110002row9_col0\" class=\"data row9 col0\" >3.67</td> \n",
       "        <td id=\"T_06878320_e9e6_11e8_bdce_0242ac110002row9_col1\" class=\"data row9 col1\" >-0.30</td> \n",
       "        <td id=\"T_06878320_e9e6_11e8_bdce_0242ac110002row9_col2\" class=\"data row9 col2\" >0.59</td> \n",
       "        <td id=\"T_06878320_e9e6_11e8_bdce_0242ac110002row9_col3\" class=\"data row9 col3\" >0.22</td> \n",
       "    </tr>    <tr> \n",
       "        <th id=\"T_06878320_e9e6_11e8_bdce_0242ac110002level0_row10\" class=\"row_heading level0 row10\" >Pearl Harbor</th> \n",
       "        <td id=\"T_06878320_e9e6_11e8_bdce_0242ac110002row10_col0\" class=\"data row10 col0\" >3.73</td> \n",
       "        <td id=\"T_06878320_e9e6_11e8_bdce_0242ac110002row10_col1\" class=\"data row10 col1\" >-0.37</td> \n",
       "        <td id=\"T_06878320_e9e6_11e8_bdce_0242ac110002row10_col2\" class=\"data row10 col2\" >0.12</td> \n",
       "        <td id=\"T_06878320_e9e6_11e8_bdce_0242ac110002row10_col3\" class=\"data row10 col3\" >-0.71</td> \n",
       "    </tr>    <tr> \n",
       "        <th id=\"T_06878320_e9e6_11e8_bdce_0242ac110002level0_row11\" class=\"row_heading level0 row11\" >Armageddon</th> \n",
       "        <td id=\"T_06878320_e9e6_11e8_bdce_0242ac110002row11_col0\" class=\"data row11 col0\" >4.02</td> \n",
       "        <td id=\"T_06878320_e9e6_11e8_bdce_0242ac110002row11_col1\" class=\"data row11 col1\" >-0.33</td> \n",
       "        <td id=\"T_06878320_e9e6_11e8_bdce_0242ac110002row11_col2\" class=\"data row11 col2\" >-0.22</td> \n",
       "        <td id=\"T_06878320_e9e6_11e8_bdce_0242ac110002row11_col3\" class=\"data row11 col3\" >0.05</td> \n",
       "    </tr>    <tr> \n",
       "        <th id=\"T_06878320_e9e6_11e8_bdce_0242ac110002level0_row12\" class=\"row_heading level0 row12\" >The Rock</th> \n",
       "        <td id=\"T_06878320_e9e6_11e8_bdce_0242ac110002row12_col0\" class=\"data row12 col0\" >4.02</td> \n",
       "        <td id=\"T_06878320_e9e6_11e8_bdce_0242ac110002row12_col1\" class=\"data row12 col1\" >-0.24</td> \n",
       "        <td id=\"T_06878320_e9e6_11e8_bdce_0242ac110002row12_col2\" class=\"data row12 col2\" >-0.30</td> \n",
       "        <td id=\"T_06878320_e9e6_11e8_bdce_0242ac110002row12_col3\" class=\"data row12 col3\" >0.16</td> \n",
       "    </tr>    <tr> \n",
       "        <th id=\"T_06878320_e9e6_11e8_bdce_0242ac110002level0_row13\" class=\"row_heading level0 row13\" >What Women Want</th> \n",
       "        <td id=\"T_06878320_e9e6_11e8_bdce_0242ac110002row13_col0\" class=\"data row13 col0\" >3.71</td> \n",
       "        <td id=\"T_06878320_e9e6_11e8_bdce_0242ac110002row13_col1\" class=\"data row13 col1\" >-0.29</td> \n",
       "        <td id=\"T_06878320_e9e6_11e8_bdce_0242ac110002row13_col2\" class=\"data row13 col2\" >0.30</td> \n",
       "        <td id=\"T_06878320_e9e6_11e8_bdce_0242ac110002row13_col3\" class=\"data row13 col3\" >0.07</td> \n",
       "    </tr></tbody> \n",
       "</table> "
      ],
      "text/plain": [
       "<pandas.io.formats.style.Styler at 0x7ff9e78e0e10>"
      ]
     },
     "execution_count": 8,
     "metadata": {},
     "output_type": "execute_result"
    }
   ],
   "source": [
    "# Let's see the W matrix first 3 eigenvectors alongside the movies: do you see anything interesting?\n",
    "means = pd.DataFrame(X.mean(axis = 0))\n",
    "means.columns = ['mean_rating']\n",
    "loadings3 = pd.DataFrame(W.T[:, :3])\n",
    "pd.concat([movies, means, loadings3], axis = 1).set_index('title').style.applymap(color_negative_red).format(\"{:.2f}\")"
   ]
  },
  {
   "cell_type": "code",
   "execution_count": 9,
   "metadata": {
    "slideshow": {
     "slide_type": "slide"
    }
   },
   "outputs": [
    {
     "name": "stdout",
     "output_type": "stream",
     "text": [
      "(10000, 14)\n"
     ]
    },
    {
     "data": {
      "image/png": "[encoded data removed]",
      "text/plain": [
       "<Figure size 432x432 with 3 Axes>"
      ]
     },
     "metadata": {},
     "output_type": "display_data"
    }
   ],
   "source": [
    "# And these are our principal components, the T matrix:\n",
    "T = np.matmul(X_centered, W.T) # make sure this is the same as pca.transform(X_centered)\n",
    "print(T.shape)\n",
    "\n",
    "import matplotlib.pyplot as plt\n",
    "import seaborn as sns\n",
    "sns.set()\n",
    "\n",
    "# The first PC will indicate to what extent the user conforms with the general popular vote of movies:\n",
    "# The second PC will indicate if the user is a romance-comedy-drama or action person:\n",
    "# Are there interesting clusters or people worth pointing at? Would have been nice to see users' gender here!\n",
    "ax = sns.jointplot(T[:,0], T[:,1])\n",
    "ax.set_axis_labels('PC1: Popular Vote', 'PC2: Romance vs. Action', fontsize=16)\n",
    "plt.show()"
   ]
  },
  {
   "cell_type": "code",
   "execution_count": 10,
   "metadata": {
    "slideshow": {
     "slide_type": "slide"
    }
   },
   "outputs": [
    {
     "name": "stdout",
     "output_type": "stream",
     "text": [
      "(10000, 1)\n",
      "score\n",
      "2    12\n",
      "3    26\n",
      "4    28\n",
      "5    34\n",
      "dtype: int64\n",
      "score\n",
      "1    17\n",
      "2    27\n",
      "3    35\n",
      "4    12\n",
      "5     9\n",
      "dtype: int64\n"
     ]
    }
   ],
   "source": [
    "# We also have the Miss Congeniality scores for all 10K users stashed away.\n",
    "miss_cong = pd.read_csv(\"http://www.tau.ac.il/~saharon/StatsLearn2018/train_y_rating.dat\",\n",
    "                     header = None, usecols = [0], names = ['score'])\n",
    "print(miss_cong.shape)\n",
    "# What do you expect the scores to be for users that are high on 2nd PC (like romantic films)?\n",
    "PC2_top_100 = T[:, 1].argsort()[-100:]\n",
    "print(miss_cong.iloc[PC2_top_100, :].groupby('score').size())\n",
    "# What do you expect the scores to be for users that are low on 2nd PC (like action films)\n",
    "PC2_bottom_100 = T[:, 1].argsort()[:100]\n",
    "print(miss_cong.iloc[PC2_bottom_100, :].groupby('score').size())"
   ]
  }
 ],
 "metadata": {
  "celltoolbar": "Slideshow",
  "kernelspec": {
   "display_name": "Python 3",
   "language": "python",
   "name": "python3"
  },
  "language_info": {
   "codemirror_mode": {
    "name": "ipython",
    "version": 3
   },
   "file_extension": ".py",
   "mimetype": "text/x-python",
   "name": "python",
   "nbconvert_exporter": "python",
   "pygments_lexer": "ipython3",
   "version": "3.6.6"
  }
 },
 "nbformat": 4,
 "nbformat_minor": 2
}
