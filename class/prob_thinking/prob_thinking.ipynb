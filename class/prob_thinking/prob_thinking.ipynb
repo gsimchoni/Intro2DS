{
 "cells": [
  {
   "cell_type": "markdown",
   "metadata": {
    "slideshow": {
     "slide_type": "slide"
    }
   },
   "source": [
    "# Introduction to Data Science\n",
    "\n",
    "## Probablistic Thinking and Advanced Exploratory Data Analysis"
   ]
  },
  {
   "cell_type": "markdown",
   "metadata": {
    "slideshow": {
     "slide_type": "slide"
    }
   },
   "source": [
    "# Probability Refresher\n",
    "\n",
    "* Probability Space\n",
    "\n",
    "* Basic Probability \"Rules\" You Should Know\n",
    "\n",
    "* Random Variable\n",
    "\n",
    "* Expectation and Variance\n",
    "\n",
    "* Common Discrete Distributions"
   ]
  },
  {
   "cell_type": "markdown",
   "metadata": {
    "slideshow": {
     "slide_type": "slide"
    }
   },
   "source": [
    "## Probability Space\n",
    "\n",
    "* A probability space is constructed with a specific situation or experiment in mind. \n",
    "\n",
    "* The result is unknown but the possible outcomes and their probabilities are known, and will remain the same should this situation arise again.\n",
    "\n",
    "\n",
    "* Formally, a probability space is a trio:\n",
    "\n",
    "\n",
    "1. A Sample Space, $\\Omega$: set of all possible outcomes\n",
    "2. A set of Events, $\\mathcal{F}$: each event containing zero or more outcomes\n",
    "3. Mapping $P$: a function from Events to $[0,1]$ probability"
   ]
  },
  {
   "cell_type": "markdown",
   "metadata": {
    "slideshow": {
     "slide_type": "slide"
    }
   },
   "source": [
    "### Sample Space $\\Omega$\n",
    "\n",
    "The set of all possible outcomes:\n",
    "\n",
    "* Will it rain today? {Rain_Today, No_Rain_Today}\n",
    "* Result of tossing two coins? {HH, HT, TT} or {HH, HT, TH, TT} (what's the difference?)\n",
    "* How many animals in this picture? {0, 1, 2, 3, ...}\n",
    "\n",
    "Note the property of mutual exclusion (two outcomes cannot happen at the same time) and exhaustiveness (one of the outcomes will happen, for sure)."
   ]
  },
  {
   "cell_type": "markdown",
   "metadata": {
    "slideshow": {
     "slide_type": "slide"
    }
   },
   "source": [
    "### Events $\\mathcal{F}$\n",
    "\n",
    "Any subset of the sample space:\n",
    "\n",
    "* Will it rain today?\n",
    "    * \"It's gonna rain today\"({Rain_Today})\n",
    "    * \"It's not gonna rain today\" ({No_Rain_Today})\n",
    "    * \"It will rain today. Or not.\" ({RainToday, No_Rain_Today})\n",
    "    * \"It will rain today. And not.\" ({})\n",
    "* Result of tossing two coins?\n",
    "    * \"No heads\" ({TT})\n",
    "    * \"Two heads\" ({HH})\n",
    "* How many animals in this picture?\n",
    "    * \"None.\" ({0})\n",
    "    * \"More than three ({4, 5, ...})"
   ]
  },
  {
   "cell_type": "markdown",
   "metadata": {
    "slideshow": {
     "slide_type": "slide"
    }
   },
   "source": [
    "### Probability $P$\n",
    "\n",
    "Each event gets a probability, such that (Probability Axioms):\n",
    "\n",
    "1. $P(\\Omega) = 1$\n",
    "2. $P(E) \\geq 0$\n",
    "3. For any sequence of mutually exclusive events $E_1,E_2,\\ldots$\n",
    "$P \\left( \\bigcup_{i=1}^{\\infty} E_i \\right) = \\sum_{i=1}^{\\infty} P(E_i)$\n",
    "\n",
    "\n",
    "* Will it rain today?\n",
    "\n",
    "    P(Rain_Today) = 0.4; P(No_Rain_Today) = 0.6\n",
    "\n",
    "* Result of tossing two coins?\n",
    "\n",
    "    P(HH) = 0.2; P(HT) = 0.3; P(TT) = 0.5 (And then what is the probability P(\"Same outcome in both tosses\")?)\n",
    "\n",
    "* How many animals in this picture?\n",
    "\n",
    "    P(n) = $\\frac{1}{2^{n + 1}}$"
   ]
  },
  {
   "cell_type": "markdown",
   "metadata": {
    "slideshow": {
     "slide_type": "slide"
    }
   },
   "source": [
    "### Symmetric Sample Space\n",
    "\n",
    "In the case where all outcomes are equally likely, we say the Sample Space is Symmetric, and *only then*:\n",
    "\n",
    "If $A$ is the set of outcomes in event $E$, then: $P(E) = \\frac{|A|}{|\\Omega|}$\n",
    "\n",
    "* Result of tossing two coins? Which of the following is a Symmetric Sample Space:\n",
    "    * {HH, HT, TT}\n",
    "    * {HH, HT, TH, TT}\n",
    "* It depends!\n",
    "* {HH, HT, TH, TT} could be Symmetric if the coin is fair, and then:\n",
    "    * P(\"Same outcome in both tosses\") = P({TT, HH}) = $\\frac{2}{4} = 0.5$\n",
    "* {HH, HT, TT} could also be Symmetric if we define it! (How do we define it?)"
   ]
  },
  {
   "cell_type": "markdown",
   "metadata": {
    "slideshow": {
     "slide_type": "slide"
    }
   },
   "source": [
    "## Basic Probability \"Rules\" You Should Know (I)\n",
    "\n",
    "See if you can locate where the Sample Space has to be Symmetric to make this true:\n",
    "\n",
    "* Probability of an event to NOT occur (\"complementary\"): $P(\\overline{A}) = 1 - P(A)$\n",
    "\n",
    "* Joint Probability, Probability of intesection (events occuring together): $P(A \\cap B) = \\frac{|A \\cap B|}{|\\Omega|}$\n",
    "\n",
    "* Probability of union (either of events occurs or both): $P(A \\cup B) = P(A) + P(B) - P(A \\cap B)$\n",
    "\n",
    "* Conditional Probability: $P(A|B) = \\frac{P(A \\cap B)}{P(B)}$\n",
    "\n",
    "* Independence of events if: $P(A|B) = P(A)$\n",
    "\n",
    "* Rule of Multiplication: $P(A \\cap B) = P(B)P(A|B) = P(A)P(B|A)$\n",
    "\n",
    "Quiz: If two events are disjoint, are they also independent?"
   ]
  },
  {
   "cell_type": "markdown",
   "metadata": {
    "slideshow": {
     "slide_type": "slide"
    }
   },
   "source": [
    "## Basic Probability \"Rules\" You Should Know (II)\n",
    "\n",
    "* Law of Total Probability: If ${B_{n}:n=1,2,3,\\ldots }$ is a partition of a sample space $\\Omega$ (each pair of events in $B$ are disjoint and together they make up $\\Omega$):\n",
    "\n",
    "$P(A) = \\sum _{n}P(A\\cap B_{n}) = \\sum _{n}P(A|B_{n})P(B_{n})$\n",
    "\n",
    "In words: \"The probability of you getting a ticket tomorrow, is the probability you getting a ticket if it rains, times the probability it rains, plus the probability you get a ticket if it doesn't rain, times the probability it doesn't rain\".\n",
    "\n",
    "* Bayes Theorem:\n",
    "\n",
    "$P(A|B) = \\frac {P(B|A)P(A)}{P(B)}\\space where \\space P(B) > 0$\n",
    "\n",
    "In words: \"The probability it rained yesterday if I got a ticket, is the probability that it rained and I get a ticket, divided by the probability of getting a ticket at all.\""
   ]
  },
  {
   "cell_type": "markdown",
   "metadata": {
    "slideshow": {
     "slide_type": "slide"
    }
   },
   "source": [
    "## Random Variable\n",
    "\n",
    "A Random Variable (RV) $X$ is a function from Sample Space $\\Omega$, usually to a number in $R$: $X:\\Omega \\rightarrow R$  (but see later!)\n",
    "\n",
    "In other words a RV is a random quantity which measures something. For each outcome it will produce a number:\n",
    "\n",
    "* Result of tossing two coins? {HH, HT, TH, TT}\n",
    "    * X is the number of tails. So: X(HH) = 0, X(HT) = 1, X(TH) = 1, X(TT) = 2\n",
    "    * X is whether we got the same result in both coins. So: X(HH) = 1, X(HT) = 0, X(TH) = 0, X(TT) = 1\n",
    "\n",
    "The Probability Distribution of $X$ is determined by the Probability Space.\n",
    "\n",
    "* Result of tossing two coins? {HH, HT, TH, TT} and let's assume a fair coin, Symmetric Sample Space:\n",
    "    * X is the number of tails. So: P(X = 0) = 0.25, P(X = 1) = 0.5, P(X = 2) = 0.25\n",
    "    * X is whether we got the same result in both coins. So: P(X = 0) = 0.5, P(X = 1) = 0.5\n",
    "    \n",
    "And we'll usually write this in a table if X is discrete and finite, unless we have a compact way of doing so:\n",
    "\n",
    "| X | 0  | 1  | 2  |\n",
    "|---|----|----|----|\n",
    "| P |0.25| 0.5|0.25|"
   ]
  },
  {
   "cell_type": "markdown",
   "metadata": {
    "slideshow": {
     "slide_type": "slide"
    }
   },
   "source": [
    "## Expectation and Variance\n",
    "\n",
    "Expectation and Variance of discrete RVs can be calculated from formulas:\n",
    "\n",
    "$\\mu = E(X) = X_1P(X = X_1) + ... + X_nP(X = X_n)$\n",
    "\n",
    "$\\sigma^2 = V(X) = E[(X - \\mu)^2] = E[(X - E(X))^2] = E(X^2) - [E(X)]^2$\n",
    "\n",
    "But they should be intuitively understood as we understand the sample mean and variance.\n",
    "\n",
    "Expectation is the mean expected value of X, if we repeat the Probability Space situation or experiment over and over again.\n",
    "\n",
    "Variace is a measure of expected dispersion of X around the Expectation."
   ]
  },
  {
   "cell_type": "markdown",
   "metadata": {
    "slideshow": {
     "slide_type": "slide"
    }
   },
   "source": [
    "## Common Discrete Distributions\n",
    "\n",
    "* Uniform\n",
    "* Bernoulli\n",
    "* Binomial\n",
    "* Poisson"
   ]
  },
  {
   "cell_type": "markdown",
   "metadata": {
    "slideshow": {
     "slide_type": "slide"
    }
   },
   "source": [
    "### Uniform: $U[a, b]$\n",
    "\n",
    "$Supp(X) = \\{a, a + 1, ..., b - 1, b\\}$ (we assume $a$ and $b$ are integers and that $b > a$)\n",
    "\n",
    "$P(X = i) = \\frac{1}{b - a + 1}$\n",
    "\n",
    "$E(X) = \\frac{a + b}{2}$\n",
    "\n",
    "$V(X) = \\frac{(b - a + 1)^2 - 1}{12}$\n",
    "\n",
    "Example: X is the resulting number when throwing a fair die. So $X \\sim U[1, 6]$\n",
    "\n",
    "How it looks:"
   ]
  },
  {
   "cell_type": "code",
   "execution_count": 13,
   "metadata": {
    "slideshow": {
     "slide_type": "-"
    }
   },
   "outputs": [
    {
     "data": {
      "image/png": "[encoded data removed]",
      "text/plain": [
       "<Figure size 432x288 with 1 Axes>"
      ]
     },
     "metadata": {
      "needs_background": "light"
     },
     "output_type": "display_data"
    }
   ],
   "source": [
    "import matplotlib.pyplot as plt\n",
    "import numpy as np\n",
    "%matplotlib inline\n",
    "\n",
    "X = np.array([1,2,3,4,5,6])\n",
    "P = np.repeat(1/6, 6)\n",
    "\n",
    "plt.bar(X, P)\n",
    "plt.xlabel('X')\n",
    "plt.ylabel('P')\n",
    "plt.show()"
   ]
  },
  {
   "cell_type": "markdown",
   "metadata": {
    "slideshow": {
     "slide_type": "slide"
    }
   },
   "source": [
    "### Bernoulli - A Single Trial: $B(p)$\n",
    "\n",
    "$Supp(X) = \\{0, 1\\}$\n",
    "\n",
    "$P(X = i) = {\\begin{cases}1-p&{\\text{if }}i=0\\\\p&{\\text{if }}i=1\\end{cases}}$ ($p \\in [0, 1]$)\n",
    "\n",
    "$E(X) = p$\n",
    "\n",
    "$V(X) = p(1-p)$\n",
    "\n",
    "Example: X is whether you pass this course or not, with $p = 0.9$. So $X \\sim B(0.9)$\n",
    "\n",
    "How it looks:"
   ]
  },
  {
   "cell_type": "code",
   "execution_count": 12,
   "metadata": {
    "slideshow": {
     "slide_type": "-"
    }
   },
   "outputs": [
    {
     "data": {
      "image/png": "[encoded data removed]",
      "text/plain": [
       "<Figure size 432x288 with 1 Axes>"
      ]
     },
     "metadata": {
      "needs_background": "light"
     },
     "output_type": "display_data"
    }
   ],
   "source": [
    "p = 0.9\n",
    "X = np.array([0, 1])\n",
    "P = np.array([1 - p, p])\n",
    "\n",
    "plt.bar(X, P)\n",
    "plt.xlabel('X')\n",
    "plt.ylabel('P')\n",
    "plt.show()"
   ]
  },
  {
   "cell_type": "markdown",
   "metadata": {
    "slideshow": {
     "slide_type": "slide"
    }
   },
   "source": [
    "### Binomial - $n$ Trials with success $p$: $Bin(n, p)$\n",
    "\n",
    "$Supp(X) = \\{0, ..., n\\}$ ($n$ is a positive integer, $p \\in [0, 1]$)\n",
    "\n",
    "$P(X = i) = \\textstyle {n \\choose i}\\,p^{i}(1-p)^{n-i}$\n",
    "\n",
    "$E(X) = np$\n",
    "\n",
    "$V(X) = np(1-p)$\n",
    "\n",
    "Example: X counts how many shots you get in the basket(ball) out of possible $n = 10$, where $p = 0.4$. So $X \\sim Bin(10, 0.4)$\n",
    "\n",
    "How it looks:"
   ]
  },
  {
   "cell_type": "code",
   "execution_count": 11,
   "metadata": {
    "slideshow": {
     "slide_type": "-"
    }
   },
   "outputs": [
    {
     "data": {
      "image/png": "[encoded data removed]",
      "text/plain": [
       "<Figure size 432x288 with 1 Axes>"
      ]
     },
     "metadata": {
      "needs_background": "light"
     },
     "output_type": "display_data"
    }
   ],
   "source": [
    "from scipy.stats import binom\n",
    "n = 10\n",
    "p = 0.4\n",
    "X = np.array(range(1, 11))\n",
    "P = [binom.pmf(i, n, p) for i in X]\n",
    "\n",
    "plt.bar(X, P)\n",
    "plt.xlabel('X')\n",
    "plt.ylabel('P')\n",
    "plt.show()"
   ]
  },
  {
   "cell_type": "markdown",
   "metadata": {
    "slideshow": {
     "slide_type": "slide"
    }
   },
   "source": [
    "### Poisson - number of times an event occurs in an interval of time: $Pois(\\lambda)$\n",
    "\n",
    "$Supp(X) = \\{0, ..., \\}$\n",
    "\n",
    "$P(X = i) = {\\displaystyle {\\frac {\\lambda ^{i}e^{-\\lambda }}{i!}}}$ ($\\lambda > 0$)\n",
    "\n",
    "$E(X) = \\lambda$\n",
    "\n",
    "$V(X) = \\lambda$\n",
    "\n",
    "Example: X counts how many runners will pass you while you're sitting on a bench at the Yarkon for 1 hour, when you know the hourly average is $\\lambda = 20$. So $X \\sim Pois(20)$\n",
    "\n",
    "How it looks:"
   ]
  },
  {
   "cell_type": "code",
   "execution_count": 10,
   "metadata": {
    "slideshow": {
     "slide_type": "-"
    }
   },
   "outputs": [
    {
     "data": {
      "image/png": "[encoded data removed]",
      "text/plain": [
       "<Figure size 432x288 with 1 Axes>"
      ]
     },
     "metadata": {
      "needs_background": "light"
     },
     "output_type": "display_data"
    }
   ],
   "source": [
    "from scipy.stats import poisson\n",
    "lambda1 = 20 # you can't call an object in Python \"lambda\"!\n",
    "X = np.array(range(50))\n",
    "P = [poisson.pmf(i, lambda1) for i in X]\n",
    "\n",
    "plt.bar(X, P)\n",
    "plt.xlabel('X')\n",
    "plt.ylabel('P')\n",
    "plt.show()"
   ]
  },
  {
   "cell_type": "markdown",
   "metadata": {
    "slideshow": {
     "slide_type": "slide"
    }
   },
   "source": [
    "# Probablistic Thinking\n",
    "\n",
    "* Types of Variables\n",
    "\n",
    "* Relation Between Pair of Variables\n",
    "\n",
    "* Simpson's Paradox"
   ]
  },
  {
   "cell_type": "markdown",
   "metadata": {
    "slideshow": {
     "slide_type": "slide"
    }
   },
   "source": [
    "# Advanced Exploratory Data Analysis\n",
    "\n",
    "* Anscombe's Quartet\n",
    "\n",
    "* Dimensionality Reduction"
   ]
  }
 ],
 "metadata": {
  "celltoolbar": "Slideshow",
  "kernelspec": {
   "display_name": "Python 3",
   "language": "python",
   "name": "python3"
  },
  "language_info": {
   "codemirror_mode": {
    "name": "ipython",
    "version": 3
   },
   "file_extension": ".py",
   "mimetype": "text/x-python",
   "name": "python",
   "nbconvert_exporter": "python",
   "pygments_lexer": "ipython3",
   "version": "3.6.6"
  }
 },
 "nbformat": 4,
 "nbformat_minor": 2
}
