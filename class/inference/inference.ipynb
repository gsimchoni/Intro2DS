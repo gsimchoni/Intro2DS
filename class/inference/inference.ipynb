{
 "cells": [
  {
   "cell_type": "markdown",
   "metadata": {
    "slideshow": {
     "slide_type": "slide"
    }
   },
   "source": [
    "# Introduction to Data Science\n",
    "\n",
    "## Statistical Inference"
   ]
  },
  {
   "cell_type": "code",
   "execution_count": 1,
   "metadata": {
    "slideshow": {
     "slide_type": "skip"
    }
   },
   "outputs": [],
   "source": [
    "# This is necessary if the tar file has not been previously extracted\n",
    "import tarfile\n",
    "with tarfile.open('../../datasets/ebay_boys_girls_shirts.tar.gz', \"r:gz\") as tar:\n",
    "    tar.extractall('../../datasets/')"
   ]
  },
  {
   "cell_type": "code",
   "execution_count": 1,
   "metadata": {
    "slideshow": {
     "slide_type": "skip"
    }
   },
   "outputs": [],
   "source": [
    "import sys\n",
    "import warnings\n",
    "import pandas as pd\n",
    "import numpy as np\n",
    "import matplotlib.pyplot as plt\n",
    "from skimage import transform, color, img_as_ubyte\n",
    "\n",
    "%matplotlib inline"
   ]
  },
  {
   "cell_type": "code",
   "execution_count": 2,
   "metadata": {
    "slideshow": {
     "slide_type": "skip"
    }
   },
   "outputs": [],
   "source": [
    "def check_mem():\n",
    "    # These are the usual ipython objects, including this one you are creating\n",
    "    ipython_vars = ['In', 'Out', 'exit', 'quit', 'get_ipython', 'ipython_vars']\n",
    "\n",
    "    # Get a sorted list of the objects and their sizes\n",
    "    print(sorted([(x, sys.getsizeof(globals().get(x))) for x in globals() if not x.startswith('_') and x not in sys.modules and x not in ipython_vars], key=lambda x: x[1], reverse=True))\n",
    "\n",
    "def get_file_list(df, folder, n_sample = None, seed = None):\n",
    "    if n_sample is None:\n",
    "        file_ids_list = df.file_id.values\n",
    "    else:\n",
    "        file_ids_list = df.sample(n = n_sample, random_state = seed).file_id.values\n",
    "    files_list = [folder + '/' + str(file_id) + '.jpg' for file_id in file_ids_list]\n",
    "    return files_list\n",
    "\n",
    "def read_image_and_resize(f, w = 100, h = 100):\n",
    "    img = plt.imread(f)\n",
    "    img = transform.resize(img, (w, h), mode='constant', anti_aliasing=True)\n",
    "    with warnings.catch_warnings():\n",
    "        warnings.simplefilter(\"ignore\")\n",
    "        img = img_as_ubyte(img)\n",
    "    img = color.gray2rgb(img)\n",
    "    img = img[np.newaxis, :, :, :3]\n",
    "    if img.shape != (1, 100, 100, 3):\n",
    "        raise ValueError(f + str(img.shape))\n",
    "    return img\n",
    "\n",
    "def read_images_4d_array(files_list):\n",
    "    images_list = [read_image_and_resize(file) for file in files_list]\n",
    "    images_array = np.concatenate(images_list)\n",
    "    return images_array\n",
    "\n",
    "def get_images_matrix(csv_file, folder, n = None, seed = 1976):\n",
    "    df = pd.read_csv(csv_file)\n",
    "    files_list = get_file_list(df, folder, n, seed)\n",
    "    images = read_images_4d_array(files_list)\n",
    "    return images\n",
    "\n",
    "def get_all_pixels(x):\n",
    "    return x.reshape(-1, np.prod(x.shape[1:]))\n",
    "\n",
    "def get_final_matrices(n_train = None, n_test = None):\n",
    "    folder = '../../datasets/ebay_boys_girls_shirts/'\n",
    "    x_boys_train = get_images_matrix(folder + 'boys_train.csv', folder + 'boys', n_train)\n",
    "    x_boys_test = get_images_matrix(folder + 'boys_test.csv', folder + 'boys', n_test)\n",
    "    x_girls_train = get_images_matrix(folder + 'girls_train.csv', folder + 'girls', n_train)\n",
    "    x_girls_test = get_images_matrix(folder + 'girls_test.csv', folder + 'girls', n_test)\n",
    "    \n",
    "    x_boys_train_all = get_all_pixels(x_boys_train)\n",
    "    x_boys_test_all = get_all_pixels(x_boys_test)\n",
    "    x_girls_train_all = get_all_pixels(x_girls_train)\n",
    "    x_girls_test_all = get_all_pixels(x_girls_test)\n",
    "\n",
    "    x_train = np.vstack([x_boys_train_all, x_girls_train_all])\n",
    "    x_test = np.vstack([x_boys_test_all, x_girls_test_all])\n",
    "\n",
    "    y_boys_train = np.array([0] * x_boys_train.shape[0])\n",
    "    y_boys_test = np.array([0] * x_boys_test.shape[0])\n",
    "    y_girls_train = np.array([1] * x_girls_train.shape[0])\n",
    "    y_girls_test = np.array([1] * x_girls_test.shape[0])\n",
    "    y_train = np.concatenate([y_boys_train, y_girls_train])\n",
    "    y_test = np.concatenate([y_boys_test, y_girls_test])\n",
    "    \n",
    "    return x_train, x_test, y_train, y_test"
   ]
  },
  {
   "cell_type": "markdown",
   "metadata": {
    "slideshow": {
     "slide_type": "slide"
    }
   },
   "source": [
    "# First, without the formulas\n",
    "\n",
    "* Motivation\n",
    "\n",
    "* The Null Distribution\n",
    "\n",
    "* P-Value"
   ]
  },
  {
   "cell_type": "markdown",
   "metadata": {
    "slideshow": {
     "slide_type": "slide"
    }
   },
   "source": [
    "## Motivation\n",
    "\n",
    "You think, you believe, you hypothesize, that girls shirts images on ebay will be more \"red\" than boys shirts.\n",
    "\n",
    "No one ever gave this a thought. No one has reason to expect girls shirts to be \"redder\". You need to prove it.\n",
    "\n",
    "Let's say operationally this means a higher level of the red pixel channel, as measured on a 0-255 scale.\n",
    "\n",
    "You manually sample 30 boys shirts images, and 30 girls images, for image you record the average red pixel value:"
   ]
  },
  {
   "cell_type": "code",
   "execution_count": 9,
   "metadata": {
    "slideshow": {
     "slide_type": "slide"
    }
   },
   "outputs": [
    {
     "name": "stdout",
     "output_type": "stream",
     "text": [
      "[ 206.6873  142.7774  200.6847  221.994   176.6412   50.482   160.1463\n",
      "  121.4216  216.085   204.611   247.2997  212.7464  181.6307  120.2983\n",
      "  120.2855  124.0262  143.3672  126.1494  136.2608  206.1238  195.1573\n",
      "  175.9014  231.2295  139.2548  151.9433  135.7845  126.2482  203.357\n",
      "  171.1346  112.8006]\n",
      "[  38.0918  179.1983  216.0274  224.2845  129.7958  113.9223  114.0991\n",
      "  250.1969  241.1478  202.9924  214.3335  227.6585  114.9457  163.1921\n",
      "  225.0518  122.4144  205.8669  234.0529  235.664   185.3179  136.0612\n",
      "  222.4238   85.9831  235.6591  236.9943  185.8129  151.6073  237.1426\n",
      "  193.9891  117.7532]\n"
     ]
    }
   ],
   "source": [
    "folder = '../../datasets/ebay_boys_girls_shirts/'\n",
    "\n",
    "# the function get_images_matrix was previously defined\n",
    "boys_sample = get_images_matrix(folder + 'boys_train.csv', folder + 'boys', n = 30, seed = 1976)\n",
    "girls_sample = get_images_matrix(folder + 'girls_train.csv', folder + 'girls', n = 30, seed = 1976)\n",
    "\n",
    "boys_red = boys_sample[:, :, :, 0].mean(axis = (1, 2))\n",
    "girls_red = girls_sample[:, :, :, 0].mean(axis = (1, 2))\n",
    "\n",
    "print(boys_red)\n",
    "print(girls_red)"
   ]
  },
  {
   "cell_type": "markdown",
   "metadata": {
    "slideshow": {
     "slide_type": "slide"
    }
   },
   "source": [
    "## Motivation\n",
    "\n",
    "Looking at the values themselves doesn't tell you a lot, you'd probably look at the means:"
   ]
  },
  {
   "cell_type": "code",
   "execution_count": 10,
   "metadata": {
    "slideshow": {
     "slide_type": "-"
    }
   },
   "outputs": [
    {
     "name": "stdout",
     "output_type": "stream",
     "text": [
      "Boys shirts mean red value: 165.42\n",
      "Girls shirts mean red value: 181.39\n",
      "Means difference:  15.97\n"
     ]
    }
   ],
   "source": [
    "print(f'Boys shirts mean red value: {boys_red.mean():.2f}')\n",
    "print(f'Girls shirts mean red value: {girls_red.mean():.2f}')\n",
    "print(f'Means difference: {girls_red.mean() - boys_red.mean(): .2f}')"
   ]
  },
  {
   "cell_type": "markdown",
   "metadata": {
    "slideshow": {
     "slide_type": "-"
    }
   },
   "source": [
    "It looks as you expected, girls average red pixel is higher by about 16 points, but if you do it again, results would be different, wouldn't they?"
   ]
  },
  {
   "cell_type": "code",
   "execution_count": 11,
   "metadata": {
    "slideshow": {
     "slide_type": "slide"
    }
   },
   "outputs": [
    {
     "name": "stdout",
     "output_type": "stream",
     "text": [
      "Boys shirts mean red value: 163.45\n",
      "Girls shirts mean red value: 176.27\n",
      "Means difference:  12.82\n"
     ]
    }
   ],
   "source": [
    "boys_sample2 = get_images_matrix(folder + 'boys_train.csv', folder + 'boys', n = 30, seed = 1979)\n",
    "girls_sample2 = get_images_matrix(folder + 'girls_train.csv', folder + 'girls', n = 30, seed = 1979)\n",
    "\n",
    "boys_red2 = boys_sample2[:, :, :, 0].mean(axis = (1, 2))\n",
    "girls_red2 = girls_sample2[:, :, :, 0].mean(axis = (1, 2))\n",
    "\n",
    "print(f'Boys shirts mean red value: {boys_red2.mean():.2f}')\n",
    "print(f'Girls shirts mean red value: {girls_red2.mean():.2f}')\n",
    "print(f'Means difference: {girls_red2.mean() - boys_red2.mean(): .2f}')"
   ]
  },
  {
   "cell_type": "markdown",
   "metadata": {
    "slideshow": {
     "slide_type": "-"
    }
   },
   "source": [
    "Assume sampling is expensive. You have the capacity for 60 shirts of images.\n",
    "\n",
    "How will you know, that the difference you're seeing is of significance? That it will \"stick\"? That what everyone is thinking, the null hypothesis, should be rejected, and your alternative hypothesis is more likely?"
   ]
  },
  {
   "cell_type": "markdown",
   "metadata": {
    "slideshow": {
     "slide_type": "slide"
    }
   },
   "source": [
    "## The Null Distribution\n",
    "\n",
    "Under the null hypothesis, girls and boys shirts come from the same homogenous population.\n",
    "\n",
    "**For the sake of illustration**, assume this population is at the palm of your hand.\n",
    "\n",
    "We'll just take all 20K shirts images in our training dataset:"
   ]
  },
  {
   "cell_type": "code",
   "execution_count": 12,
   "metadata": {
    "slideshow": {
     "slide_type": "-"
    }
   },
   "outputs": [
    {
     "name": "stdout",
     "output_type": "stream",
     "text": [
      "(20000,)\n"
     ]
    }
   ],
   "source": [
    "boys_all = get_images_matrix(folder + 'boys_train.csv', folder + 'boys')\n",
    "girls_all = get_images_matrix(folder + 'girls_train.csv', folder + 'girls')\n",
    "\n",
    "boys_red_all = boys_all[:, :, :, 0].mean(axis = (1, 2))\n",
    "girls_red_all = girls_all[:, :, :, 0].mean(axis = (1, 2))\n",
    "population = np.concatenate([boys_red_all, girls_red_all])\n",
    "\n",
    "print(population.shape)"
   ]
  },
  {
   "cell_type": "markdown",
   "metadata": {
    "slideshow": {
     "slide_type": "slide"
    }
   },
   "source": [
    "## The Null Distribution\n",
    "\n",
    "We can sample two random samples of so-called \"boys\" and so-called \"girls\" to prove to ourselves that the difference between their means should be about zero:"
   ]
  },
  {
   "cell_type": "code",
   "execution_count": 13,
   "metadata": {
    "slideshow": {
     "slide_type": "-"
    }
   },
   "outputs": [
    {
     "name": "stdout",
     "output_type": "stream",
     "text": [
      "Means difference:  5.91\n"
     ]
    }
   ],
   "source": [
    "boys_red_null = np.random.choice(population, 30)\n",
    "girls_red_null = np.random.choice(population, 30)\n",
    "print(f'Means difference: {girls_red_null.mean() - boys_red_null.mean(): .2f}')"
   ]
  },
  {
   "cell_type": "markdown",
   "metadata": {
    "slideshow": {
     "slide_type": "-"
    }
   },
   "source": [
    "We got a mean difference which is different than zero, *by random*. And again:"
   ]
  },
  {
   "cell_type": "code",
   "execution_count": 14,
   "metadata": {
    "slideshow": {
     "slide_type": "-"
    }
   },
   "outputs": [
    {
     "name": "stdout",
     "output_type": "stream",
     "text": [
      "Means difference:  7.88\n",
      "Means difference: -15.50\n"
     ]
    }
   ],
   "source": [
    "boys_red_null = np.random.choice(population, 30)\n",
    "girls_red_null = np.random.choice(population, 30)\n",
    "print(f'Means difference: {girls_red_null.mean() - boys_red_null.mean(): .2f}')\n",
    "\n",
    "boys_red_null = np.random.choice(population, 30)\n",
    "girls_red_null = np.random.choice(population, 30)\n",
    "print(f'Means difference: {girls_red_null.mean() - boys_red_null.mean(): .2f}')"
   ]
  },
  {
   "cell_type": "markdown",
   "metadata": {
    "slideshow": {
     "slide_type": "slide"
    }
   },
   "source": [
    "## The Null Dsitribution\n",
    "\n",
    "We want to know how is *our* original mean difference of about 16 points is in comparison to these *null* mean differences between groups coming from the same population. So we'll make a lot of the them and look at their distribution, the Null Distribution of the means difference:"
   ]
  },
  {
   "cell_type": "code",
   "execution_count": 15,
   "metadata": {
    "slideshow": {
     "slide_type": "-"
    }
   },
   "outputs": [
    {
     "name": "stdout",
     "output_type": "stream",
     "text": [
      "Max null mean diff:  46.39\n",
      "Min null mean diff: -41.53\n"
     ]
    }
   ],
   "source": [
    "def sample_null_mean_diff(n = 30):\n",
    "    boys_red_null = np.random.choice(population, n)\n",
    "    girls_red_null = np.random.choice(population, n)\n",
    "    return girls_red_null.mean() - boys_red_null.mean()\n",
    "null_mean_diffs = np.array([sample_null_mean_diff() for i in range(10000)])\n",
    "\n",
    "print(f'Max null mean diff: {max(null_mean_diffs): .2f}')\n",
    "print(f'Min null mean diff: {min(null_mean_diffs): .2f}')"
   ]
  },
  {
   "cell_type": "markdown",
   "metadata": {
    "slideshow": {
     "slide_type": "-"
    }
   },
   "source": [
    "We can see that the max null mean differences is actually much higher than our original 16 points. So at random, when there is *no difference*, you can get mean differences of over 30 or 40!\n",
    "\n",
    "Let's look at the Null Distirbution histogram:"
   ]
  },
  {
   "cell_type": "code",
   "execution_count": 16,
   "metadata": {
    "slideshow": {
     "slide_type": "slide"
    }
   },
   "outputs": [
    {
     "data": {
      "image/png": "[encoded data removed]",
      "text/plain": [
       "<Figure size 432x288 with 1 Axes>"
      ]
     },
     "metadata": {
      "needs_background": "light"
     },
     "output_type": "display_data"
    }
   ],
   "source": [
    "fig, ax = plt.subplots()\n",
    "\n",
    "N, bins, patches = ax.hist(null_mean_diffs, bins=np.arange(-48, 48, 8))\n",
    "for i in range(0, 8):\n",
    "    patches[i].set_facecolor('blue')\n",
    "for i in range(8, len(patches)):\n",
    "    patches[i].set_facecolor('red')\n",
    "\n",
    "plt.show()"
   ]
  },
  {
   "cell_type": "markdown",
   "metadata": {
    "slideshow": {
     "slide_type": "-"
    }
   },
   "source": [
    "It seems like our original value of 16 points difference is not that extreme. There's a measure for that:"
   ]
  },
  {
   "cell_type": "markdown",
   "metadata": {
    "slideshow": {
     "slide_type": "slide"
    }
   },
   "source": [
    "## P-Value\n",
    "\n",
    "How extreme is our original 16 points result?\n",
    "\n",
    "What is the probability under the Null Distribution, where there is no difference between \"boys\" and \"girls\", of getting 16 or higher?"
   ]
  },
  {
   "cell_type": "code",
   "execution_count": 17,
   "metadata": {
    "slideshow": {
     "slide_type": "-"
    }
   },
   "outputs": [
    {
     "name": "stdout",
     "output_type": "stream",
     "text": [
      "P(mean_diff >= 16 | H0) =  0.09\n"
     ]
    }
   ],
   "source": [
    "one_sided_p_value = np.mean(null_mean_diffs > 16)\n",
    "print(f'P(mean_diff >= 16 | H0) = {one_sided_p_value: .2f}')"
   ]
  },
  {
   "cell_type": "markdown",
   "metadata": {
    "slideshow": {
     "slide_type": "-"
    }
   },
   "source": [
    "It looks like the chance of getting a difference of 16 points or higher, when there is no difference, is ~9%. Does that convince you that there actually is a difference, that indeed the boys and girls samples came from two different, separate, distributions?\n",
    "\n",
    "It is a standard in both academia and industry to not by persuaded by a p-value larger than a threshold $\\alpha$ of 1% or 5% (a.k.a Type I Error, see later)."
   ]
  },
  {
   "cell_type": "markdown",
   "metadata": {
    "slideshow": {
     "slide_type": "slide"
    }
   },
   "source": [
    "## P-Value\n",
    "\n",
    "If the original alternative hypothesis were \"Girls shirts images red level is *different* than Boys'\", the p-value should have been two sided.\n",
    "\n",
    "Because the probability of getting our original value or \"more extreme\" would have meant \"more extreme in absolute value\":"
   ]
  },
  {
   "cell_type": "code",
   "execution_count": 18,
   "metadata": {
    "slideshow": {
     "slide_type": "-"
    }
   },
   "outputs": [
    {
     "name": "stdout",
     "output_type": "stream",
     "text": [
      "P(|mean_diff| >= 16 | H0) =  0.17\n"
     ]
    }
   ],
   "source": [
    "two_sided_p_value = np.mean(np.abs(null_mean_diffs) > 16)\n",
    "print(f'P(|mean_diff| >= 16 | H0) = {two_sided_p_value: .2f}')"
   ]
  },
  {
   "cell_type": "markdown",
   "metadata": {
    "slideshow": {
     "slide_type": "-"
    }
   },
   "source": [
    "17-18% chance of observing a result like 16 points or more extreme, at random, when there is no difference. 16 points doesn't look convincing.\n",
    "\n",
    "But in real life we only have that one hard-earned sample. We don't have the population. And from here, the rest is mathematical approximation for getting that p-value and other measures, with what we have."
   ]
  },
  {
   "cell_type": "markdown",
   "metadata": {
    "slideshow": {
     "slide_type": "slide"
    }
   },
   "source": [
    "# Now, with the formulas\n",
    "\n",
    "* The Normal Distribution: Why?\n",
    "\n",
    "* The Normal Distribution: Refresher\n",
    "\n",
    "* Central Limit Theorem\n",
    "\n",
    "* Z-Test\n",
    "\n",
    "* From Z-Test to T-test\n",
    "\n",
    "* One-Sample, Two-Samples T-Test\n",
    "\n",
    "* Confidence Intervals\n",
    "\n",
    "* Power"
   ]
  },
  {
   "cell_type": "markdown",
   "metadata": {
    "slideshow": {
     "slide_type": "slide"
    }
   },
   "source": [
    "## The Normal Distribution\n",
    "\n",
    "Since we have our \"population\" of red pixel levels in boys and girls shirts images, we might as well see how it is distirbuted:"
   ]
  },
  {
   "cell_type": "code",
   "execution_count": 19,
   "metadata": {
    "slideshow": {
     "slide_type": "-"
    }
   },
   "outputs": [
    {
     "data": {
      "image/png": "[encoded data removed]",
      "text/plain": [
       "<Figure size 432x288 with 1 Axes>"
      ]
     },
     "metadata": {
      "needs_background": "light"
     },
     "output_type": "display_data"
    }
   ],
   "source": [
    "plt.hist(population)\n",
    "plt.show()"
   ]
  },
  {
   "cell_type": "markdown",
   "metadata": {
    "slideshow": {
     "slide_type": "-"
    }
   },
   "source": [
    "There is nothing \"normal\" about this distribution, it isn't bell-shaped. So why are we so obsessed with the Normal Distribution?"
   ]
  },
  {
   "cell_type": "markdown",
   "metadata": {
    "slideshow": {
     "slide_type": "slide"
    }
   },
   "source": [
    "First, recall that we didn't care so much about the distribution of red pixel levels, but the distribution of differences between the means of two random groups under the null hypothesis. And this distribution, amazingly, did have a bell shape:"
   ]
  },
  {
   "cell_type": "code",
   "execution_count": 20,
   "metadata": {
    "slideshow": {
     "slide_type": "-"
    }
   },
   "outputs": [
    {
     "data": {
      "image/png": "[encoded data removed]",
      "text/plain": [
       "<Figure size 432x288 with 1 Axes>"
      ]
     },
     "metadata": {
      "needs_background": "light"
     },
     "output_type": "display_data"
    }
   ],
   "source": [
    "plt.hist(null_mean_diffs, bins = np.arange(-48, 48, 8))\n",
    "plt.show()"
   ]
  },
  {
   "cell_type": "markdown",
   "metadata": {
    "slideshow": {
     "slide_type": "-"
    }
   },
   "source": [
    "Second, recall that our final metric (for now) is the p-value. We need a way of computing this p-value without having the population at the palm of our hand. The Normal Distribution lets us compute any probability p with just two numbers ($\\mu$ and $\\sigma$), so it would be very convenient to have a normal Null Distribution."
   ]
  },
  {
   "cell_type": "markdown",
   "metadata": {
    "slideshow": {
     "slide_type": "slide"
    }
   },
   "source": [
    "## The Normal Distribution: Refresher\n",
    "\n",
    "With Discrete RVs we usually talk about \"Probability Mass Function\" (PMF).\n",
    "\n",
    "With Continuous RVs we talk about \"Probability Density Function\" (PDF).\n",
    "\n",
    "If $X \\sim N(\\mu, \\sigma^2)$ its desnsity function is defined as:\n",
    "\n",
    "$f(x) = \\frac{1}{{\\sigma \\sqrt {2\\pi } }}e^{\\frac{- ( {x - \\mu } )^2 }{2\\sigma^2}}$\n",
    "\n",
    "And if $\\mu = 0$ and $\\sigma = 1$ (a.k.a the Standard Normal Distribution $N(0, 1)$) it looks like:"
   ]
  },
  {
   "cell_type": "code",
   "execution_count": 21,
   "metadata": {
    "slideshow": {
     "slide_type": "slide"
    }
   },
   "outputs": [
    {
     "data": {
      "image/png": "[encoded data removed]",
      "text/plain": [
       "<Figure size 432x288 with 1 Axes>"
      ]
     },
     "metadata": {
      "needs_background": "light"
     },
     "output_type": "display_data"
    }
   ],
   "source": [
    "import scipy.stats as stats\n",
    "\n",
    "x = np.arange(-3, 3, 0.01)\n",
    "plt.plot(x, stats.norm.pdf(x, 0, 1))\n",
    "plt.show()"
   ]
  },
  {
   "cell_type": "markdown",
   "metadata": {
    "slideshow": {
     "slide_type": "-"
    }
   },
   "source": [
    "The density function $f(x)$ is a positive real function, the area under which is 1.\n",
    "\n",
    "But notice that its values are NOT probabilities (Run `stats.norm.pdf(x, 0, 0.1)` and see!). Probabilities are *areas*.\n",
    "\n",
    "And to get those areas (probabilities) we *integrate*:\n",
    "\n",
    "$P(X \\leq a) = \\int_{-\\infty}^a f(x) \\;dx.$"
   ]
  },
  {
   "cell_type": "markdown",
   "metadata": {
    "slideshow": {
     "slide_type": "slide"
    }
   },
   "source": [
    "That last function is known as the Cumulative Distribution Function (CDF), $F_X(a)$.\n",
    "\n",
    "It is used so much in the Standard Normal Distribution that we denote it $\\phi(a)$:"
   ]
  },
  {
   "cell_type": "code",
   "execution_count": 22,
   "metadata": {
    "slideshow": {
     "slide_type": "-"
    }
   },
   "outputs": [
    {
     "data": {
      "image/png": "[encoded data removed]",
      "text/plain": [
       "<Figure size 432x288 with 1 Axes>"
      ]
     },
     "metadata": {
      "needs_background": "light"
     },
     "output_type": "display_data"
    }
   ],
   "source": [
    "plt.plot(x, stats.norm.cdf(x, 0, 1))\n",
    "plt.show()"
   ]
  },
  {
   "cell_type": "markdown",
   "metadata": {
    "slideshow": {
     "slide_type": "-"
    }
   },
   "source": [
    "Note that you could convert any $N(\\mu, \\sigma)$ distribution into a $N(0, 1)$ distribution, by *standardizing*, getting the \"Z variable\":\n",
    "\n",
    "$Z = \\frac{X - \\mu}{\\sigma} \\sim N(0, 1)$"
   ]
  },
  {
   "cell_type": "markdown",
   "metadata": {
    "slideshow": {
     "slide_type": "slide"
    }
   },
   "source": [
    "### $\\mu$ and $\\sigma$\n",
    "\n",
    "The pair of parameters $\\mu$ and $\\sigma$ are enough to define a Normal distribution.\n",
    "\n",
    "The Normal distribution was parametrized in such a way that $\\mu$ and $\\sigma$ tell us the most important measures about this distribution, its expectation is $\\mu$ and standard deviation is $\\sigma$.\n",
    "\n",
    "Morever, once a RV distributes Normal, we know roughly what percentage of the distribution is within one, two, three standard deviations off the mean, e.g. ~95% of the distribution is within 2 $\\sigma$s off the mean:\n",
    "\n",
    "<img src = 'images/normal_dist.png' width = \"50%\" height = \"50%\">"
   ]
  },
  {
   "cell_type": "markdown",
   "metadata": {
    "slideshow": {
     "slide_type": "slide"
    }
   },
   "source": [
    "For example, in our Null Distribution of mean differences, which had a bell shape to it:"
   ]
  },
  {
   "cell_type": "code",
   "execution_count": 23,
   "metadata": {
    "slideshow": {
     "slide_type": "-"
    }
   },
   "outputs": [
    {
     "name": "stdout",
     "output_type": "stream",
     "text": [
      "Mean of mean differences: -0.05\n",
      "SD of mean differences:  11.86\n"
     ]
    }
   ],
   "source": [
    "mu = np.mean(null_mean_diffs)\n",
    "sigma = np.std(null_mean_diffs)\n",
    "print(f'Mean of mean differences: {mu: .2f}')\n",
    "print(f'SD of mean differences: {sigma: .2f}')"
   ]
  },
  {
   "cell_type": "markdown",
   "metadata": {
    "slideshow": {
     "slide_type": "-"
    }
   },
   "source": [
    "We could fit the Normal distribution with these parameters over the histogram, and see if the fit is \"good\":"
   ]
  },
  {
   "cell_type": "code",
   "execution_count": 24,
   "metadata": {
    "slideshow": {
     "slide_type": "slide"
    }
   },
   "outputs": [
    {
     "data": {
      "image/png": "[encoded data removed]",
      "text/plain": [
       "<Figure size 432x288 with 1 Axes>"
      ]
     },
     "metadata": {
      "needs_background": "light"
     },
     "output_type": "display_data"
    }
   ],
   "source": [
    "plt.hist(null_mean_diffs, bins = np.arange(-48, 48, 8), density = True)\n",
    "x = np.arange(-48, 48, 0.01)\n",
    "plt.plot(x, stats.norm.pdf(x, mu, sigma), color = 'red')\n",
    "plt.show()"
   ]
  },
  {
   "cell_type": "markdown",
   "metadata": {
    "slideshow": {
     "slide_type": "-"
    }
   },
   "source": [
    "The fit looks \"good\", and so we could say that 95% of the distribution is within 2 standard deviations off the mean:"
   ]
  },
  {
   "cell_type": "code",
   "execution_count": 25,
   "metadata": {
    "slideshow": {
     "slide_type": "-"
    }
   },
   "outputs": [
    {
     "name": "stdout",
     "output_type": "stream",
     "text": [
      "(-23.77,  23.68)\n"
     ]
    }
   ],
   "source": [
    "print(f'({mu - 2 * sigma: .2f}, {mu + 2 * sigma: .2f})')"
   ]
  },
  {
   "cell_type": "markdown",
   "metadata": {
    "slideshow": {
     "slide_type": "-"
    }
   },
   "source": [
    "Our original samples means difference of 16 points is well within these boundaries."
   ]
  },
  {
   "cell_type": "markdown",
   "metadata": {
    "slideshow": {
     "slide_type": "slide"
    }
   },
   "source": [
    "## Central Limit Theorem\n",
    "\n",
    "The CLT states that for a random sample ${X_1, ..., X_n}$ from a population with mean $E(X) = \\mu$ and finite variance $V(X) = \\sigma^2$, for large enough sample size $n$:\n",
    "\n",
    "$\\overline{X} \\dot{\\sim} N(\\mu, \\frac{\\sigma^2}{n})$\n",
    "\n",
    "Or in oter words:\n",
    "\n",
    "$\\frac{\\overline{X} - \\mu}{\\sigma / \\sqrt{n}} \\dot{\\sim} N(0, 1)$\n",
    "\n",
    "* $\\frac{\\sigma}{\\sqrt{n}}$ is called the Standard Error (SE) of the mean\n",
    "\n",
    "* $\\frac{\\overline{X} - \\mu}{\\sigma / \\sqrt{n}}$ is the Z statistic\n",
    "\n",
    "That is a bold statement."
   ]
  },
  {
   "cell_type": "markdown",
   "metadata": {
    "slideshow": {
     "slide_type": "slide"
    }
   },
   "source": [
    "### Exponential Distribution Demo\n",
    "\n",
    "The Exponential Distribution is another well researched continuous distribution. $X \\sim Exp(\\lambda)$:\n",
    "\n",
    "$Supp(X) = [0, \\infty]$ (also $\\lambda > 0$)\n",
    "\n",
    "$f(X) = \\lambda e^{-\\lambda x}$\n",
    "\n",
    "$F_x(k) = P(X \\leq k) = 1 - e^{-\\lambda x}$\n",
    "\n",
    "$E(X) = \\frac{1}{\\lambda}$\n",
    "\n",
    "$V(X) = \\frac{1}{\\lambda^2}$\n",
    "\n",
    "Example: X is the time between two trains from Tel-Aviv to Haifa which come on average every 20 minutes (1/3 hour). So: $X \\sim Exp(3)$\n",
    "\n",
    "How it looks (definitely not normal):"
   ]
  },
  {
   "cell_type": "code",
   "execution_count": 26,
   "metadata": {
    "slideshow": {
     "slide_type": "slide"
    }
   },
   "outputs": [
    {
     "data": {
      "image/png": "[encoded data removed]",
      "text/plain": [
       "<Figure size 432x288 with 1 Axes>"
      ]
     },
     "metadata": {
      "needs_background": "light"
     },
     "output_type": "display_data"
    }
   ],
   "source": [
    "x = np.arange(0, 10, 0.01)\n",
    "plt.plot(x, stats.expon.pdf(x, scale = 3))\n",
    "plt.show()"
   ]
  },
  {
   "cell_type": "markdown",
   "metadata": {
    "slideshow": {
     "slide_type": "slide"
    }
   },
   "source": [
    "### Exponential Distribution Demo\n",
    "\n",
    "A demo where $X \\sim Exp(3)$, sampling distribution of the mean with $n = 30$:\n",
    "\n",
    "<img src = \"images/clt_exp3_n30.gif\">"
   ]
  },
  {
   "cell_type": "markdown",
   "metadata": {
    "slideshow": {
     "slide_type": "slide"
    }
   },
   "source": [
    "### Exponential Distribution Demo\n",
    "\n",
    "A demo where $X \\sim Exp(3)$, sampling distribution of the mean with $n = 5$:\n",
    "\n",
    "<img src = \"images/clt_exp3_n5.gif\">"
   ]
  },
  {
   "cell_type": "markdown",
   "metadata": {
    "slideshow": {
     "slide_type": "slide"
    }
   },
   "source": [
    "## Z-Test\n",
    "\n",
    "The trains from Tel-Aviv to Haifa come every 20 minutes? (null  hypothesis)\n",
    "\n",
    "Lately it seems like a lot more. (alternative hypothesis)\n",
    "\n",
    "I randomly sampled 30 waiting times between two trains, and got an average $\\overline{X} = 4/9$ or 26 minutes and 40 seconds.\n",
    "\n",
    "Under the null hypothesis, the CLT says that: $\\overline{X} \\dot{\\sim} N(\\frac{1}{3}, \\frac{1/9}{30})$\n",
    "\n",
    "Or: $\\frac{\\overline{X} - 1/3}{1/\\sqrt{270}} \\dot{\\sim } N(0, 1)$\n",
    "\n",
    "We got: $\\overline{X} = 4/9$, or $Z = \\frac{4/9 - 1/3}{1/\\sqrt{270}} = 1.8257$\n",
    "\n",
    "We can compute a p-value!"
   ]
  },
  {
   "cell_type": "code",
   "execution_count": 27,
   "metadata": {
    "slideshow": {
     "slide_type": "-"
    }
   },
   "outputs": [
    {
     "name": "stdout",
     "output_type": "stream",
     "text": [
      "P(X_bar >= 4/9 | H0) =  0.03\n"
     ]
    }
   ],
   "source": [
    "one_sided_p_value = 1 - stats.norm.cdf(4/9, 1/3, np.sqrt(1/270))\n",
    "#or\n",
    "one_sided_p_value = 1 - stats.norm.cdf(1.8257, 0, 1)\n",
    "\n",
    "print(f'P(X_bar >= 4/9 | H0) = {one_sided_p_value: .2f}')"
   ]
  },
  {
   "cell_type": "markdown",
   "metadata": {
    "slideshow": {
     "slide_type": "-"
    }
   },
   "source": [
    "And this looks pretty extreme (lower that 5%), and we \"reject the null hypothesis\" and conclude that indeed it seems like the waiting time has increased."
   ]
  },
  {
   "cell_type": "markdown",
   "metadata": {
    "slideshow": {
     "slide_type": "slide"
    }
   },
   "source": [
    "## Back to Girls and Boys Shirts\n",
    "\n",
    "Let $X$ be the red pixel level of girls shirts images.\n",
    "\n",
    "Let $Y$ be the red pixel level of boys shirts images.\n",
    "\n",
    "(We *know* they do not distribute normally, but in a realistic scenario, we don't)\n",
    "\n",
    "Under $H0$ they both come from the same distribution with $E(X) = E(Y) = \\mu$ and $V(X) = V(Y) = \\sigma^2$, and let's assume $\\sigma^2$ is finite.\n",
    "\n",
    "Sample size was $n = 30$ for both independent samples."
   ]
  },
  {
   "cell_type": "markdown",
   "metadata": {
    "slideshow": {
     "slide_type": "slide"
    }
   },
   "source": [
    "So under $H0$, according to CLT, the sampling distribution for both samples means is Normal: $\\overline{X} \\sim N(\\mu, \\frac{\\sigma^2}{n})$, $\\overline{Y} \\sim N(\\mu, \\frac{\\sigma^2}{n})$\n",
    "\n",
    "We were interested in the distribution of the means differences, which we now know should be approximately Normal:\n",
    "\n",
    "$\\overline{X} - \\overline{Y} \\sim N(0, \\frac{\\sigma^2}{n} + \\frac{\\sigma^2}{n})$ (make sure you understand why!)\n",
    "\n",
    "In other words:\n",
    "\n",
    "$\\frac{\\overline{X} - \\overline{Y}}{\\sqrt{\\frac{2 \\sigma^2}{n}}} \\sim N(0, 1)$\n",
    "\n",
    "Only one thing is missing: we do not know what $\\sigma$ is (Do we know what $\\mu$ is? Why is that not a problem?)"
   ]
  },
  {
   "cell_type": "markdown",
   "metadata": {
    "slideshow": {
     "slide_type": "slide"
    }
   },
   "source": [
    "### Girls and Boys Shirts - Z-Test\n",
    "\n",
    "Let's assume for now we estimate it from the population: $\\sigma$ = `np.std(population) = 45.8`.\n",
    "\n",
    "So: $\\overline{X} - \\overline{Y} \\sim N(0, 11.84^2)$\n",
    "\n",
    "Or: $\\frac{\\overline{X} - \\overline{Y}}{11.84} \\sim N(0, 1)$\n",
    "\n",
    "And we got: $\\overline{X} - \\overline{Y} = 16$, or $Z = \\frac{16}{11.84} = 1.35$\n",
    "\n",
    "And we can perform a Z-Test and compute the p-value:"
   ]
  },
  {
   "cell_type": "code",
   "execution_count": 28,
   "metadata": {
    "slideshow": {
     "slide_type": "-"
    }
   },
   "outputs": [
    {
     "name": "stdout",
     "output_type": "stream",
     "text": [
      "P(mean_diff >= 16 | H0) =  0.09\n"
     ]
    }
   ],
   "source": [
    "one_sided_p_value = 1 - stats.norm.cdf(16, 0, 11.84)\n",
    "#or\n",
    "one_sided_p_value = 1 - stats.norm.cdf(1.35, 0, 1)\n",
    "\n",
    "print(f'P(mean_diff >= 16 | H0) = {one_sided_p_value: .2f}')"
   ]
  },
  {
   "cell_type": "markdown",
   "metadata": {
    "slideshow": {
     "slide_type": "-"
    }
   },
   "source": [
    "Which is similar to the result we got using our \"known population\"."
   ]
  },
  {
   "cell_type": "markdown",
   "metadata": {
    "slideshow": {
     "slide_type": "slide"
    }
   },
   "source": [
    "## From Z-Test to T-Test\n",
    "\n",
    "But $\\sigma$ isn't known!\n",
    "\n",
    "It turns out that in general, for a Standard Normal RV $\\frac{\\overline{X} - \\mu}{\\sigma / \\sqrt{n}}$, once $\\sigma$ is unknown and is replaced by the unbiased estimator $S = \\sqrt{\\frac{1}{n - 1}\\sum{(X_i - \\overline{X})^2}}$:\n",
    "\n",
    "$\\frac{\\overline{X} - \\mu}{S / \\sqrt{n}} \\sim t_{n - 1}$\n",
    "\n",
    "This statistic distributes \"$t$ with $n - 1$ degrees of freedoms (df)\", hence called the T statistic.\n",
    "\n",
    "Notice that last result does not depend on $n$, you need large $n$ for using CLT in the first place (unless you assume the original distribution to be Normal), and for higher power (see later)."
   ]
  },
  {
   "cell_type": "markdown",
   "metadata": {
    "slideshow": {
     "slide_type": "slide"
    }
   },
   "source": [
    "The t distribution typically has \"longer tails\" than the Standard Normal distribution for small $n$, reflecting the added uncertainty once $\\sigma$ isn't known but estimated by $S$.\n",
    "\n",
    "But for $n \\geq 120$ it is similar to the Standard Normal:"
   ]
  },
  {
   "cell_type": "code",
   "execution_count": 29,
   "metadata": {
    "slideshow": {
     "slide_type": "-"
    }
   },
   "outputs": [
    {
     "data": {
      "image/png": "[encoded data removed]",
      "text/plain": [
       "<Figure size 432x288 with 1 Axes>"
      ]
     },
     "metadata": {
      "needs_background": "light"
     },
     "output_type": "display_data"
    }
   ],
   "source": [
    "x = np.arange(-4, 4, 0.01)\n",
    "plt.plot(x, stats.norm.pdf(x, 0, 1), color = 'red')\n",
    "plt.plot(x, stats.t.pdf(x, 5), color = 'blue')\n",
    "plt.plot(x, stats.t.pdf(x, 120), color = 'green')\n",
    "plt.gca().legend(('N(0,1)','t(5)', 't(120)'))\n",
    "plt.show()"
   ]
  },
  {
   "cell_type": "markdown",
   "metadata": {
    "slideshow": {
     "slide_type": "slide"
    }
   },
   "source": [
    "## One Sample T-Test\n",
    "\n",
    "Again: Under $H0$, with a large sample $n$, according to CLT: $\\frac{\\overline{X} - \\mu}{\\sigma / \\sqrt{n}} \\sim N(0, 1)$ \n",
    "\n",
    "Now the $\\sigma$ is unknown. $\\mu$ is known under the null hypothesis, often $H0 : \\mu = 0$\n",
    "\n",
    "We replace $\\sigma$ by its estimator: $S = \\sqrt{\\frac{1}{n_x - 1}\\sum{(X_i - \\overline{X})^2}}$\n",
    "\n",
    "We get:\n",
    "\n",
    "$\\frac{\\overline{X} - \\mu_{H0}}{\\sqrt{\\frac{S^2}{n}}} \\sim t_{n - 1}$\n",
    "\n",
    "And you can perform a t-test using e.g. `stats.ttest_1samp(x, 0)`."
   ]
  },
  {
   "cell_type": "markdown",
   "metadata": {
    "slideshow": {
     "slide_type": "slide"
    }
   },
   "source": [
    "## Two Independent Samples T-Test\n",
    "\n",
    "In our case: Under $H0$, with a large sample as $n = 30$, according to CLT: $\\frac{\\overline{X} - \\overline{Y}}{\\sqrt{\\frac{2 \\sigma^2}{n}}} \\sim N(0, 1)$ \n",
    "\n",
    "In general: $X$ and $Y$ need not come from the same distribution, the difference in means need not be 0, their variances need not be equal and their sample sizes need not be equal: \n",
    "\n",
    "$\\frac{(\\overline{X} - \\overline{Y}) - (\\mu_x - \\mu_y)}{\\sqrt{\\frac{\\sigma_x^2}{n_x} +\\frac{\\sigma_y^2}{n_y}}} \\sim N(0, 1)$\n",
    "\n",
    "Now the $\\sigma_x$ and $\\sigma_y$ are unknown. $\\mu_x$ and $\\mu_y$ are also unknown but often under $H0: \\mu_x - \\mu_y = 0$\n",
    "\n",
    "We replace $\\sigma_x$ by its estimator: $S_x = \\sqrt{\\frac{1}{n_x - 1}\\sum{(X_i - \\overline{X})^2}}$ and the same for $\\sigma_y$.\n",
    "\n",
    "We get:\n",
    "\n",
    "$\\frac{\\overline{X} - \\overline{Y} - (\\mu_x - \\mu_y)}{\\sqrt{\\frac{S_x^2}{n_x} +\\frac{S_y^2}{n_y}}} \\sim t_{?}$"
   ]
  },
  {
   "cell_type": "markdown",
   "metadata": {
    "slideshow": {
     "slide_type": "slide"
    }
   },
   "source": [
    "### Equal Variances Assumed\n",
    "\n",
    "Once equal variances are assumed we use the \"pooled\" estimated variance:\n",
    "\n",
    "$S^2_p = \\frac{(n_x - 1)S^2_x + (n_y - 1)S^2_y}{n_x + n_y - 2}$\n",
    "\n",
    "And the distribution is t with $n_x + n_y - 2$ degrees of freedom:\n",
    "\n",
    "$\\frac{\\overline{X} - \\overline{Y} - (\\mu_x - \\mu_y)}{\\sqrt{\\frac{S_p^2}{n_x} +\\frac{S_p^2}{n_y}}} \\sim t_{n_x+n_y -2}$\n",
    "\n",
    "### Unequal Variances Assumed\n",
    "\n",
    "We keep the SE estimator of $\\sqrt{\\frac{S_x^2}{n_x} +\\frac{S_y^2}{n_y}}$:\n",
    "\n",
    "$\\frac{\\overline{X} - \\overline{Y} - (\\mu_x - \\mu_y)}{\\sqrt{\\frac{S_x^2}{n_x} +\\frac{S_y^2}{n_y}}} \\sim t_{df'}$\n",
    "\n",
    "Where: $df' ={\\frac {\\left({\\frac {s_{1}^{2}}{n_{1}}}+{\\frac {s_{2}^{2}}{n_{2}}}\\right)^{2}}{{\\frac {\\left(s_{1}^{2}/n_{1}\\right)^{2}}{n_{1}-1}}+{\\frac {\\left(s_{2}^{2}/n_{2}\\right)^{2}}{n_{2}-1}}}}$\n",
    "\n"
   ]
  },
  {
   "cell_type": "markdown",
   "metadata": {
    "slideshow": {
     "slide_type": "slide"
    }
   },
   "source": [
    "### Girls and Boys Shirts - T-Test\n",
    "\n",
    "Recall the null hypothesis: $H0: \\mu_x = \\mu_y$\n",
    "\n",
    "We will use the equal variances assumed version.\n",
    "\n",
    "First manually:"
   ]
  },
  {
   "cell_type": "code",
   "execution_count": 30,
   "metadata": {
    "slideshow": {
     "slide_type": "-"
    }
   },
   "outputs": [
    {
     "name": "stdout",
     "output_type": "stream",
     "text": [
      "T statistic:  1.2191\n",
      "P(mean_diff >= 16 | H0) =  0.11\n"
     ]
    }
   ],
   "source": [
    "S2_x = np.var(girls_red, ddof = 1) # for getting the \"n - 1\" unbiased estimator of sigma\n",
    "S2_y = np.var(boys_red, ddof = 1)\n",
    "n_x = n_y = 30\n",
    "S2_p = ((n_x - 1)*S2_x + (n_y - 1)*S2_y) / (n_x + n_y - 2)\n",
    "\n",
    "t_statistic = (np.mean(girls_red) - np.mean(boys_red))/np.sqrt(S2_p/n_x + S2_p/n_y)\n",
    "print(f'T statistic: {t_statistic: .4f}')\n",
    "\n",
    "one_sided_p_value = 1 - stats.t.cdf(t_statistic, n_x + n_y - 2)\n",
    "\n",
    "print(f'P(mean_diff >= 16 | H0) = {one_sided_p_value: .2f}')"
   ]
  },
  {
   "cell_type": "markdown",
   "metadata": {
    "slideshow": {
     "slide_type": "slide"
    }
   },
   "source": [
    "Now with Python's built-in function:"
   ]
  },
  {
   "cell_type": "code",
   "execution_count": 31,
   "metadata": {
    "slideshow": {
     "slide_type": "-"
    }
   },
   "outputs": [
    {
     "data": {
      "text/plain": [
       "Ttest_indResult(statistic=1.2191309822847303, pvalue=0.22772950529997951)"
      ]
     },
     "execution_count": 31,
     "metadata": {},
     "output_type": "execute_result"
    }
   ],
   "source": [
    "stats.ttest_ind(girls_red, boys_red)"
   ]
  },
  {
   "cell_type": "markdown",
   "metadata": {
    "slideshow": {
     "slide_type": "-"
    }
   },
   "source": [
    "The T statistic is the same, but the p-value is twice the result we got because the Python function always computes the two-sided p-value.\n",
    "\n",
    "Anyway, p-value of 11% isn't convincing and we do not reject the null hypothesis.\n",
    "\n",
    "Notice the T-test p-value of 11% is greater than the Z-test p-value of 9%, which makes sense:\n",
    "\n",
    "Gave up the known variance assumption, added uncertainty (the variance is now in itself a RV), got the t distribution with \"heavier\" tails, need more extreme values to impress."
   ]
  },
  {
   "cell_type": "markdown",
   "metadata": {
    "slideshow": {
     "slide_type": "slide"
    }
   },
   "source": [
    "## Confidence Intervals (CI)\n",
    "\n",
    "One (of a few) problem with p-value: it is not informative.\n",
    "\n",
    "With large enough sample size any result can become \"significant\" (why?).\n",
    "\n",
    "Statistical significance is not scientific significance.\n",
    "\n",
    "Often we would prefer reporting what the actual mean $\\mu$ (or means difference $\\mu_x - \\mu_y$) was, to show it was \"interesting\". \n",
    "\n",
    "But since our sample mean $\\overline{X}$ (or sample means difference $\\overline{X} - \\overline{Y}$) is most probably WRONG, it comes with uncertainty, we report a Confidence Interval:\n",
    "\n",
    "\"$\\mu$ is within [10, 20] with 95% level of confidence\""
   ]
  },
  {
   "cell_type": "markdown",
   "metadata": {
    "slideshow": {
     "slide_type": "slide"
    }
   },
   "source": [
    "### Building the CI: Z-Test\n",
    "\n",
    "In general: for a random sample $X$ from distribution with unknown parameter $\\theta$, $[LB(X), UB(X)]$ is a $100(1-\\alpha)\\%$ CI for $\\theta$ if $P(LB(X) < \\theta < UB(X)) = 1 - \\alpha$\n",
    "\n",
    "Usually: $\\alpha = 0.05$ and we would build a *symmetric* CI around some $\\hat{X}$ estimator of $\\theta$, like $\\overline{X}$\n",
    "\n",
    "For the Z-test:\n",
    "\n",
    "$P(Z_{2.5} < \\frac{\\overline{X} - \\mu}{\\sigma/\\sqrt{n}} < Z_{97.5}) = P(\\overline{X} + Z_{2.5}\\frac{\\sigma}{\\sqrt{n}} < \\mu < \\overline{X} + Z_{97.5}\\frac{\\sigma}{\\sqrt{n}}) = 0.95$ where $Z_q$ is the $q$th percentile of the $N(0, 1)$ distribution\n",
    "\n",
    "$\\implies [\\overline{X} + Z_{2.5}\\frac{\\sigma}{\\sqrt{n}}, \\overline{X} + Z_{97.5}\\frac{\\sigma}{\\sqrt{n}}]$ or $\\overline{X} \\pm 1.96\\frac{\\sigma}{\\sqrt{n}}$ is a 95% CI for $\\mu$"
   ]
  },
  {
   "cell_type": "markdown",
   "metadata": {
    "slideshow": {
     "slide_type": "slide"
    }
   },
   "source": [
    "### CI for Waiting Time for Train\n",
    "\n",
    "Recall: Under $H0$ $X \\sim Exp(3)$ so: $\\sigma = \\frac{1}{3}$\n",
    "\n",
    "We got: $\\overline{X} = \\frac{4}{9}; \\space n = 30;$\n",
    "\n",
    "95% CI for $\\mu$:"
   ]
  },
  {
   "cell_type": "code",
   "execution_count": 32,
   "metadata": {
    "slideshow": {
     "slide_type": "-"
    }
   },
   "outputs": [
    {
     "name": "stdout",
     "output_type": "stream",
     "text": [
      "[ 0.325,  0.564]\n"
     ]
    }
   ],
   "source": [
    "LB = 4/9 - stats.norm.ppf(0.975) * (1/3)/np.sqrt(30)\n",
    "UB = 4/9 + stats.norm.ppf(0.975) * (1/3)/np.sqrt(30)\n",
    "print(f'[{LB: .3f}, {UB: .3f}]')"
   ]
  },
  {
   "cell_type": "markdown",
   "metadata": {
    "slideshow": {
     "slide_type": "-"
    }
   },
   "source": [
    "Most common misconception of CI: \"The probability that $\\mu$ is within [0.33, 0.56] is 95%\"\n",
    "    \n",
    "No. $\\mu$ is either within the CI or not, $\\mu$ is a parameter, not a RV!\n",
    "\n",
    "But what *does* it mean?"
   ]
  },
  {
   "cell_type": "markdown",
   "metadata": {
    "slideshow": {
     "slide_type": "slide"
    }
   },
   "source": [
    "### CI for Mean Demo\n",
    "\n",
    "A demo where $X \\sim Exp(3)$, confidence interval for the mean with $n = 30$:\n",
    "\n",
    "<img src = \"images/ci_exp3_n30.gif\">"
   ]
  },
  {
   "cell_type": "markdown",
   "metadata": {
    "slideshow": {
     "slide_type": "slide"
    }
   },
   "source": [
    "### CI for Mean Demo\n",
    "\n",
    "A demo where $X \\sim Exp(3)$, confidence interval for the mean with $n = 5$:\n",
    "\n",
    "<img src = \"images/ci_exp3_n5.gif\">"
   ]
  },
  {
   "cell_type": "markdown",
   "metadata": {
    "slideshow": {
     "slide_type": "slide"
    }
   },
   "source": [
    "### Building the CI: T-Test\n",
    "\n",
    "For One-Sample T-Test:\n",
    "\n",
    "$[\\overline{X} + t_{n-1;2.5}\\frac{S}{\\sqrt{n}}, \\overline{X} + t_{n-1;97.5}\\frac{S}{\\sqrt{n}}]$ or $\\overline{X} \\pm t_{n-1,97.5}\\frac{S}{\\sqrt{n}}$ is a 95% CI for $\\mu$\n",
    "\n",
    "For Two-Samples T-Test, equal variances assumed:\n",
    "\n",
    "$[(\\overline{X} - \\overline{Y}) + t_{n_x+n_y-2;2.5}\\sqrt{\\frac{S_p^2}{n_x} +\\frac{S_p^2}{n_y}}, (\\overline{X} - \\overline{Y}) + t_{n_x+n_y-2;97.5}\\sqrt{\\frac{S_p^2}{n_x} +\\frac{S_p^2}{n_y}}]$ or $(\\overline{X} - \\overline{Y}) \\pm t_{n_x+n_y-2,97.5}\\sqrt{\\frac{S_p^2}{n_x} +\\frac{S_p^2}{n_y}}$ is a 95% CI for $\\mu$"
   ]
  },
  {
   "cell_type": "markdown",
   "metadata": {
    "slideshow": {
     "slide_type": "slide"
    }
   },
   "source": [
    "### Girls and Boys Shirts - Confidence Interval for Means Difference\n",
    "\n",
    "Recall we got: $\\overline{X} - \\overline{Y} = 16; \\space n_x = 30; \\space n_y = 30; S^2_p = 2574$\n",
    "\n",
    "95% CI for $\\mu_x - \\mu_y$:"
   ]
  },
  {
   "cell_type": "code",
   "execution_count": 33,
   "metadata": {
    "slideshow": {
     "slide_type": "-"
    }
   },
   "outputs": [
    {
     "name": "stdout",
     "output_type": "stream",
     "text": [
      "[-10.3,  42.2]\n"
     ]
    }
   ],
   "source": [
    "LB = (np.mean(girls_red) - np.mean(boys_red)) - stats.t.ppf(0.975, n_x + n_y - 2) * np.sqrt(S2_p/n_x + S2_p/n_y)\n",
    "UB = (np.mean(girls_red) - np.mean(boys_red)) + stats.t.ppf(0.975, n_x + n_y - 2) * np.sqrt(S2_p/n_x + S2_p/n_y)\n",
    "print(f'[{LB: .1f}, {UB: .1f}]')"
   ]
  },
  {
   "cell_type": "markdown",
   "metadata": {
    "slideshow": {
     "slide_type": "slide"
    }
   },
   "source": [
    "## Power\n",
    "\n",
    "If we take the \"true\" means difference of the red level pixel in girls shirts images \"population\" vs. boys:"
   ]
  },
  {
   "cell_type": "code",
   "execution_count": 53,
   "metadata": {
    "slideshow": {
     "slide_type": "-"
    }
   },
   "outputs": [
    {
     "name": "stdout",
     "output_type": "stream",
     "text": [
      "True means difference:  7.06\n"
     ]
    }
   ],
   "source": [
    "true_mean_diff = np.mean(girls_red_all) - np.mean(boys_red_all)\n",
    "print(f'True means difference: {true_mean_diff: .2f}')"
   ]
  },
  {
   "cell_type": "markdown",
   "metadata": {
    "slideshow": {
     "slide_type": "-"
    }
   },
   "source": [
    "Surprise: it *is* in fact higher, by 7 points.\n",
    "\n",
    "Let's assume for the time being that this is \"interesting\" (is it, though?).\n",
    "\n",
    "It turns out the null hypothesis, which we have not rejected, was wrong.\n",
    "\n",
    "Girls shirts *are* \"redder\".\n",
    "\n",
    "Why did we fail to reject the null hypothesis, and would likely fail again?\n",
    "\n",
    "We lacked Statistical Power: the probability of correctly rejecting the null hypothesis when the null is false, when the alternative is actually the case."
   ]
  },
  {
   "cell_type": "markdown",
   "metadata": {
    "slideshow": {
     "slide_type": "slide"
    }
   },
   "source": [
    "### Girls and Boys Shirts - Power Analysis - Simulation\n",
    "\n",
    "$P(reject H0 | H1) = ?$\n",
    "\n",
    "Let's simulate before we compute. We have the \"population\", we can just take many girls and boys samples, perform a T-test and see the percentage of times we reject the null hypothesis, i.e. p-value < $\\alpha$:"
   ]
  },
  {
   "cell_type": "code",
   "execution_count": 56,
   "metadata": {
    "slideshow": {
     "slide_type": "-"
    }
   },
   "outputs": [
    {
     "name": "stdout",
     "output_type": "stream",
     "text": [
      "Power = P(reject H0 | H1) =  0.16\n"
     ]
    }
   ],
   "source": [
    "def random_sample_t_test(alpha, n):\n",
    "    boys_red_sample = np.random.choice(boys_red_all, n)\n",
    "    girls_red_sample = np.random.choice(girls_red_all, n)\n",
    "    t_test = stats.ttest_ind(girls_red_sample, boys_red_sample)\n",
    "    return t_test[1]/2 < alpha\n",
    "\n",
    "n_simulations = 10000\n",
    "n = 30\n",
    "alpha = 0.05\n",
    "\n",
    "rejections = [random_sample_t_test(alpha, n) for i in range(n_simulations)]\n",
    "\n",
    "print(f'Power = P(reject H0 | H1) = {np.mean(rejections): .2f}')"
   ]
  },
  {
   "cell_type": "markdown",
   "metadata": {
    "slideshow": {
     "slide_type": "-"
    }
   },
   "source": [
    "With 15-16% power, it seems only about 1 in 6 samples would have caught our 7 points difference and reject $H0$!"
   ]
  },
  {
   "cell_type": "markdown",
   "metadata": {
    "slideshow": {
     "slide_type": "slide"
    }
   },
   "source": [
    "### Girls and Boys Shirts - Power Analysis - Computation\n",
    "\n",
    "In a realistic situation we do not know that $H0$ should be rejected. We do not know the 7 points \"true\" difference. And we cannot sample 10,000 times from the population.\n",
    "\n",
    "A common approach is to estimate statistical power for different \"true\" differences or \"effect size\".\n",
    "\n",
    "If we assume that H0 should be rejected and the true difference is 7 points:\n",
    "\n",
    "$P(reject H0 | H1) = P(getting \\space means \\space difference \\space high \\space enough \\space for \\space pvalue < \\alpha | true \\space mean \\space difference \\space is \\space 7 \\space points) = ?$"
   ]
  },
  {
   "cell_type": "markdown",
   "metadata": {
    "slideshow": {
     "slide_type": "slide"
    }
   },
   "source": [
    "$P(\\frac{\\overline{X} - \\overline{Y} - 0}{\\sqrt{\\frac{S_p^2}{n_x} +\\frac{S_p^2}{n_y}}} > t_{n_x+n_y-2;95}| \\mu_x -\\mu_y = 7) =$\n",
    "\n",
    "$P(\\frac{\\overline{X} - \\overline{Y} - (\\mu_x - \\mu_y) + (\\mu_x - \\mu_y)}{\\sqrt{\\frac{S_p^2}{n_x} +\\frac{S_p^2}{n_y}}} > t_{n_x+n_y-2;95}| \\mu_x -\\mu_y = 7) =$\n",
    "\n",
    "$P(\\frac{\\overline{X} - \\overline{Y} - (\\mu_x - \\mu_y)}{\\sqrt{\\frac{S_p^2}{n_x} +\\frac{S_p^2}{n_y}}} > t_{n_x+n_y-2;95} - \\frac{(\\mu_x - \\mu_y)}{\\sqrt{\\frac{S_p^2}{n_x} +\\frac{S_p^2}{n_y}}}| \\mu_x -\\mu_y = 7) =$\n",
    "\n",
    "$1 - P(\\frac{\\overline{X} - \\overline{Y} - (\\mu_x - \\mu_y)}{\\sqrt{\\frac{S_p^2}{n_x} +\\frac{S_p^2}{n_y}}} < t_{n_x+n_y-2;95} - \\frac{(\\mu_x - \\mu_y)}{\\sqrt{\\frac{S_p^2}{n_x} +\\frac{S_p^2}{n_y}}}| \\mu_x -\\mu_y = 7) =$"
   ]
  },
  {
   "cell_type": "code",
   "execution_count": 69,
   "metadata": {
    "slideshow": {
     "slide_type": "-"
    }
   },
   "outputs": [
    {
     "name": "stdout",
     "output_type": "stream",
     "text": [
      "Power = P(reject H0 | H1) =  0.13\n"
     ]
    }
   ],
   "source": [
    "t_c = stats.t.ppf(0.95, n_x + n_y - 2)\n",
    "power = 1 - stats.t.cdf(t_c - 7/np.sqrt(S2_p/n_x + S2_p/n_y), n_x + n_y - 2)\n",
    "print(f'Power = P(reject H0 | H1) = {power: .2f}')"
   ]
  },
  {
   "cell_type": "code",
   "execution_count": 71,
   "metadata": {
    "slideshow": {
     "slide_type": "slide"
    }
   },
   "outputs": [
    {
     "name": "stdout",
     "output_type": "stream",
     "text": [
      "Power = P(reject H0 | H1) =  0.13\n"
     ]
    }
   ],
   "source": [
    "# with Python's built-in method:\n",
    "from statsmodels.stats.power import TTestIndPower\n",
    "effect = 7/np.sqrt(S2_p) # true means difference divided by S_p\n",
    "power = TTestIndPower().power(effect_size = effect, nobs1 = 30, alpha = 0.05, ratio = 1, alternative = 'larger')\n",
    "print(f'Power = P(reject H0 | H1) = {power: .2f}')"
   ]
  },
  {
   "cell_type": "markdown",
   "metadata": {
    "slideshow": {
     "slide_type": "slide"
    }
   },
   "source": [
    "### Type I and Type II Errors\n",
    "\n",
    "We've mentioned that the \"Level of Confidence\" is often written as $1 - \\alpha$, where $\\alpha$ is \"Type I Error\".\n",
    "\n",
    "Statistical power is often written as $1 - \\beta$, where $\\beta$ is \"Type II Error\".\n",
    "\n",
    "The meaning of these terms is often better understood in a table:\n",
    "\n",
    "| Reality\\Decision | Reject H0    | Not Reject H0   |\n",
    "|---|------|-----|\n",
    "| H0 | Confidence: $1 - \\alpha$ | Type I Error: $\\alpha$ |\n",
    "| H1 |  Type I Error: $\\beta$    | Power: $1 - \\beta$    |\n",
    "\n",
    "Or in a graph:"
   ]
  },
  {
   "cell_type": "markdown",
   "metadata": {
    "slideshow": {
     "slide_type": "slide"
    }
   },
   "source": [
    "<img src = \"images/power_curves.png\">"
   ]
  },
  {
   "cell_type": "markdown",
   "metadata": {
    "slideshow": {
     "slide_type": "slide"
    }
   },
   "source": [
    "### What affects Power?\n",
    "\n",
    "From our final calculation:\n",
    "\n",
    "$1 - P(\\frac{\\overline{X} - \\overline{Y} - (\\mu_x - \\mu_y)}{\\sqrt{\\frac{S_p^2}{n_x} +\\frac{S_p^2}{n_y}}} < t_{n_x+n_y-2;1-\\alpha} - \\frac{(\\mu_x - \\mu_y)}{\\sqrt{\\frac{S_p^2}{n_x} +\\frac{S_p^2}{n_y}}}| \\mu_x -\\mu_y = 7)$\n",
    "\n",
    "* True Difference $\\mu_x - \\mu_y = \\delta$\n",
    "\n",
    "* Standard deviation $\\sigma$, as estimated by $S_p$ (usually combined with true difference to create a standardized effect size: $\\frac{\\mu_x - \\mu_y}{\\sigma}$)\n",
    "\n",
    "* Sample size $n_x, n_y$ (many times the go-to parameter for researchers to increase power)\n",
    "\n",
    "* Type I Error $\\alpha$ (usually untouched!)"
   ]
  },
  {
   "cell_type": "code",
   "execution_count": 78,
   "metadata": {
    "slideshow": {
     "slide_type": "slide"
    }
   },
   "outputs": [
    {
     "data": {
      "image/png": "[encoded data removed]",
      "text/plain": [
       "<Figure size 432x288 with 1 Axes>"
      ]
     },
     "metadata": {
      "needs_background": "light"
     },
     "output_type": "display_data"
    }
   ],
   "source": [
    "effect_sizes = np.array([0.2, 0.5, 0.8])\n",
    "sample_sizes = np.array(range(5, 500))\n",
    "TTestIndPower().plot_power(dep_var = 'nobs', nobs = sample_sizes, effect_size = effect_sizes)\n",
    "plt.show()"
   ]
  },
  {
   "cell_type": "markdown",
   "metadata": {
    "slideshow": {
     "slide_type": "slide"
    }
   },
   "source": [
    "### Caution!\n",
    "\n",
    "Again, statistical significance is not scientific significance. The tiniest, uninteresting, effect size, can be \"discovered\" with a large enough sample size:"
   ]
  },
  {
   "cell_type": "code",
   "execution_count": 84,
   "metadata": {
    "slideshow": {
     "slide_type": "-"
    }
   },
   "outputs": [
    {
     "data": {
      "image/png": "[encoded data removed]",
      "text/plain": [
       "<Figure size 432x288 with 1 Axes>"
      ]
     },
     "metadata": {
      "needs_background": "light"
     },
     "output_type": "display_data"
    }
   ],
   "source": [
    "effect_sizes = np.array([0.01])\n",
    "sample_sizes = np.array(range(5, 200000))\n",
    "TTestIndPower().plot_power(dep_var = 'nobs', nobs = sample_sizes, effect_size = effect_sizes)\n",
    "plt.show()"
   ]
  }
 ],
 "metadata": {
  "celltoolbar": "Slideshow",
  "kernelspec": {
   "display_name": "Python 3",
   "language": "python",
   "name": "python3"
  },
  "language_info": {
   "codemirror_mode": {
    "name": "ipython",
    "version": 3
   },
   "file_extension": ".py",
   "mimetype": "text/x-python",
   "name": "python",
   "nbconvert_exporter": "python",
   "pygments_lexer": "ipython3",
   "version": "3.6.6"
  }
 },
 "nbformat": 4,
 "nbformat_minor": 2
}
