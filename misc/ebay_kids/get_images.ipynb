{
 "cells": [
  {
   "cell_type": "code",
   "execution_count": 1,
   "metadata": {},
   "outputs": [],
   "source": [
    "from bs4 import BeautifulSoup\n",
    "import requests\n",
    "import pandas as pd\n",
    "\n",
    "from ipywidgets import IntProgress\n",
    "from IPython.display import display"
   ]
  },
  {
   "cell_type": "code",
   "execution_count": 2,
   "metadata": {},
   "outputs": [],
   "source": [
    "url = \"https://www.ebay.com/b/Boys-Short-Sleeve-Sleeve-Tops-T-Shirts-Sizes-4-Up/175521/bn_4278610?rt=nc&LH_ItemCondition=1000&LH_BIN=1&LH_PrefLoc=3&_pgn=1\"\n",
    "r = requests.get(url)\n",
    "soup = BeautifulSoup(r.content)"
   ]
  },
  {
   "cell_type": "code",
   "execution_count": 3,
   "metadata": {},
   "outputs": [
    {
     "data": {
      "text/plain": [
       "[<img alt=\"Polo Ralph Lauren Boys V-neck Classic T-shirt Pony Logo Tee Kids Striped Collar\" class=\"s-item__image-img\" onload='SITE_SPEED.ATF_TIMER.measure(this); if (performance &amp;&amp; performance.mark) { performance.mark(\"first-meaningful-paint\"); }' src=\"https://i.ebayimg.com/thumbs/images/m/mPk_PdWCI70ziT-cYO3ujaA/s-l225.jpg\"/>,\n",
       " <img alt=\"NWT Under Armour Boy's heatgear Big Logo 1290097 Loose Fit T-Shirt\" class=\"s-item__image-img\" onload=\"SITE_SPEED.ATF_TIMER.measure(this)\" src=\"https://i.ebayimg.com/thumbs/images/m/mocbpz9cC9idlBcU6UxXj_A/s-l225.jpg\"/>,\n",
       " <img alt=\"Tommy Hilfiger Kids T-Shirt Big Boys Solid Crew Neck Tee Children Size 4-18 New\" class=\"s-item__image-img\" onload=\"SITE_SPEED.ATF_TIMER.measure(this)\" src=\"https://i.ebayimg.com/thumbs/images/m/mymwuucjBVuu2IjMcivCm7g/s-l225.jpg\"/>,\n",
       " <img alt=\"Polo Ralph Lauren Boys Polo Shirt Classic Mesh Short Sleeve Pony Logo Kids Top\" class=\"s-item__image-img\" onload=\"SITE_SPEED.ATF_TIMER.measure(this)\" src=\"https://i.ebayimg.com/thumbs/images/m/mbAW78EZTb7qwbMe51QkaBQ/s-l225.jpg\"/>,\n",
       " <img alt=\"Polo Ralph Lauren Boys Big Pony Polo Shirt Classic Fit Kids Mesh School New Nwt\" class=\"s-item__image-img\" onload=\"SITE_SPEED.ATF_TIMER.measure(this)\" src=\"https://i.ebayimg.com/thumbs/images/m/mpA3cslyf1wxmuxXZMDXYRQ/s-l225.jpg\"/>,\n",
       " <img alt=\"SHREK Youth Boys Kids Short Sleeve T-Shirt BLACK HEATHER SHREK MUGSHOT\" class=\"s-item__image-img\" onload=\"SITE_SPEED.ATF_TIMER.measure(this)\" src=\"https://i.ebayimg.com/thumbs/images/m/mEfuPaN8hGMxyIZyMKjKiyA/s-l225.jpg\"/>,\n",
       " <img alt=\"NIB ~ Kelly's Kids Blue/White Stripe Raspberry Lobster Camp Shirt Boy's 6-7 Year\" class=\"s-item__image-img\" onload=\"SITE_SPEED.ATF_TIMER.measure(this)\" src=\"https://i.ebayimg.com/thumbs/images/g/jWEAAOSwuhhXVV1C/s-l225.jpg\"/>,\n",
       " <img alt=\"Tommy Hilfiger Children Big Boy Kid Short Sleeve Logo Pique Polo Shirt - $0 Ship\" class=\"s-item__image-img\" data-src=\"https://i.ebayimg.com/thumbs/images/m/mU_3OaCxPH8eHRoq_UsIMTg/s-l225.jpg\" onload=\"SITE_SPEED.ATF_TIMER.measure(this)\" src=\"https://ir.ebaystatic.com/cr/v/c1/s_1x2.gif\"/>,\n",
       " <img alt=\"NWT POLO RALPH LAUREN BOYS COLOR BLOCKED RED WHITE BIG PONY RUGBY SHIRT\" class=\"s-item__image-img\" data-src=\"https://i.ebayimg.com/thumbs/images/m/muHanFhhiWP55_OjurfiSEg/s-l225.jpg\" onload=\"SITE_SPEED.ATF_TIMER.measure(this)\" src=\"https://ir.ebaystatic.com/cr/v/c1/s_1x2.gif\"/>,\n",
       " <img alt=\"Tommy Hilfiger Children Big Boy Crew Neck Logo Tee T-Shirt - Free $0 Shipping\" class=\"s-item__image-img\" data-src=\"https://i.ebayimg.com/thumbs/images/m/mB-Wenbs9m8w0m9fFiaWpQA/s-l225.jpg\" onload=\"SITE_SPEED.ATF_TIMER.measure(this)\" src=\"https://ir.ebaystatic.com/cr/v/c1/s_1x2.gif\"/>,\n",
       " <img alt=\"NWT Ralph Lauren Boys SS Cotton Madras Plaid Button Down Shirt 8 14/16 18/20 NEW\" class=\"s-item__image-img\" data-src=\"https://i.ebayimg.com/thumbs/images/m/m5zYvrmnYxZxDQM3dWkJQeA/s-l225.jpg\" src=\"https://ir.ebaystatic.com/cr/v/c1/s_1x2.gif\"/>,\n",
       " <img alt=\"NWT Ralph Lauren Boys SS Big Pony Classic Solid Mesh Polo Shirt Sz 5 6 7 NEW $35\" class=\"s-item__image-img\" data-src=\"https://i.ebayimg.com/thumbs/images/m/mHF_deSH9l-AzQfFQFPpIyg/s-l225.jpg\" src=\"https://ir.ebaystatic.com/cr/v/c1/s_1x2.gif\"/>,\n",
       " <img alt=\"NWT Ralph Lauren Boys S/S Classic Big Pony Solid Mesh Polo Shirt Sz 5 6 7 NEW\" class=\"s-item__image-img\" data-src=\"https://i.ebayimg.com/thumbs/images/m/mKbBoVF-sl80b3EMOvqjPTA/s-l225.jpg\" src=\"https://ir.ebaystatic.com/cr/v/c1/s_1x2.gif\"/>,\n",
       " <img alt=\"Augusta 222537 Seismic Shirt\" class=\"s-item__image-img\" data-src=\"https://i.ebayimg.com/thumbs/images/m/mkbWYGBjze9EXmRw9ygvnZg/s-l225.jpg\" src=\"https://ir.ebaystatic.com/cr/v/c1/s_1x2.gif\"/>,\n",
       " <img alt=\"Jurassic World Boy's T-Shirt\" class=\"s-item__image-img\" data-src=\"https://i.ebayimg.com/thumbs/images/m/mN1vxl9gAOvDeXdgUSnRzBw/s-l225.jpg\" src=\"https://ir.ebaystatic.com/cr/v/c1/s_1x2.gif\"/>,\n",
       " <img alt=\"Polo RALPH LAUREN Polo Boys Button Front shirt Casual Shirt\" class=\"s-item__image-img\" data-src=\"https://i.ebayimg.com/thumbs/images/m/mZw64X1PPQvPVOEMm8PJAFQ/s-l225.jpg\" src=\"https://ir.ebaystatic.com/cr/v/c1/s_1x2.gif\"/>,\n",
       " <img alt=\"Augusta 222637 Youth Seismic Shirt\" class=\"s-item__image-img\" data-src=\"https://i.ebayimg.com/thumbs/images/m/mkbWYGBjze9EXmRw9ygvnZg/s-l225.jpg\" src=\"https://ir.ebaystatic.com/cr/v/c1/s_1x2.gif\"/>,\n",
       " <img alt=\"NWT Ralph Lauren Boys S/S Big Pony Solid Mesh Classic Polo Shirt 5 6 7 NEW\" class=\"s-item__image-img\" data-src=\"https://i.ebayimg.com/thumbs/images/m/mLSr13Dq94d4LAyQ0SjWOwQ/s-l225.jpg\" src=\"https://ir.ebaystatic.com/cr/v/c1/s_1x2.gif\"/>,\n",
       " <img alt=\"Polo Ralph Lauren Boys Pocket T Shirt Pony Logo Navy White Red Tee Solid New Nwt\" class=\"s-item__image-img\" data-src=\"https://i.ebayimg.com/thumbs/images/m/mxxIPkUFwuIViSTfZW2Zndg/s-l225.jpg\" src=\"https://ir.ebaystatic.com/cr/v/c1/s_1x2.gif\"/>,\n",
       " <img alt=\"MUHAMMAD ALI Youth Boys Kids Short Sleeve T-Shirt KHAKI 1965 POSTER\" class=\"s-item__image-img\" data-src=\"https://i.ebayimg.com/thumbs/images/m/mHwf1nyVYg4Ihm8rnpoydZg/s-l225.jpg\" src=\"https://ir.ebaystatic.com/cr/v/c1/s_1x2.gif\"/>,\n",
       " <img alt=\"Ralph Lauren Polo Boys Polo Shirt CUSTOM Fit\" class=\"s-item__image-img\" data-src=\"https://i.ebayimg.com/thumbs/images/m/m4ISj06_GJxW_4MdQZNxnlw/s-l225.jpg\" src=\"https://ir.ebaystatic.com/cr/v/c1/s_1x2.gif\"/>,\n",
       " <img alt=\"Fox  Boy's Long Sleeve  &quot;Fox Flannel&quot; -  Dark Grean\" class=\"s-item__image-img\" data-src=\"https://i.ebayimg.com/thumbs/images/m/mc_EXwfExMrnKBjwPf9gkog/s-l225.jpg\" src=\"https://ir.ebaystatic.com/cr/v/c1/s_1x2.gif\"/>,\n",
       " <img alt=\"Boy's Glow in the Dark Spider-Man Homecoming Symbol\" class=\"s-item__image-img\" data-src=\"https://i.ebayimg.com/thumbs/images/m/mH3KXoZJPwjt1IdMIFN-1Ug/s-l225.jpg\" src=\"https://ir.ebaystatic.com/cr/v/c1/s_1x2.gif\"/>,\n",
       " <img alt=\"Polo RALPH LAUREN Boys Polo Shirt Pony logo\" class=\"s-item__image-img\" data-src=\"https://i.ebayimg.com/thumbs/images/m/mbLSuiqhHMx5-G8RBQgAfbA/s-l225.jpg\" src=\"https://ir.ebaystatic.com/cr/v/c1/s_1x2.gif\"/>,\n",
       " <img alt=\"NWT Ralph Lauren Boys Polo Active Soft Touch Pure White Short Sleeve Shirt \" class=\"s-item__image-img\" data-src=\"https://i.ebayimg.com/thumbs/images/m/mrULezShQuHEhg0H9XlXNcw/s-l225.jpg\" src=\"https://ir.ebaystatic.com/cr/v/c1/s_1x2.gif\"/>,\n",
       " <img alt=\"Ralph Lauren Polo Boys t shirt 1 t shirt BIG PONY\" class=\"s-item__image-img\" data-src=\"https://i.ebayimg.com/thumbs/images/m/mFiGNa8tdMw-po4RFa9qkoQ/s-l225.jpg\" src=\"https://ir.ebaystatic.com/cr/v/c1/s_1x2.gif\"/>,\n",
       " <img alt=\"NWT Ralph Lauren Boys S/S Classic Big Pony Solid Mesh Polo Shirt Sz 5 6 7 NEW\" class=\"s-item__image-img\" data-src=\"https://i.ebayimg.com/thumbs/images/m/mtDMd3FWQMS0GNvl3LF0NZQ/s-l225.jpg\" src=\"https://ir.ebaystatic.com/cr/v/c1/s_1x2.gif\"/>,\n",
       " <img alt=\"NINJAGO COLE LLOYD JAY &amp; KAI Blue Tee T-Shirt NWT Boys Size 4/5, 6/7, 8 or 10/12\" class=\"s-item__image-img\" data-src=\"https://i.ebayimg.com/thumbs/images/m/mPLUYcs5g9mMrY9-7cHPI6w/s-l225.jpg\" src=\"https://ir.ebaystatic.com/cr/v/c1/s_1x2.gif\"/>,\n",
       " <img alt=\"TOMMY HILFIGER Boys Polo Shirt Diff Colors Sizes 1 shirt\" class=\"s-item__image-img\" data-src=\"https://i.ebayimg.com/thumbs/images/m/mf_fV5jrnDY64kMWCSS2S1A/s-l225.jpg\" src=\"https://ir.ebaystatic.com/cr/v/c1/s_1x2.gif\"/>,\n",
       " <img alt=\"NEW Boys Under Armour Short Sleeve Shirt, size 7, Free Shipping!\" class=\"s-item__image-img\" data-src=\"https://i.ebayimg.com/thumbs/images/m/mTOeFvzatVwYnjlMS8R3aHw/s-l225.jpg\" src=\"https://ir.ebaystatic.com/cr/v/c1/s_1x2.gif\"/>,\n",
       " <img alt=\"Polo Ralph Lauren boy's Blue Striped Oxford Shirt Size 20 Cotton Long Sleeve Nwt\" class=\"s-item__image-img\" data-src=\"https://i.ebayimg.com/thumbs/images/g/9qMAAOSwqRBbOURe/s-l225.jpg\" src=\"https://ir.ebaystatic.com/cr/v/c1/s_1x2.gif\"/>,\n",
       " <img alt=\"Mickey Mouse Motorcycle Toddler Boys Tee\" class=\"s-item__image-img\" data-src=\"https://i.ebayimg.com/thumbs/images/m/m4zcCHvIgkYhdb-wgCVRYcg/s-l225.jpg\" src=\"https://ir.ebaystatic.com/cr/v/c1/s_1x2.gif\"/>,\n",
       " <img alt=\"❤ HANNA ANDERSSON Shirt 120 130 140 Tractor Hotdog  Ice cream Popcorn FREESHIP\" class=\"s-item__image-img\" data-src=\"https://i.ebayimg.com/thumbs/images/m/mWlwW1FaDwjP2diGB3ByT3w/s-l225.jpg\" src=\"https://ir.ebaystatic.com/cr/v/c1/s_1x2.gif\"/>,\n",
       " <img alt=\"Pete The Cat 7Th Birthday Boys - Youth Short Sleeve Tee\" class=\"s-item__image-img\" data-src=\"https://i.ebayimg.com/thumbs/images/m/mozw1Zx8tFslOO9eUFbuA0A/s-l225.jpg\" src=\"https://ir.ebaystatic.com/cr/v/c1/s_1x2.gif\"/>,\n",
       " <img alt=\"Pete The Cat 6Th Birthday Boys - Youth Short Sleeve Tee\" class=\"s-item__image-img\" data-src=\"https://i.ebayimg.com/thumbs/images/m/mGCv5Wn1C5vzuDkrXzdq8lA/s-l225.jpg\" src=\"https://ir.ebaystatic.com/cr/v/c1/s_1x2.gif\"/>,\n",
       " <img alt=\"Guayabera Kids Toddler Junior Beach Wedding Baptism Button-Up Casual Dress Shirt\" class=\"s-item__image-img\" data-src=\"https://i.ebayimg.com/thumbs/images/m/myWou8bA-2EewupW13OlTIw/s-l225.jpg\" src=\"https://ir.ebaystatic.com/cr/v/c1/s_1x2.gif\"/>,\n",
       " <img alt=\"Ralph Lauren Polo Boys T shirt cotton Undershirt 2pk\" class=\"s-item__image-img\" data-src=\"https://i.ebayimg.com/thumbs/images/m/mMhI2AnUZ7EDr9xjns7ik6g/s-l225.jpg\" src=\"https://ir.ebaystatic.com/cr/v/c1/s_1x2.gif\"/>,\n",
       " <img alt=\"Pete The Cat Pete The Goldfish  - Youth Short Sleeve Tee\" class=\"s-item__image-img\" data-src=\"https://i.ebayimg.com/thumbs/images/m/mstkCIzvYro_fDfKW3g4JSw/s-l225.jpg\" src=\"https://ir.ebaystatic.com/cr/v/c1/s_1x2.gif\"/>,\n",
       " <img alt=\"Boys Youth Nike Jordan T Shirt Tee Red White Black Blue AJ 23 Flight S,M,L,XL\" class=\"s-item__image-img\" data-src=\"https://i.ebayimg.com/thumbs/images/m/mvOLzMj6Iz-EpPiFXn8hxmQ/s-l225.jpg\" src=\"https://ir.ebaystatic.com/cr/v/c1/s_1x2.gif\"/>,\n",
       " <img alt=\"NWT Shohei Ohtani #17 Red Majestic Cool Base Home Youth Jersey Size Large 14-16\" class=\"s-item__image-img\" data-src=\"https://i.ebayimg.com/thumbs/images/g/jvgAAOSwhT1a~hRp/s-l225.jpg\" src=\"https://ir.ebaystatic.com/cr/v/c1/s_1x2.gif\"/>,\n",
       " <img alt=\"Pete The Cat It's All Groovy  - Ladies Short Sleeve Classic Fit Tee\" class=\"s-item__image-img\" data-src=\"https://i.ebayimg.com/thumbs/images/m/mH3l_ETUpL3F5l2rNKoTD5A/s-l225.jpg\" src=\"https://ir.ebaystatic.com/cr/v/c1/s_1x2.gif\"/>,\n",
       " <img alt=\"Polo RALPH LAUREN Boys Polo Shirt BIG PONY \" class=\"s-item__image-img\" data-src=\"https://i.ebayimg.com/thumbs/images/m/mPLNLHsFYGCRgxVe0TZIT7A/s-l225.jpg\" src=\"https://ir.ebaystatic.com/cr/v/c1/s_1x2.gif\"/>,\n",
       " <img alt=\"NWT TOMMY HILFIGER YOUTH BOYS T-SHIRT 100%CTN S/P(8-10) M(12/14) L(16/18) XL(20)\" class=\"s-item__image-img\" data-src=\"https://i.ebayimg.com/thumbs/images/m/mZad09Ax_FOGjgb22pfsYgQ/s-l225.jpg\" src=\"https://ir.ebaystatic.com/cr/v/c1/s_1x2.gif\"/>,\n",
       " <img alt=\"NWT Ralph Lauren Boys S/S Big Pony Solid Mesh Polo Shirt Sz 8 10/12 14/16 18/20\" class=\"s-item__image-img\" data-src=\"https://i.ebayimg.com/thumbs/images/m/mT3xvEsG5iQcMOy480e04Ng/s-l225.jpg\" src=\"https://ir.ebaystatic.com/cr/v/c1/s_1x2.gif\"/>,\n",
       " <img alt=\"Vineyard Vines Jersey Polo Shirt Boys M 12 14 NWT Brand New\" class=\"s-item__image-img\" data-src=\"https://i.ebayimg.com/thumbs/images/g/S34AAOSw2idbS0gm/s-l225.jpg\" src=\"https://ir.ebaystatic.com/cr/v/c1/s_1x2.gif\"/>,\n",
       " <img alt=\"Pete The Cat With School Stuff  - Youth Short Sleeve Tee\" class=\"s-item__image-img\" data-src=\"https://i.ebayimg.com/thumbs/images/m/maJkyW3J9Dp1OdDuOMgxVaQ/s-l225.jpg\" src=\"https://ir.ebaystatic.com/cr/v/c1/s_1x2.gif\"/>,\n",
       " <img alt=\"Pete The Cat 5Th Birthday Boys - Youth Short Sleeve Tee\" class=\"s-item__image-img\" data-src=\"https://i.ebayimg.com/thumbs/images/m/m9qdfyF5wRvhftb7lrzeUfw/s-l225.jpg\" src=\"https://ir.ebaystatic.com/cr/v/c1/s_1x2.gif\"/>,\n",
       " <img alt=\"NWT Polo Ralph Lauren Dark Cobalt Blue Shirt AMERICAN FLAG Boys L 14/16 EAGLES\" class=\"s-item__image-img\" data-src=\"https://i.ebayimg.com/thumbs/images/g/tVAAAOSwVldajyLN/s-l225.jpg\" src=\"https://ir.ebaystatic.com/cr/v/c1/s_1x2.gif\"/>]"
      ]
     },
     "execution_count": 3,
     "metadata": {},
     "output_type": "execute_result"
    }
   ],
   "source": [
    "images = soup.find_all('img')[1:]\n",
    "images"
   ]
  },
  {
   "cell_type": "code",
   "execution_count": 4,
   "metadata": {},
   "outputs": [
    {
     "data": {
      "text/plain": [
       "['Polo Ralph Lauren Boys V-neck Classic T-shirt Pony Logo Tee Kids Striped Collar',\n",
       " \"NWT Under Armour Boy's heatgear Big Logo 1290097 Loose Fit T-Shirt\",\n",
       " 'Tommy Hilfiger Kids T-Shirt Big Boys Solid Crew Neck Tee Children Size 4-18 New',\n",
       " 'Polo Ralph Lauren Boys Polo Shirt Classic Mesh Short Sleeve Pony Logo Kids Top',\n",
       " 'Polo Ralph Lauren Boys Big Pony Polo Shirt Classic Fit Kids Mesh School New Nwt',\n",
       " 'SHREK Youth Boys Kids Short Sleeve T-Shirt BLACK HEATHER SHREK MUGSHOT',\n",
       " \"NIB ~ Kelly's Kids Blue/White Stripe Raspberry Lobster Camp Shirt Boy's 6-7 Year\",\n",
       " 'Tommy Hilfiger Children Big Boy Kid Short Sleeve Logo Pique Polo Shirt - $0 Ship',\n",
       " 'NWT POLO RALPH LAUREN BOYS COLOR BLOCKED RED WHITE BIG PONY RUGBY SHIRT',\n",
       " 'Tommy Hilfiger Children Big Boy Crew Neck Logo Tee T-Shirt - Free $0 Shipping',\n",
       " 'NWT Ralph Lauren Boys SS Cotton Madras Plaid Button Down Shirt 8 14/16 18/20 NEW',\n",
       " 'NWT Ralph Lauren Boys SS Big Pony Classic Solid Mesh Polo Shirt Sz 5 6 7 NEW $35',\n",
       " 'NWT Ralph Lauren Boys S/S Classic Big Pony Solid Mesh Polo Shirt Sz 5 6 7 NEW',\n",
       " 'Augusta 222537 Seismic Shirt',\n",
       " \"Jurassic World Boy's T-Shirt\",\n",
       " 'Polo RALPH LAUREN Polo Boys Button Front shirt Casual Shirt',\n",
       " 'Augusta 222637 Youth Seismic Shirt',\n",
       " 'NWT Ralph Lauren Boys S/S Big Pony Solid Mesh Classic Polo Shirt 5 6 7 NEW',\n",
       " 'Polo Ralph Lauren Boys Pocket T Shirt Pony Logo Navy White Red Tee Solid New Nwt',\n",
       " 'MUHAMMAD ALI Youth Boys Kids Short Sleeve T-Shirt KHAKI 1965 POSTER',\n",
       " 'Ralph Lauren Polo Boys Polo Shirt CUSTOM Fit',\n",
       " 'Fox  Boy\\'s Long Sleeve  \"Fox Flannel\" -  Dark Grean',\n",
       " \"Boy's Glow in the Dark Spider-Man Homecoming Symbol\",\n",
       " 'Polo RALPH LAUREN Boys Polo Shirt Pony logo',\n",
       " 'NWT Ralph Lauren Boys Polo Active Soft Touch Pure White Short Sleeve Shirt ',\n",
       " 'Ralph Lauren Polo Boys t shirt 1 t shirt BIG PONY',\n",
       " 'NWT Ralph Lauren Boys S/S Classic Big Pony Solid Mesh Polo Shirt Sz 5 6 7 NEW',\n",
       " 'NINJAGO COLE LLOYD JAY & KAI Blue Tee T-Shirt NWT Boys Size 4/5, 6/7, 8 or 10/12',\n",
       " 'TOMMY HILFIGER Boys Polo Shirt Diff Colors Sizes 1 shirt',\n",
       " 'NEW Boys Under Armour Short Sleeve Shirt, size 7, Free Shipping!',\n",
       " \"Polo Ralph Lauren boy's Blue Striped Oxford Shirt Size 20 Cotton Long Sleeve Nwt\",\n",
       " 'Mickey Mouse Motorcycle Toddler Boys Tee',\n",
       " '❤ HANNA ANDERSSON Shirt 120 130 140 Tractor Hotdog  Ice cream Popcorn FREESHIP',\n",
       " 'Pete The Cat 7Th Birthday Boys - Youth Short Sleeve Tee',\n",
       " 'Pete The Cat 6Th Birthday Boys - Youth Short Sleeve Tee',\n",
       " 'Guayabera Kids Toddler Junior Beach Wedding Baptism Button-Up Casual Dress Shirt',\n",
       " 'Ralph Lauren Polo Boys T shirt cotton Undershirt 2pk',\n",
       " 'Pete The Cat Pete The Goldfish  - Youth Short Sleeve Tee',\n",
       " 'Boys Youth Nike Jordan T Shirt Tee Red White Black Blue AJ 23 Flight S,M,L,XL',\n",
       " 'NWT Shohei Ohtani #17 Red Majestic Cool Base Home Youth Jersey Size Large 14-16',\n",
       " \"Pete The Cat It's All Groovy  - Ladies Short Sleeve Classic Fit Tee\",\n",
       " 'Polo RALPH LAUREN Boys Polo Shirt BIG PONY ',\n",
       " 'NWT TOMMY HILFIGER YOUTH BOYS T-SHIRT 100%CTN S/P(8-10) M(12/14) L(16/18) XL(20)',\n",
       " 'NWT Ralph Lauren Boys S/S Big Pony Solid Mesh Polo Shirt Sz 8 10/12 14/16 18/20',\n",
       " 'Vineyard Vines Jersey Polo Shirt Boys M 12 14 NWT Brand New',\n",
       " 'Pete The Cat With School Stuff  - Youth Short Sleeve Tee',\n",
       " 'Pete The Cat 5Th Birthday Boys - Youth Short Sleeve Tee',\n",
       " 'NWT Polo Ralph Lauren Dark Cobalt Blue Shirt AMERICAN FLAG Boys L 14/16 EAGLES']"
      ]
     },
     "execution_count": 4,
     "metadata": {},
     "output_type": "execute_result"
    }
   ],
   "source": [
    "image_titles = [img['alt'] for img in images]\n",
    "image_titles"
   ]
  },
  {
   "cell_type": "code",
   "execution_count": 5,
   "metadata": {},
   "outputs": [
    {
     "data": {
      "text/plain": [
       "['https://i.ebayimg.com/thumbs/images/m/mPk_PdWCI70ziT-cYO3ujaA/s-l225.jpg',\n",
       " 'https://i.ebayimg.com/thumbs/images/m/mocbpz9cC9idlBcU6UxXj_A/s-l225.jpg',\n",
       " 'https://i.ebayimg.com/thumbs/images/m/mymwuucjBVuu2IjMcivCm7g/s-l225.jpg',\n",
       " 'https://i.ebayimg.com/thumbs/images/m/mbAW78EZTb7qwbMe51QkaBQ/s-l225.jpg',\n",
       " 'https://i.ebayimg.com/thumbs/images/m/mpA3cslyf1wxmuxXZMDXYRQ/s-l225.jpg',\n",
       " 'https://i.ebayimg.com/thumbs/images/m/mEfuPaN8hGMxyIZyMKjKiyA/s-l225.jpg',\n",
       " 'https://i.ebayimg.com/thumbs/images/g/jWEAAOSwuhhXVV1C/s-l225.jpg',\n",
       " 'https://i.ebayimg.com/thumbs/images/m/mU_3OaCxPH8eHRoq_UsIMTg/s-l225.jpg',\n",
       " 'https://i.ebayimg.com/thumbs/images/m/muHanFhhiWP55_OjurfiSEg/s-l225.jpg',\n",
       " 'https://i.ebayimg.com/thumbs/images/m/mB-Wenbs9m8w0m9fFiaWpQA/s-l225.jpg',\n",
       " 'https://i.ebayimg.com/thumbs/images/m/m5zYvrmnYxZxDQM3dWkJQeA/s-l225.jpg',\n",
       " 'https://i.ebayimg.com/thumbs/images/m/mHF_deSH9l-AzQfFQFPpIyg/s-l225.jpg',\n",
       " 'https://i.ebayimg.com/thumbs/images/m/mKbBoVF-sl80b3EMOvqjPTA/s-l225.jpg',\n",
       " 'https://i.ebayimg.com/thumbs/images/m/mkbWYGBjze9EXmRw9ygvnZg/s-l225.jpg',\n",
       " 'https://i.ebayimg.com/thumbs/images/m/mN1vxl9gAOvDeXdgUSnRzBw/s-l225.jpg',\n",
       " 'https://i.ebayimg.com/thumbs/images/m/mZw64X1PPQvPVOEMm8PJAFQ/s-l225.jpg',\n",
       " 'https://i.ebayimg.com/thumbs/images/m/mkbWYGBjze9EXmRw9ygvnZg/s-l225.jpg',\n",
       " 'https://i.ebayimg.com/thumbs/images/m/mLSr13Dq94d4LAyQ0SjWOwQ/s-l225.jpg',\n",
       " 'https://i.ebayimg.com/thumbs/images/m/mxxIPkUFwuIViSTfZW2Zndg/s-l225.jpg',\n",
       " 'https://i.ebayimg.com/thumbs/images/m/mHwf1nyVYg4Ihm8rnpoydZg/s-l225.jpg',\n",
       " 'https://i.ebayimg.com/thumbs/images/m/m4ISj06_GJxW_4MdQZNxnlw/s-l225.jpg',\n",
       " 'https://i.ebayimg.com/thumbs/images/m/mc_EXwfExMrnKBjwPf9gkog/s-l225.jpg',\n",
       " 'https://i.ebayimg.com/thumbs/images/m/mH3KXoZJPwjt1IdMIFN-1Ug/s-l225.jpg',\n",
       " 'https://i.ebayimg.com/thumbs/images/m/mbLSuiqhHMx5-G8RBQgAfbA/s-l225.jpg',\n",
       " 'https://i.ebayimg.com/thumbs/images/m/mrULezShQuHEhg0H9XlXNcw/s-l225.jpg',\n",
       " 'https://i.ebayimg.com/thumbs/images/m/mFiGNa8tdMw-po4RFa9qkoQ/s-l225.jpg',\n",
       " 'https://i.ebayimg.com/thumbs/images/m/mtDMd3FWQMS0GNvl3LF0NZQ/s-l225.jpg',\n",
       " 'https://i.ebayimg.com/thumbs/images/m/mPLUYcs5g9mMrY9-7cHPI6w/s-l225.jpg',\n",
       " 'https://i.ebayimg.com/thumbs/images/m/mf_fV5jrnDY64kMWCSS2S1A/s-l225.jpg',\n",
       " 'https://i.ebayimg.com/thumbs/images/m/mTOeFvzatVwYnjlMS8R3aHw/s-l225.jpg',\n",
       " 'https://i.ebayimg.com/thumbs/images/g/9qMAAOSwqRBbOURe/s-l225.jpg',\n",
       " 'https://i.ebayimg.com/thumbs/images/m/m4zcCHvIgkYhdb-wgCVRYcg/s-l225.jpg',\n",
       " 'https://i.ebayimg.com/thumbs/images/m/mWlwW1FaDwjP2diGB3ByT3w/s-l225.jpg',\n",
       " 'https://i.ebayimg.com/thumbs/images/m/mozw1Zx8tFslOO9eUFbuA0A/s-l225.jpg',\n",
       " 'https://i.ebayimg.com/thumbs/images/m/mGCv5Wn1C5vzuDkrXzdq8lA/s-l225.jpg',\n",
       " 'https://i.ebayimg.com/thumbs/images/m/myWou8bA-2EewupW13OlTIw/s-l225.jpg',\n",
       " 'https://i.ebayimg.com/thumbs/images/m/mMhI2AnUZ7EDr9xjns7ik6g/s-l225.jpg',\n",
       " 'https://i.ebayimg.com/thumbs/images/m/mstkCIzvYro_fDfKW3g4JSw/s-l225.jpg',\n",
       " 'https://i.ebayimg.com/thumbs/images/m/mvOLzMj6Iz-EpPiFXn8hxmQ/s-l225.jpg',\n",
       " 'https://i.ebayimg.com/thumbs/images/g/jvgAAOSwhT1a~hRp/s-l225.jpg',\n",
       " 'https://i.ebayimg.com/thumbs/images/m/mH3l_ETUpL3F5l2rNKoTD5A/s-l225.jpg',\n",
       " 'https://i.ebayimg.com/thumbs/images/m/mPLNLHsFYGCRgxVe0TZIT7A/s-l225.jpg',\n",
       " 'https://i.ebayimg.com/thumbs/images/m/mZad09Ax_FOGjgb22pfsYgQ/s-l225.jpg',\n",
       " 'https://i.ebayimg.com/thumbs/images/m/mT3xvEsG5iQcMOy480e04Ng/s-l225.jpg',\n",
       " 'https://i.ebayimg.com/thumbs/images/g/S34AAOSw2idbS0gm/s-l225.jpg',\n",
       " 'https://i.ebayimg.com/thumbs/images/m/maJkyW3J9Dp1OdDuOMgxVaQ/s-l225.jpg',\n",
       " 'https://i.ebayimg.com/thumbs/images/m/m9qdfyF5wRvhftb7lrzeUfw/s-l225.jpg',\n",
       " 'https://i.ebayimg.com/thumbs/images/g/tVAAAOSwVldajyLN/s-l225.jpg']"
      ]
     },
     "execution_count": 5,
     "metadata": {},
     "output_type": "execute_result"
    }
   ],
   "source": [
    "image_files_src = [img['src'] for img in images]\n",
    "image_files_datasrc = [img.get('data-src', None) for img in images]\n",
    "image_files = [src if datasrc is None else datasrc for src, datasrc in zip(image_files_src, image_files_datasrc)]\n",
    "image_files"
   ]
  },
  {
   "cell_type": "code",
   "execution_count": 6,
   "metadata": {},
   "outputs": [],
   "source": [
    "def parse_price(price_element):\n",
    "    try:\n",
    "        price = float(price_element.get_text().split(' ')[1])\n",
    "    except:\n",
    "        price = None\n",
    "    return price\n",
    "price_elements = soup.find_all('span', class_ = 's-item__price')\n",
    "\n",
    "prices = [parse_price(price_e) for price_e in price_elements]"
   ]
  },
  {
   "cell_type": "code",
   "execution_count": 7,
   "metadata": {},
   "outputs": [],
   "source": [
    "assert len(prices) == len(images)"
   ]
  },
  {
   "cell_type": "code",
   "execution_count": 8,
   "metadata": {},
   "outputs": [],
   "source": [
    "def download_image(url, title, file_name):\n",
    "    try:\n",
    "        response = requests.get(url)    \n",
    "    except:\n",
    "        return '', ''\n",
    "    with open(file_name, \"wb\") as file:\n",
    "        file.write(response.content)\n",
    "    return title, file_name"
   ]
  },
  {
   "cell_type": "code",
   "execution_count": 9,
   "metadata": {},
   "outputs": [
    {
     "data": {
      "text/plain": [
       "('Polo Ralph Lauren Boys V-neck Classic T-shirt Pony Logo Tee Kids Striped Collar',\n",
       " 'test.jpg')"
      ]
     },
     "execution_count": 9,
     "metadata": {},
     "output_type": "execute_result"
    }
   ],
   "source": [
    "download_image(image_files[0], image_titles[0], 'test.jpg')"
   ]
  },
  {
   "cell_type": "code",
   "execution_count": 10,
   "metadata": {},
   "outputs": [
    {
     "data": {
      "text/plain": [
       "('', '')"
      ]
     },
     "execution_count": 10,
     "metadata": {},
     "output_type": "execute_result"
    }
   ],
   "source": [
    "download_image('aaa', 'bbb', 'error.jpg')"
   ]
  },
  {
   "cell_type": "code",
   "execution_count": 11,
   "metadata": {},
   "outputs": [
    {
     "data": {
      "application/vnd.jupyter.widget-view+json": {
       "model_id": "78be63b9d74c42dcae509f27d86f70c5",
       "version_major": 2,
       "version_minor": 0
      },
      "text/plain": [
       "IntProgress(value=0, max=48)"
      ]
     },
     "metadata": {},
     "output_type": "display_data"
    },
    {
     "data": {
      "text/html": [
       "<div>\n",
       "<style scoped>\n",
       "    .dataframe tbody tr th:only-of-type {\n",
       "        vertical-align: middle;\n",
       "    }\n",
       "\n",
       "    .dataframe tbody tr th {\n",
       "        vertical-align: top;\n",
       "    }\n",
       "\n",
       "    .dataframe thead th {\n",
       "        text-align: right;\n",
       "    }\n",
       "</style>\n",
       "<table border=\"1\" class=\"dataframe\">\n",
       "  <thead>\n",
       "    <tr style=\"text-align: right;\">\n",
       "      <th></th>\n",
       "      <th>title</th>\n",
       "      <th>file_name</th>\n",
       "      <th>price</th>\n",
       "    </tr>\n",
       "  </thead>\n",
       "  <tbody>\n",
       "    <tr>\n",
       "      <th>0</th>\n",
       "      <td>Polo Ralph Lauren Boys V-neck Classic T-shirt ...</td>\n",
       "      <td>./boys/0.jpg</td>\n",
       "      <td>70.96</td>\n",
       "    </tr>\n",
       "    <tr>\n",
       "      <th>1</th>\n",
       "      <td>NWT Under Armour Boy's heatgear Big Logo 12900...</td>\n",
       "      <td>./boys/1.jpg</td>\n",
       "      <td>67.22</td>\n",
       "    </tr>\n",
       "    <tr>\n",
       "      <th>2</th>\n",
       "      <td>Tommy Hilfiger Kids T-Shirt Big Boys Solid Cre...</td>\n",
       "      <td>./boys/2.jpg</td>\n",
       "      <td>74.70</td>\n",
       "    </tr>\n",
       "    <tr>\n",
       "      <th>3</th>\n",
       "      <td>Polo Ralph Lauren Boys Polo Shirt Classic Mesh...</td>\n",
       "      <td>./boys/3.jpg</td>\n",
       "      <td>81.42</td>\n",
       "    </tr>\n",
       "    <tr>\n",
       "      <th>4</th>\n",
       "      <td>Polo Ralph Lauren Boys Big Pony Polo Shirt Cla...</td>\n",
       "      <td>./boys/4.jpg</td>\n",
       "      <td>130.75</td>\n",
       "    </tr>\n",
       "    <tr>\n",
       "      <th>5</th>\n",
       "      <td>SHREK Youth Boys Kids Short Sleeve T-Shirt BLA...</td>\n",
       "      <td>./boys/5.jpg</td>\n",
       "      <td>67.22</td>\n",
       "    </tr>\n",
       "    <tr>\n",
       "      <th>6</th>\n",
       "      <td>NIB ~ Kelly's Kids Blue/White Stripe Raspberry...</td>\n",
       "      <td>./boys/6.jpg</td>\n",
       "      <td>78.43</td>\n",
       "    </tr>\n",
       "    <tr>\n",
       "      <th>7</th>\n",
       "      <td>Tommy Hilfiger Children Big Boy Kid Short Slee...</td>\n",
       "      <td>./boys/7.jpg</td>\n",
       "      <td>149.43</td>\n",
       "    </tr>\n",
       "    <tr>\n",
       "      <th>8</th>\n",
       "      <td>NWT POLO RALPH LAUREN BOYS COLOR BLOCKED RED W...</td>\n",
       "      <td>./boys/8.jpg</td>\n",
       "      <td>93.38</td>\n",
       "    </tr>\n",
       "    <tr>\n",
       "      <th>9</th>\n",
       "      <td>Tommy Hilfiger Children Big Boy Crew Neck Logo...</td>\n",
       "      <td>./boys/9.jpg</td>\n",
       "      <td>112.06</td>\n",
       "    </tr>\n",
       "    <tr>\n",
       "      <th>10</th>\n",
       "      <td>NWT Ralph Lauren Boys SS Cotton Madras Plaid B...</td>\n",
       "      <td>./boys/10.jpg</td>\n",
       "      <td>104.59</td>\n",
       "    </tr>\n",
       "    <tr>\n",
       "      <th>11</th>\n",
       "      <td>NWT Ralph Lauren Boys SS Big Pony Classic Soli...</td>\n",
       "      <td>./boys/11.jpg</td>\n",
       "      <td>112.06</td>\n",
       "    </tr>\n",
       "    <tr>\n",
       "      <th>12</th>\n",
       "      <td>NWT Ralph Lauren Boys S/S Classic Big Pony Sol...</td>\n",
       "      <td>./boys/12.jpg</td>\n",
       "      <td>112.06</td>\n",
       "    </tr>\n",
       "    <tr>\n",
       "      <th>13</th>\n",
       "      <td>Augusta 222537 Seismic Shirt</td>\n",
       "      <td>./boys/13.jpg</td>\n",
       "      <td>69.65</td>\n",
       "    </tr>\n",
       "    <tr>\n",
       "      <th>14</th>\n",
       "      <td>Jurassic World Boy's T-Shirt</td>\n",
       "      <td>./boys/14.jpg</td>\n",
       "      <td>67.19</td>\n",
       "    </tr>\n",
       "    <tr>\n",
       "      <th>15</th>\n",
       "      <td>Polo RALPH LAUREN Polo Boys Button Front shirt...</td>\n",
       "      <td>./boys/15.jpg</td>\n",
       "      <td>69.32</td>\n",
       "    </tr>\n",
       "    <tr>\n",
       "      <th>16</th>\n",
       "      <td>Augusta 222637 Youth Seismic Shirt</td>\n",
       "      <td>./boys/16.jpg</td>\n",
       "      <td>67.26</td>\n",
       "    </tr>\n",
       "    <tr>\n",
       "      <th>17</th>\n",
       "      <td>NWT Ralph Lauren Boys S/S Big Pony Solid Mesh ...</td>\n",
       "      <td>./boys/17.jpg</td>\n",
       "      <td>104.59</td>\n",
       "    </tr>\n",
       "    <tr>\n",
       "      <th>18</th>\n",
       "      <td>Polo Ralph Lauren Boys Pocket T Shirt Pony Log...</td>\n",
       "      <td>./boys/18.jpg</td>\n",
       "      <td>93.38</td>\n",
       "    </tr>\n",
       "    <tr>\n",
       "      <th>19</th>\n",
       "      <td>MUHAMMAD ALI Youth Boys Kids Short Sleeve T-Sh...</td>\n",
       "      <td>./boys/19.jpg</td>\n",
       "      <td>67.22</td>\n",
       "    </tr>\n",
       "    <tr>\n",
       "      <th>20</th>\n",
       "      <td>Ralph Lauren Polo Boys Polo Shirt CUSTOM Fit</td>\n",
       "      <td>./boys/20.jpg</td>\n",
       "      <td>70.81</td>\n",
       "    </tr>\n",
       "    <tr>\n",
       "      <th>21</th>\n",
       "      <td>Fox  Boy's Long Sleeve  \"Fox Flannel\" -  Dark ...</td>\n",
       "      <td>./boys/21.jpg</td>\n",
       "      <td>118.08</td>\n",
       "    </tr>\n",
       "    <tr>\n",
       "      <th>22</th>\n",
       "      <td>Boy's Glow in the Dark Spider-Man Homecoming S...</td>\n",
       "      <td>./boys/22.jpg</td>\n",
       "      <td>67.19</td>\n",
       "    </tr>\n",
       "    <tr>\n",
       "      <th>23</th>\n",
       "      <td>Polo RALPH LAUREN Boys Polo Shirt Pony logo</td>\n",
       "      <td>./boys/23.jpg</td>\n",
       "      <td>66.70</td>\n",
       "    </tr>\n",
       "    <tr>\n",
       "      <th>24</th>\n",
       "      <td>NWT Ralph Lauren Boys Polo Active Soft Touch P...</td>\n",
       "      <td>./boys/24.jpg</td>\n",
       "      <td>93.38</td>\n",
       "    </tr>\n",
       "    <tr>\n",
       "      <th>25</th>\n",
       "      <td>Ralph Lauren Polo Boys t shirt 1 t shirt BIG PONY</td>\n",
       "      <td>./boys/25.jpg</td>\n",
       "      <td>52.13</td>\n",
       "    </tr>\n",
       "    <tr>\n",
       "      <th>26</th>\n",
       "      <td>NWT Ralph Lauren Boys S/S Classic Big Pony Sol...</td>\n",
       "      <td>./boys/26.jpg</td>\n",
       "      <td>112.06</td>\n",
       "    </tr>\n",
       "    <tr>\n",
       "      <th>27</th>\n",
       "      <td>NINJAGO COLE LLOYD JAY &amp; KAI Blue Tee T-Shirt ...</td>\n",
       "      <td>./boys/27.jpg</td>\n",
       "      <td>52.28</td>\n",
       "    </tr>\n",
       "    <tr>\n",
       "      <th>28</th>\n",
       "      <td>TOMMY HILFIGER Boys Polo Shirt Diff Colors Siz...</td>\n",
       "      <td>./boys/28.jpg</td>\n",
       "      <td>54.74</td>\n",
       "    </tr>\n",
       "    <tr>\n",
       "      <th>29</th>\n",
       "      <td>NEW Boys Under Armour Short Sleeve Shirt, size...</td>\n",
       "      <td>./boys/29.jpg</td>\n",
       "      <td>63.49</td>\n",
       "    </tr>\n",
       "    <tr>\n",
       "      <th>30</th>\n",
       "      <td>Polo Ralph Lauren boy's Blue Striped Oxford Sh...</td>\n",
       "      <td>./boys/30.jpg</td>\n",
       "      <td>186.80</td>\n",
       "    </tr>\n",
       "    <tr>\n",
       "      <th>31</th>\n",
       "      <td>Mickey Mouse Motorcycle Toddler Boys Tee</td>\n",
       "      <td>./boys/31.jpg</td>\n",
       "      <td>55.98</td>\n",
       "    </tr>\n",
       "    <tr>\n",
       "      <th>32</th>\n",
       "      <td>❤ HANNA ANDERSSON Shirt 120 130 140 Tractor Ho...</td>\n",
       "      <td>./boys/32.jpg</td>\n",
       "      <td>85.76</td>\n",
       "    </tr>\n",
       "    <tr>\n",
       "      <th>33</th>\n",
       "      <td>Pete The Cat 7Th Birthday Boys - Youth Short S...</td>\n",
       "      <td>./boys/33.jpg</td>\n",
       "      <td>74.70</td>\n",
       "    </tr>\n",
       "    <tr>\n",
       "      <th>34</th>\n",
       "      <td>Pete The Cat 6Th Birthday Boys - Youth Short S...</td>\n",
       "      <td>./boys/34.jpg</td>\n",
       "      <td>74.70</td>\n",
       "    </tr>\n",
       "    <tr>\n",
       "      <th>35</th>\n",
       "      <td>Guayabera Kids Toddler Junior Beach Wedding Ba...</td>\n",
       "      <td>./boys/35.jpg</td>\n",
       "      <td>74.66</td>\n",
       "    </tr>\n",
       "    <tr>\n",
       "      <th>36</th>\n",
       "      <td>Ralph Lauren Polo Boys T shirt cotton Undershi...</td>\n",
       "      <td>./boys/36.jpg</td>\n",
       "      <td>64.27</td>\n",
       "    </tr>\n",
       "    <tr>\n",
       "      <th>37</th>\n",
       "      <td>Pete The Cat Pete The Goldfish  - Youth Short ...</td>\n",
       "      <td>./boys/37.jpg</td>\n",
       "      <td>74.70</td>\n",
       "    </tr>\n",
       "    <tr>\n",
       "      <th>38</th>\n",
       "      <td>Boys Youth Nike Jordan T Shirt Tee Red White B...</td>\n",
       "      <td>./boys/38.jpg</td>\n",
       "      <td>48.54</td>\n",
       "    </tr>\n",
       "    <tr>\n",
       "      <th>39</th>\n",
       "      <td>NWT Shohei Ohtani #17 Red Majestic Cool Base H...</td>\n",
       "      <td>./boys/39.jpg</td>\n",
       "      <td>205.48</td>\n",
       "    </tr>\n",
       "    <tr>\n",
       "      <th>40</th>\n",
       "      <td>Pete The Cat It's All Groovy  - Ladies Short S...</td>\n",
       "      <td>./boys/40.jpg</td>\n",
       "      <td>74.70</td>\n",
       "    </tr>\n",
       "    <tr>\n",
       "      <th>41</th>\n",
       "      <td>Polo RALPH LAUREN Boys Polo Shirt BIG PONY</td>\n",
       "      <td>./boys/41.jpg</td>\n",
       "      <td>71.93</td>\n",
       "    </tr>\n",
       "    <tr>\n",
       "      <th>42</th>\n",
       "      <td>NWT TOMMY HILFIGER YOUTH BOYS T-SHIRT 100%CTN ...</td>\n",
       "      <td>./boys/42.jpg</td>\n",
       "      <td>74.70</td>\n",
       "    </tr>\n",
       "    <tr>\n",
       "      <th>43</th>\n",
       "      <td>NWT Ralph Lauren Boys S/S Big Pony Solid Mesh ...</td>\n",
       "      <td>./boys/43.jpg</td>\n",
       "      <td>123.27</td>\n",
       "    </tr>\n",
       "    <tr>\n",
       "      <th>44</th>\n",
       "      <td>Vineyard Vines Jersey Polo Shirt Boys M 12 14 ...</td>\n",
       "      <td>./boys/44.jpg</td>\n",
       "      <td>149.43</td>\n",
       "    </tr>\n",
       "    <tr>\n",
       "      <th>45</th>\n",
       "      <td>Pete The Cat With School Stuff  - Youth Short ...</td>\n",
       "      <td>./boys/45.jpg</td>\n",
       "      <td>74.70</td>\n",
       "    </tr>\n",
       "    <tr>\n",
       "      <th>46</th>\n",
       "      <td>Pete The Cat 5Th Birthday Boys - Youth Short S...</td>\n",
       "      <td>./boys/46.jpg</td>\n",
       "      <td>74.70</td>\n",
       "    </tr>\n",
       "    <tr>\n",
       "      <th>47</th>\n",
       "      <td>NWT Polo Ralph Lauren Dark Cobalt Blue Shirt A...</td>\n",
       "      <td>./boys/47.jpg</td>\n",
       "      <td>104.59</td>\n",
       "    </tr>\n",
       "  </tbody>\n",
       "</table>\n",
       "</div>"
      ],
      "text/plain": [
       "                                                title      file_name   price\n",
       "0   Polo Ralph Lauren Boys V-neck Classic T-shirt ...   ./boys/0.jpg   70.96\n",
       "1   NWT Under Armour Boy's heatgear Big Logo 12900...   ./boys/1.jpg   67.22\n",
       "2   Tommy Hilfiger Kids T-Shirt Big Boys Solid Cre...   ./boys/2.jpg   74.70\n",
       "3   Polo Ralph Lauren Boys Polo Shirt Classic Mesh...   ./boys/3.jpg   81.42\n",
       "4   Polo Ralph Lauren Boys Big Pony Polo Shirt Cla...   ./boys/4.jpg  130.75\n",
       "5   SHREK Youth Boys Kids Short Sleeve T-Shirt BLA...   ./boys/5.jpg   67.22\n",
       "6   NIB ~ Kelly's Kids Blue/White Stripe Raspberry...   ./boys/6.jpg   78.43\n",
       "7   Tommy Hilfiger Children Big Boy Kid Short Slee...   ./boys/7.jpg  149.43\n",
       "8   NWT POLO RALPH LAUREN BOYS COLOR BLOCKED RED W...   ./boys/8.jpg   93.38\n",
       "9   Tommy Hilfiger Children Big Boy Crew Neck Logo...   ./boys/9.jpg  112.06\n",
       "10  NWT Ralph Lauren Boys SS Cotton Madras Plaid B...  ./boys/10.jpg  104.59\n",
       "11  NWT Ralph Lauren Boys SS Big Pony Classic Soli...  ./boys/11.jpg  112.06\n",
       "12  NWT Ralph Lauren Boys S/S Classic Big Pony Sol...  ./boys/12.jpg  112.06\n",
       "13                       Augusta 222537 Seismic Shirt  ./boys/13.jpg   69.65\n",
       "14                       Jurassic World Boy's T-Shirt  ./boys/14.jpg   67.19\n",
       "15  Polo RALPH LAUREN Polo Boys Button Front shirt...  ./boys/15.jpg   69.32\n",
       "16                 Augusta 222637 Youth Seismic Shirt  ./boys/16.jpg   67.26\n",
       "17  NWT Ralph Lauren Boys S/S Big Pony Solid Mesh ...  ./boys/17.jpg  104.59\n",
       "18  Polo Ralph Lauren Boys Pocket T Shirt Pony Log...  ./boys/18.jpg   93.38\n",
       "19  MUHAMMAD ALI Youth Boys Kids Short Sleeve T-Sh...  ./boys/19.jpg   67.22\n",
       "20       Ralph Lauren Polo Boys Polo Shirt CUSTOM Fit  ./boys/20.jpg   70.81\n",
       "21  Fox  Boy's Long Sleeve  \"Fox Flannel\" -  Dark ...  ./boys/21.jpg  118.08\n",
       "22  Boy's Glow in the Dark Spider-Man Homecoming S...  ./boys/22.jpg   67.19\n",
       "23        Polo RALPH LAUREN Boys Polo Shirt Pony logo  ./boys/23.jpg   66.70\n",
       "24  NWT Ralph Lauren Boys Polo Active Soft Touch P...  ./boys/24.jpg   93.38\n",
       "25  Ralph Lauren Polo Boys t shirt 1 t shirt BIG PONY  ./boys/25.jpg   52.13\n",
       "26  NWT Ralph Lauren Boys S/S Classic Big Pony Sol...  ./boys/26.jpg  112.06\n",
       "27  NINJAGO COLE LLOYD JAY & KAI Blue Tee T-Shirt ...  ./boys/27.jpg   52.28\n",
       "28  TOMMY HILFIGER Boys Polo Shirt Diff Colors Siz...  ./boys/28.jpg   54.74\n",
       "29  NEW Boys Under Armour Short Sleeve Shirt, size...  ./boys/29.jpg   63.49\n",
       "30  Polo Ralph Lauren boy's Blue Striped Oxford Sh...  ./boys/30.jpg  186.80\n",
       "31           Mickey Mouse Motorcycle Toddler Boys Tee  ./boys/31.jpg   55.98\n",
       "32  ❤ HANNA ANDERSSON Shirt 120 130 140 Tractor Ho...  ./boys/32.jpg   85.76\n",
       "33  Pete The Cat 7Th Birthday Boys - Youth Short S...  ./boys/33.jpg   74.70\n",
       "34  Pete The Cat 6Th Birthday Boys - Youth Short S...  ./boys/34.jpg   74.70\n",
       "35  Guayabera Kids Toddler Junior Beach Wedding Ba...  ./boys/35.jpg   74.66\n",
       "36  Ralph Lauren Polo Boys T shirt cotton Undershi...  ./boys/36.jpg   64.27\n",
       "37  Pete The Cat Pete The Goldfish  - Youth Short ...  ./boys/37.jpg   74.70\n",
       "38  Boys Youth Nike Jordan T Shirt Tee Red White B...  ./boys/38.jpg   48.54\n",
       "39  NWT Shohei Ohtani #17 Red Majestic Cool Base H...  ./boys/39.jpg  205.48\n",
       "40  Pete The Cat It's All Groovy  - Ladies Short S...  ./boys/40.jpg   74.70\n",
       "41        Polo RALPH LAUREN Boys Polo Shirt BIG PONY   ./boys/41.jpg   71.93\n",
       "42  NWT TOMMY HILFIGER YOUTH BOYS T-SHIRT 100%CTN ...  ./boys/42.jpg   74.70\n",
       "43  NWT Ralph Lauren Boys S/S Big Pony Solid Mesh ...  ./boys/43.jpg  123.27\n",
       "44  Vineyard Vines Jersey Polo Shirt Boys M 12 14 ...  ./boys/44.jpg  149.43\n",
       "45  Pete The Cat With School Stuff  - Youth Short ...  ./boys/45.jpg   74.70\n",
       "46  Pete The Cat 5Th Birthday Boys - Youth Short S...  ./boys/46.jpg   74.70\n",
       "47  NWT Polo Ralph Lauren Dark Cobalt Blue Shirt A...  ./boys/47.jpg  104.59"
      ]
     },
     "execution_count": 11,
     "metadata": {},
     "output_type": "execute_result"
    }
   ],
   "source": [
    "images_data = {'title': {}, 'file_name': {}, 'price': {}}\n",
    "\n",
    "f = IntProgress(min=0, max=len(images)) # instantiate the bar\n",
    "display(f) # display the bar\n",
    "\n",
    "for i in range(len(images)):\n",
    "    title, file_name = download_image(image_files[i], image_titles[i], './boys/' + str(i) + '.jpg')\n",
    "    images_data['title'][i] = title\n",
    "    images_data['file_name'][i] = file_name\n",
    "    images_data['price'][i] = prices[i]\n",
    "    f.value += 1\n",
    "    \n",
    "pd.DataFrame(images_data)\n",
    "    "
   ]
  },
  {
   "cell_type": "code",
   "execution_count": 12,
   "metadata": {},
   "outputs": [
    {
     "data": {
      "application/vnd.jupyter.widget-view+json": {
       "model_id": "b7412f095957471992460d45e7b4c422",
       "version_major": 2,
       "version_minor": 0
      },
      "text/plain": [
       "IntProgress(value=0, max=400)"
      ]
     },
     "metadata": {},
     "output_type": "display_data"
    }
   ],
   "source": [
    "boys_url = 'https://www.ebay.com/b/Boys-Short-Sleeve-Sleeve-Tops-T-Shirts-Sizes-4-Up/175521/bn_4278610?rt=nc&LH_ItemCondition=1000&LH_BIN=1&LH_PrefLoc=3&_pgn='\n",
    "max_pages = 400\n",
    "boys_items_data = {'title': {}, 'file_id': {}, 'price': {}}\n",
    "f = IntProgress(min = 0, max = max_pages)\n",
    "display(f)\n",
    "all_items_counter = 0\n",
    "\n",
    "for page_num in range(max_pages):\n",
    "    url = boys_url + str(page_num)\n",
    "    try:\n",
    "        r = requests.get(url)\n",
    "    except:\n",
    "        print('Stopped at page: ' + page_num)\n",
    "        break\n",
    "    soup = BeautifulSoup(r.content)\n",
    "    images = soup.find_all('img')[1:]\n",
    "    image_titles = [img['alt'] for img in images]\n",
    "    image_files_src = [img['src'] for img in images]\n",
    "    image_files_datasrc = [img.get('data-src', None) for img in images]\n",
    "    image_files = [src if datasrc is None else datasrc for src, datasrc in zip(image_files_src, image_files_datasrc)]\n",
    "    \n",
    "    price_elements = soup.find_all('span', class_ = 's-item__price')\n",
    "    prices = [parse_price(price_e) for price_e in price_elements]\n",
    "    try:\n",
    "        assert len(prices) == len(images)\n",
    "    except:\n",
    "        print('Found unequal number of prices in page_num % d' % page_num)\n",
    "        prices = [None] * len(images)\n",
    "        \n",
    "    for i in range(len(images)):\n",
    "        title, file_name = download_image(image_files[i], image_titles[i], './boys/' + str(all_items_counter + i) + '.jpg')\n",
    "        boys_items_data['title'][all_items_counter + i] = title\n",
    "        boys_items_data['file_id'][all_items_counter + i] = all_items_counter + i\n",
    "        boys_items_data['price'][all_items_counter + i] = prices[i]\n",
    "    all_items_counter += len(images)\n",
    "    f.value += 1"
   ]
  },
  {
   "cell_type": "code",
   "execution_count": 13,
   "metadata": {},
   "outputs": [
    {
     "name": "stdout",
     "output_type": "stream",
     "text": [
      "(17184, 3)\n"
     ]
    }
   ],
   "source": [
    "boys_items_data = pd.DataFrame(boys_items_data)\n",
    "boys_items_data = boys_items_data[boys_items_data['title'] != '']\n",
    "print(boys_items_data.shape)"
   ]
  },
  {
   "cell_type": "code",
   "execution_count": 14,
   "metadata": {},
   "outputs": [
    {
     "name": "stdout",
     "output_type": "stream",
     "text": [
      "(12515, 3)\n"
     ]
    }
   ],
   "source": [
    "boys_items_data = pd.DataFrame(boys_items_data).drop_duplicates('title')\n",
    "print(boys_items_data.shape)"
   ]
  },
  {
   "cell_type": "code",
   "execution_count": 15,
   "metadata": {},
   "outputs": [
    {
     "name": "stdout",
     "output_type": "stream",
     "text": [
      "Final boys number of images: 12515\n"
     ]
    }
   ],
   "source": [
    "boys_items_data.to_csv('boys_items_data.csv', index_label = 'id')\n",
    "print('Final boys number of images: %d' % boys_items_data.shape[0])"
   ]
  },
  {
   "cell_type": "code",
   "execution_count": 16,
   "metadata": {},
   "outputs": [
    {
     "data": {
      "application/vnd.jupyter.widget-view+json": {
       "model_id": "69add3777c774fb8a1fa14223adfce51",
       "version_major": 2,
       "version_minor": 0
      },
      "text/plain": [
       "IntProgress(value=0, max=400)"
      ]
     },
     "metadata": {},
     "output_type": "display_data"
    }
   ],
   "source": [
    "girls_url = 'https://www.ebay.com/b/Girls-Short-Sleeve-Sleeve-Tops-T-Shirts-Sizes-4-Up/175529/bn_4741026?rt=nc&LH_ItemCondition=1000&LH_BIN=1&LH_PrefLoc=3&_pgn='\n",
    "max_pages = 400\n",
    "girls_items_data = {'title': {}, 'file_id': {}, 'price': {}}\n",
    "f = IntProgress(min = 0, max = max_pages)\n",
    "display(f)\n",
    "all_items_counter = 0\n",
    "\n",
    "for page_num in range(max_pages):\n",
    "    url = girls_url + str(page_num)\n",
    "    try:\n",
    "        r = requests.get(url)\n",
    "    except:\n",
    "        print('Stopped at page: ' + page_num)\n",
    "        break\n",
    "    soup = BeautifulSoup(r.content)\n",
    "    images = soup.find_all('img')[1:]\n",
    "    image_titles = [img['alt'] for img in images]\n",
    "    image_files_src = [img['src'] for img in images]\n",
    "    image_files_datasrc = [img.get('data-src', None) for img in images]\n",
    "    image_files = [src if datasrc is None else datasrc for src, datasrc in zip(image_files_src, image_files_datasrc)]\n",
    "    \n",
    "    price_elements = soup.find_all('span', class_ = 's-item__price')\n",
    "    prices = [parse_price(price_e) for price_e in price_elements]\n",
    "    try:\n",
    "        assert len(prices) == len(images)\n",
    "    except:\n",
    "        print('Found unequal number of prices in page_num % d' % page_num)\n",
    "        prices = [None] * len(images)\n",
    "        \n",
    "    for i in range(len(images)):\n",
    "        title, file_name = download_image(image_files[i], image_titles[i], './girls/' + str(all_items_counter + i) + '.jpg')\n",
    "        girls_items_data['title'][all_items_counter + i] = title\n",
    "        girls_items_data['file_id'][all_items_counter + i] = all_items_counter + i\n",
    "        girls_items_data['price'][all_items_counter + i] = prices[i]\n",
    "    all_items_counter += len(images)\n",
    "    f.value += 1"
   ]
  },
  {
   "cell_type": "code",
   "execution_count": 17,
   "metadata": {},
   "outputs": [
    {
     "name": "stdout",
     "output_type": "stream",
     "text": [
      "(16678, 3)\n"
     ]
    }
   ],
   "source": [
    "girls_items_data = pd.DataFrame(girls_items_data)\n",
    "girls_items_data = girls_items_data[girls_items_data['title'] != '']\n",
    "print(girls_items_data.shape)"
   ]
  },
  {
   "cell_type": "code",
   "execution_count": 18,
   "metadata": {},
   "outputs": [
    {
     "name": "stdout",
     "output_type": "stream",
     "text": [
      "(14257, 3)\n"
     ]
    }
   ],
   "source": [
    "girls_items_data = pd.DataFrame(girls_items_data).drop_duplicates('title')\n",
    "print(girls_items_data.shape)"
   ]
  },
  {
   "cell_type": "code",
   "execution_count": 19,
   "metadata": {},
   "outputs": [
    {
     "name": "stdout",
     "output_type": "stream",
     "text": [
      "Final girls number of images: 14257\n"
     ]
    }
   ],
   "source": [
    "girls_items_data.to_csv('girls_items_data.csv', index_label = 'id')\n",
    "print('Final girls number of images: %d' % girls_items_data.shape[0])"
   ]
  },
  {
   "cell_type": "code",
   "execution_count": 27,
   "metadata": {},
   "outputs": [
    {
     "name": "stdout",
     "output_type": "stream",
     "text": [
      "N train boys: 10000, N test boys: 2500\n",
      "N train girls: 10000, N test girls: 2500\n"
     ]
    }
   ],
   "source": [
    "def sample_train_test(df, n_train, n_test):\n",
    "    df_train = df.sample(n = n_train)\n",
    "    file_id_diff = set(df.file_id).difference(df_train.file_id)\n",
    "    df_test = df[df.file_id.isin(file_id_diff)].sample(n = n_test)\n",
    "    return df_train, df_test\n",
    "\n",
    "boys_train, boys_test = sample_train_test(boys_items_data, 10000, 2500)\n",
    "girls_train, girls_test = sample_train_test(girls_items_data, 10000, 2500)\n",
    "\n",
    "print('N train boys: %d, N test boys: %d' % (len(boys_train.index), len(boys_test.index)))\n",
    "print('N train girls: %d, N test girls: %d' % (len(girls_train.index), len(girls_test.index)))\n",
    "\n",
    "boys_train.to_csv('boys_train.csv', index_label = 'id')\n",
    "boys_test.to_csv('boys_test.csv', index_label = 'id')\n",
    "girls_train.to_csv('girls_train.csv', index_label = 'id')\n",
    "girls_test.to_csv('girls_test.csv', index_label = 'id')"
   ]
  }
 ],
 "metadata": {
  "kernelspec": {
   "display_name": "Python 3",
   "language": "python",
   "name": "python3"
  },
  "language_info": {
   "codemirror_mode": {
    "name": "ipython",
    "version": 3
   },
   "file_extension": ".py",
   "mimetype": "text/x-python",
   "name": "python",
   "nbconvert_exporter": "python",
   "pygments_lexer": "ipython3",
   "version": "3.6.6"
  }
 },
 "nbformat": 4,
 "nbformat_minor": 2
}
