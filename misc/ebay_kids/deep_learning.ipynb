{
 "cells": [
  {
   "cell_type": "code",
   "execution_count": 1,
   "metadata": {},
   "outputs": [],
   "source": [
    "import sys\n",
    "import pandas as pd\n",
    "import numpy as np\n",
    "import matplotlib.pyplot as plt\n",
    "from skimage import transform, color\n",
    "\n",
    "%matplotlib inline"
   ]
  },
  {
   "cell_type": "code",
   "execution_count": 2,
   "metadata": {},
   "outputs": [],
   "source": [
    "def check_mem():\n",
    "    # These are the usual ipython objects, including this one you are creating\n",
    "    ipython_vars = ['In', 'Out', 'exit', 'quit', 'get_ipython', 'ipython_vars']\n",
    "\n",
    "    # Get a sorted list of the objects and their sizes\n",
    "    print(sorted([(x, sys.getsizeof(globals().get(x))) for x in globals() if not x.startswith('_') and x not in sys.modules and x not in ipython_vars], key=lambda x: x[1], reverse=True))\n",
    "\n",
    "def get_file_list(df, folder, n_sample = None):\n",
    "    if n_sample is None:\n",
    "        file_ids_list = df.file_id.values\n",
    "    else:\n",
    "        file_ids_list = df.sample(n = n_sample).file_id.values\n",
    "    files_list = [folder + '/' + str(file_id) + '.jpg' for file_id in file_ids_list]\n",
    "    return files_list\n",
    "\n",
    "def read_image_and_resize(f, w = 100, h = 100):\n",
    "    img = plt.imread(f)\n",
    "    img = transform.resize(img, (w, h), mode='constant', anti_aliasing=True).astype('float32')\n",
    "    img = color.gray2rgb(img)\n",
    "    img = img[np.newaxis, :, :, :3]\n",
    "    if img.shape != (1, 100, 100, 3):\n",
    "        raise ValueError(f + str(img.shape))\n",
    "    return img\n",
    "\n",
    "def read_images_4d_array(files_list):\n",
    "    images_list = [read_image_and_resize(file) for file in files_list]\n",
    "    images_array = np.concatenate(images_list)\n",
    "    return images_array\n",
    "\n",
    "def get_images_matrix(csv_file, folder, n = None):\n",
    "    df = pd.read_csv(csv_file)\n",
    "    files_list = get_file_list(df, folder, n)\n",
    "    images = read_images_4d_array(files_list)\n",
    "    return images\n",
    "\n",
    "def get_all_pixels(x):\n",
    "    return x.reshape(-1, np.prod(x.shape[1:]))\n",
    "\n",
    "def get_final_matrices(n_train = None, n_test = None):\n",
    "    x_boys_train = get_images_matrix('boys_train.csv', 'boys', n_train)\n",
    "    x_boys_test = get_images_matrix('boys_test.csv', 'boys', n_test)\n",
    "    x_girls_train = get_images_matrix('girls_train.csv', 'girls', n_train)\n",
    "    x_girls_test = get_images_matrix('girls_test.csv', 'girls', n_test)\n",
    "    \n",
    "    x_boys_train_all = get_all_pixels(x_boys_train)\n",
    "    x_boys_test_all = get_all_pixels(x_boys_test)\n",
    "    x_girls_train_all = get_all_pixels(x_girls_train)\n",
    "    x_girls_test_all = get_all_pixels(x_girls_test)\n",
    "\n",
    "    x_train = np.vstack([x_boys_train_all, x_girls_train_all])\n",
    "    x_test = np.vstack([x_boys_test_all, x_girls_test_all])\n",
    "\n",
    "    y_boys_train = np.array([0] * x_boys_train.shape[0])\n",
    "    y_boys_test = np.array([0] * x_boys_test.shape[0])\n",
    "    y_girls_train = np.array([1] * x_girls_train.shape[0])\n",
    "    y_girls_test = np.array([1] * x_girls_test.shape[0])\n",
    "    y_train = np.concatenate([y_boys_train, y_girls_train])\n",
    "    y_test = np.concatenate([y_boys_test, y_girls_test])\n",
    "    \n",
    "    return x_train, x_test, y_train, y_test"
   ]
  },
  {
   "cell_type": "code",
   "execution_count": 3,
   "metadata": {},
   "outputs": [],
   "source": [
    "x_train, x_test, y_train, y_test = get_final_matrices()"
   ]
  },
  {
   "cell_type": "code",
   "execution_count": 4,
   "metadata": {},
   "outputs": [
    {
     "name": "stdout",
     "output_type": "stream",
     "text": [
      "[('x_train', 2400000112), ('x_test', 600000112), ('y_train', 160096), ('y_test', 40096), ('check_mem', 136), ('get_file_list', 136), ('read_image_and_resize', 136), ('read_images_4d_array', 136), ('get_images_matrix', 136), ('get_all_pixels', 136), ('get_final_matrices', 136), ('pd', 80), ('np', 80), ('plt', 80), ('transform', 80), ('color', 80)]\n"
     ]
    }
   ],
   "source": [
    "check_mem()"
   ]
  },
  {
   "cell_type": "markdown",
   "metadata": {},
   "source": [
    "## Neural Network / Multi-Layer Perceptron (MLP)"
   ]
  },
  {
   "cell_type": "code",
   "execution_count": 5,
   "metadata": {},
   "outputs": [
    {
     "name": "stderr",
     "output_type": "stream",
     "text": [
      "Using TensorFlow backend.\n"
     ]
    }
   ],
   "source": [
    "import keras\n",
    "from keras.models import Sequential\n",
    "from keras.layers import Dense, Dropout\n",
    "from keras.optimizers import RMSprop"
   ]
  },
  {
   "cell_type": "code",
   "execution_count": 24,
   "metadata": {},
   "outputs": [
    {
     "name": "stdout",
     "output_type": "stream",
     "text": [
      "20000 train samples\n",
      "5000 test samples\n"
     ]
    }
   ],
   "source": [
    "batch_size = 128\n",
    "epochs = 20\n",
    "\n",
    "# x_train = x_train.astype('float32')\n",
    "# x_test = x_test.astype('float32')\n",
    "# x_train /= 255\n",
    "# x_test /= 255\n",
    "print(x_train.shape[0], 'train samples')\n",
    "print(x_test.shape[0], 'test samples')"
   ]
  },
  {
   "cell_type": "code",
   "execution_count": 25,
   "metadata": {},
   "outputs": [
    {
     "name": "stdout",
     "output_type": "stream",
     "text": [
      "_________________________________________________________________\n",
      "Layer (type)                 Output Shape              Param #   \n",
      "=================================================================\n",
      "dense_27 (Dense)             (None, 512)               15360512  \n",
      "_________________________________________________________________\n",
      "dropout_20 (Dropout)         (None, 512)               0         \n",
      "_________________________________________________________________\n",
      "dense_28 (Dense)             (None, 256)               131328    \n",
      "_________________________________________________________________\n",
      "dropout_21 (Dropout)         (None, 256)               0         \n",
      "_________________________________________________________________\n",
      "dense_29 (Dense)             (None, 128)               32896     \n",
      "_________________________________________________________________\n",
      "dropout_22 (Dropout)         (None, 128)               0         \n",
      "_________________________________________________________________\n",
      "dense_30 (Dense)             (None, 64)                8256      \n",
      "_________________________________________________________________\n",
      "dropout_23 (Dropout)         (None, 64)                0         \n",
      "_________________________________________________________________\n",
      "dense_31 (Dense)             (None, 32)                2080      \n",
      "_________________________________________________________________\n",
      "dropout_24 (Dropout)         (None, 32)                0         \n",
      "_________________________________________________________________\n",
      "dense_32 (Dense)             (None, 16)                528       \n",
      "_________________________________________________________________\n",
      "dropout_25 (Dropout)         (None, 16)                0         \n",
      "_________________________________________________________________\n",
      "dense_33 (Dense)             (None, 1)                 17        \n",
      "=================================================================\n",
      "Total params: 15,535,617\n",
      "Trainable params: 15,535,617\n",
      "Non-trainable params: 0\n",
      "_________________________________________________________________\n"
     ]
    }
   ],
   "source": [
    "model = Sequential()\n",
    "model.add(Dense(512, activation='relu', input_shape=(30000,)))\n",
    "model.add(Dropout(0.2))\n",
    "model.add(Dense(256, activation='relu'))\n",
    "model.add(Dropout(0.2))\n",
    "model.add(Dense(128, activation='relu'))\n",
    "model.add(Dropout(0.2))\n",
    "model.add(Dense(64, activation='relu'))\n",
    "model.add(Dropout(0.2))\n",
    "model.add(Dense(32, activation='relu'))\n",
    "model.add(Dropout(0.2))\n",
    "model.add(Dense(16, activation='relu'))\n",
    "model.add(Dropout(0.2))\n",
    "model.add(Dense(1, activation='sigmoid'))\n",
    "\n",
    "model.summary()"
   ]
  },
  {
   "cell_type": "code",
   "execution_count": 26,
   "metadata": {},
   "outputs": [],
   "source": [
    "model.compile(loss='binary_crossentropy',\n",
    "              optimizer='adam',#RMSprop(),\n",
    "              metrics=['accuracy'])"
   ]
  },
  {
   "cell_type": "code",
   "execution_count": 27,
   "metadata": {},
   "outputs": [
    {
     "name": "stdout",
     "output_type": "stream",
     "text": [
      "Train on 20000 samples, validate on 5000 samples\n",
      "Epoch 1/20\n",
      "20000/20000 [==============================] - 27s 1ms/step - loss: 1.0891 - acc: 0.5110 - val_loss: 0.6863 - val_acc: 0.5474\n",
      "Epoch 2/20\n",
      "20000/20000 [==============================] - 27s 1ms/step - loss: 0.7025 - acc: 0.5261 - val_loss: 0.6876 - val_acc: 0.4892\n",
      "Epoch 3/20\n",
      "20000/20000 [==============================] - 27s 1ms/step - loss: 0.6790 - acc: 0.5537 - val_loss: 0.6635 - val_acc: 0.5978\n",
      "Epoch 4/20\n",
      "20000/20000 [==============================] - 27s 1ms/step - loss: 0.6522 - acc: 0.6117 - val_loss: 0.6083 - val_acc: 0.6662\n",
      "Epoch 5/20\n",
      "20000/20000 [==============================] - 28s 1ms/step - loss: 0.6271 - acc: 0.6526 - val_loss: 0.5936 - val_acc: 0.6918\n",
      "Epoch 6/20\n",
      "20000/20000 [==============================] - 28s 1ms/step - loss: 0.6106 - acc: 0.6742 - val_loss: 0.6066 - val_acc: 0.6762\n",
      "Epoch 7/20\n",
      "20000/20000 [==============================] - 28s 1ms/step - loss: 0.6004 - acc: 0.6819 - val_loss: 0.5836 - val_acc: 0.7256\n",
      "Epoch 8/20\n",
      "20000/20000 [==============================] - 28s 1ms/step - loss: 0.6004 - acc: 0.6775 - val_loss: 0.5833 - val_acc: 0.7306\n",
      "Epoch 9/20\n",
      "20000/20000 [==============================] - 29s 1ms/step - loss: 0.5838 - acc: 0.6950 - val_loss: 0.5627 - val_acc: 0.7326\n",
      "Epoch 10/20\n",
      "20000/20000 [==============================] - 29s 1ms/step - loss: 0.5752 - acc: 0.7067 - val_loss: 0.5688 - val_acc: 0.7306\n",
      "Epoch 11/20\n",
      "20000/20000 [==============================] - 28s 1ms/step - loss: 0.5783 - acc: 0.7045 - val_loss: 0.5582 - val_acc: 0.7096\n",
      "Epoch 12/20\n",
      "20000/20000 [==============================] - 28s 1ms/step - loss: 0.5693 - acc: 0.7070 - val_loss: 0.6222 - val_acc: 0.6840\n",
      "Epoch 13/20\n",
      "20000/20000 [==============================] - 28s 1ms/step - loss: 0.5632 - acc: 0.7076 - val_loss: 0.5547 - val_acc: 0.7420\n",
      "Epoch 14/20\n",
      "20000/20000 [==============================] - 31s 2ms/step - loss: 0.5694 - acc: 0.7137 - val_loss: 0.5460 - val_acc: 0.7428\n",
      "Epoch 15/20\n",
      "20000/20000 [==============================] - 28s 1ms/step - loss: 0.5685 - acc: 0.7144 - val_loss: 0.5445 - val_acc: 0.7118\n",
      "Epoch 16/20\n",
      "20000/20000 [==============================] - 28s 1ms/step - loss: 0.5647 - acc: 0.7078 - val_loss: 0.5671 - val_acc: 0.7288\n",
      "Epoch 17/20\n",
      "20000/20000 [==============================] - 28s 1ms/step - loss: 0.5520 - acc: 0.7190 - val_loss: 0.5294 - val_acc: 0.7474\n",
      "Epoch 18/20\n",
      "20000/20000 [==============================] - 28s 1ms/step - loss: 0.5508 - acc: 0.7224 - val_loss: 0.5439 - val_acc: 0.7282\n",
      "Epoch 19/20\n",
      "20000/20000 [==============================] - 28s 1ms/step - loss: 0.5428 - acc: 0.7262 - val_loss: 0.5364 - val_acc: 0.7432\n",
      "Epoch 20/20\n",
      "20000/20000 [==============================] - 28s 1ms/step - loss: 0.5525 - acc: 0.7205 - val_loss: 0.5414 - val_acc: 0.7412\n",
      "5000/5000 [==============================] - 2s 429us/step\n",
      "Test loss: 0.541369728279\n",
      "Test accuracy: 0.7412\n"
     ]
    }
   ],
   "source": [
    "history = model.fit(x_train, y_train,\n",
    "                    batch_size=batch_size,\n",
    "                    epochs=epochs,\n",
    "                    verbose=1,\n",
    "                    shuffle=True,\n",
    "                    validation_data=(x_test, y_test))\n",
    "\n",
    "score = model.evaluate(x_test, y_test, verbose=1)\n",
    "\n",
    "print('Test loss:', score[0])\n",
    "print('Test accuracy:', score[1])"
   ]
  },
  {
   "cell_type": "code",
   "execution_count": 33,
   "metadata": {},
   "outputs": [
    {
     "data": {
      "text/plain": [
       "<matplotlib.legend.Legend at 0x7f1bd7f507f0>"
      ]
     },
     "execution_count": 33,
     "metadata": {},
     "output_type": "execute_result"
    },
    {
     "data": {
      "image/png": "[encoded data removed]",
      "text/plain": [
       "<Figure size 432x288 with 1 Axes>"
      ]
     },
     "metadata": {
      "needs_background": "light"
     },
     "output_type": "display_data"
    }
   ],
   "source": [
    "plt.plot(history.history['acc'])\n",
    "plt.plot(history.history['val_acc'])\n",
    "plt.ylabel('accuracy')\n",
    "plt.xlabel('epoch')\n",
    "plt.legend(['train', 'test'], loc = 'upper left')"
   ]
  },
  {
   "cell_type": "markdown",
   "metadata": {},
   "source": [
    "## Convolutional Neural Network (CNN)"
   ]
  },
  {
   "cell_type": "code",
   "execution_count": 29,
   "metadata": {},
   "outputs": [],
   "source": [
    "from keras.layers import Dense, Dropout, Flatten\n",
    "from keras.layers import Conv2D, MaxPooling2D\n",
    "from keras import backend as K"
   ]
  },
  {
   "cell_type": "code",
   "execution_count": 30,
   "metadata": {},
   "outputs": [
    {
     "data": {
      "text/plain": [
       "'channels_last'"
      ]
     },
     "execution_count": 30,
     "metadata": {},
     "output_type": "execute_result"
    }
   ],
   "source": [
    "K.image_data_format()"
   ]
  },
  {
   "cell_type": "code",
   "execution_count": 31,
   "metadata": {},
   "outputs": [
    {
     "name": "stdout",
     "output_type": "stream",
     "text": [
      "_________________________________________________________________\n",
      "Layer (type)                 Output Shape              Param #   \n",
      "=================================================================\n",
      "conv2d_1 (Conv2D)            (None, 98, 98, 32)        896       \n",
      "_________________________________________________________________\n",
      "conv2d_2 (Conv2D)            (None, 96, 96, 64)        18496     \n",
      "_________________________________________________________________\n",
      "max_pooling2d_1 (MaxPooling2 (None, 48, 48, 64)        0         \n",
      "_________________________________________________________________\n",
      "dropout_26 (Dropout)         (None, 48, 48, 64)        0         \n",
      "_________________________________________________________________\n",
      "flatten_1 (Flatten)          (None, 147456)            0         \n",
      "_________________________________________________________________\n",
      "dense_34 (Dense)             (None, 128)               18874496  \n",
      "_________________________________________________________________\n",
      "dropout_27 (Dropout)         (None, 128)               0         \n",
      "_________________________________________________________________\n",
      "dense_35 (Dense)             (None, 1)                 129       \n",
      "=================================================================\n",
      "Total params: 18,894,017\n",
      "Trainable params: 18,894,017\n",
      "Non-trainable params: 0\n",
      "_________________________________________________________________\n"
     ]
    }
   ],
   "source": [
    "# input image dimensions\n",
    "img_rows, img_cols, channels = 100, 100, 3\n",
    "\n",
    "x_train = x_train.reshape(x_train.shape[0], img_rows, img_cols, channels)\n",
    "x_test = x_test.reshape(x_test.shape[0], img_rows, img_cols, channels)\n",
    "input_shape = (img_rows, img_cols, channels)\n",
    "\n",
    "model = Sequential()\n",
    "model.add(Conv2D(32, kernel_size=(3, 3),\n",
    "                 activation='relu',\n",
    "                 input_shape=input_shape))\n",
    "model.add(Conv2D(64, (3, 3), activation='relu'))\n",
    "model.add(MaxPooling2D(pool_size=(2, 2)))\n",
    "model.add(Dropout(0.25))\n",
    "model.add(Flatten())\n",
    "model.add(Dense(128, activation='relu'))\n",
    "model.add(Dropout(0.5))\n",
    "model.add(Dense(1, activation='sigmoid'))\n",
    "\n",
    "model.summary()"
   ]
  },
  {
   "cell_type": "code",
   "execution_count": 32,
   "metadata": {},
   "outputs": [
    {
     "name": "stdout",
     "output_type": "stream",
     "text": [
      "Train on 20000 samples, validate on 5000 samples\n",
      "Epoch 1/20\n",
      "20000/20000 [==============================] - 224s 11ms/step - loss: 0.6638 - acc: 0.7125 - val_loss: 0.4711 - val_acc: 0.7826\n",
      "Epoch 2/20\n",
      "20000/20000 [==============================] - 239s 12ms/step - loss: 0.4299 - acc: 0.8005 - val_loss: 0.4422 - val_acc: 0.7858\n",
      "Epoch 3/20\n",
      "20000/20000 [==============================] - 265s 13ms/step - loss: 0.3636 - acc: 0.8402 - val_loss: 0.3910 - val_acc: 0.8260\n",
      "Epoch 4/20\n",
      "20000/20000 [==============================] - 275s 14ms/step - loss: 0.2974 - acc: 0.8728 - val_loss: 0.3776 - val_acc: 0.8370\n",
      "Epoch 5/20\n",
      "20000/20000 [==============================] - 259s 13ms/step - loss: 0.2323 - acc: 0.9066 - val_loss: 0.4104 - val_acc: 0.8208\n",
      "Epoch 6/20\n",
      "20000/20000 [==============================] - 252s 13ms/step - loss: 0.1848 - acc: 0.9280 - val_loss: 0.4115 - val_acc: 0.8338\n",
      "Epoch 7/20\n",
      "20000/20000 [==============================] - 252s 13ms/step - loss: 0.1341 - acc: 0.9501 - val_loss: 0.4646 - val_acc: 0.8402\n",
      "Epoch 8/20\n",
      "20000/20000 [==============================] - 259s 13ms/step - loss: 0.1093 - acc: 0.9605 - val_loss: 0.4921 - val_acc: 0.8374\n",
      "Epoch 9/20\n",
      "20000/20000 [==============================] - 261s 13ms/step - loss: 0.0867 - acc: 0.9698 - val_loss: 0.5136 - val_acc: 0.8426\n",
      "Epoch 10/20\n",
      "20000/20000 [==============================] - 252s 13ms/step - loss: 0.0756 - acc: 0.9751 - val_loss: 0.5677 - val_acc: 0.8420\n",
      "Epoch 11/20\n",
      "20000/20000 [==============================] - 269s 13ms/step - loss: 0.0611 - acc: 0.9800 - val_loss: 0.5553 - val_acc: 0.8362\n",
      "Epoch 12/20\n",
      "20000/20000 [==============================] - 251s 13ms/step - loss: 0.0574 - acc: 0.9811 - val_loss: 0.6048 - val_acc: 0.8426\n",
      "Epoch 13/20\n",
      "20000/20000 [==============================] - 248s 12ms/step - loss: 0.0489 - acc: 0.9850 - val_loss: 0.6292 - val_acc: 0.8460\n",
      "Epoch 14/20\n",
      "20000/20000 [==============================] - 249s 12ms/step - loss: 0.0447 - acc: 0.9859 - val_loss: 0.5989 - val_acc: 0.8460\n",
      "Epoch 15/20\n",
      "20000/20000 [==============================] - 263s 13ms/step - loss: 0.0443 - acc: 0.9869 - val_loss: 0.6289 - val_acc: 0.8440\n",
      "Epoch 16/20\n",
      "20000/20000 [==============================] - 256s 13ms/step - loss: 0.0435 - acc: 0.9864 - val_loss: 0.6558 - val_acc: 0.8480\n",
      "Epoch 17/20\n",
      "20000/20000 [==============================] - 250s 12ms/step - loss: 0.0357 - acc: 0.9890 - val_loss: 0.7068 - val_acc: 0.8506\n",
      "Epoch 18/20\n",
      "20000/20000 [==============================] - 249s 12ms/step - loss: 0.0342 - acc: 0.9886 - val_loss: 0.6780 - val_acc: 0.8396\n",
      "Epoch 19/20\n",
      "20000/20000 [==============================] - 256s 13ms/step - loss: 0.0339 - acc: 0.9898 - val_loss: 0.7366 - val_acc: 0.8470\n",
      "Epoch 20/20\n",
      "20000/20000 [==============================] - 255s 13ms/step - loss: 0.0348 - acc: 0.9887 - val_loss: 0.7273 - val_acc: 0.8398\n",
      "5000/5000 [==============================] - 18s 4ms/step\n",
      "Test loss: 0.727274017382\n",
      "Test accuracy: 0.8398\n"
     ]
    }
   ],
   "source": [
    "model.compile(loss='binary_crossentropy',\n",
    "              optimizer='adam',\n",
    "              metrics=['accuracy'])\n",
    "\n",
    "history = model.fit(x_train, y_train,\n",
    "                    batch_size=batch_size,\n",
    "                    epochs=epochs,\n",
    "                    verbose=1,\n",
    "                    shuffle=True,\n",
    "                    validation_data=(x_test, y_test))\n",
    "\n",
    "score = model.evaluate(x_test, y_test, verbose=1)\n",
    "\n",
    "print('Test loss:', score[0])\n",
    "print('Test accuracy:', score[1])"
   ]
  }
 ],
 "metadata": {
  "kernelspec": {
   "display_name": "Python 3",
   "language": "python",
   "name": "python3"
  },
  "language_info": {
   "codemirror_mode": {
    "name": "ipython",
    "version": 3
   },
   "file_extension": ".py",
   "mimetype": "text/x-python",
   "name": "python",
   "nbconvert_exporter": "python",
   "pygments_lexer": "ipython3",
   "version": "3.6.6"
  }
 },
 "nbformat": 4,
 "nbformat_minor": 2
}
