{
 "cells": [
  {
   "cell_type": "markdown",
   "metadata": {},
   "source": [
    "# Assign and print"
   ]
  },
  {
   "cell_type": "code",
   "execution_count": 1,
   "metadata": {},
   "outputs": [
    {
     "name": "stdout",
     "output_type": "stream",
     "text": [
      "x = 1 y = 3\n",
      "x = 1, y = 3\n",
      "x = 1, y = 3\n"
     ]
    }
   ],
   "source": [
    "x = 1\n",
    "y = x + 2\n",
    "\n",
    "# many options for printing:\n",
    "print (\"x =\", x, \"y =\", y)\n",
    "print(\"x = %d, y = %d\" % (x, y))\n",
    "print(\"x = {0}, y = {1}\".format(x,y))\n",
    "# print(f'x = {x}, y = {y}') # uncomment only if working on python 3.6 and above"
   ]
  },
  {
   "cell_type": "markdown",
   "metadata": {},
   "source": [
    "# Flow commands and Loops"
   ]
  },
  {
   "cell_type": "code",
   "execution_count": 2,
   "metadata": {},
   "outputs": [
    {
     "name": "stdout",
     "output_type": "stream",
     "text": [
      "x is between 0 and 7\n"
     ]
    }
   ],
   "source": [
    "if x > 7 : \n",
    "    print(\"x is bigger than 7\")\n",
    "elif x < 0:\n",
    "    print(\"x is smaller than 0\")\n",
    "else:\n",
    "    print(\"x is between 0 and 7\")"
   ]
  },
  {
   "cell_type": "code",
   "execution_count": 3,
   "metadata": {},
   "outputs": [
    {
     "name": "stdout",
     "output_type": "stream",
     "text": [
      "0\n",
      "1\n",
      "2\n",
      "3\n",
      "4\n"
     ]
    }
   ],
   "source": [
    "for i in range(5):\n",
    "    print(i)\n",
    "    \n",
    "# notice zero-based indexing!\n",
    "# i will go from zero UP TO 5, not including"
   ]
  },
  {
   "cell_type": "code",
   "execution_count": 4,
   "metadata": {},
   "outputs": [
    {
     "name": "stdout",
     "output_type": "stream",
     "text": [
      "2\n",
      "5\n",
      "8\n"
     ]
    }
   ],
   "source": [
    "for i in range(2, 10, 3) : \n",
    "    print(i)"
   ]
  },
  {
   "cell_type": "code",
   "execution_count": 5,
   "metadata": {},
   "outputs": [
    {
     "name": "stdout",
     "output_type": "stream",
     "text": [
      "range(2, 6)\n"
     ]
    }
   ],
   "source": [
    "# note that this is an object and not the numbers - more on that later\n",
    "print(range(2,6))  "
   ]
  },
  {
   "cell_type": "code",
   "execution_count": 6,
   "metadata": {},
   "outputs": [
    {
     "name": "stdout",
     "output_type": "stream",
     "text": [
      "a = 12\n",
      "a = 13\n",
      "a = 14\n",
      "a = 15\n",
      "a = 16\n"
     ]
    }
   ],
   "source": [
    "a = 12\n",
    "\n",
    "while a < 17 : \n",
    "    print(\"a =\",a)\n",
    "    a += 1  # like ++ in C++"
   ]
  },
  {
   "cell_type": "markdown",
   "metadata": {},
   "source": [
    "# Strings "
   ]
  },
  {
   "cell_type": "code",
   "execution_count": 7,
   "metadata": {},
   "outputs": [
    {
     "data": {
      "text/plain": [
       "True"
      ]
     },
     "execution_count": 7,
     "metadata": {},
     "output_type": "execute_result"
    }
   ],
   "source": [
    "s1 = 'string'\n",
    "s2 = \"string\"\n",
    "s1 == s2"
   ]
  },
  {
   "cell_type": "code",
   "execution_count": 8,
   "metadata": {},
   "outputs": [
    {
     "data": {
      "text/plain": [
       "'12345678'"
      ]
     },
     "execution_count": 8,
     "metadata": {},
     "output_type": "execute_result"
    }
   ],
   "source": [
    "a = '12345' '678'\n",
    "a"
   ]
  },
  {
   "cell_type": "code",
   "execution_count": 9,
   "metadata": {},
   "outputs": [
    {
     "name": "stdout",
     "output_type": "stream",
     "text": [
      "abcddef\n"
     ]
    }
   ],
   "source": [
    "b = 'abcd' \\\n",
    "'def'\n",
    "print(b)"
   ]
  },
  {
   "cell_type": "code",
   "execution_count": 10,
   "metadata": {},
   "outputs": [
    {
     "data": {
      "text/plain": [
       "'bc'"
      ]
     },
     "execution_count": 10,
     "metadata": {},
     "output_type": "execute_result"
    }
   ],
   "source": [
    "# subsetting a string (notice zero-based indexing!)\n",
    "b[1:3]"
   ]
  },
  {
   "cell_type": "code",
   "execution_count": 11,
   "metadata": {},
   "outputs": [
    {
     "data": {
      "text/plain": [
       "'12345678abcddef'"
      ]
     },
     "execution_count": 11,
     "metadata": {},
     "output_type": "execute_result"
    }
   ],
   "source": [
    "# concatenating strings\n",
    "a + b"
   ]
  },
  {
   "cell_type": "code",
   "execution_count": 12,
   "metadata": {},
   "outputs": [
    {
     "data": {
      "text/plain": [
       "'12345678abcddef'"
      ]
     },
     "execution_count": 12,
     "metadata": {},
     "output_type": "execute_result"
    }
   ],
   "source": [
    "a += b\n",
    "a"
   ]
  },
  {
   "cell_type": "code",
   "execution_count": 13,
   "metadata": {},
   "outputs": [],
   "source": [
    "# easy printing with string literals, a.k.a f-strings, since python 3.6:\n",
    "name = 'John'\n",
    "# print(f'{name} is learning python') # uncomment only if working on python 3.6 and above"
   ]
  },
  {
   "cell_type": "code",
   "execution_count": 14,
   "metadata": {},
   "outputs": [
    {
     "name": "stdout",
     "output_type": "stream",
     "text": [
      "12445678abcddef\n",
      "12345678abcddef\n",
      "True\n",
      "nnnnn\n",
      "12345678ABCDDEF\n",
      "['three', 'words', 'sentence']\n",
      "three words sentence\n"
     ]
    }
   ],
   "source": [
    "# one of python's greatest strengths is how it deals with strings:\n",
    "print(a.replace('3', '4'))\n",
    "print(a) # notice a did not change!\n",
    "print(a.startswith('1'))\n",
    "print('n' * 5)\n",
    "print(a.upper())\n",
    "print('three words sentence'.split())\n",
    "print(' '.join(['three', 'words', 'sentence']))"
   ]
  },
  {
   "cell_type": "markdown",
   "metadata": {},
   "source": [
    "# Types - part I"
   ]
  },
  {
   "cell_type": "code",
   "execution_count": 15,
   "metadata": {},
   "outputs": [
    {
     "name": "stdout",
     "output_type": "stream",
     "text": [
      "Integers can be unbounded (unlike in C or Java) 12345678901234567891\n"
     ]
    }
   ],
   "source": [
    "a = 12345678901234567890\n",
    "a = a + 1\n",
    "print(\"Integers can be unbounded (unlike in C or Java)\", a)"
   ]
  },
  {
   "cell_type": "code",
   "execution_count": 16,
   "metadata": {},
   "outputs": [
    {
     "name": "stdout",
     "output_type": "stream",
     "text": [
      "b/2 = 2.5 , integer division: b//2 = 2\n",
      "This is the main difference between Python 2.7 and Python 3\n"
     ]
    }
   ],
   "source": [
    "b = 5\n",
    "print(\"b/2 =\", b / 2, \", integer division: b//2 =\", b // 2)\n",
    "print(\"This is the main difference between Python 2.7 and Python 3\")"
   ]
  },
  {
   "cell_type": "code",
   "execution_count": 17,
   "metadata": {
    "scrolled": true
   },
   "outputs": [
    {
     "name": "stdout",
     "output_type": "stream",
     "text": [
      "a = [1, 7, 6, 3] len(a) = 4\n",
      "remember the range command? list(range(2,6)) =  [2, 3, 4, 5]\n",
      "[1, 7, 6, 3, 'x']\n",
      "[1, 7, 6, 3, 'x', ['y', 'z']]\n",
      "[1, 7, 6, 3, 'x', ['y', 'z'], 'y', 'z']\n",
      "d = [1, 7, 6, 3, 'x', ['y', 'z'], 'y', 'z', 'v', 'w']\n",
      "[1, 7, 6, 3, 'x', ['y', 'z'], 'y', 'z', 'v', 'w', 'm', 'p']\n",
      "[1, 'ttt', 6, 3, 'x', ['y', 'z'], 'y', 'z', 'v', 'w', 'm', 'p']\n",
      "0\n",
      "1\n",
      "6\n"
     ]
    }
   ],
   "source": [
    "# lists\n",
    "\n",
    "a = [1,7,6,3]\n",
    "print('a =', a, 'len(a) =', len(a))\n",
    "\n",
    "print('remember the range command? list(range(2,6)) = ', list(range(2,6)))\n",
    "\n",
    "a.append('x')\n",
    "print(a)\n",
    "\n",
    "# beware of appending lists to list:\n",
    "b = ['y', 'z']\n",
    "a.append(b)\n",
    "print(a)\n",
    "\n",
    "# do it with extend:\n",
    "a.extend(b)\n",
    "print(a)\n",
    "\n",
    "# or:\n",
    "c = ['v','w']\n",
    "d = a + c\n",
    "print('d =', d)\n",
    "\n",
    "# or:\n",
    "d += ['m', 'p']\n",
    "print(d)\n",
    "\n",
    "d[1] = 'ttt'\n",
    "print(d)\n",
    "\n",
    "# again one of python's greatest strengths is how it deals with lists:\n",
    "print(d.index(1))\n",
    "print(d.count(1))\n",
    "print(sum([1, 2, 3]))"
   ]
  },
  {
   "cell_type": "code",
   "execution_count": 18,
   "metadata": {},
   "outputs": [
    {
     "name": "stdout",
     "output_type": "stream",
     "text": [
      "(2, 4, 'b')\n",
      "c = (2, 4, 'b', '5', '6')\n"
     ]
    }
   ],
   "source": [
    "# tuples\n",
    "a = (2,4,'b')\n",
    "print(a)\n",
    "\n",
    "b = ('5','6')\n",
    "c = a + b\n",
    "\n",
    "print(\"c =\", c)\n"
   ]
  },
  {
   "cell_type": "markdown",
   "metadata": {},
   "source": [
    "# immutable objects"
   ]
  },
  {
   "cell_type": "code",
   "execution_count": 19,
   "metadata": {},
   "outputs": [
    {
     "name": "stdout",
     "output_type": "stream",
     "text": [
      "Here I convert a string to a tuple\n",
      "tp = ('a', 'b', 'c', 'd', 'e', 'f')\n",
      "tp is a list = [1, 2, 5, 7]\n",
      "Now I convert it to a tuple\n",
      "tp is a tuple = (1, 2, 5, 7)\n",
      "Now I unpack the tuple to variables, a = 1 b = 2 c = 5 d = 7\n",
      "tuples are immutable object !!!!\n",
      "so are strings\n",
      "what does it imply ?\n",
      "If I run a[1] = 3 I would get and error\n"
     ]
    }
   ],
   "source": [
    "print(\"Here I convert a string to a tuple\")\n",
    "tp = tuple('abcdef')\n",
    "print(\"tp =\",tp)\n",
    "\n",
    "tp = [1, 2, 5, 7]\n",
    "print(\"tp is a list =\", tp)\n",
    "print(\"Now I convert it to a tuple\")\n",
    "tp = tuple(tp)\n",
    "print(\"tp is a tuple =\",tp)\n",
    "\n",
    "a, b, c, d = tp\n",
    "print(\"Now I unpack the tuple to variables, a =\", a, \"b =\", b, \"c =\", c, \"d =\", d)\n",
    "\n",
    "print('''tuples are immutable object !!!!\n",
    "so are strings\n",
    "what does it imply ?''') \n",
    "\n",
    "print(\"If I run a[1] = 3 I would get and error\")  \n"
   ]
  },
  {
   "cell_type": "code",
   "execution_count": 20,
   "metadata": {},
   "outputs": [
    {
     "name": "stdout",
     "output_type": "stream",
     "text": [
      "These two lines:\n",
      "    a = 'abcde'\n",
      "    a[2] = 'f'\n",
      "would also give an error for the same reason\n"
     ]
    }
   ],
   "source": [
    "print(\n",
    "'''These two lines:\n",
    "    a = 'abcde'\n",
    "    a[2] = 'f'\n",
    "would also give an error for the same reason''')"
   ]
  },
  {
   "cell_type": "code",
   "execution_count": 21,
   "metadata": {},
   "outputs": [
    {
     "name": "stdout",
     "output_type": "stream",
     "text": [
      "For more info on immutable: https://medium.com/@meghamohan/mutable-and-immutable-side-of-python-c2145cf72747\n"
     ]
    }
   ],
   "source": [
    "print(\"For more info on immutable: https://medium.com/@meghamohan/mutable-and-immutable-side-of-python-c2145cf72747\")"
   ]
  },
  {
   "cell_type": "markdown",
   "metadata": {},
   "source": [
    "# Types - part II"
   ]
  },
  {
   "cell_type": "code",
   "execution_count": 22,
   "metadata": {},
   "outputs": [
    {
     "name": "stdout",
     "output_type": "stream",
     "text": [
      "type(x) = <class 'int'>\n",
      "type(x) = <class 'float'>\n",
      "type(x) = <class 'str'> x = 2 4 * x = 2222\n"
     ]
    }
   ],
   "source": [
    "# simple type conversion\n",
    "x = 2\n",
    "print(\"type(x) =\", type(x))\n",
    "\n",
    "x = float(x)\n",
    "print(\"type(x) =\", type(x))\n",
    "\n",
    "x = int(x)\n",
    "x = str(x)\n",
    "print(\"type(x) =\", type(x), \"x =\", x, \"4 * x =\", 4 * x)"
   ]
  },
  {
   "cell_type": "code",
   "execution_count": 23,
   "metadata": {},
   "outputs": [
    {
     "name": "stdout",
     "output_type": "stream",
     "text": [
      "type of x = <class 'float'> x = 2.5\n",
      "type of y = <class 'int'> y = 2\n",
      "type of y + 2 = <class 'int'>\n",
      "type of y / 2 = <class 'float'> y / 2= 1.0\n",
      "type of x / y= <class 'float'> x / y = 1.25\n",
      "type of int(x) / y = <class 'float'> int(x) / y = 1.0\n",
      "type of int(x) / int(y) = <class 'float'> int(x) / int(y) = 1.0\n",
      "\n",
      "type of type(x // y) = <class 'float'> x // y = 1.0\n",
      "type of type(int(x) // y) = <class 'int'> int(x) // y = 1\n",
      "type of int(x) // int(y) = <class 'int'> int(x) // int(y) = 1\n",
      "\n",
      "type of type(x % y) = <class 'float'> x % y = 0.5\n"
     ]
    }
   ],
   "source": [
    "# float/int division\n",
    "x = 2.5\n",
    "print(\"type of x =\", type(x), \"x =\", x)\n",
    "\n",
    "y = 2\n",
    "print(\"type of y =\", type(y), \"y =\", y)\n",
    "print(\"type of y + 2 =\", type(y + 2))\n",
    "print(\"type of y / 2 =\", type(y / 2), \"y / 2=\", y / 2)\n",
    "\n",
    "print(\"type of x / y=\", type(x / y), \"x / y =\", x / y)\n",
    "\n",
    "print(\"type of int(x) / y =\", type(int(x) / y), \"int(x) / y =\", int(x) / y)\n",
    "print(\"type of int(x) / int(y) =\", type(int(x) / int(y)), \"int(x) / int(y) =\", int(x) / int(y))\n",
    "\n",
    "# to get int division\n",
    "print()\n",
    "print(\"type of type(x // y) =\", type(x // y), \"x // y =\", x // y)\n",
    "print(\"type of type(int(x) // y) =\", type(int(x) // y), \"int(x) // y =\", int(x) // y)\n",
    "print(\"type of int(x) // int(y) =\", type(int(x) // int(y)), \"int(x) // int(y) =\", int(x) // int(y))\n",
    "\n",
    "# to get remainder\n",
    "print()\n",
    "print(\"type of type(x % y) =\", type(x % y), \"x % y =\", x % y)"
   ]
  },
  {
   "cell_type": "code",
   "execution_count": 24,
   "metadata": {},
   "outputs": [
    {
     "name": "stdout",
     "output_type": "stream",
     "text": [
      "This is a nice type, type(a) = <class 'NoneType'>\n"
     ]
    }
   ],
   "source": [
    "a = None\n",
    "\n",
    "print(\"This is a nice type, type(a) =\", type(a))"
   ]
  },
  {
   "cell_type": "markdown",
   "metadata": {},
   "source": [
    "# Functions and scopes"
   ]
  },
  {
   "cell_type": "code",
   "execution_count": 25,
   "metadata": {},
   "outputs": [
    {
     "name": "stdout",
     "output_type": "stream",
     "text": [
      "x before calling f: 1\n",
      "x in f is: 2\n",
      "x after calling f: 1\n"
     ]
    }
   ],
   "source": [
    "x = 1\n",
    "\n",
    "def f(x) : \n",
    "    x = 2\n",
    "    print(\"x in f is:\",x)\n",
    "    \n",
    "print(\"x before calling f:\",x)\n",
    "\n",
    "f(x)\n",
    "print(\"x after calling f:\",x)"
   ]
  },
  {
   "cell_type": "code",
   "execution_count": 26,
   "metadata": {},
   "outputs": [
    {
     "name": "stdout",
     "output_type": "stream",
     "text": [
      "y before g: 1\n",
      "y in g: 3\n",
      "y after calling g: 3\n"
     ]
    }
   ],
   "source": [
    "# declaring a variable in a function is \"global\"\n",
    "def g() : \n",
    "    global y\n",
    "    y = 3\n",
    "    print(\"y in g:\", y)\n",
    "    \n",
    "y = 1\n",
    "print(\"y before g:\", y)\n",
    "g()\n",
    "print(\"y after calling g:\", y)"
   ]
  },
  {
   "cell_type": "markdown",
   "metadata": {},
   "source": [
    "# Datetime"
   ]
  },
  {
   "cell_type": "code",
   "execution_count": 27,
   "metadata": {},
   "outputs": [
    {
     "name": "stdout",
     "output_type": "stream",
     "text": [
      "year = 2018 month = 10 day = 16 hour = 21 minute = 1\n",
      "d = 10/16/2018 21:01\n",
      "d1 = 01/24/2017\n",
      "datetime also supports timedelta function, in format of: (days,seconds)\n",
      "d + delta = 2018-11-05 22:01:00\n"
     ]
    }
   ],
   "source": [
    "import datetime as dt\n",
    "d = dt.datetime(2018, 10, 16, 21, 1, 0)\n",
    "\n",
    "print(\"year =\", d.year, \"month =\", d.month, \"day =\", d.day, \"hour =\", d.hour, \"minute =\", d.minute)\n",
    "print('d =', d.strftime('%m/%d/%Y %H:%M'))\n",
    "\n",
    "d1 = dt.datetime.strptime('20170124', '%Y%m%d')\n",
    "print('d1 =', d1.strftime('%m/%d/%Y'))\n",
    "\n",
    "print(\"datetime also supports timedelta function, in format of: (days,seconds)\")\n",
    "delta = dt.timedelta(20, 3600)\n",
    "print(\"d + delta =\", d + delta)"
   ]
  },
  {
   "cell_type": "markdown",
   "metadata": {},
   "source": [
    "# More on types:"
   ]
  },
  {
   "cell_type": "code",
   "execution_count": 28,
   "metadata": {},
   "outputs": [
    {
     "name": "stdout",
     "output_type": "stream",
     "text": [
      "Some more tuple examples:\n",
      "f = 1, s = 2\n",
      "f = a, s = b\n",
      "f = 3, s = c\n",
      "t = (2, 5, 34, 6, 4, 5, 2, 2, 1) t.count(2) = 3\n"
     ]
    }
   ],
   "source": [
    "print(\"Some more tuple examples:\")\n",
    "\n",
    "# unpacking tuples in a list of tuples:\n",
    "seq = [(1, 2), ('a', 'b'), (3, 'c')]\n",
    "for f, s in seq:\n",
    "    print(\"f = {0}, s = {1}\".format(f, s))\n",
    "    \n",
    "t = (2, 5, 34, 6, 4, 5, 2, 2, 1)\n",
    "print(\"t =\", t, \"t.count(2) =\", t.count(2))\n"
   ]
  },
  {
   "cell_type": "code",
   "execution_count": 29,
   "metadata": {},
   "outputs": [
    {
     "name": "stdout",
     "output_type": "stream",
     "text": [
      "Some more list examples:\n",
      "l = ['ab', 1, False]\n",
      "After changing l, l = ['ab', 2, False]\n",
      "After appending l, l = ['ab', 2, False, 7]\n",
      "pop erase an element from l, l = ['ab', 2, 7]\n",
      "l = ['ab', 2, 7] l2 = [8, 7] l3 = l + l2 = ['ab', 2, 7, 8, 7]\n",
      "extend is faster, l.extend(l2) = ['ab', 2, 7, 8, 7]\n",
      "l_unsorted= [4, 3, 0, 7, 8, 6]\n",
      "l_unsorted.sort() sorts the list, l_unsorted = [0, 3, 4, 6, 7, 8]\n",
      "binary search, bisect.bisect(l_unsorted, 5) = 3\n"
     ]
    }
   ],
   "source": [
    "print(\"Some more list examples:\")\n",
    "\n",
    "l = ['ab', 1, False]\n",
    "print(\"l =\", l)\n",
    "\n",
    "l[1] = 2\n",
    "print(\"After changing l, l =\", l)\n",
    "\n",
    "l.append(7)\n",
    "print(\"After appending l, l =\", l)\n",
    "l.pop(2)\n",
    "print(\"pop erase an element from l, l =\", l)\n",
    "\n",
    "l2 = [8, 7]\n",
    "l3 = l + l2\n",
    "print(\"l =\", l, \"l2 =\", l2, \"l3 = l + l2 =\", l3)\n",
    "\n",
    "l.extend(l2)\n",
    "print(\"extend is faster, l.extend(l2) =\", l)\n",
    "\n",
    "l_unsorted = [4, 3, 0, 7, 8, 6]\n",
    "print(\"l_unsorted=\", l_unsorted)\n",
    "l_unsorted.sort()\n",
    "print(\"l_unsorted.sort() sorts the list, l_unsorted =\",l_unsorted)\n",
    "\n",
    "import bisect\n",
    "print(\"binary search, bisect.bisect(l_unsorted, 5) =\", bisect.bisect(l_unsorted, 5))"
   ]
  },
  {
   "cell_type": "code",
   "execution_count": 30,
   "metadata": {},
   "outputs": [
    {
     "name": "stdout",
     "output_type": "stream",
     "text": [
      "important notice for R users:\n",
      "This will not do what you think!\n",
      "[0, 1, 2, 0, 1, 2]\n",
      "and this will simply not work!\n",
      "Did you mean to use numpy?...\n"
     ]
    }
   ],
   "source": [
    "print(\"important notice for R users:\\nThis will not do what you think!\")\n",
    "print([0, 1, 2] * 2)\n",
    "print(\"and this will simply not work!\")\n",
    "try:\n",
    "    print([0, 1, 2] / 2)\n",
    "except:\n",
    "    print(\"Did you mean to use numpy?...\")"
   ]
  },
  {
   "cell_type": "markdown",
   "metadata": {},
   "source": [
    "# Indexing"
   ]
  },
  {
   "cell_type": "code",
   "execution_count": 31,
   "metadata": {},
   "outputs": [
    {
     "name": "stdout",
     "output_type": "stream",
     "text": [
      "l = [0, 1, 2, 3, 4, 5] , l[2:4] = [2, 3]\n",
      "1 to end is: l[1:] = [1, 2, 3, 4, 5]\n",
      "start to 2 is: l[:2] = [0, 1]\n",
      "negative is offset from the end: l[-2:] = [4, 5]\n",
      "from:to:jump is l[1::2] = [1, 3, 5]\n"
     ]
    }
   ],
   "source": [
    "l = [0, 1, 2, 3, 4, 5]\n",
    "print(\"l =\", l, \", l[2:4] =\", l[2:4])\n",
    "\n",
    "print(\"1 to end is: l[1:] =\", l[1:])\n",
    "print(\"start to 2 is: l[:2] =\", l[:2])\n",
    "print(\"negative is offset from the end: l[-2:] =\", l[-2:])\n",
    "print(\"from:to:jump is l[1::2] =\", l[1::2])"
   ]
  },
  {
   "cell_type": "code",
   "execution_count": 32,
   "metadata": {},
   "outputs": [
    {
     "name": "stdout",
     "output_type": "stream",
     "text": [
      "l = ['a', 'b', 'c']\n",
      "i = 0  val = a\n",
      "i = 1  val = b\n",
      "i = 2  val = c\n",
      "\n",
      "[(1, 4), (2, 5), (3, 6)]\n"
     ]
    }
   ],
   "source": [
    "# use enumerate() to iterate over (element_id, element) tuples:\n",
    "l = ['a', 'b', 'c']\n",
    "print(\"l =\", l)\n",
    "for i, val in enumerate(l):\n",
    "    print(\"i =\", i, \" val =\",val)\n",
    "\n",
    "# use zip() to bind two lists into a list of tuples. zip is an object, to see the list use list()\n",
    "print()\n",
    "l1 = [1, 2, 3]\n",
    "l2 = [4, 5, 6]\n",
    "print(list(zip(l1, l2)))"
   ]
  },
  {
   "cell_type": "markdown",
   "metadata": {},
   "source": [
    "# Set and dict"
   ]
  },
  {
   "cell_type": "code",
   "execution_count": 33,
   "metadata": {},
   "outputs": [
    {
     "name": "stdout",
     "output_type": "stream",
     "text": [
      "d1 is a dictionary, d1 = {'a': 0, 'b': 1, 'c': 3}\n",
      "d1 after addition, d1 = {'a': 0, 'b': 1, 'c': 3, 'd': 4}\n",
      "d1 after change, d1 = {'a': 2, 'b': 1, 'c': 3, 'd': 4}\n",
      "d1 after deletion, d1 =  {'a': 2, 'c': 3, 'd': 4}\n",
      "d1 after update (note that the key a has changed and the key x was added), d1 = {'a': 3, 'c': 3, 'd': 4, 'x': 2}\n",
      "d1.keys() = dict_keys(['a', 'c', 'd', 'x'])\n",
      "d1.values() = dict_values([3, 3, 4, 2])\n"
     ]
    }
   ],
   "source": [
    "# dictionaries is one of the most important data structures in python!\n",
    "d1 = {'a': 0, 'b': 1, 'c': 3}\n",
    "print(\"d1 is a dictionary, d1 =\", d1)\n",
    "\n",
    "# adding another key:value pair:\n",
    "d1['d'] = 4\n",
    "print(\"d1 after addition, d1 =\", d1)\n",
    "\n",
    "# changing an existing key:value pair:\n",
    "d1['a'] = 2\n",
    "print(\"d1 after change, d1 =\", d1)\n",
    "\n",
    "# removing a key:value pair: (see also pop())\n",
    "del d1['b']\n",
    "print(\"d1 after deletion, d1 = \", d1)\n",
    "\n",
    "# concatenating dictionaries:\n",
    "d1.update({'x': 2, 'a': 3})\n",
    "print(\"d1 after update (note that the key a has changed and the key x was added), d1 =\", d1)\n",
    "\n",
    "# getting all keys/values: (use list() to actually turn these into a list)\n",
    "print(\"d1.keys() =\", d1.keys())\n",
    "print(\"d1.values() =\", d1.values())"
   ]
  },
  {
   "cell_type": "code",
   "execution_count": 34,
   "metadata": {},
   "outputs": [
    {
     "name": "stdout",
     "output_type": "stream",
     "text": [
      "a 3\n",
      "c 3\n",
      "d 4\n",
      "x 2\n"
     ]
    }
   ],
   "source": [
    "# iterating through a dictionary by unpacking key:value tuples:\n",
    "for k, v in d1.items():\n",
    "    print(k, v)"
   ]
  },
  {
   "cell_type": "code",
   "execution_count": 35,
   "metadata": {},
   "outputs": [
    {
     "name": "stdout",
     "output_type": "stream",
     "text": [
      "set has only unique keys, s = {1, 2, 4}\n",
      "after union with {5, 2, 4, 7}, s = {1, 2, 4, 5, 7}\n",
      "this is the same as union with a list [5, 2, 4, 7], s = {1, 2, 4, 5, 7}\n",
      "s.intersection({2, 1, 7, 8}) = {1, 2, 7}\n",
      "Other set operations like difference, symmetric difference and issubset exists\n"
     ]
    }
   ],
   "source": [
    "# sets\n",
    "s = set([1, 4, 2, 1, 4])\n",
    "print(\"set has only unique keys, s =\", s)\n",
    "\n",
    "s = s.union({5, 2, 4, 7})\n",
    "print(\"after union with {5, 2, 4, 7}, s =\", s)\n",
    "\n",
    "s = set([1,4,2,1,4])\n",
    "s = s.union([5,2,4,7])\n",
    "print(\"this is the same as union with a list [5, 2, 4, 7], s =\",s)\n",
    "\n",
    "print(\"s.intersection({2, 1, 7, 8}) =\", s.intersection({2, 1, 7, 8}))\n",
    "\n",
    "print(\"Other set operations like difference, symmetric difference and issubset exists\")"
   ]
  },
  {
   "cell_type": "markdown",
   "metadata": {},
   "source": [
    "# List comprehensions - the coolest thing in Python"
   ]
  },
  {
   "cell_type": "code",
   "execution_count": 36,
   "metadata": {},
   "outputs": [
    {
     "name": "stdout",
     "output_type": "stream",
     "text": [
      "list comprehension syntax l1 = [1, 4, 36, 25, 100]\n",
      "list comprehension with filter, l2 = [0.5, 1.0, 2.5]\n",
      "A dict comprehension is less common: l2 = {'a': 0, 'd': 1, 'c': 2}\n",
      "d2 dictionary before flattening, d2 = {'a': [1, 2], 'b': [2, 4]}\n",
      "d2 dictionary values after flattening: d2_values_set = {1, 2, 4}\n"
     ]
    }
   ],
   "source": [
    "# remember you can't do [0, 1, 2] ** 2? This is the way to do this:\n",
    "l = [1, 2, 6, 5, 10]\n",
    "l1 = [x ** 2 for x in l]\n",
    "print(\"list comprehension syntax l1 =\", l1)\n",
    "\n",
    "l2 = [x / 2 for x in l if x < 6]\n",
    "print(\"list comprehension with filter, l2 =\", l2)\n",
    "\n",
    "d = ['a','d','c']\n",
    "l2 = {val: index for index, val in enumerate(d)}\n",
    "print(\"A dict comprehension is less common: l2 =\", l2)\n",
    "\n",
    "# flattening a dictionary's values with a \"double loop\": (there may be other more scalable ways!)\n",
    "d2 = {'a': [1, 2], 'b': [2, 4]}\n",
    "print(\"d2 dictionary before flattening, d2 =\", d2)\n",
    "d2_values_set = {v for k, values in d2.items() for v in values}\n",
    "print(\"d2 dictionary values after flattening: d2_values_set =\", d2_values_set)"
   ]
  },
  {
   "cell_type": "markdown",
   "metadata": {},
   "source": [
    "# Functions are first class citizens in Python"
   ]
  },
  {
   "cell_type": "code",
   "execution_count": 37,
   "metadata": {},
   "outputs": [
    {
     "name": "stdout",
     "output_type": "stream",
     "text": [
      "Functions are like any other object in Python, here is a nice example\n",
      "plus_two(5) = 7\n",
      "Function f returns a function!\n"
     ]
    }
   ],
   "source": [
    "def f(x,y) : \n",
    "    def _f(x) : \n",
    "        return(x + y)\n",
    "    return _f\n",
    "\n",
    "print(\"Functions are like any other object in Python, here is a nice example\")\n",
    "plus_two = f(x, 2)\n",
    "\n",
    "print(\"plus_two(5) =\", plus_two(5))\n",
    "print(\"Function f returns a function!\")"
   ]
  },
  {
   "cell_type": "code",
   "execution_count": 38,
   "metadata": {},
   "outputs": [
    {
     "name": "stdout",
     "output_type": "stream",
     "text": [
      "There are anonymous functions (lambda) in Python:\n",
      "no_name_fun(5,6)= 30\n"
     ]
    }
   ],
   "source": [
    "print(\"There are anonymous functions (lambda) in Python:\")\n",
    "no_name_fun = lambda x, y : x*y\n",
    "print(\"no_name_fun(5,6)=\", no_name_fun(5,6))"
   ]
  },
  {
   "cell_type": "code",
   "execution_count": 39,
   "metadata": {},
   "outputs": [
    {
     "name": "stdout",
     "output_type": "stream",
     "text": [
      "Using map with an anonymous function, a powerful combination:\n"
     ]
    },
    {
     "data": {
      "text/plain": [
       "['a1', 'b1', 'c1']"
      ]
     },
     "execution_count": 39,
     "metadata": {},
     "output_type": "execute_result"
    }
   ],
   "source": [
    "print(\"Using map with an anonymous function, a powerful combination:\")\n",
    "list(map(lambda s: s + '1', ['a', 'b', 'c']))"
   ]
  },
  {
   "cell_type": "code",
   "execution_count": 40,
   "metadata": {},
   "outputs": [
    {
     "name": "stdout",
     "output_type": "stream",
     "text": [
      "There are also generators (this is how enumerate is implemented)\n",
      "only now we start using the generator, ff does not \"hold\" the numbers, but a generator object:\n",
      "<generator object all_ints_to_n at 0x7ff7a8604a40>\n",
      "\n",
      "in generator\n",
      "in the loop\n",
      "1  \n",
      "in the loop\n",
      "2  \n",
      "in the loop\n",
      "3  \n",
      "in the loop\n",
      "4  \n",
      "in the loop\n",
      "5  \n",
      "in the loop\n",
      "6  \n",
      "in the loop\n",
      "7  \n",
      "in the loop\n",
      "8  \n",
      "in the loop\n",
      "9  \n",
      "in the loop\n",
      "10  \n"
     ]
    }
   ],
   "source": [
    "print(\"There are also generators (this is how enumerate is implemented)\")\n",
    "def all_ints_to_n(n) :\n",
    "    print(\"in generator\")\n",
    "    i = 0\n",
    "    while i < n : \n",
    "        print('in the loop')\n",
    "        i = i + 1\n",
    "        yield i\n",
    "    return n\n",
    "\n",
    "ff = all_ints_to_n(10)\n",
    "print (\"only now we start using the generator, ff does not \\\"hold\\\" the numbers, but a generator object:\")\n",
    "print(ff)\n",
    "print()\n",
    "for j in ff:\n",
    "    print(j, ' ')\n",
    "        "
   ]
  }
 ],
 "metadata": {
  "kernelspec": {
   "display_name": "Python 3",
   "language": "python",
   "name": "python3"
  },
  "language_info": {
   "codemirror_mode": {
    "name": "ipython",
    "version": 3
   },
   "file_extension": ".py",
   "mimetype": "text/x-python",
   "name": "python",
   "nbconvert_exporter": "python",
   "pygments_lexer": "ipython3",
   "version": "3.6.6"
  }
 },
 "nbformat": 4,
 "nbformat_minor": 2
}
