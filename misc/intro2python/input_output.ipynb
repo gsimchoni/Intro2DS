{
 "cells": [
  {
   "cell_type": "markdown",
   "metadata": {
    "collapsed": true
   },
   "source": [
    "# Input from the keyboard"
   ]
  },
  {
   "cell_type": "markdown",
   "metadata": {},
   "source": [
    "**Warning**: the following notebook will work *only* if relative paths work as expected, as in working on a local machine.\n",
    "\n",
    "Try this code:"
   ]
  },
  {
   "cell_type": "code",
   "execution_count": 1,
   "metadata": {},
   "outputs": [
    {
     "name": "stdout",
     "output_type": "stream",
     "text": [
      "/home/jovyan/misc/intro2python\n"
     ]
    }
   ],
   "source": [
    "import os\n",
    "print(os.getcwd())"
   ]
  },
  {
   "cell_type": "markdown",
   "metadata": {},
   "source": [
    "If the path which is printed ends with \"misc/intro2python\" you're good to go."
   ]
  },
  {
   "cell_type": "markdown",
   "metadata": {},
   "source": [
    "# User Input"
   ]
  },
  {
   "cell_type": "code",
   "execution_count": 2,
   "metadata": {},
   "outputs": [
    {
     "name": "stdout",
     "output_type": "stream",
     "text": [
      "6\n",
      "x = 6\n"
     ]
    }
   ],
   "source": [
    "x = input()\n",
    "print(\"x =\", x)"
   ]
  },
  {
   "cell_type": "markdown",
   "metadata": {},
   "source": [
    "# Files list"
   ]
  },
  {
   "cell_type": "code",
   "execution_count": 3,
   "metadata": {},
   "outputs": [
    {
     "name": "stdout",
     "output_type": "stream",
     "text": [
      "dir= ../../class/introduction\n",
      "dirnames= ['.ipynb_checkpoints', 'images']\n",
      "filenames= ['data_science_venn.png', 'test.ipynb', 'test.pdf', 'test.slides.html']\n"
     ]
    }
   ],
   "source": [
    "from os import walk\n",
    "\n",
    "mypath ='../../class/introduction'\n",
    "\n",
    "f = []\n",
    "for (dirpath, dirnames, filenames) in walk(mypath):\n",
    "    print('dir=', dirpath)\n",
    "    print('dirnames=',dirnames)\n",
    "    print('filenames=', filenames)\n",
    "    break\n",
    "\n"
   ]
  },
  {
   "cell_type": "markdown",
   "metadata": {},
   "source": [
    "# Reading text and binary files"
   ]
  },
  {
   "cell_type": "code",
   "execution_count": 4,
   "metadata": {},
   "outputs": [
    {
     "name": "stdout",
     "output_type": "stream",
     "text": [
      "This is a line by line reading of a text file\n",
      "line1 bla2\n",
      "\n",
      "line2 bla2\n",
      "\n",
      "line3 bla2\n",
      "\n",
      "line4 bla2\n",
      "\n",
      "line5 bla2\n",
      "\n",
      "line6 bla2\n",
      "\n",
      "line7 bla2\n",
      "\n"
     ]
    }
   ],
   "source": [
    "print(\"This is a line by line reading of a text file\")\n",
    "f = open('../../datasets/test.txt')\n",
    "for i, line in enumerate(f):\n",
    "    print(line)\n",
    "    if i > 5:\n",
    "        break\n",
    "        \n",
    "f.close()"
   ]
  },
  {
   "cell_type": "code",
   "execution_count": 5,
   "metadata": {},
   "outputs": [
    {
     "name": "stdout",
     "output_type": "stream",
     "text": [
      "This is how we read 10 bytes of a binary file\n",
      "b'line1 bla2\\r\\nline2 bla2\\r\\nl'\n"
     ]
    }
   ],
   "source": [
    "print(\"This is how we read 10 bytes of a binary file\")\n",
    "f = open('../../datasets/test.txt', 'rb')\n",
    "buf = f.read(25)\n",
    "f.close()\n",
    "print(str(buf))"
   ]
  },
  {
   "cell_type": "code",
   "execution_count": 6,
   "metadata": {},
   "outputs": [
    {
     "name": "stdout",
     "output_type": "stream",
     "text": [
      "Files can be opened for read or write, in text or binary mode\n",
      "Other usefull commands are readlines and writelines that works in chunks\n",
      "line1 bla2\n",
      "\n",
      "line2 bla2\n",
      "\n",
      "line3 bla2\n",
      "\n",
      "line4 bla2\n",
      "\n",
      "This is in a list\n",
      "['line1 bla2\\n', 'line2 bla2\\n', 'line3 bla2\\n', 'line4 bla2\\n', 'line5 bla2\\n', 'line6 bla2\\n', 'line7 bla2\\n', 'line8 bla2\\n', 'line9 bla2\\n', 'line10 bla2\\n']\n"
     ]
    }
   ],
   "source": [
    "print(\"Files can be opened for read or write, in text or binary mode\")\n",
    "print(\"Other usefull commands are readlines and writelines that works in chunks\")\n",
    "\n",
    "f = open('../../datasets/test.txt')\n",
    "for i,line in enumerate(f):\n",
    "    print(line)\n",
    "    if i > 2:\n",
    "        break\n",
    "        \n",
    "f.close()\n",
    "\n",
    "f = open('../../datasets/test.txt')\n",
    "lines = f.readlines()        \n",
    "f.close()\n",
    "print(\"This is in a list\")\n",
    "print(lines)"
   ]
  },
  {
   "cell_type": "code",
   "execution_count": 7,
   "metadata": {},
   "outputs": [
    {
     "name": "stdout",
     "output_type": "stream",
     "text": [
      "A commonly used syntax when working with files\n",
      "Note that f.closed is:  True\n",
      "Can you tell why?\n"
     ]
    }
   ],
   "source": [
    "print(\"A commonly used syntax when working with files\")\n",
    "\n",
    "with open('../../datasets/test.txt') as f:\n",
    "    lines = f.readlines(2)        \n",
    "\n",
    "print(\"Note that f.closed is: \", f.closed)\n",
    "print(\"Can you tell why?\")"
   ]
  },
  {
   "cell_type": "markdown",
   "metadata": {},
   "source": [
    "# Exceptions - error handling not only for files"
   ]
  },
  {
   "cell_type": "code",
   "execution_count": 8,
   "metadata": {},
   "outputs": [
    {
     "name": "stdout",
     "output_type": "stream",
     "text": [
      "Found the file!\n",
      "lines = ['line1 bla2\\n']\n",
      "No such file!\n",
      "lines = []\n"
     ]
    }
   ],
   "source": [
    "def fff(fname): \n",
    "    lines = []\n",
    "    try:\n",
    "        with open('../../datasets/' + fname) as f:\n",
    "            lines = f.readlines(2)\n",
    "            print('Found the file!')\n",
    "        \n",
    "    except:\n",
    "            print('No such file!')\n",
    "            \n",
    "    finally:\n",
    "        print('lines =', lines)\n",
    "    \n",
    "fff('test.txt')\n",
    "\n",
    "fff('no_such_file.txt')"
   ]
  },
  {
   "cell_type": "markdown",
   "metadata": {},
   "source": [
    "# HTML files"
   ]
  },
  {
   "cell_type": "code",
   "execution_count": 9,
   "metadata": {},
   "outputs": [
    {
     "name": "stdout",
     "output_type": "stream",
     "text": [
      "<!DOCTYPE HTML>\n",
      "\n",
      "<html>\n",
      "\n",
      "<head>\n",
      "\t<meta http-equiv=\"Content-Type\" content=\"text/html; charset=UTF-8\" />\n",
      "\t<title>Your Website</title>\n",
      "</head>\n",
      "\n",
      "<body>\n",
      "\n",
      "\t<header>\n",
      "\t\t<nav>\n",
      "\t\t\t<ul>\n",
      "\t\t\t\t<li>Your menu</li>\n",
      "\t\t\t</ul>\n",
      "\t\t</nav>\n",
      "\t</header>\n",
      "\t\n",
      "\t<section>\n",
      "\t\n",
      "\t\t<article>\n",
      "\t\t\t<header>\n",
      "\t\t\t\t<h2>Article title</h2>\n",
      "\t\t\t\t<p>Posted on <time datetime=\"2009-09-04T16:31:24+02:00\">September 4th 2009</time> by <a href=\"#\">Writer</a> - <a href=\"#comments\">6 comments</a></p>\n",
      "\t\t\t</header>\n",
      "\t\t\t<p>Pellentesque habitant morbi tristique senectus et netus et malesuada fames ac turpis egestas.</p>\n",
      "\t\t</article>\n",
      "\t\t\n",
      "\t\t<article>\n",
      "\t\t\t<header>\n",
      "\t\t\t\t<h2>Article title</h2>\n",
      "\t\t\t\t<p>Posted on <time datetime=\"2009-09-04T16:31:24+02:00\">September 4th 2009</time> by <a href=\"#\">Writer</a> - <a href=\"#comments\">6 comments</a></p>\n",
      "\t\t\t</header>\n",
      "\t\t\t<p>Pellentesque habitant morbi tristique senectus et netus et malesuada fames ac turpis egestas.</p>\n",
      "\t\t</article>\n",
      "\t\t\n",
      "\t</section>\n",
      "\n",
      "\t<aside>\n",
      "\t\t<h2>About section</h2>\n",
      "\t\t<p>Donec eu libero sit amet quam egestas semper. Aenean ultricies mi vitae est. Mauris placerat eleifend leo.</p>\n",
      "\t</aside>\n",
      "\n",
      "\t<footer>\n",
      "\t\t<p>Copyright 2009 Your name</p>\n",
      "\t</footer>\n",
      "\n",
      "</body>\n",
      "\n",
      "</html>\n"
     ]
    }
   ],
   "source": [
    "import codecs\n",
    "\n",
    "f = codecs.open(\"../../datasets/test.html\", 'r')\n",
    "print (f.read())"
   ]
  },
  {
   "cell_type": "markdown",
   "metadata": {},
   "source": [
    "# JSON  "
   ]
  },
  {
   "cell_type": "code",
   "execution_count": 10,
   "metadata": {},
   "outputs": [
    {
     "name": "stdout",
     "output_type": "stream",
     "text": [
      "{'age': 100, 'name': 'mkyong.com', 'messages': ['msg 1', 'msg 2', 'msg 3']}\n",
      "{'age': 999, 'name': 'google.com', 'messages': ['msg 1', 'msg 2']}\n"
     ]
    }
   ],
   "source": [
    "import json\n",
    "\n",
    "with open(\"../../datasets/test.json\") as f:\n",
    "    for line in f:\n",
    "        j = json.loads(line)\n",
    "        print(j)"
   ]
  },
  {
   "cell_type": "markdown",
   "metadata": {},
   "source": [
    "# CSV"
   ]
  },
  {
   "cell_type": "code",
   "execution_count": 11,
   "metadata": {},
   "outputs": [
    {
     "name": "stdout",
     "output_type": "stream",
     "text": [
      "x, y\n",
      "1, 6\n",
      "2, 7\n",
      "3, 8\n",
      "4, 9\n",
      "5, 10\n"
     ]
    }
   ],
   "source": [
    "import csv\n",
    "\n",
    "with open(\"../../datasets/test.csv\") as f:\n",
    "    reader = csv.reader(f)\n",
    "    for line in reader:\n",
    "        print(', '.join(line))"
   ]
  },
  {
   "cell_type": "markdown",
   "metadata": {},
   "source": [
    "### See Pandas intro for reading files into DataFrames"
   ]
  }
 ],
 "metadata": {
  "kernelspec": {
   "display_name": "Python 3",
   "language": "python",
   "name": "python3"
  },
  "language_info": {
   "codemirror_mode": {
    "name": "ipython",
    "version": 3
   },
   "file_extension": ".py",
   "mimetype": "text/x-python",
   "name": "python",
   "nbconvert_exporter": "python",
   "pygments_lexer": "ipython3",
   "version": "3.6.6"
  }
 },
 "nbformat": 4,
 "nbformat_minor": 2
}
