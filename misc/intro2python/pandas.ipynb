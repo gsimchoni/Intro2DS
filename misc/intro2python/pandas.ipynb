{
 "cells": [
  {
   "cell_type": "markdown",
   "metadata": {},
   "source": [
    "### Heavily based on [\"10 Minutes to pandas\"](https://pandas.pydata.org/pandas-docs/stable/10min.html)"
   ]
  },
  {
   "cell_type": "code",
   "execution_count": 1,
   "metadata": {},
   "outputs": [],
   "source": [
    "import pandas as pd\n",
    "\n",
    "import numpy as np"
   ]
  },
  {
   "cell_type": "markdown",
   "metadata": {},
   "source": [
    "# Series, DataFrames"
   ]
  },
  {
   "cell_type": "code",
   "execution_count": 2,
   "metadata": {},
   "outputs": [
    {
     "name": "stdout",
     "output_type": "stream",
     "text": [
      "0    1.0\n",
      "1    3.0\n",
      "2    5.0\n",
      "3    NaN\n",
      "4    6.0\n",
      "5    8.0\n",
      "dtype: float64\n"
     ]
    }
   ],
   "source": [
    "# a pandas series is a vector of data, a column\n",
    "s = pd.Series([1,3,5,np.nan,6,8])\n",
    "print(s)"
   ]
  },
  {
   "cell_type": "code",
   "execution_count": 3,
   "metadata": {},
   "outputs": [
    {
     "name": "stdout",
     "output_type": "stream",
     "text": [
      "          A         B         C         D\n",
      "0  0.276083  1.166528  0.093775 -0.112009\n",
      "1 -0.806349  1.807758 -0.260645 -0.123259\n",
      "2  0.625757 -0.506556  0.825958 -0.240297\n",
      "3 -2.732960  0.295680  0.701168  1.680807\n",
      "4  0.550647  0.546785 -0.525854  0.139442\n",
      "5  1.105849  1.031903  2.106953  0.232958\n"
     ]
    }
   ],
   "source": [
    "# a DataFrame is a data table, always indexed.\n",
    "# creating one from a random numpy 2D array (notice the index isn't specified, automatically becomes zero based counter):\n",
    "df = pd.DataFrame(np.random.randn(6,4), columns = ['A', 'B', 'C', 'D'])\n",
    "print(df)"
   ]
  },
  {
   "cell_type": "code",
   "execution_count": 4,
   "metadata": {},
   "outputs": [
    {
     "name": "stdout",
     "output_type": "stream",
     "text": [
      "     A          B    C  D      E    F\n",
      "0  1.0 2013-01-02  1.0  0   test  foo\n",
      "1  1.0 2013-01-02  1.0  1  train  foo\n",
      "2  1.0 2013-01-02  1.0  2   test  foo\n",
      "3  1.0 2013-01-02  1.0  3  train  foo\n"
     ]
    }
   ],
   "source": [
    "# creating a DataFrame from a very varied dictionary where each key is a column (also see pd.from_dict()):\n",
    "df2 = pd.DataFrame({'A' : 1.,\n",
    "                    'B' : pd.Timestamp('20130102'),\n",
    "                    'C' : pd.Series(1, index = list(range(4)), dtype = 'float32'),\n",
    "                    'D' : np.array(np.arange(4), dtype = 'int32'),\n",
    "                    'E' : pd.Categorical([\"test\", \"train\", \"test\", \"train\"]),\n",
    "                    'F' : 'foo' })\n",
    "print(df2)"
   ]
  },
  {
   "cell_type": "code",
   "execution_count": 5,
   "metadata": {},
   "outputs": [
    {
     "name": "stdout",
     "output_type": "stream",
     "text": [
      "A           float64\n",
      "B    datetime64[ns]\n",
      "C           float32\n",
      "D             int32\n",
      "E          category\n",
      "F            object\n",
      "dtype: object\n"
     ]
    }
   ],
   "source": [
    "# looking at the DataFrame columns types (notice this is a Series!):\n",
    "print(df2.dtypes)"
   ]
  },
  {
   "cell_type": "code",
   "execution_count": 6,
   "metadata": {},
   "outputs": [
    {
     "name": "stdout",
     "output_type": "stream",
     "text": [
      "   x   y\n",
      "0  1   6\n",
      "1  2   7\n",
      "2  3   8\n",
      "3  4   9\n",
      "4  5  10\n"
     ]
    }
   ],
   "source": [
    "# reading from CSV\n",
    "df3 = pd.read_csv(\"../../datasets/test.csv\")\n",
    "print(df3)"
   ]
  },
  {
   "cell_type": "markdown",
   "metadata": {},
   "source": [
    "# Some info"
   ]
  },
  {
   "cell_type": "code",
   "execution_count": 7,
   "metadata": {},
   "outputs": [
    {
     "name": "stdout",
     "output_type": "stream",
     "text": [
      "          A         B         C         D\n",
      "0  0.276083  1.166528  0.093775 -0.112009\n",
      "1 -0.806349  1.807758 -0.260645 -0.123259\n",
      "2  0.625757 -0.506556  0.825958 -0.240297\n",
      "3 -2.732960  0.295680  0.701168  1.680807\n",
      "4  0.550647  0.546785 -0.525854  0.139442\n"
     ]
    }
   ],
   "source": [
    "# get top rows\n",
    "print(df.head())"
   ]
  },
  {
   "cell_type": "code",
   "execution_count": 8,
   "metadata": {},
   "outputs": [
    {
     "name": "stdout",
     "output_type": "stream",
     "text": [
      "          A         B         C         D\n",
      "4  0.550647  0.546785 -0.525854  0.139442\n",
      "5  1.105849  1.031903  2.106953  0.232958\n"
     ]
    }
   ],
   "source": [
    "# get bottom rows\n",
    "print(df.tail(2))"
   ]
  },
  {
   "cell_type": "code",
   "execution_count": 9,
   "metadata": {},
   "outputs": [
    {
     "name": "stdout",
     "output_type": "stream",
     "text": [
      "RangeIndex(start=0, stop=6, step=1)\n"
     ]
    }
   ],
   "source": [
    "# view index\n",
    "print(df.index)"
   ]
  },
  {
   "cell_type": "code",
   "execution_count": 10,
   "metadata": {},
   "outputs": [
    {
     "name": "stdout",
     "output_type": "stream",
     "text": [
      "Index(['A', 'B', 'C', 'D'], dtype='object')\n"
     ]
    }
   ],
   "source": [
    "# view column names\n",
    "print(df.columns)"
   ]
  },
  {
   "cell_type": "code",
   "execution_count": 11,
   "metadata": {},
   "outputs": [
    {
     "name": "stdout",
     "output_type": "stream",
     "text": [
      "[[ 0.27608278  1.16652818  0.09377536 -0.11200937]\n",
      " [-0.80634931  1.80775777 -0.26064452 -0.12325945]\n",
      " [ 0.62575723 -0.50655584  0.8259579  -0.24029671]\n",
      " [-2.73295986  0.29567963  0.70116833  1.68080679]\n",
      " [ 0.55064728  0.54678524 -0.52585358  0.13944225]\n",
      " [ 1.10584887  1.031903    2.10695288  0.23295768]]\n"
     ]
    }
   ],
   "source": [
    "# get the underlying numpy matrix\n",
    "print(df.values)"
   ]
  },
  {
   "cell_type": "code",
   "execution_count": 12,
   "metadata": {},
   "outputs": [
    {
     "name": "stdout",
     "output_type": "stream",
     "text": [
      "              A         B         C         D\n",
      "count  6.000000  6.000000  6.000000  6.000000\n",
      "mean  -0.163496  0.723683  0.490226  0.262940\n",
      "std    1.410872  0.799287  0.951253  0.716866\n",
      "min   -2.732960 -0.506556 -0.525854 -0.240297\n",
      "25%   -0.535741  0.358456 -0.172040 -0.120447\n",
      "50%    0.413365  0.789344  0.397472  0.013716\n",
      "75%    0.606980  1.132872  0.794761  0.209579\n",
      "max    1.105849  1.807758  2.106953  1.680807\n"
     ]
    }
   ],
   "source": [
    "# quick statistics summary\n",
    "print(df.describe())"
   ]
  },
  {
   "cell_type": "code",
   "execution_count": 13,
   "metadata": {},
   "outputs": [
    {
     "name": "stdout",
     "output_type": "stream",
     "text": [
      "          0         1         2         3         4         5\n",
      "A  0.276083 -0.806349  0.625757 -2.732960  0.550647  1.105849\n",
      "B  1.166528  1.807758 -0.506556  0.295680  0.546785  1.031903\n",
      "C  0.093775 -0.260645  0.825958  0.701168 -0.525854  2.106953\n",
      "D -0.112009 -0.123259 -0.240297  1.680807  0.139442  0.232958\n"
     ]
    }
   ],
   "source": [
    "# transposing a DataFrame\n",
    "print(df.T)"
   ]
  },
  {
   "cell_type": "code",
   "execution_count": 14,
   "metadata": {},
   "outputs": [
    {
     "name": "stdout",
     "output_type": "stream",
     "text": [
      "          D         C         B         A\n",
      "0 -0.112009  0.093775  1.166528  0.276083\n",
      "1 -0.123259 -0.260645  1.807758 -0.806349\n",
      "2 -0.240297  0.825958 -0.506556  0.625757\n",
      "3  1.680807  0.701168  0.295680 -2.732960\n",
      "4  0.139442 -0.525854  0.546785  0.550647\n",
      "5  0.232958  2.106953  1.031903  1.105849\n"
     ]
    }
   ],
   "source": [
    "# sorting by column names\n",
    "print(df.sort_index(axis = 1, ascending = False))"
   ]
  },
  {
   "cell_type": "code",
   "execution_count": 15,
   "metadata": {},
   "outputs": [
    {
     "name": "stdout",
     "output_type": "stream",
     "text": [
      "          A         B         C         D\n",
      "2  0.625757 -0.506556  0.825958 -0.240297\n",
      "3 -2.732960  0.295680  0.701168  1.680807\n",
      "4  0.550647  0.546785 -0.525854  0.139442\n",
      "5  1.105849  1.031903  2.106953  0.232958\n",
      "0  0.276083  1.166528  0.093775 -0.112009\n",
      "1 -0.806349  1.807758 -0.260645 -0.123259\n"
     ]
    }
   ],
   "source": [
    "# sorting by a specific column values\n",
    "print(df.sort_values(by = 'B'))"
   ]
  },
  {
   "cell_type": "markdown",
   "metadata": {},
   "source": [
    "# Selection"
   ]
  },
  {
   "cell_type": "code",
   "execution_count": 16,
   "metadata": {},
   "outputs": [
    {
     "name": "stdout",
     "output_type": "stream",
     "text": [
      "0    0.276083\n",
      "1   -0.806349\n",
      "2    0.625757\n",
      "3   -2.732960\n",
      "4    0.550647\n",
      "5    1.105849\n",
      "Name: A, dtype: float64\n"
     ]
    }
   ],
   "source": [
    "# select a specific column (this will give you a Series!) - pandas people do not recommend this, see loc/iloc\n",
    "print(df['A'])"
   ]
  },
  {
   "cell_type": "code",
   "execution_count": 17,
   "metadata": {},
   "outputs": [
    {
     "name": "stdout",
     "output_type": "stream",
     "text": [
      "          A         B         C         D\n",
      "0  0.276083  1.166528  0.093775 -0.112009\n",
      "1 -0.806349  1.807758 -0.260645 -0.123259\n",
      "2  0.625757 -0.506556  0.825958 -0.240297\n",
      "          0         1         2        3         4         5\n",
      "A  0.276083 -0.806349  0.625757 -2.73296  0.550647  1.105849\n",
      "B  1.166528  1.807758 -0.506556  0.29568  0.546785  1.031903\n"
     ]
    }
   ],
   "source": [
    "# slicing rows as in a numpy array - pandas people do not recommend this, see loc/iloc\n",
    "print(df[0:3])\n",
    "print(df.T['A':'B'])"
   ]
  },
  {
   "cell_type": "markdown",
   "metadata": {},
   "source": [
    "### Selection by label (`loc`)"
   ]
  },
  {
   "cell_type": "code",
   "execution_count": 18,
   "metadata": {},
   "outputs": [
    {
     "name": "stdout",
     "output_type": "stream",
     "text": [
      "0    0.276083\n",
      "1   -0.806349\n",
      "2    0.625757\n",
      "3   -2.732960\n",
      "4    0.550647\n",
      "5    1.105849\n",
      "Name: A, dtype: float64\n"
     ]
    }
   ],
   "source": [
    "# select a specific column, all rows\n",
    "print(df.loc[:, 'A'])"
   ]
  },
  {
   "cell_type": "code",
   "execution_count": 19,
   "metadata": {},
   "outputs": [
    {
     "name": "stdout",
     "output_type": "stream",
     "text": [
      "          A         B\n",
      "0  0.276083  1.166528\n",
      "1 -0.806349  1.807758\n"
     ]
    }
   ],
   "source": [
    "# select first 2 rows, specific two columns\n",
    "print(df.loc[0:1, ['A', 'B']])"
   ]
  },
  {
   "cell_type": "code",
   "execution_count": 20,
   "metadata": {},
   "outputs": [
    {
     "name": "stdout",
     "output_type": "stream",
     "text": [
      "0.276082784697\n",
      "0.276082784697\n"
     ]
    }
   ],
   "source": [
    "# select specific value\n",
    "print(df.loc[0, 'A'])\n",
    "\n",
    "# but \"at\" is preferred\n",
    "print(df.at[0, 'A'])"
   ]
  },
  {
   "cell_type": "markdown",
   "metadata": {},
   "source": [
    "### Selection by position (`iloc`)"
   ]
  },
  {
   "cell_type": "code",
   "execution_count": 21,
   "metadata": {},
   "outputs": [
    {
     "name": "stdout",
     "output_type": "stream",
     "text": [
      "A   -2.732960\n",
      "B    0.295680\n",
      "C    0.701168\n",
      "D    1.680807\n",
      "Name: 3, dtype: float64\n"
     ]
    }
   ],
   "source": [
    "# specific row (as a Series)\n",
    "print(df.iloc[3])"
   ]
  },
  {
   "cell_type": "code",
   "execution_count": 22,
   "metadata": {},
   "outputs": [
    {
     "name": "stdout",
     "output_type": "stream",
     "text": [
      "         A        B         C         D\n",
      "3 -2.73296  0.29568  0.701168  1.680807\n"
     ]
    }
   ],
   "source": [
    "# specific row (as a sub-table)\n",
    "print(df.iloc[3:4, :])"
   ]
  },
  {
   "cell_type": "code",
   "execution_count": 23,
   "metadata": {},
   "outputs": [
    {
     "name": "stdout",
     "output_type": "stream",
     "text": [
      "          A         B\n",
      "3 -2.732960  0.295680\n",
      "4  0.550647  0.546785\n"
     ]
    }
   ],
   "source": [
    "# sub-table\n",
    "print(df.iloc[3:5, 0:2])"
   ]
  },
  {
   "cell_type": "code",
   "execution_count": 24,
   "metadata": {},
   "outputs": [
    {
     "name": "stdout",
     "output_type": "stream",
     "text": [
      "          A         C\n",
      "1 -0.806349 -0.260645\n",
      "2  0.625757  0.825958\n",
      "4  0.550647 -0.525854\n"
     ]
    }
   ],
   "source": [
    "# integer indexing\n",
    "print(df.iloc[[1,2,4], [0,2]])"
   ]
  },
  {
   "cell_type": "markdown",
   "metadata": {},
   "source": [
    "### Boolean indexing"
   ]
  },
  {
   "cell_type": "code",
   "execution_count": 25,
   "metadata": {},
   "outputs": [
    {
     "name": "stdout",
     "output_type": "stream",
     "text": [
      "          A         B         C         D\n",
      "0  0.276083  1.166528  0.093775 -0.112009\n",
      "2  0.625757 -0.506556  0.825958 -0.240297\n",
      "4  0.550647  0.546785 -0.525854  0.139442\n",
      "5  1.105849  1.031903  2.106953  0.232958\n"
     ]
    }
   ],
   "source": [
    "# filter only values answering condition in specific column\n",
    "print(df[df.A > 0])"
   ]
  },
  {
   "cell_type": "code",
   "execution_count": 26,
   "metadata": {},
   "outputs": [
    {
     "name": "stdout",
     "output_type": "stream",
     "text": [
      "          A         B         C         D\n",
      "0  0.276083  1.166528  0.093775       NaN\n",
      "1       NaN  1.807758       NaN       NaN\n",
      "2  0.625757       NaN  0.825958       NaN\n",
      "3       NaN  0.295680  0.701168  1.680807\n",
      "4  0.550647  0.546785       NaN  0.139442\n",
      "5  1.105849  1.031903  2.106953  0.232958\n"
     ]
    }
   ],
   "source": [
    "# if not using specific column...\n",
    "print(df[df > 0])"
   ]
  },
  {
   "cell_type": "markdown",
   "metadata": {},
   "source": [
    "# Setting"
   ]
  },
  {
   "cell_type": "code",
   "execution_count": 27,
   "metadata": {},
   "outputs": [
    {
     "name": "stdout",
     "output_type": "stream",
     "text": [
      "          A         B         C         D  E\n",
      "0  0.276083  1.166528  0.093775 -0.112009  1\n",
      "1 -0.806349  1.807758 -0.260645 -0.123259  2\n",
      "2  0.625757 -0.506556  0.825958 -0.240297  3\n",
      "3 -2.732960  0.295680  0.701168  1.680807  4\n",
      "4  0.550647  0.546785 -0.525854  0.139442  5\n",
      "5  1.105849  1.031903  2.106953  0.232958  6\n"
     ]
    }
   ],
   "source": [
    "# set a new column s1\n",
    "s1 = pd.Series([1,2,3,4,5,6])\n",
    "df['E'] = s1\n",
    "print(df)"
   ]
  },
  {
   "cell_type": "code",
   "execution_count": 28,
   "metadata": {},
   "outputs": [
    {
     "name": "stdout",
     "output_type": "stream",
     "text": [
      "          A         B         C         D  E\n",
      "0  0.000000  1.166528  0.093775 -0.112009  1\n",
      "1 -0.806349  1.807758 -0.260645 -0.123259  2\n",
      "2  0.625757 -0.506556  0.825958 -0.240297  3\n",
      "3 -2.732960  0.295680  0.701168  1.680807  4\n",
      "4  0.550647  0.546785 -0.525854  0.139442  5\n",
      "5  1.105849  1.031903  2.106953  0.232958  6\n"
     ]
    }
   ],
   "source": [
    "# set a specific value\n",
    "df.at[0, 'A'] = 0\n",
    "print(df)"
   ]
  },
  {
   "cell_type": "code",
   "execution_count": 29,
   "metadata": {},
   "outputs": [
    {
     "name": "stdout",
     "output_type": "stream",
     "text": [
      "          A         B         C  D  E\n",
      "0  0.000000  1.166528  0.093775  5  1\n",
      "1 -0.806349  1.807758 -0.260645  5  2\n",
      "2  0.625757 -0.506556  0.825958  5  3\n",
      "3 -2.732960  0.295680  0.701168  5  4\n",
      "4  0.550647  0.546785 -0.525854  5  5\n",
      "5  1.105849  1.031903  2.106953  5  6\n"
     ]
    }
   ],
   "source": [
    "# set a whole column with numpy\n",
    "df.loc[:, 'D'] = np.array([5] * len(df))\n",
    "print(df)"
   ]
  },
  {
   "cell_type": "code",
   "execution_count": 30,
   "metadata": {},
   "outputs": [
    {
     "name": "stdout",
     "output_type": "stream",
     "text": [
      "          A         B         C  D  E\n",
      "0  0.000000  1.166528  0.093775  5  1\n",
      "1       NaN  1.807758       NaN  5  2\n",
      "2  0.625757       NaN  0.825958  5  3\n",
      "3       NaN  0.295680  0.701168  5  4\n",
      "4  0.550647  0.546785       NaN  5  5\n",
      "5  1.105849  1.031903  2.106953  5  6\n"
     ]
    }
   ],
   "source": [
    "# set with boolean indexing\n",
    "df[df < 0] = np.nan\n",
    "print(df)"
   ]
  },
  {
   "cell_type": "markdown",
   "metadata": {},
   "source": [
    "# Missing Data"
   ]
  },
  {
   "cell_type": "code",
   "execution_count": 31,
   "metadata": {},
   "outputs": [
    {
     "name": "stdout",
     "output_type": "stream",
     "text": [
      "          A         B         C  D  E\n",
      "0  0.000000  1.166528  0.093775  5  1\n",
      "5  1.105849  1.031903  2.106953  5  6\n"
     ]
    }
   ],
   "source": [
    "# dropping rows with any missing data (see documentation for more)\n",
    "df1 = df.copy()\n",
    "print(df1.dropna(how = 'any'))"
   ]
  },
  {
   "cell_type": "code",
   "execution_count": 32,
   "metadata": {},
   "outputs": [
    {
     "name": "stdout",
     "output_type": "stream",
     "text": [
      "          A         B         C  D  E\n",
      "0  0.000000  1.166528  0.093775  5  1\n",
      "1  5.000000  1.807758  5.000000  5  2\n",
      "2  0.625757  5.000000  0.825958  5  3\n",
      "3  5.000000  0.295680  0.701168  5  4\n",
      "4  0.550647  0.546785  5.000000  5  5\n",
      "5  1.105849  1.031903  2.106953  5  6\n"
     ]
    }
   ],
   "source": [
    "# filling missing values with a specific value\n",
    "print(df1.fillna(value = 5))"
   ]
  },
  {
   "cell_type": "code",
   "execution_count": 33,
   "metadata": {},
   "outputs": [
    {
     "name": "stdout",
     "output_type": "stream",
     "text": [
      "       A      B      C      D      E\n",
      "0  False  False  False  False  False\n",
      "1   True  False   True  False  False\n",
      "2  False   True  False  False  False\n",
      "3   True  False  False  False  False\n",
      "4  False  False   True  False  False\n",
      "5  False  False  False  False  False\n"
     ]
    }
   ],
   "source": [
    "# getting a boolean mask of where missing values are (similar to R)\n",
    "print(pd.isna(df1))"
   ]
  },
  {
   "cell_type": "markdown",
   "metadata": {},
   "source": [
    "# Basic Operations"
   ]
  },
  {
   "cell_type": "code",
   "execution_count": 34,
   "metadata": {},
   "outputs": [
    {
     "name": "stdout",
     "output_type": "stream",
     "text": [
      "A    0.570563\n",
      "B    0.969731\n",
      "C    0.931964\n",
      "D    5.000000\n",
      "E    3.500000\n",
      "dtype: float64\n"
     ]
    }
   ],
   "source": [
    "# apply mean to each column\n",
    "print(df.mean())"
   ]
  },
  {
   "cell_type": "code",
   "execution_count": 35,
   "metadata": {},
   "outputs": [
    {
     "name": "stdout",
     "output_type": "stream",
     "text": [
      "0     7.260304\n",
      "1     8.807758\n",
      "2     9.451715\n",
      "3     9.996848\n",
      "4    11.097433\n",
      "5    15.244705\n",
      "dtype: float64\n"
     ]
    }
   ],
   "source": [
    "# apply sum to each row\n",
    "print(df.sum(axis = 1))"
   ]
  },
  {
   "cell_type": "code",
   "execution_count": 36,
   "metadata": {},
   "outputs": [
    {
     "name": "stdout",
     "output_type": "stream",
     "text": [
      "          A         B         C   D   E\n",
      "0  0.000000  1.166528  0.093775   5   1\n",
      "1       NaN  2.974286       NaN  10   3\n",
      "2  0.625757       NaN  0.919733  15   6\n",
      "3       NaN  3.269966  1.620902  20  10\n",
      "4  1.176405  3.816751       NaN  25  15\n",
      "5  2.282253  4.848654  3.727854  30  21\n"
     ]
    }
   ],
   "source": [
    "# df.apply a non-pandas function\n",
    "print(df.apply(np.cumsum))"
   ]
  },
  {
   "cell_type": "code",
   "execution_count": 37,
   "metadata": {},
   "outputs": [
    {
     "name": "stdout",
     "output_type": "stream",
     "text": [
      "A    1.105849\n",
      "B    1.512078\n",
      "C    2.013178\n",
      "D    0.000000\n",
      "E    5.000000\n",
      "dtype: float64\n"
     ]
    }
   ],
   "source": [
    "# apply anonumous function\n",
    "print(df.apply(lambda x: x.max() - x.min()))"
   ]
  },
  {
   "cell_type": "markdown",
   "metadata": {},
   "source": [
    "# Basic Manipulation"
   ]
  },
  {
   "cell_type": "markdown",
   "metadata": {},
   "source": [
    "pandas is inspired by R's `tidyverse` philosophy and works best with \"tidy\", long datasets, in which every column is a single variable, and every row is a single observation."
   ]
  },
  {
   "cell_type": "code",
   "execution_count": 38,
   "metadata": {},
   "outputs": [
    {
     "data": {
      "text/html": [
       "<div>\n",
       "<style scoped>\n",
       "    .dataframe tbody tr th:only-of-type {\n",
       "        vertical-align: middle;\n",
       "    }\n",
       "\n",
       "    .dataframe tbody tr th {\n",
       "        vertical-align: top;\n",
       "    }\n",
       "\n",
       "    .dataframe thead th {\n",
       "        text-align: right;\n",
       "    }\n",
       "</style>\n",
       "<table border=\"1\" class=\"dataframe\">\n",
       "  <thead>\n",
       "    <tr style=\"text-align: right;\">\n",
       "      <th></th>\n",
       "      <th>numerical1</th>\n",
       "      <th>numerical2</th>\n",
       "    </tr>\n",
       "    <tr>\n",
       "      <th>categorical</th>\n",
       "      <th></th>\n",
       "      <th></th>\n",
       "    </tr>\n",
       "  </thead>\n",
       "  <tbody>\n",
       "    <tr>\n",
       "      <th>A</th>\n",
       "      <td>-0.680441</td>\n",
       "      <td>7.564722</td>\n",
       "    </tr>\n",
       "    <tr>\n",
       "      <th>B</th>\n",
       "      <td>0.079634</td>\n",
       "      <td>10.644356</td>\n",
       "    </tr>\n",
       "  </tbody>\n",
       "</table>\n",
       "</div>"
      ],
      "text/plain": [
       "             numerical1  numerical2\n",
       "categorical                        \n",
       "A             -0.680441    7.564722\n",
       "B              0.079634   10.644356"
      ]
     },
     "execution_count": 38,
     "metadata": {},
     "output_type": "execute_result"
    }
   ],
   "source": [
    "# group by a categorical variable, and get mean by group for all numeric variables\n",
    "df2 = pd.DataFrame({'categorical': np.tile(['A', 'B'], (5, )),\n",
    "                    'numerical1': np.random.randn(10),\n",
    "                    'numerical2': 10 + 2 * np.random.randn(10)})\n",
    "df2.groupby('categorical').mean()"
   ]
  },
  {
   "cell_type": "markdown",
   "metadata": {},
   "source": [
    "### See more in documentation"
   ]
  }
 ],
 "metadata": {
  "kernelspec": {
   "display_name": "Python 3",
   "language": "python",
   "name": "python3"
  },
  "language_info": {
   "codemirror_mode": {
    "name": "ipython",
    "version": 3
   },
   "file_extension": ".py",
   "mimetype": "text/x-python",
   "name": "python",
   "nbconvert_exporter": "python",
   "pygments_lexer": "ipython3",
   "version": "3.6.6"
  }
 },
 "nbformat": 4,
 "nbformat_minor": 2
}
