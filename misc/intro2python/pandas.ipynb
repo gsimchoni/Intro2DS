{
 "cells": [
  {
   "cell_type": "markdown",
   "metadata": {},
   "source": [
    "### Heavily based on [\"10 Minutes to pandas\"](https://pandas.pydata.org/pandas-docs/stable/10min.html)"
   ]
  },
  {
   "cell_type": "code",
   "execution_count": 1,
   "metadata": {},
   "outputs": [],
   "source": [
    "import pandas as pd\n",
    "\n",
    "import numpy as np"
   ]
  },
  {
   "cell_type": "markdown",
   "metadata": {},
   "source": [
    "# Series, DataFrames"
   ]
  },
  {
   "cell_type": "code",
   "execution_count": 2,
   "metadata": {},
   "outputs": [
    {
     "name": "stdout",
     "output_type": "stream",
     "text": [
      "0    1.0\n",
      "1    3.0\n",
      "2    5.0\n",
      "3    NaN\n",
      "4    6.0\n",
      "5    8.0\n",
      "dtype: float64\n"
     ]
    }
   ],
   "source": [
    "# a pandas series is a vector of data, a column\n",
    "s = pd.Series([1,3,5,np.nan,6,8])\n",
    "print(s)"
   ]
  },
  {
   "cell_type": "code",
   "execution_count": 3,
   "metadata": {},
   "outputs": [
    {
     "name": "stdout",
     "output_type": "stream",
     "text": [
      "          A         B         C         D\n",
      "0 -0.781913  0.355445 -1.809361 -0.437243\n",
      "1  1.779803  0.990665  0.936495 -0.358011\n",
      "2  0.585873 -1.913129  0.176131  0.818582\n",
      "3  2.558650 -0.231655 -0.855915  0.914393\n",
      "4  1.626634  0.317939  1.621115  0.096541\n",
      "5 -0.938682 -0.686302 -0.564103 -1.163258\n"
     ]
    }
   ],
   "source": [
    "# a DataFrame is a data table, always indexed.\n",
    "# creating one from a random numpy 2D array (notice the index isn't specified, automatically becomes zero based counter):\n",
    "df = pd.DataFrame(np.random.randn(6,4), columns = ['A', 'B', 'C', 'D'])\n",
    "print(df)"
   ]
  },
  {
   "cell_type": "code",
   "execution_count": 4,
   "metadata": {},
   "outputs": [
    {
     "name": "stdout",
     "output_type": "stream",
     "text": [
      "     A          B    C  D      E    F\n",
      "0  1.0 2013-01-02  1.0  0   test  foo\n",
      "1  1.0 2013-01-02  1.0  1  train  foo\n",
      "2  1.0 2013-01-02  1.0  2   test  foo\n",
      "3  1.0 2013-01-02  1.0  3  train  foo\n"
     ]
    }
   ],
   "source": [
    "# creating a DataFrame from a very varied dictionary where each key is a column (also see pd.from_dict()):\n",
    "df2 = pd.DataFrame({'A' : 1.,\n",
    "                    'B' : pd.Timestamp('20130102'),\n",
    "                    'C' : pd.Series(1, index = list(range(4)), dtype = 'float32'),\n",
    "                    'D' : np.array(np.arange(4), dtype = 'int32'),\n",
    "                    'E' : pd.Categorical([\"test\", \"train\", \"test\", \"train\"]),\n",
    "                    'F' : 'foo' })\n",
    "print(df2)"
   ]
  },
  {
   "cell_type": "code",
   "execution_count": 5,
   "metadata": {},
   "outputs": [
    {
     "name": "stdout",
     "output_type": "stream",
     "text": [
      "A           float64\n",
      "B    datetime64[ns]\n",
      "C           float32\n",
      "D             int32\n",
      "E          category\n",
      "F            object\n",
      "dtype: object\n"
     ]
    }
   ],
   "source": [
    "# looking at the DataFrame columns types (notice this is a Series!):\n",
    "print(df2.dtypes)"
   ]
  },
  {
   "cell_type": "code",
   "execution_count": 6,
   "metadata": {},
   "outputs": [
    {
     "name": "stdout",
     "output_type": "stream",
     "text": [
      "   x   y\n",
      "0  1   6\n",
      "1  2   7\n",
      "2  3   8\n",
      "3  4   9\n",
      "4  5  10\n"
     ]
    }
   ],
   "source": [
    "# reading from CSV\n",
    "df3 = pd.read_csv(\"https://raw.githubusercontent.com/gsimchoni/Intro2DS/master/datasets/test.csv\")\n",
    "print(df3)"
   ]
  },
  {
   "cell_type": "markdown",
   "metadata": {},
   "source": [
    "# Some info"
   ]
  },
  {
   "cell_type": "code",
   "execution_count": 7,
   "metadata": {},
   "outputs": [
    {
     "name": "stdout",
     "output_type": "stream",
     "text": [
      "          A         B         C         D\n",
      "0 -0.781913  0.355445 -1.809361 -0.437243\n",
      "1  1.779803  0.990665  0.936495 -0.358011\n",
      "2  0.585873 -1.913129  0.176131  0.818582\n",
      "3  2.558650 -0.231655 -0.855915  0.914393\n",
      "4  1.626634  0.317939  1.621115  0.096541\n"
     ]
    }
   ],
   "source": [
    "# get top rows\n",
    "print(df.head())"
   ]
  },
  {
   "cell_type": "code",
   "execution_count": 8,
   "metadata": {},
   "outputs": [
    {
     "name": "stdout",
     "output_type": "stream",
     "text": [
      "          A         B         C         D\n",
      "4  1.626634  0.317939  1.621115  0.096541\n",
      "5 -0.938682 -0.686302 -0.564103 -1.163258\n"
     ]
    }
   ],
   "source": [
    "# get bottom rows\n",
    "print(df.tail(2))"
   ]
  },
  {
   "cell_type": "code",
   "execution_count": 9,
   "metadata": {},
   "outputs": [
    {
     "name": "stdout",
     "output_type": "stream",
     "text": [
      "RangeIndex(start=0, stop=6, step=1)\n"
     ]
    }
   ],
   "source": [
    "# view index\n",
    "print(df.index)"
   ]
  },
  {
   "cell_type": "code",
   "execution_count": 10,
   "metadata": {},
   "outputs": [
    {
     "name": "stdout",
     "output_type": "stream",
     "text": [
      "Index(['A', 'B', 'C', 'D'], dtype='object')\n"
     ]
    }
   ],
   "source": [
    "# view column names\n",
    "print(df.columns)"
   ]
  },
  {
   "cell_type": "code",
   "execution_count": 11,
   "metadata": {},
   "outputs": [
    {
     "name": "stdout",
     "output_type": "stream",
     "text": [
      "[[-0.78191322  0.35544534 -1.80936052 -0.43724299]\n",
      " [ 1.77980332  0.99066474  0.93649465 -0.35801087]\n",
      " [ 0.58587348 -1.91312924  0.17613082  0.81858181]\n",
      " [ 2.55864971 -0.23165519 -0.85591468  0.91439348]\n",
      " [ 1.62663435  0.31793891  1.62111514  0.09654099]\n",
      " [-0.93868177 -0.68630172 -0.56410341 -1.16325769]]\n"
     ]
    }
   ],
   "source": [
    "# get the underlying numpy matrix\n",
    "print(df.values)"
   ]
  },
  {
   "cell_type": "code",
   "execution_count": 12,
   "metadata": {},
   "outputs": [
    {
     "name": "stdout",
     "output_type": "stream",
     "text": [
      "              A         B         C         D\n",
      "count  6.000000  6.000000  6.000000  6.000000\n",
      "mean   0.805061 -0.194506 -0.082606 -0.021499\n",
      "std    1.435782  1.016522  1.250576  0.798155\n",
      "min   -0.938682 -1.913129 -1.809361 -1.163258\n",
      "25%   -0.439967 -0.572640 -0.782962 -0.417435\n",
      "50%    1.106254  0.043142 -0.193986 -0.130735\n",
      "75%    1.741511  0.346069  0.746404  0.638072\n",
      "max    2.558650  0.990665  1.621115  0.914393\n"
     ]
    }
   ],
   "source": [
    "# quick statistics summary\n",
    "print(df.describe())"
   ]
  },
  {
   "cell_type": "code",
   "execution_count": 13,
   "metadata": {},
   "outputs": [
    {
     "name": "stdout",
     "output_type": "stream",
     "text": [
      "          0         1         2         3         4         5\n",
      "A -0.781913  1.779803  0.585873  2.558650  1.626634 -0.938682\n",
      "B  0.355445  0.990665 -1.913129 -0.231655  0.317939 -0.686302\n",
      "C -1.809361  0.936495  0.176131 -0.855915  1.621115 -0.564103\n",
      "D -0.437243 -0.358011  0.818582  0.914393  0.096541 -1.163258\n"
     ]
    }
   ],
   "source": [
    "# transposing a DataFrame\n",
    "print(df.T)"
   ]
  },
  {
   "cell_type": "code",
   "execution_count": 14,
   "metadata": {},
   "outputs": [
    {
     "name": "stdout",
     "output_type": "stream",
     "text": [
      "          D         C         B         A\n",
      "0 -0.437243 -1.809361  0.355445 -0.781913\n",
      "1 -0.358011  0.936495  0.990665  1.779803\n",
      "2  0.818582  0.176131 -1.913129  0.585873\n",
      "3  0.914393 -0.855915 -0.231655  2.558650\n",
      "4  0.096541  1.621115  0.317939  1.626634\n",
      "5 -1.163258 -0.564103 -0.686302 -0.938682\n"
     ]
    }
   ],
   "source": [
    "# sorting by column names\n",
    "print(df.sort_index(axis = 1, ascending = False))"
   ]
  },
  {
   "cell_type": "code",
   "execution_count": 15,
   "metadata": {},
   "outputs": [
    {
     "name": "stdout",
     "output_type": "stream",
     "text": [
      "          A         B         C         D\n",
      "2  0.585873 -1.913129  0.176131  0.818582\n",
      "5 -0.938682 -0.686302 -0.564103 -1.163258\n",
      "3  2.558650 -0.231655 -0.855915  0.914393\n",
      "4  1.626634  0.317939  1.621115  0.096541\n",
      "0 -0.781913  0.355445 -1.809361 -0.437243\n",
      "1  1.779803  0.990665  0.936495 -0.358011\n"
     ]
    }
   ],
   "source": [
    "# sorting by a specific column values\n",
    "print(df.sort_values(by = 'B'))"
   ]
  },
  {
   "cell_type": "markdown",
   "metadata": {},
   "source": [
    "# Selection"
   ]
  },
  {
   "cell_type": "code",
   "execution_count": 16,
   "metadata": {},
   "outputs": [
    {
     "name": "stdout",
     "output_type": "stream",
     "text": [
      "0   -0.781913\n",
      "1    1.779803\n",
      "2    0.585873\n",
      "3    2.558650\n",
      "4    1.626634\n",
      "5   -0.938682\n",
      "Name: A, dtype: float64\n"
     ]
    }
   ],
   "source": [
    "# select a specific column (this will give you a Series!) - pandas people do not recommend this, see loc/iloc\n",
    "print(df['A'])"
   ]
  },
  {
   "cell_type": "code",
   "execution_count": 17,
   "metadata": {},
   "outputs": [
    {
     "name": "stdout",
     "output_type": "stream",
     "text": [
      "          A         B         C         D\n",
      "0 -0.781913  0.355445 -1.809361 -0.437243\n",
      "1  1.779803  0.990665  0.936495 -0.358011\n",
      "2  0.585873 -1.913129  0.176131  0.818582\n",
      "          0         1         2         3         4         5\n",
      "A -0.781913  1.779803  0.585873  2.558650  1.626634 -0.938682\n",
      "B  0.355445  0.990665 -1.913129 -0.231655  0.317939 -0.686302\n"
     ]
    }
   ],
   "source": [
    "# slicing rows as in a numpy array - pandas people do not recommend this, see loc/iloc\n",
    "print(df[0:3])\n",
    "print(df.T['A':'B'])"
   ]
  },
  {
   "cell_type": "markdown",
   "metadata": {},
   "source": [
    "### Selection by label (`loc`)"
   ]
  },
  {
   "cell_type": "code",
   "execution_count": 18,
   "metadata": {},
   "outputs": [
    {
     "name": "stdout",
     "output_type": "stream",
     "text": [
      "0   -0.781913\n",
      "1    1.779803\n",
      "2    0.585873\n",
      "3    2.558650\n",
      "4    1.626634\n",
      "5   -0.938682\n",
      "Name: A, dtype: float64\n"
     ]
    }
   ],
   "source": [
    "# select a specific column, all rows\n",
    "print(df.loc[:, 'A'])"
   ]
  },
  {
   "cell_type": "code",
   "execution_count": 19,
   "metadata": {},
   "outputs": [
    {
     "name": "stdout",
     "output_type": "stream",
     "text": [
      "          A         B\n",
      "0 -0.781913  0.355445\n",
      "1  1.779803  0.990665\n"
     ]
    }
   ],
   "source": [
    "# select first 2 rows, specific two columns\n",
    "print(df.loc[0:1, ['A', 'B']])"
   ]
  },
  {
   "cell_type": "code",
   "execution_count": 20,
   "metadata": {},
   "outputs": [
    {
     "name": "stdout",
     "output_type": "stream",
     "text": [
      "-0.781913216351\n",
      "-0.781913216351\n"
     ]
    }
   ],
   "source": [
    "# select specific value\n",
    "print(df.loc[0, 'A'])\n",
    "\n",
    "# but \"at\" is preferred\n",
    "print(df.at[0, 'A'])"
   ]
  },
  {
   "cell_type": "markdown",
   "metadata": {},
   "source": [
    "### Selection by position (`iloc`)"
   ]
  },
  {
   "cell_type": "code",
   "execution_count": 21,
   "metadata": {},
   "outputs": [
    {
     "name": "stdout",
     "output_type": "stream",
     "text": [
      "A    2.558650\n",
      "B   -0.231655\n",
      "C   -0.855915\n",
      "D    0.914393\n",
      "Name: 3, dtype: float64\n"
     ]
    }
   ],
   "source": [
    "# specific row (as a Series)\n",
    "print(df.iloc[3])"
   ]
  },
  {
   "cell_type": "code",
   "execution_count": 22,
   "metadata": {},
   "outputs": [
    {
     "name": "stdout",
     "output_type": "stream",
     "text": [
      "         A         B         C         D\n",
      "3  2.55865 -0.231655 -0.855915  0.914393\n"
     ]
    }
   ],
   "source": [
    "# specific row (as a sub-table)\n",
    "print(df.iloc[3:4, :])"
   ]
  },
  {
   "cell_type": "code",
   "execution_count": 23,
   "metadata": {},
   "outputs": [
    {
     "name": "stdout",
     "output_type": "stream",
     "text": [
      "          A         B\n",
      "3  2.558650 -0.231655\n",
      "4  1.626634  0.317939\n"
     ]
    }
   ],
   "source": [
    "# sub-table\n",
    "print(df.iloc[3:5, 0:2])"
   ]
  },
  {
   "cell_type": "code",
   "execution_count": 24,
   "metadata": {},
   "outputs": [
    {
     "name": "stdout",
     "output_type": "stream",
     "text": [
      "          A         C\n",
      "1  1.779803  0.936495\n",
      "2  0.585873  0.176131\n",
      "4  1.626634  1.621115\n"
     ]
    }
   ],
   "source": [
    "# integer indexing\n",
    "print(df.iloc[[1,2,4], [0,2]])"
   ]
  },
  {
   "cell_type": "markdown",
   "metadata": {},
   "source": [
    "### Boolean indexing"
   ]
  },
  {
   "cell_type": "code",
   "execution_count": 25,
   "metadata": {},
   "outputs": [
    {
     "name": "stdout",
     "output_type": "stream",
     "text": [
      "          A         B         C         D\n",
      "1  1.779803  0.990665  0.936495 -0.358011\n",
      "2  0.585873 -1.913129  0.176131  0.818582\n",
      "3  2.558650 -0.231655 -0.855915  0.914393\n",
      "4  1.626634  0.317939  1.621115  0.096541\n"
     ]
    }
   ],
   "source": [
    "# filter only values answering condition in specific column\n",
    "print(df[df.A > 0])"
   ]
  },
  {
   "cell_type": "code",
   "execution_count": 26,
   "metadata": {},
   "outputs": [
    {
     "name": "stdout",
     "output_type": "stream",
     "text": [
      "          A         B         C         D\n",
      "0       NaN  0.355445       NaN       NaN\n",
      "1  1.779803  0.990665  0.936495       NaN\n",
      "2  0.585873       NaN  0.176131  0.818582\n",
      "3  2.558650       NaN       NaN  0.914393\n",
      "4  1.626634  0.317939  1.621115  0.096541\n",
      "5       NaN       NaN       NaN       NaN\n"
     ]
    }
   ],
   "source": [
    "# if not using specific column...\n",
    "print(df[df > 0])"
   ]
  },
  {
   "cell_type": "markdown",
   "metadata": {},
   "source": [
    "# Setting"
   ]
  },
  {
   "cell_type": "code",
   "execution_count": 27,
   "metadata": {},
   "outputs": [
    {
     "name": "stdout",
     "output_type": "stream",
     "text": [
      "          A         B         C         D  E\n",
      "0 -0.781913  0.355445 -1.809361 -0.437243  1\n",
      "1  1.779803  0.990665  0.936495 -0.358011  2\n",
      "2  0.585873 -1.913129  0.176131  0.818582  3\n",
      "3  2.558650 -0.231655 -0.855915  0.914393  4\n",
      "4  1.626634  0.317939  1.621115  0.096541  5\n",
      "5 -0.938682 -0.686302 -0.564103 -1.163258  6\n"
     ]
    }
   ],
   "source": [
    "# set a new column s1\n",
    "s1 = pd.Series([1,2,3,4,5,6])\n",
    "df['E'] = s1\n",
    "print(df)"
   ]
  },
  {
   "cell_type": "code",
   "execution_count": 28,
   "metadata": {},
   "outputs": [
    {
     "name": "stdout",
     "output_type": "stream",
     "text": [
      "          A         B         C         D  E\n",
      "0  0.000000  0.355445 -1.809361 -0.437243  1\n",
      "1  1.779803  0.990665  0.936495 -0.358011  2\n",
      "2  0.585873 -1.913129  0.176131  0.818582  3\n",
      "3  2.558650 -0.231655 -0.855915  0.914393  4\n",
      "4  1.626634  0.317939  1.621115  0.096541  5\n",
      "5 -0.938682 -0.686302 -0.564103 -1.163258  6\n"
     ]
    }
   ],
   "source": [
    "# set a specific value\n",
    "df.at[0, 'A'] = 0\n",
    "print(df)"
   ]
  },
  {
   "cell_type": "code",
   "execution_count": 29,
   "metadata": {},
   "outputs": [
    {
     "name": "stdout",
     "output_type": "stream",
     "text": [
      "          A         B         C  D  E\n",
      "0  0.000000  0.355445 -1.809361  5  1\n",
      "1  1.779803  0.990665  0.936495  5  2\n",
      "2  0.585873 -1.913129  0.176131  5  3\n",
      "3  2.558650 -0.231655 -0.855915  5  4\n",
      "4  1.626634  0.317939  1.621115  5  5\n",
      "5 -0.938682 -0.686302 -0.564103  5  6\n"
     ]
    }
   ],
   "source": [
    "# set a whole column with numpy\n",
    "df.loc[:, 'D'] = np.array([5] * len(df))\n",
    "print(df)"
   ]
  },
  {
   "cell_type": "code",
   "execution_count": 30,
   "metadata": {},
   "outputs": [
    {
     "name": "stdout",
     "output_type": "stream",
     "text": [
      "          A         B         C  D  E\n",
      "0  0.000000  0.355445       NaN  5  1\n",
      "1  1.779803  0.990665  0.936495  5  2\n",
      "2  0.585873       NaN  0.176131  5  3\n",
      "3  2.558650       NaN       NaN  5  4\n",
      "4  1.626634  0.317939  1.621115  5  5\n",
      "5       NaN       NaN       NaN  5  6\n"
     ]
    }
   ],
   "source": [
    "# set with boolean indexing\n",
    "df[df < 0] = np.nan\n",
    "print(df)"
   ]
  },
  {
   "cell_type": "markdown",
   "metadata": {},
   "source": [
    "# Missing Data"
   ]
  },
  {
   "cell_type": "code",
   "execution_count": 31,
   "metadata": {},
   "outputs": [
    {
     "name": "stdout",
     "output_type": "stream",
     "text": [
      "          A         B         C  D  E\n",
      "1  1.779803  0.990665  0.936495  5  2\n",
      "4  1.626634  0.317939  1.621115  5  5\n"
     ]
    }
   ],
   "source": [
    "# dropping rows with any missing data (see documentation for more)\n",
    "df1 = df.copy()\n",
    "print(df1.dropna(how = 'any'))"
   ]
  },
  {
   "cell_type": "code",
   "execution_count": 32,
   "metadata": {},
   "outputs": [
    {
     "name": "stdout",
     "output_type": "stream",
     "text": [
      "          A         B         C  D  E\n",
      "0  0.000000  0.355445  5.000000  5  1\n",
      "1  1.779803  0.990665  0.936495  5  2\n",
      "2  0.585873  5.000000  0.176131  5  3\n",
      "3  2.558650  5.000000  5.000000  5  4\n",
      "4  1.626634  0.317939  1.621115  5  5\n",
      "5  5.000000  5.000000  5.000000  5  6\n"
     ]
    }
   ],
   "source": [
    "# filling missing values with a specific value\n",
    "print(df1.fillna(value = 5))"
   ]
  },
  {
   "cell_type": "code",
   "execution_count": 33,
   "metadata": {},
   "outputs": [
    {
     "name": "stdout",
     "output_type": "stream",
     "text": [
      "       A      B      C      D      E\n",
      "0  False  False   True  False  False\n",
      "1  False  False  False  False  False\n",
      "2  False   True  False  False  False\n",
      "3  False   True   True  False  False\n",
      "4  False  False  False  False  False\n",
      "5   True   True   True  False  False\n"
     ]
    }
   ],
   "source": [
    "# getting a boolean mask of where missing values are (similar to R)\n",
    "print(pd.isna(df1))"
   ]
  },
  {
   "cell_type": "markdown",
   "metadata": {},
   "source": [
    "# Basic Operations"
   ]
  },
  {
   "cell_type": "code",
   "execution_count": 34,
   "metadata": {},
   "outputs": [
    {
     "name": "stdout",
     "output_type": "stream",
     "text": [
      "A    1.310192\n",
      "B    0.554683\n",
      "C    0.911247\n",
      "D    5.000000\n",
      "E    3.500000\n",
      "dtype: float64\n"
     ]
    }
   ],
   "source": [
    "# apply mean to each column\n",
    "print(df.mean())"
   ]
  },
  {
   "cell_type": "code",
   "execution_count": 35,
   "metadata": {},
   "outputs": [
    {
     "name": "stdout",
     "output_type": "stream",
     "text": [
      "0     6.355445\n",
      "1    10.706963\n",
      "2     8.762004\n",
      "3    11.558650\n",
      "4    13.565688\n",
      "5    11.000000\n",
      "dtype: float64\n"
     ]
    }
   ],
   "source": [
    "# apply sum to each row\n",
    "print(df.sum(axis = 1))"
   ]
  },
  {
   "cell_type": "code",
   "execution_count": 36,
   "metadata": {},
   "outputs": [
    {
     "name": "stdout",
     "output_type": "stream",
     "text": [
      "          A         B         C   D   E\n",
      "0  0.000000  0.355445       NaN   5   1\n",
      "1  1.779803  1.346110  0.936495  10   3\n",
      "2  2.365677       NaN  1.112625  15   6\n",
      "3  4.924327       NaN       NaN  20  10\n",
      "4  6.550961  1.664049  2.733741  25  15\n",
      "5       NaN       NaN       NaN  30  21\n"
     ]
    }
   ],
   "source": [
    "# df.apply a non-pandas function\n",
    "print(df.apply(np.cumsum))"
   ]
  },
  {
   "cell_type": "code",
   "execution_count": 37,
   "metadata": {},
   "outputs": [
    {
     "name": "stdout",
     "output_type": "stream",
     "text": [
      "A    2.558650\n",
      "B    0.672726\n",
      "C    1.444984\n",
      "D    0.000000\n",
      "E    5.000000\n",
      "dtype: float64\n"
     ]
    }
   ],
   "source": [
    "# apply anonumous function\n",
    "print(df.apply(lambda x: x.max() - x.min()))"
   ]
  },
  {
   "cell_type": "markdown",
   "metadata": {},
   "source": [
    "# Basic Manipulation"
   ]
  },
  {
   "cell_type": "markdown",
   "metadata": {},
   "source": [
    "pandas is inspired by R's `tidyverse` philosophy and works best with \"tidy\", long datasets, in which every column is a single variable, and every row is a single observation."
   ]
  },
  {
   "cell_type": "code",
   "execution_count": 38,
   "metadata": {},
   "outputs": [
    {
     "data": {
      "text/html": [
       "<div>\n",
       "<style scoped>\n",
       "    .dataframe tbody tr th:only-of-type {\n",
       "        vertical-align: middle;\n",
       "    }\n",
       "\n",
       "    .dataframe tbody tr th {\n",
       "        vertical-align: top;\n",
       "    }\n",
       "\n",
       "    .dataframe thead th {\n",
       "        text-align: right;\n",
       "    }\n",
       "</style>\n",
       "<table border=\"1\" class=\"dataframe\">\n",
       "  <thead>\n",
       "    <tr style=\"text-align: right;\">\n",
       "      <th></th>\n",
       "      <th>numerical1</th>\n",
       "      <th>numerical2</th>\n",
       "    </tr>\n",
       "    <tr>\n",
       "      <th>categorical</th>\n",
       "      <th></th>\n",
       "      <th></th>\n",
       "    </tr>\n",
       "  </thead>\n",
       "  <tbody>\n",
       "    <tr>\n",
       "      <th>A</th>\n",
       "      <td>0.259247</td>\n",
       "      <td>10.037896</td>\n",
       "    </tr>\n",
       "    <tr>\n",
       "      <th>B</th>\n",
       "      <td>-0.457582</td>\n",
       "      <td>11.098038</td>\n",
       "    </tr>\n",
       "  </tbody>\n",
       "</table>\n",
       "</div>"
      ],
      "text/plain": [
       "             numerical1  numerical2\n",
       "categorical                        \n",
       "A              0.259247   10.037896\n",
       "B             -0.457582   11.098038"
      ]
     },
     "execution_count": 38,
     "metadata": {},
     "output_type": "execute_result"
    }
   ],
   "source": [
    "# group by a categorical variable, and get mean by group for all numeric variables\n",
    "df2 = pd.DataFrame({'categorical': np.tile(['A', 'B'], (5, )),\n",
    "                    'numerical1': np.random.randn(10),\n",
    "                    'numerical2': 10 + 2 * np.random.randn(10)})\n",
    "df2.groupby('categorical').mean()"
   ]
  },
  {
   "cell_type": "markdown",
   "metadata": {},
   "source": [
    "### See more in documentation"
   ]
  }
 ],
 "metadata": {
  "kernelspec": {
   "display_name": "Python 3",
   "language": "python",
   "name": "python3"
  },
  "language_info": {
   "codemirror_mode": {
    "name": "ipython",
    "version": 3
   },
   "file_extension": ".py",
   "mimetype": "text/x-python",
   "name": "python",
   "nbconvert_exporter": "python",
   "pygments_lexer": "ipython3",
   "version": "3.6.6"
  }
 },
 "nbformat": 4,
 "nbformat_minor": 2
}
