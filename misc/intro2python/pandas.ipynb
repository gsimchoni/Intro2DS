{
 "cells": [
  {
   "cell_type": "markdown",
   "metadata": {},
   "source": [
    "### Heavily based on [\"10 Minutes to pandas\"](https://pandas.pydata.org/pandas-docs/stable/10min.html)"
   ]
  },
  {
   "cell_type": "code",
   "execution_count": 1,
   "metadata": {},
   "outputs": [],
   "source": [
    "import pandas as pd\n",
    "\n",
    "import numpy as np"
   ]
  },
  {
   "cell_type": "markdown",
   "metadata": {},
   "source": [
    "# Series, DataFrames"
   ]
  },
  {
   "cell_type": "code",
   "execution_count": 2,
   "metadata": {},
   "outputs": [
    {
     "name": "stdout",
     "output_type": "stream",
     "text": [
      "0    1.0\n",
      "1    3.0\n",
      "2    5.0\n",
      "3    NaN\n",
      "4    6.0\n",
      "5    8.0\n",
      "dtype: float64\n"
     ]
    }
   ],
   "source": [
    "# a pandas series is a vector of data, a column\n",
    "s = pd.Series([1,3,5,np.nan,6,8])\n",
    "print(s)"
   ]
  },
  {
   "cell_type": "code",
   "execution_count": 3,
   "metadata": {},
   "outputs": [
    {
     "name": "stdout",
     "output_type": "stream",
     "text": [
      "          A         B         C         D\n",
      "0  0.092355 -0.659736  0.840346  2.688674\n",
      "1  1.519475  0.894653  0.548488 -0.382577\n",
      "2  3.015042 -1.371197 -0.913546  1.189768\n",
      "3 -0.277704 -2.481435 -1.607659 -0.947474\n",
      "4  0.626947  1.031938  0.641178 -0.330257\n",
      "5  0.361567  0.692051  1.334572 -0.954379\n"
     ]
    }
   ],
   "source": [
    "# a DataFrame is a data table, always indexed.\n",
    "# creating one from a random numpy 2D array (notice the index isn't specified, automatically becomes zero based counter):\n",
    "df = pd.DataFrame(np.random.randn(6,4), columns = ['A', 'B', 'C', 'D'])\n",
    "print(df)"
   ]
  },
  {
   "cell_type": "code",
   "execution_count": 4,
   "metadata": {},
   "outputs": [
    {
     "name": "stdout",
     "output_type": "stream",
     "text": [
      "     A          B    C  D      E    F\n",
      "0  1.0 2013-01-02  1.0  0   test  foo\n",
      "1  1.0 2013-01-02  1.0  1  train  foo\n",
      "2  1.0 2013-01-02  1.0  2   test  foo\n",
      "3  1.0 2013-01-02  1.0  3  train  foo\n"
     ]
    }
   ],
   "source": [
    "# creating a DataFrame from a very varied dictionary where each key is a column (also see pd.from_dict()):\n",
    "df2 = pd.DataFrame({'A' : 1.,\n",
    "                    'B' : pd.Timestamp('20130102'),\n",
    "                    'C' : pd.Series(1, index = list(range(4)), dtype = 'float32'),\n",
    "                    'D' : np.array(np.arange(4), dtype = 'int32'),\n",
    "                    'E' : pd.Categorical([\"test\", \"train\", \"test\", \"train\"]),\n",
    "                    'F' : 'foo' })\n",
    "print(df2)"
   ]
  },
  {
   "cell_type": "code",
   "execution_count": 5,
   "metadata": {},
   "outputs": [
    {
     "name": "stdout",
     "output_type": "stream",
     "text": [
      "A           float64\n",
      "B    datetime64[ns]\n",
      "C           float32\n",
      "D             int32\n",
      "E          category\n",
      "F            object\n",
      "dtype: object\n"
     ]
    }
   ],
   "source": [
    "# looking at the DataFrame columns types (notice this is a Series!):\n",
    "print(df2.dtypes)"
   ]
  },
  {
   "cell_type": "code",
   "execution_count": 6,
   "metadata": {},
   "outputs": [
    {
     "name": "stdout",
     "output_type": "stream",
     "text": [
      "   x   y\n",
      "0  1   6\n",
      "1  2   7\n",
      "2  3   8\n",
      "3  4   9\n",
      "4  5  10\n"
     ]
    }
   ],
   "source": [
    "# reading from CSV\n",
    "df3 = pd.read_csv(\"../../datasets/test.csv\")\n",
    "print(df3)"
   ]
  },
  {
   "cell_type": "markdown",
   "metadata": {},
   "source": [
    "# Some info"
   ]
  },
  {
   "cell_type": "code",
   "execution_count": 7,
   "metadata": {},
   "outputs": [
    {
     "name": "stdout",
     "output_type": "stream",
     "text": [
      "          A         B         C         D\n",
      "0  0.092355 -0.659736  0.840346  2.688674\n",
      "1  1.519475  0.894653  0.548488 -0.382577\n",
      "2  3.015042 -1.371197 -0.913546  1.189768\n",
      "3 -0.277704 -2.481435 -1.607659 -0.947474\n",
      "4  0.626947  1.031938  0.641178 -0.330257\n"
     ]
    }
   ],
   "source": [
    "# get top rows\n",
    "print(df.head())"
   ]
  },
  {
   "cell_type": "code",
   "execution_count": 8,
   "metadata": {},
   "outputs": [
    {
     "name": "stdout",
     "output_type": "stream",
     "text": [
      "          A         B         C         D\n",
      "4  0.626947  1.031938  0.641178 -0.330257\n",
      "5  0.361567  0.692051  1.334572 -0.954379\n"
     ]
    }
   ],
   "source": [
    "# get bottom rows\n",
    "print(df.tail(2))"
   ]
  },
  {
   "cell_type": "code",
   "execution_count": 9,
   "metadata": {},
   "outputs": [
    {
     "name": "stdout",
     "output_type": "stream",
     "text": [
      "RangeIndex(start=0, stop=6, step=1)\n"
     ]
    }
   ],
   "source": [
    "# view index\n",
    "print(df.index)"
   ]
  },
  {
   "cell_type": "code",
   "execution_count": 10,
   "metadata": {},
   "outputs": [
    {
     "name": "stdout",
     "output_type": "stream",
     "text": [
      "Index(['A', 'B', 'C', 'D'], dtype='object')\n"
     ]
    }
   ],
   "source": [
    "# view column names\n",
    "print(df.columns)"
   ]
  },
  {
   "cell_type": "code",
   "execution_count": 11,
   "metadata": {},
   "outputs": [
    {
     "name": "stdout",
     "output_type": "stream",
     "text": [
      "[[ 0.0923551  -0.65973551  0.84034612  2.68867361]\n",
      " [ 1.51947522  0.89465268  0.54848789 -0.38257737]\n",
      " [ 3.01504218 -1.37119711 -0.91354644  1.18976757]\n",
      " [-0.27770354 -2.48143483 -1.60765943 -0.94747427]\n",
      " [ 0.62694726  1.03193828  0.64117776 -0.3302569 ]\n",
      " [ 0.36156742  0.69205058  1.33457223 -0.95437889]]\n"
     ]
    }
   ],
   "source": [
    "# get the underlying numpy matrix\n",
    "print(df.values)"
   ]
  },
  {
   "cell_type": "code",
   "execution_count": 12,
   "metadata": {},
   "outputs": [
    {
     "name": "stdout",
     "output_type": "stream",
     "text": [
      "              A         B         C         D\n",
      "count  6.000000  6.000000  6.000000  6.000000\n",
      "mean   0.889614 -0.315621  0.140563  0.210626\n",
      "std    1.205010  1.429649  1.140158  1.445152\n",
      "min   -0.277704 -2.481435 -1.607659 -0.954379\n",
      "25%    0.159658 -1.193332 -0.548038 -0.806250\n",
      "50%    0.494257  0.016158  0.594833 -0.356417\n",
      "75%    1.296343  0.844002  0.790554  0.809761\n",
      "max    3.015042  1.031938  1.334572  2.688674\n"
     ]
    }
   ],
   "source": [
    "# quick statistics summary\n",
    "print(df.describe())"
   ]
  },
  {
   "cell_type": "code",
   "execution_count": 13,
   "metadata": {},
   "outputs": [
    {
     "name": "stdout",
     "output_type": "stream",
     "text": [
      "          0         1         2         3         4         5\n",
      "A  0.092355  1.519475  3.015042 -0.277704  0.626947  0.361567\n",
      "B -0.659736  0.894653 -1.371197 -2.481435  1.031938  0.692051\n",
      "C  0.840346  0.548488 -0.913546 -1.607659  0.641178  1.334572\n",
      "D  2.688674 -0.382577  1.189768 -0.947474 -0.330257 -0.954379\n"
     ]
    }
   ],
   "source": [
    "# transposing a DataFrame\n",
    "print(df.T)"
   ]
  },
  {
   "cell_type": "code",
   "execution_count": 14,
   "metadata": {},
   "outputs": [
    {
     "name": "stdout",
     "output_type": "stream",
     "text": [
      "          D         C         B         A\n",
      "0  2.688674  0.840346 -0.659736  0.092355\n",
      "1 -0.382577  0.548488  0.894653  1.519475\n",
      "2  1.189768 -0.913546 -1.371197  3.015042\n",
      "3 -0.947474 -1.607659 -2.481435 -0.277704\n",
      "4 -0.330257  0.641178  1.031938  0.626947\n",
      "5 -0.954379  1.334572  0.692051  0.361567\n"
     ]
    }
   ],
   "source": [
    "# sorting by column names\n",
    "print(df.sort_index(axis = 1, ascending = False))"
   ]
  },
  {
   "cell_type": "code",
   "execution_count": 15,
   "metadata": {},
   "outputs": [
    {
     "name": "stdout",
     "output_type": "stream",
     "text": [
      "          A         B         C         D\n",
      "3 -0.277704 -2.481435 -1.607659 -0.947474\n",
      "2  3.015042 -1.371197 -0.913546  1.189768\n",
      "0  0.092355 -0.659736  0.840346  2.688674\n",
      "5  0.361567  0.692051  1.334572 -0.954379\n",
      "1  1.519475  0.894653  0.548488 -0.382577\n",
      "4  0.626947  1.031938  0.641178 -0.330257\n"
     ]
    }
   ],
   "source": [
    "# sorting by a specific column values\n",
    "print(df.sort_values(by = 'B'))"
   ]
  },
  {
   "cell_type": "markdown",
   "metadata": {},
   "source": [
    "# Selection"
   ]
  },
  {
   "cell_type": "code",
   "execution_count": 16,
   "metadata": {},
   "outputs": [
    {
     "name": "stdout",
     "output_type": "stream",
     "text": [
      "0    0.092355\n",
      "1    1.519475\n",
      "2    3.015042\n",
      "3   -0.277704\n",
      "4    0.626947\n",
      "5    0.361567\n",
      "Name: A, dtype: float64\n"
     ]
    }
   ],
   "source": [
    "# select a specific column (this will give you a Series!) - pandas people do not recommend this, see loc/iloc\n",
    "print(df['A'])"
   ]
  },
  {
   "cell_type": "code",
   "execution_count": 17,
   "metadata": {},
   "outputs": [
    {
     "name": "stdout",
     "output_type": "stream",
     "text": [
      "          A         B         C         D\n",
      "0  0.092355 -0.659736  0.840346  2.688674\n",
      "1  1.519475  0.894653  0.548488 -0.382577\n",
      "2  3.015042 -1.371197 -0.913546  1.189768\n",
      "          0         1         2         3         4         5\n",
      "A  0.092355  1.519475  3.015042 -0.277704  0.626947  0.361567\n",
      "B -0.659736  0.894653 -1.371197 -2.481435  1.031938  0.692051\n"
     ]
    }
   ],
   "source": [
    "# slicing rows as in a numpy array - pandas people do not recommend this, see loc/iloc\n",
    "print(df[0:3])\n",
    "print(df.T['A':'B'])"
   ]
  },
  {
   "cell_type": "markdown",
   "metadata": {},
   "source": [
    "### Selection by label (`loc`)"
   ]
  },
  {
   "cell_type": "code",
   "execution_count": 18,
   "metadata": {},
   "outputs": [
    {
     "name": "stdout",
     "output_type": "stream",
     "text": [
      "0    0.092355\n",
      "1    1.519475\n",
      "2    3.015042\n",
      "3   -0.277704\n",
      "4    0.626947\n",
      "5    0.361567\n",
      "Name: A, dtype: float64\n"
     ]
    }
   ],
   "source": [
    "# select a specific column, all rows\n",
    "print(df.loc[:, 'A'])"
   ]
  },
  {
   "cell_type": "code",
   "execution_count": 19,
   "metadata": {},
   "outputs": [
    {
     "name": "stdout",
     "output_type": "stream",
     "text": [
      "          A         B\n",
      "0  0.092355 -0.659736\n",
      "1  1.519475  0.894653\n"
     ]
    }
   ],
   "source": [
    "# select first 2 rows, specific two columns\n",
    "print(df.loc[0:1, ['A', 'B']])"
   ]
  },
  {
   "cell_type": "code",
   "execution_count": 20,
   "metadata": {},
   "outputs": [
    {
     "name": "stdout",
     "output_type": "stream",
     "text": [
      "0.0923551012183\n",
      "0.0923551012183\n"
     ]
    }
   ],
   "source": [
    "# select specific value\n",
    "print(df.loc[0, 'A'])\n",
    "\n",
    "# but \"at\" is preferred\n",
    "print(df.at[0, 'A'])"
   ]
  },
  {
   "cell_type": "markdown",
   "metadata": {},
   "source": [
    "### Selection by position (`iloc`)"
   ]
  },
  {
   "cell_type": "code",
   "execution_count": 21,
   "metadata": {},
   "outputs": [
    {
     "name": "stdout",
     "output_type": "stream",
     "text": [
      "A   -0.277704\n",
      "B   -2.481435\n",
      "C   -1.607659\n",
      "D   -0.947474\n",
      "Name: 3, dtype: float64\n"
     ]
    }
   ],
   "source": [
    "# specific row (as a Series)\n",
    "print(df.iloc[3])"
   ]
  },
  {
   "cell_type": "code",
   "execution_count": 22,
   "metadata": {},
   "outputs": [
    {
     "name": "stdout",
     "output_type": "stream",
     "text": [
      "          A         B         C         D\n",
      "3 -0.277704 -2.481435 -1.607659 -0.947474\n"
     ]
    }
   ],
   "source": [
    "# specific row (as a sub-table)\n",
    "print(df.iloc[3:4, :])"
   ]
  },
  {
   "cell_type": "code",
   "execution_count": 23,
   "metadata": {},
   "outputs": [
    {
     "name": "stdout",
     "output_type": "stream",
     "text": [
      "          A         B\n",
      "3 -0.277704 -2.481435\n",
      "4  0.626947  1.031938\n"
     ]
    }
   ],
   "source": [
    "# sub-table\n",
    "print(df.iloc[3:5, 0:2])"
   ]
  },
  {
   "cell_type": "code",
   "execution_count": 24,
   "metadata": {},
   "outputs": [
    {
     "name": "stdout",
     "output_type": "stream",
     "text": [
      "          A         C\n",
      "1  1.519475  0.548488\n",
      "2  3.015042 -0.913546\n",
      "4  0.626947  0.641178\n"
     ]
    }
   ],
   "source": [
    "# integer indexing\n",
    "print(df.iloc[[1,2,4], [0,2]])"
   ]
  },
  {
   "cell_type": "markdown",
   "metadata": {},
   "source": [
    "### Boolean indexing"
   ]
  },
  {
   "cell_type": "code",
   "execution_count": 25,
   "metadata": {},
   "outputs": [
    {
     "name": "stdout",
     "output_type": "stream",
     "text": [
      "          A         B         C         D\n",
      "0  0.092355 -0.659736  0.840346  2.688674\n",
      "1  1.519475  0.894653  0.548488 -0.382577\n",
      "2  3.015042 -1.371197 -0.913546  1.189768\n",
      "4  0.626947  1.031938  0.641178 -0.330257\n",
      "5  0.361567  0.692051  1.334572 -0.954379\n"
     ]
    }
   ],
   "source": [
    "# filter only values answering condition in specific column\n",
    "print(df[df.A > 0])"
   ]
  },
  {
   "cell_type": "code",
   "execution_count": 26,
   "metadata": {},
   "outputs": [
    {
     "name": "stdout",
     "output_type": "stream",
     "text": [
      "          A         B         C         D\n",
      "0  0.092355       NaN  0.840346  2.688674\n",
      "1  1.519475  0.894653  0.548488       NaN\n",
      "2  3.015042       NaN       NaN  1.189768\n",
      "3       NaN       NaN       NaN       NaN\n",
      "4  0.626947  1.031938  0.641178       NaN\n",
      "5  0.361567  0.692051  1.334572       NaN\n"
     ]
    }
   ],
   "source": [
    "# if not using specific column...\n",
    "print(df[df > 0])"
   ]
  },
  {
   "cell_type": "markdown",
   "metadata": {},
   "source": [
    "# Setting"
   ]
  },
  {
   "cell_type": "code",
   "execution_count": 27,
   "metadata": {},
   "outputs": [
    {
     "name": "stdout",
     "output_type": "stream",
     "text": [
      "          A         B         C         D  E\n",
      "0  0.092355 -0.659736  0.840346  2.688674  1\n",
      "1  1.519475  0.894653  0.548488 -0.382577  2\n",
      "2  3.015042 -1.371197 -0.913546  1.189768  3\n",
      "3 -0.277704 -2.481435 -1.607659 -0.947474  4\n",
      "4  0.626947  1.031938  0.641178 -0.330257  5\n",
      "5  0.361567  0.692051  1.334572 -0.954379  6\n"
     ]
    }
   ],
   "source": [
    "# set a new column s1\n",
    "s1 = pd.Series([1,2,3,4,5,6])\n",
    "df['E'] = s1\n",
    "print(df)"
   ]
  },
  {
   "cell_type": "code",
   "execution_count": 28,
   "metadata": {},
   "outputs": [
    {
     "name": "stdout",
     "output_type": "stream",
     "text": [
      "          A         B         C         D  E\n",
      "0  0.000000 -0.659736  0.840346  2.688674  1\n",
      "1  1.519475  0.894653  0.548488 -0.382577  2\n",
      "2  3.015042 -1.371197 -0.913546  1.189768  3\n",
      "3 -0.277704 -2.481435 -1.607659 -0.947474  4\n",
      "4  0.626947  1.031938  0.641178 -0.330257  5\n",
      "5  0.361567  0.692051  1.334572 -0.954379  6\n"
     ]
    }
   ],
   "source": [
    "# set a specific value\n",
    "df.at[0, 'A'] = 0\n",
    "print(df)"
   ]
  },
  {
   "cell_type": "code",
   "execution_count": 29,
   "metadata": {},
   "outputs": [
    {
     "name": "stdout",
     "output_type": "stream",
     "text": [
      "          A         B         C  D  E\n",
      "0  0.000000 -0.659736  0.840346  5  1\n",
      "1  1.519475  0.894653  0.548488  5  2\n",
      "2  3.015042 -1.371197 -0.913546  5  3\n",
      "3 -0.277704 -2.481435 -1.607659  5  4\n",
      "4  0.626947  1.031938  0.641178  5  5\n",
      "5  0.361567  0.692051  1.334572  5  6\n"
     ]
    }
   ],
   "source": [
    "# set a whole column with numpy\n",
    "df.loc[:, 'D'] = np.array([5] * len(df))\n",
    "print(df)"
   ]
  },
  {
   "cell_type": "code",
   "execution_count": 30,
   "metadata": {},
   "outputs": [
    {
     "name": "stdout",
     "output_type": "stream",
     "text": [
      "          A         B         C  D  E\n",
      "0  0.000000       NaN  0.840346  5  1\n",
      "1  1.519475  0.894653  0.548488  5  2\n",
      "2  3.015042       NaN       NaN  5  3\n",
      "3       NaN       NaN       NaN  5  4\n",
      "4  0.626947  1.031938  0.641178  5  5\n",
      "5  0.361567  0.692051  1.334572  5  6\n"
     ]
    }
   ],
   "source": [
    "# set with boolean indexing\n",
    "df[df < 0] = np.nan\n",
    "print(df)"
   ]
  },
  {
   "cell_type": "markdown",
   "metadata": {},
   "source": [
    "# Missing Data"
   ]
  },
  {
   "cell_type": "code",
   "execution_count": 31,
   "metadata": {},
   "outputs": [
    {
     "name": "stdout",
     "output_type": "stream",
     "text": [
      "          A         B         C  D  E\n",
      "1  1.519475  0.894653  0.548488  5  2\n",
      "4  0.626947  1.031938  0.641178  5  5\n",
      "5  0.361567  0.692051  1.334572  5  6\n"
     ]
    }
   ],
   "source": [
    "# dropping rows with any missing data (see documentation for more)\n",
    "df1 = df.copy()\n",
    "print(df1.dropna(how = 'any'))"
   ]
  },
  {
   "cell_type": "code",
   "execution_count": 32,
   "metadata": {},
   "outputs": [
    {
     "name": "stdout",
     "output_type": "stream",
     "text": [
      "          A         B         C  D  E\n",
      "0  0.000000  5.000000  0.840346  5  1\n",
      "1  1.519475  0.894653  0.548488  5  2\n",
      "2  3.015042  5.000000  5.000000  5  3\n",
      "3  5.000000  5.000000  5.000000  5  4\n",
      "4  0.626947  1.031938  0.641178  5  5\n",
      "5  0.361567  0.692051  1.334572  5  6\n"
     ]
    }
   ],
   "source": [
    "# filling missing values with a specific value\n",
    "print(df1.fillna(value = 5))"
   ]
  },
  {
   "cell_type": "code",
   "execution_count": 33,
   "metadata": {},
   "outputs": [
    {
     "name": "stdout",
     "output_type": "stream",
     "text": [
      "       A      B      C      D      E\n",
      "0  False   True  False  False  False\n",
      "1  False  False  False  False  False\n",
      "2  False   True   True  False  False\n",
      "3   True   True   True  False  False\n",
      "4  False  False  False  False  False\n",
      "5  False  False  False  False  False\n"
     ]
    }
   ],
   "source": [
    "# getting a boolean mask of where missing values are (similar to R)\n",
    "print(pd.isna(df1))"
   ]
  },
  {
   "cell_type": "markdown",
   "metadata": {},
   "source": [
    "# Basic Operations"
   ]
  },
  {
   "cell_type": "code",
   "execution_count": 34,
   "metadata": {},
   "outputs": [
    {
     "name": "stdout",
     "output_type": "stream",
     "text": [
      "A    1.104606\n",
      "B    0.872881\n",
      "C    0.841146\n",
      "D    5.000000\n",
      "E    3.500000\n",
      "dtype: float64\n"
     ]
    }
   ],
   "source": [
    "# apply mean to each column\n",
    "print(df.mean())"
   ]
  },
  {
   "cell_type": "code",
   "execution_count": 37,
   "metadata": {},
   "outputs": [
    {
     "name": "stdout",
     "output_type": "stream",
     "text": [
      "0     6.840346\n",
      "1     9.962616\n",
      "2    11.015042\n",
      "3     9.000000\n",
      "4    12.300063\n",
      "5    13.388190\n",
      "dtype: float64\n"
     ]
    }
   ],
   "source": [
    "# apply sum to each row\n",
    "print(df.sum(axis = 1))"
   ]
  },
  {
   "cell_type": "code",
   "execution_count": 38,
   "metadata": {},
   "outputs": [
    {
     "name": "stdout",
     "output_type": "stream",
     "text": [
      "          A         B         C   D   E\n",
      "0  0.000000       NaN  0.840346   5   1\n",
      "1  1.519475  0.894653  1.388834  10   3\n",
      "2  4.534517       NaN       NaN  15   6\n",
      "3       NaN       NaN       NaN  20  10\n",
      "4  5.161465  1.926591  2.030012  25  15\n",
      "5  5.523032  2.618642  3.364584  30  21\n"
     ]
    }
   ],
   "source": [
    "# df.apply a non-pandas function\n",
    "print(df.apply(np.cumsum))"
   ]
  },
  {
   "cell_type": "code",
   "execution_count": 39,
   "metadata": {},
   "outputs": [
    {
     "name": "stdout",
     "output_type": "stream",
     "text": [
      "A    3.015042\n",
      "B    0.339888\n",
      "C    0.786084\n",
      "D    0.000000\n",
      "E    5.000000\n",
      "dtype: float64\n"
     ]
    }
   ],
   "source": [
    "# apply anonumous function\n",
    "print(df.apply(lambda x: x.max() - x.min()))"
   ]
  },
  {
   "cell_type": "markdown",
   "metadata": {},
   "source": [
    "### See more in documentation"
   ]
  }
 ],
 "metadata": {
  "kernelspec": {
   "display_name": "Python 3",
   "language": "python",
   "name": "python3"
  },
  "language_info": {
   "codemirror_mode": {
    "name": "ipython",
    "version": 3
   },
   "file_extension": ".py",
   "mimetype": "text/x-python",
   "name": "python",
   "nbconvert_exporter": "python",
   "pygments_lexer": "ipython3",
   "version": "3.6.6"
  }
 },
 "nbformat": 4,
 "nbformat_minor": 2
}
