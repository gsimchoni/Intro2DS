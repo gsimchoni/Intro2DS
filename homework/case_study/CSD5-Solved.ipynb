{
 "cells": [
  {
   "cell_type": "markdown",
   "metadata": {},
   "source": [
    "# CSD 5: Ensemble Methods "
   ]
  },
  {
   "cell_type": "markdown",
   "metadata": {},
   "source": [
    "0. For this Case Study assignment you should have in your current folder the ebay_boys_girls_shirts folder, holding the four CSV files describing the train and test shirts images, and the boys and girls images folders. This is what we did in CSD 1, **if you already have the data in your current folder you don't need to run this again!**:"
   ]
  },
  {
   "cell_type": "code",
   "execution_count": null,
   "metadata": {},
   "outputs": [],
   "source": [
    "import requests\n",
    "import tarfile\n",
    "\n",
    "url = \"http://www.tau.ac.il/~saharon/DScourse/ebay_boys_girls_shirts.tar.gz\"\n",
    "r = requests.get(url)\n",
    "\n",
    "with open(\"ebay_boys_girls_shirts.tar\", \"wb\") as file:\n",
    "    file.write(r.content)\n",
    "\n",
    "with tarfile.open(\"ebay_boys_girls_shirts.tar\") as tar:\n",
    "    tar.extractall('.')"
   ]
  },
  {
   "cell_type": "markdown",
   "metadata": {},
   "source": [
    "1. In CSD4 we got the `x_train` and `x_test` matrices, and the `y_train` and `y_test` 0/1 vectors (0 = boys, 1 = girls).\n",
    "\n",
    "    Complete the `get_final_matrices` function using all functions we've composed, to quickly get the four elements:"
   ]
  },
  {
   "cell_type": "code",
   "execution_count": 1,
   "metadata": {},
   "outputs": [],
   "source": [
    "import sys\n",
    "import warnings\n",
    "import pandas as pd\n",
    "import numpy as np\n",
    "import matplotlib.pyplot as plt\n",
    "from skimage import transform, color, img_as_ubyte\n",
    "\n",
    "%matplotlib inline\n",
    "\n",
    "def get_file_list(df, folder, n_sample = None, seed = None):\n",
    "    if n_sample is None:\n",
    "        file_ids_list = df.file_id.values\n",
    "    else:\n",
    "        file_ids_list = df.sample(n = n_sample, random_state = seed).file_id.values\n",
    "    files_list = [folder + '/' + str(file_id) + '.jpg' for file_id in file_ids_list]\n",
    "    return files_list\n",
    "\n",
    "def read_image_and_resize(f, w = 100, h = 100):\n",
    "    img = plt.imread(f)\n",
    "    with warnings.catch_warnings():\n",
    "        warnings.simplefilter(\"ignore\")\n",
    "        img = transform.resize(img, (w, h), mode='constant')\n",
    "        img = img_as_ubyte(img)\n",
    "    img = color.gray2rgb(img)\n",
    "    img = img[np.newaxis, :, :, :3]\n",
    "    if img.shape != (1, 100, 100, 3):\n",
    "        raise ValueError(f + str(img.shape))\n",
    "    return img\n",
    "\n",
    "def read_images_4d_array(files_list):\n",
    "    images_list = [read_image_and_resize(file) for file in files_list]\n",
    "    images_array = np.concatenate(images_list)\n",
    "    return images_array\n",
    "\n",
    "def get_images_matrix(csv_file, folder, n = None, seed = 1976):\n",
    "    df = pd.read_csv(csv_file)\n",
    "    files_list = get_file_list(df, folder, n, seed)\n",
    "    images = read_images_4d_array(files_list)\n",
    "    return images, files_list\n",
    "\n",
    "def get_all_pixels(x):\n",
    "    return x.reshape(-1, np.prod(x.shape[1:]))\n",
    "\n",
    "def numpy_array_size_in_bytes(a):\n",
    "    return a.size * a.itemsize\n",
    "\n",
    "def shape_and_size(x, name):\n",
    "    n_rows = x.shape[0]\n",
    "    if len(x.shape) == 1:\n",
    "        n_cols = 1\n",
    "    elif len(x.shape) == 2:\n",
    "        n_cols = x.shape[1]\n",
    "    else:\n",
    "        warnings.warn('Function is meaningful for 1 or 2-D numpy arrays, taking 2nd dimension as n_cols')\n",
    "        n_cols = x.shape[1]        \n",
    "    size = numpy_array_size_in_bytes(x)\n",
    "    print('%s Shape: %d X %d, Size (bytes): %d' % (name, n_rows, n_cols, size))\n",
    "\n",
    "def conf_matrix(y_true, y_pred):\n",
    "    return pd.crosstab(y_true, y_pred, rownames=['True'], colnames=['Predicted'], margins=True)\n",
    "\n",
    "def get_final_matrices(n_train = None, n_test = None):\n",
    "    folder = 'ebay_boys_girls_shirts/'\n",
    "    x_boys_train, boys_train_files = get_images_matrix(folder + 'boys_train.csv', folder + 'boys', n_train)\n",
    "    x_boys_test, boys_test_files = get_images_matrix(folder + 'boys_test.csv', folder + 'boys', n_test)\n",
    "    x_girls_train, girls_train_files = get_images_matrix(folder + 'girls_train.csv', folder + 'girls', n_train)\n",
    "    x_girls_test, girls_test_files = get_images_matrix(folder + 'girls_test.csv', folder + 'girls', n_test)\n",
    "    \n",
    "    x_boys_train_all = get_all_pixels(x_boys_train)\n",
    "    x_boys_test_all = get_all_pixels(x_boys_test)\n",
    "    x_girls_train_all = get_all_pixels(x_girls_train)\n",
    "    x_girls_test_all = get_all_pixels(x_girls_test)\n",
    "\n",
    "    x_train = np.vstack([x_boys_train_all, x_girls_train_all])\n",
    "    x_test = np.vstack([x_boys_test_all, x_girls_test_all])\n",
    "\n",
    "    y_boys_train = np.array([np.uint8(0)] * x_boys_train.shape[0])\n",
    "    y_boys_test = np.array([np.uint8(0)] * x_boys_test.shape[0])\n",
    "    y_girls_train = np.array([np.uint8(1)] * x_girls_train.shape[0])\n",
    "    y_girls_test = np.array([np.uint8(1)] * x_girls_test.shape[0])\n",
    "    y_train = np.concatenate([y_boys_train, y_girls_train])\n",
    "    y_test = np.concatenate([y_boys_test, y_girls_test])\n",
    "    \n",
    "    return x_train, x_test, y_train, y_test"
   ]
  },
  {
   "cell_type": "markdown",
   "metadata": {},
   "source": [
    "Upload 20% of the data:"
   ]
  },
  {
   "cell_type": "code",
   "execution_count": 2,
   "metadata": {},
   "outputs": [],
   "source": [
    "x_train, x_test, y_train, y_test = get_final_matrices(n_train = 2000, n_test = 500)"
   ]
  },
  {
   "cell_type": "markdown",
   "metadata": {},
   "source": [
    "Make sure you got what you wanted:"
   ]
  },
  {
   "cell_type": "code",
   "execution_count": 3,
   "metadata": {},
   "outputs": [
    {
     "name": "stdout",
     "output_type": "stream",
     "text": [
      "x_train Shape: 4000 X 30000, Size (bytes): 120000000\n",
      "x_test Shape: 1000 X 30000, Size (bytes): 30000000\n",
      "y_train Shape: 4000 X 1, Size (bytes): 4000\n",
      "y_test Shape: 1000 X 1, Size (bytes): 1000\n"
     ]
    }
   ],
   "source": [
    "shape_and_size(x_train, 'x_train')\n",
    "shape_and_size(x_test, 'x_test')\n",
    "shape_and_size(y_train, 'y_train')\n",
    "shape_and_size(y_test, 'y_test')"
   ]
  },
  {
   "cell_type": "markdown",
   "metadata": {},
   "source": [
    "2. Train a Random Forest model with 100 trees, see the confusion matrix and accuracy for a default score cutoff of 0.5: "
   ]
  },
  {
   "cell_type": "code",
   "execution_count": 4,
   "metadata": {},
   "outputs": [
    {
     "name": "stdout",
     "output_type": "stream",
     "text": [
      "Test accuracy on all pixels with RF: 0.762\n"
     ]
    }
   ],
   "source": [
    "from sklearn.ensemble import RandomForestClassifier\n",
    "\n",
    "mod = RandomForestClassifier(n_estimators = 100)\n",
    "mod.fit(x_train, y_train)\n",
    "acc = mod.score(x_test, y_test)\n",
    "print('Test accuracy on all pixels with RF: %.3f' % acc)"
   ]
  },
  {
   "cell_type": "code",
   "execution_count": 5,
   "metadata": {},
   "outputs": [
    {
     "data": {
      "text/html": [
       "<div>\n",
       "<style scoped>\n",
       "    .dataframe tbody tr th:only-of-type {\n",
       "        vertical-align: middle;\n",
       "    }\n",
       "\n",
       "    .dataframe tbody tr th {\n",
       "        vertical-align: top;\n",
       "    }\n",
       "\n",
       "    .dataframe thead th {\n",
       "        text-align: right;\n",
       "    }\n",
       "</style>\n",
       "<table border=\"1\" class=\"dataframe\">\n",
       "  <thead>\n",
       "    <tr style=\"text-align: right;\">\n",
       "      <th>Predicted</th>\n",
       "      <th>boys</th>\n",
       "      <th>girl</th>\n",
       "      <th>All</th>\n",
       "    </tr>\n",
       "    <tr>\n",
       "      <th>True</th>\n",
       "      <th></th>\n",
       "      <th></th>\n",
       "      <th></th>\n",
       "    </tr>\n",
       "  </thead>\n",
       "  <tbody>\n",
       "    <tr>\n",
       "      <th>boys</th>\n",
       "      <td>358</td>\n",
       "      <td>142</td>\n",
       "      <td>500</td>\n",
       "    </tr>\n",
       "    <tr>\n",
       "      <th>girl</th>\n",
       "      <td>96</td>\n",
       "      <td>404</td>\n",
       "      <td>500</td>\n",
       "    </tr>\n",
       "    <tr>\n",
       "      <th>All</th>\n",
       "      <td>454</td>\n",
       "      <td>546</td>\n",
       "      <td>1000</td>\n",
       "    </tr>\n",
       "  </tbody>\n",
       "</table>\n",
       "</div>"
      ],
      "text/plain": [
       "Predicted  boys  girl   All\n",
       "True                       \n",
       "boys        358   142   500\n",
       "girl         96   404   500\n",
       "All         454   546  1000"
      ]
     },
     "execution_count": 5,
     "metadata": {},
     "output_type": "execute_result"
    }
   ],
   "source": [
    "y_pred = mod.predict(x_test)\n",
    "y_test_s = np.array(['boys'] * len(y_test))\n",
    "y_pred_s = np.array(['boys'] * len(y_test))\n",
    "y_test_s[y_test == 1] = 'girls'\n",
    "y_pred_s[y_pred == 1] = 'girls'\n",
    "conf_matrix(y_test_s, y_pred_s)"
   ]
  },
  {
   "cell_type": "markdown",
   "metadata": {},
   "source": [
    "3. See the distribution of the images score which may be interpreted as P(label(image) = boys):"
   ]
  },
  {
   "cell_type": "code",
   "execution_count": 6,
   "metadata": {},
   "outputs": [
    {
     "data": {
      "image/png": "[encoded data removed]",
      "text/plain": [
       "<Figure size 432x288 with 1 Axes>"
      ]
     },
     "metadata": {
      "needs_background": "light"
     },
     "output_type": "display_data"
    }
   ],
   "source": [
    "y_pred_prob = mod.predict_proba(x_test)\n",
    "\n",
    "plt.hist(y_pred_prob[:, 0])\n",
    "plt.xlabel('P(label(image) = boys)')\n",
    "plt.ylabel('Frequency')\n",
    "plt.show()"
   ]
  },
  {
   "cell_type": "markdown",
   "metadata": {},
   "source": [
    "3. See if accuracy improves on a subset of test images the model is more \"sure of\", i.e. it scores them very high or very low:"
   ]
  },
  {
   "cell_type": "code",
   "execution_count": 7,
   "metadata": {},
   "outputs": [
    {
     "name": "stdout",
     "output_type": "stream",
     "text": [
      "Test accuracy on all pixels with RF, only 0.15 of images with very low/high scores: 0.934\n"
     ]
    }
   ],
   "source": [
    "from sklearn.metrics import confusion_matrix\n",
    "\n",
    "y_pred_prob_1d = y_pred_prob[:, 0]\n",
    "y_pred_low_high_id = np.argwhere(( y_pred_prob_1d <= 0.1) | (y_pred_prob_1d >= 0.9)).reshape(-1)\n",
    "y_pred_low_high = y_pred_prob[y_pred_low_high_id, 0]\n",
    "y_pred_low_high_temp = y_pred_low_high.copy()\n",
    "y_pred_low_high[y_pred_low_high_temp < 0.5] = 1\n",
    "y_pred_low_high[y_pred_low_high_temp > 0.5] = 0\n",
    "y_test_low_high = y_test[y_pred_low_high_id]\n",
    "\n",
    "conf = confusion_matrix(y_test_low_high, y_pred_low_high)\n",
    "acc = (conf[0, 0] + conf[1, 1]) / len(y_test_low_high)\n",
    "print('Test accuracy on all pixels with RF, only %.2f of images with very low/high scores: %.3f' % (len(y_test_low_high)/len(y_test), acc))"
   ]
  },
  {
   "cell_type": "markdown",
   "metadata": {},
   "source": [
    "4. Repeat all of the above with Gradient Boosted Trees with 100 trees. You (almost!) only need to copy the code above. **If you're short on time try it with 10 trees at first**\n",
    "\n",
    "    Please do not use the variable name `y_pred_prob_1d` again (the variable holding the 1D array of test images scores of being labelled \"boys\"), use a different variable name, you will need it soon."
   ]
  },
  {
   "cell_type": "code",
   "execution_count": 8,
   "metadata": {},
   "outputs": [
    {
     "name": "stdout",
     "output_type": "stream",
     "text": [
      "Test accuracy on all pixels with GBT: 0.758\n"
     ]
    },
    {
     "data": {
      "text/html": [
       "<div>\n",
       "<style scoped>\n",
       "    .dataframe tbody tr th:only-of-type {\n",
       "        vertical-align: middle;\n",
       "    }\n",
       "\n",
       "    .dataframe tbody tr th {\n",
       "        vertical-align: top;\n",
       "    }\n",
       "\n",
       "    .dataframe thead th {\n",
       "        text-align: right;\n",
       "    }\n",
       "</style>\n",
       "<table border=\"1\" class=\"dataframe\">\n",
       "  <thead>\n",
       "    <tr style=\"text-align: right;\">\n",
       "      <th>Predicted</th>\n",
       "      <th>boys</th>\n",
       "      <th>girl</th>\n",
       "      <th>All</th>\n",
       "    </tr>\n",
       "    <tr>\n",
       "      <th>True</th>\n",
       "      <th></th>\n",
       "      <th></th>\n",
       "      <th></th>\n",
       "    </tr>\n",
       "  </thead>\n",
       "  <tbody>\n",
       "    <tr>\n",
       "      <th>boys</th>\n",
       "      <td>356</td>\n",
       "      <td>144</td>\n",
       "      <td>500</td>\n",
       "    </tr>\n",
       "    <tr>\n",
       "      <th>girl</th>\n",
       "      <td>98</td>\n",
       "      <td>402</td>\n",
       "      <td>500</td>\n",
       "    </tr>\n",
       "    <tr>\n",
       "      <th>All</th>\n",
       "      <td>454</td>\n",
       "      <td>546</td>\n",
       "      <td>1000</td>\n",
       "    </tr>\n",
       "  </tbody>\n",
       "</table>\n",
       "</div>"
      ],
      "text/plain": [
       "Predicted  boys  girl   All\n",
       "True                       \n",
       "boys        356   144   500\n",
       "girl         98   402   500\n",
       "All         454   546  1000"
      ]
     },
     "execution_count": 8,
     "metadata": {},
     "output_type": "execute_result"
    }
   ],
   "source": [
    "from sklearn.ensemble import GradientBoostingClassifier\n",
    "\n",
    "mod = GradientBoostingClassifier(n_estimators = 100)\n",
    "mod.fit(x_train, y_train)\n",
    "acc = mod.score(x_test, y_test)\n",
    "print('Test accuracy on all pixels with GBT: %.3f' % acc)\n",
    "\n",
    "y_pred = mod.predict(x_test)\n",
    "y_test_s = np.array(['boys'] * len(y_test))\n",
    "y_pred_s = np.array(['boys'] * len(y_test))\n",
    "y_test_s[y_test == 1] = 'girls'\n",
    "y_pred_s[y_pred == 1] = 'girls'\n",
    "conf_matrix(y_test_s, y_pred_s)"
   ]
  },
  {
   "cell_type": "code",
   "execution_count": 9,
   "metadata": {},
   "outputs": [
    {
     "data": {
      "image/png": "[encoded data removed]",
      "text/plain": [
       "<Figure size 432x288 with 1 Axes>"
      ]
     },
     "metadata": {
      "needs_background": "light"
     },
     "output_type": "display_data"
    }
   ],
   "source": [
    "y_pred_prob = mod.predict_proba(x_test)\n",
    "\n",
    "plt.hist(y_pred_prob[:, 0])\n",
    "plt.xlabel('P(label(image) = boys)')\n",
    "plt.ylabel('Frequency')\n",
    "plt.show()"
   ]
  },
  {
   "cell_type": "code",
   "execution_count": 10,
   "metadata": {},
   "outputs": [
    {
     "name": "stdout",
     "output_type": "stream",
     "text": [
      "Test accuracy on all pixels with GBT, only 0.14 of images with very low/high scores: 0.956\n"
     ]
    }
   ],
   "source": [
    "y_pred_prob_1d_gbt = y_pred_prob[:, 0]\n",
    "y_pred_low_high_id = np.argwhere(( y_pred_prob_1d_gbt <= 0.1) | (y_pred_prob_1d_gbt >= 0.9)).reshape(-1)\n",
    "y_pred_low_high = y_pred_prob[y_pred_low_high_id, 0]\n",
    "y_pred_low_high_temp = y_pred_low_high.copy()\n",
    "y_pred_low_high[y_pred_low_high_temp < 0.5] = 1\n",
    "y_pred_low_high[y_pred_low_high_temp > 0.5] = 0\n",
    "y_test_low_high = y_test[y_pred_low_high_id]\n",
    "\n",
    "conf = confusion_matrix(y_test_low_high, y_pred_low_high)\n",
    "acc = (conf[0, 0] + conf[1, 1]) / len(y_test_low_high)\n",
    "print('Test accuracy on all pixels with GBT, only %.2f of images with very low/high scores: %.3f' % (len(y_test_low_high)/len(y_test), acc))"
   ]
  },
  {
   "cell_type": "markdown",
   "metadata": {},
   "source": [
    "5. Even with a balanced training set with two classes each having a share of 50% of the dataset, a cutoff score of 0.5 may not be optimal. Can you write a function which would receive the score `y_pred_prob_1d`, the score for classifying \"boys\", `y_test` the 0/1 labels, and return the cutoff score which reaches maximum accuracy and that accuracy?"
   ]
  },
  {
   "cell_type": "code",
   "execution_count": 11,
   "metadata": {},
   "outputs": [
    {
     "name": "stdout",
     "output_type": "stream",
     "text": [
      "optimal cutoff: 0.49\n",
      "max test accuracy: 0.76\n"
     ]
    }
   ],
   "source": [
    "def optimal_cutoff_accuracy(y_test, y_pred_prob_1d):\n",
    "    optimal_cutoff = 0.0\n",
    "    max_accuracy = 0.0\n",
    "    for cutoff in np.linspace(0.0, 1.0, 101):\n",
    "        y_pred_temp = np.array([0] * len(y_test))\n",
    "        y_pred_temp[y_pred_prob_1d < cutoff] = 1\n",
    "        conf = confusion_matrix(y_test, y_pred_temp)\n",
    "        acc = (conf[0, 0] + conf[1, 1]) / len(y_test)\n",
    "        if acc > max_accuracy:\n",
    "            optimal_cutoff = cutoff\n",
    "            max_accuracy = acc\n",
    "    return optimal_cutoff, max_accuracy\n",
    "\n",
    "optimal_cutoff, max_accuracy = optimal_cutoff_accuracy(y_test, y_pred_prob_1d)\n",
    "print('optimal cutoff: %.2f' % optimal_cutoff)\n",
    "print('max test accuracy: %.2f' % max_accuracy)"
   ]
  },
  {
   "cell_type": "markdown",
   "metadata": {},
   "source": [
    "**IMPORTNAT**: the correct way of choosing a cutoff score, which is another model parameter, is choosing it on a different *validation* dataset, not your final *testing* dataset. Otherwise you stand the risk of overfitting to your final testing set."
   ]
  },
  {
   "cell_type": "markdown",
   "metadata": {},
   "source": [
    "6. Once you accept the possibility of different thresholds, comparing between models based on a single default cutoff score such as 0.5, is wrong.\n",
    "\n",
    "    It is custom to draw a [ROC curve](https://en.wikipedia.org/wiki/Receiver_operating_characteristic) of the model's performance on a **validation** dataset and use the Area Under Curve ([AUC](https://en.wikipedia.org/wiki/Receiver_operating_characteristic#Area_under_the_curve)) to choose the best model to use on the final testing dataset. The AUC of a two-way classification model ranges between 0.5 (completely random guess) and 1 (completely correct), so the higher the AUC the better the model.\n",
    "\n",
    "    The most common version of the ROC curve draws a line formed by comparing the following metrics with different cutoff scores:\n",
    "    * True Positive Rate (TPR) which is what we have defined as Recall in CSD4: P(predict boys | label boys), you want this high\n",
    "    * False Postive Rate (FPR), which is: P(predict boys | label girls), you want this low"
   ]
  },
  {
   "cell_type": "code",
   "execution_count": 12,
   "metadata": {},
   "outputs": [
    {
     "data": {
      "image/png": "[encoded data removed]",
      "text/plain": [
       "<Figure size 432x288 with 1 Axes>"
      ]
     },
     "metadata": {
      "needs_background": "light"
     },
     "output_type": "display_data"
    }
   ],
   "source": [
    "from sklearn.metrics import roc_curve, roc_auc_score\n",
    "\n",
    "# Compute fpr, tpr, thresholds and roc auc\n",
    "fpr, tpr, thresholds = roc_curve(y_test, y_pred_prob_1d, pos_label=0)\n",
    "roc_auc = roc_auc_score(1 - y_test, y_pred_prob_1d)\n",
    "\n",
    "# Plot ROC curve\n",
    "plt.plot(fpr, tpr, label='ROC curve (area = %0.3f)' % roc_auc)\n",
    "plt.plot([0, 1], [0, 1], 'k--')  # random predictions curve\n",
    "plt.xlim([0.0, 1.0])\n",
    "plt.ylim([0.0, 1.0])\n",
    "plt.xlabel('False Positive Rate')\n",
    "plt.ylabel('True Positive Rate')\n",
    "plt.title('Receiver Operating Characteristic')\n",
    "plt.legend(loc=\"lower right\")\n",
    "plt.show()"
   ]
  },
  {
   "cell_type": "markdown",
   "metadata": {},
   "source": [
    "The above is the ROC curve for the Random Forests model, the AUC is printed in the plot.\n",
    "\n",
    "Can you add the Gradient Boosted Trees ROC curve up there with a different color and compare the two AUCs?"
   ]
  },
  {
   "cell_type": "code",
   "execution_count": 16,
   "metadata": {},
   "outputs": [
    {
     "data": {
      "image/png": "[encoded data removed]",
      "text/plain": [
       "<Figure size 432x288 with 1 Axes>"
      ]
     },
     "metadata": {
      "needs_background": "light"
     },
     "output_type": "display_data"
    }
   ],
   "source": [
    "fpr_rf, tpr_rf, thresholds = roc_curve(y_test, y_pred_prob_1d, 0)\n",
    "roc_auc_rf = roc_auc_score(1 - y_test, y_pred_prob_1d)\n",
    "\n",
    "fpr_gbt, tpr_gbt, thresholds = roc_curve(y_test, y_pred_prob_1d_gbt, 0)\n",
    "roc_auc_gbt = roc_auc_score(1 - y_test, y_pred_prob_1d_gbt)\n",
    "\n",
    "plt.plot(fpr_rf, tpr_rf, label='ROC curve RF (area = %0.3f)' % roc_auc_rf, color = 'blue')\n",
    "plt.plot(fpr_gbt, tpr_gbt, label='ROC curve GBT (area = %0.3f)' % roc_auc_gbt, color = 'red')\n",
    "plt.plot([0, 1], [0, 1], 'k--')\n",
    "plt.xlim([0.0, 1.0])\n",
    "plt.ylim([0.0, 1.0])\n",
    "plt.xlabel('False Positive Rate')\n",
    "plt.ylabel('True Positive Rate')\n",
    "plt.title('Receiver Operating Characteristic')\n",
    "plt.legend(loc=\"lower right\")\n",
    "plt.show()"
   ]
  }
 ],
 "metadata": {
  "kernelspec": {
   "display_name": "Python 3",
   "language": "python",
   "name": "python3"
  },
  "language_info": {
   "codemirror_mode": {
    "name": "ipython",
    "version": 3
   },
   "file_extension": ".py",
   "mimetype": "text/x-python",
   "name": "python",
   "nbconvert_exporter": "python",
   "pygments_lexer": "ipython3",
   "version": "3.6.6"
  }
 },
 "nbformat": 4,
 "nbformat_minor": 2
}
