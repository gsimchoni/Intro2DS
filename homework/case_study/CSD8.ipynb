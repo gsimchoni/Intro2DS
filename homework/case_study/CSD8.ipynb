{
 "cells": [
  {
   "cell_type": "markdown",
   "metadata": {},
   "source": [
    "# CSD8: Deep Learning for Regression (with LSTM) "
   ]
  },
  {
   "cell_type": "markdown",
   "metadata": {},
   "source": [
    "0. For this Case Study assignment you should have in your current folder the ebay_boys_girls_shirts folder, holding the four CSV files describing the train and test shirts images, and the boys and girls images folders. This is what we did in CSD 1, **if you already have the data in your current folder you don't need to run this again!**:"
   ]
  },
  {
   "cell_type": "code",
   "execution_count": null,
   "metadata": {},
   "outputs": [],
   "source": [
    "import requests\n",
    "import tarfile\n",
    "\n",
    "url = \"http://www.tau.ac.il/~saharon/DScourse/ebay_boys_girls_shirts.tar.gz\"\n",
    "r = requests.get(url)\n",
    "\n",
    "with open(\"ebay_boys_girls_shirts.tar\", \"wb\") as file:\n",
    "    file.write(r.content)\n",
    "\n",
    "with tarfile.open(\"ebay_boys_girls_shirts.tar\") as tar:\n",
    "    tar.extractall('.')"
   ]
  },
  {
   "cell_type": "markdown",
   "metadata": {},
   "source": [
    "1. In CSD6 we used Linear Regression and Random Forests to predict the price of shirts by their title, using the Bag Of Words approach.\n",
    "\n",
    "    We didn't get such good results in terms of MSE and R squared (0.12 and 0.49 respectively) and it is interesting to see whether Deep Learning can improve on this.\n",
    "    \n",
    "    First let's get the `X_train` and `X_test` the same way we did in CSD6 (see there). Remember in these Document-Term matrices entry [i, j] means the count of word j in title i."
   ]
  },
  {
   "cell_type": "code",
   "execution_count": 1,
   "metadata": {},
   "outputs": [
    {
     "name": "stdout",
     "output_type": "stream",
     "text": [
      "X_train size: 20000 X 1618\n",
      "X_test size: 5000 X 1618\n"
     ]
    }
   ],
   "source": [
    "import pandas as pd\n",
    "import numpy as np\n",
    "import matplotlib.pyplot as plt\n",
    "from sklearn.feature_extraction.text import CountVectorizer\n",
    "from sklearn.metrics import mean_squared_error, r2_score\n",
    "\n",
    "%matplotlib inline\n",
    "\n",
    "folder = 'ebay_boys_girls_shirts/'\n",
    "boys_train_df = pd.read_csv(folder + 'boys_train.csv')\n",
    "boys_test_df = pd.read_csv(folder + 'boys_test.csv')\n",
    "girls_train_df = pd.read_csv(folder + 'girls_train.csv')\n",
    "girls_test_df = pd.read_csv(folder + 'girls_test.csv')\n",
    "\n",
    "train_df = pd.concat([boys_train_df, girls_train_df])\n",
    "test_df = pd.concat([boys_test_df, girls_test_df])\n",
    "\n",
    "vectorizer = CountVectorizer(stop_words = 'english', min_df = 0.0005)\n",
    "X_train = vectorizer.fit_transform(train_df['title'])\n",
    "\n",
    "vectorizer_test = CountVectorizer(stop_words = 'english', vocabulary = vectorizer.get_feature_names())\n",
    "X_test = vectorizer_test.fit_transform(test_df['title'])\n",
    "\n",
    "y_train = np.log(train_df['price'])\n",
    "y_test = np.log(test_df['price'])\n",
    "\n",
    "print('X_train size: %d X %d' % X_train.shape)\n",
    "print('X_test size: %d X %d' % X_test.shape)"
   ]
  },
  {
   "cell_type": "markdown",
   "metadata": {},
   "source": [
    "2. First can a \"simple\" Multi-Layered Perceptron do better? We'll use the same architecture from CSD7, there are only three things to change:\n",
    "\n",
    "    * the input shape (not 30K pixels but... ?)\n",
    "    * the activation function (can't be sigmoid, this isn't classification)\n",
    "    * loss function and metrics (what should be the loss function?)\n",
    "    \n",
    "    Another addition we'll make is adding an `EarlyStopping` callback telling Keras to stop training if we have not seen improvement for `patience = 5` epochs."
   ]
  },
  {
   "cell_type": "code",
   "execution_count": 13,
   "metadata": {},
   "outputs": [],
   "source": [
    "import keras\n",
    "from keras.models import Sequential\n",
    "from keras.layers import Dense, Dropout\n",
    "from keras.callbacks import EarlyStopping\n",
    "\n",
    "batch_size = 128\n",
    "epochs = 50\n",
    "\n",
    "model = Sequential()\n",
    "model.add(Dense(512, activation='relu', input_shape=(X_train.shape[1],)))\n",
    "model.add(Dropout(0.2))\n",
    "model.add(Dense(256, activation='relu'))\n",
    "model.add(Dropout(0.2))\n",
    "model.add(Dense(128, activation='relu'))\n",
    "model.add(Dropout(0.2))\n",
    "model.add(Dense(64, activation='relu'))\n",
    "model.add(Dropout(0.2))\n",
    "model.add(Dense(32, activation='relu'))\n",
    "model.add(Dropout(0.2))\n",
    "model.add(Dense(16, activation='relu'))\n",
    "model.add(Dropout(0.2))\n",
    "model.add(Dense(1, activation='linear'))\n",
    "\n",
    "model.compile(loss='mean_squared_error',\n",
    "              optimizer='adam')"
   ]
  },
  {
   "cell_type": "code",
   "execution_count": 14,
   "metadata": {},
   "outputs": [
    {
     "name": "stdout",
     "output_type": "stream",
     "text": [
      "Train on 20000 samples, validate on 5000 samples\n",
      "Epoch 1/50\n",
      "20000/20000 [==============================] - 4s 192us/step - loss: 2.4019 - val_loss: 0.4116\n",
      "Epoch 2/50\n",
      "20000/20000 [==============================] - 3s 143us/step - loss: 0.9631 - val_loss: 0.3319\n",
      "Epoch 3/50\n",
      "20000/20000 [==============================] - 3s 146us/step - loss: 0.7791 - val_loss: 0.2024\n",
      "Epoch 4/50\n",
      "20000/20000 [==============================] - 3s 146us/step - loss: 0.6760 - val_loss: 0.1679\n",
      "Epoch 5/50\n",
      "20000/20000 [==============================] - 3s 143us/step - loss: 0.6215 - val_loss: 0.1609\n",
      "Epoch 6/50\n",
      "20000/20000 [==============================] - 3s 156us/step - loss: 0.5624 - val_loss: 0.1560\n",
      "Epoch 7/50\n",
      "20000/20000 [==============================] - 3s 155us/step - loss: 0.5217 - val_loss: 0.1527\n",
      "Epoch 8/50\n",
      "20000/20000 [==============================] - 3s 155us/step - loss: 0.4930 - val_loss: 0.1595\n",
      "Epoch 9/50\n",
      "20000/20000 [==============================] - 3s 157us/step - loss: 0.4645 - val_loss: 0.1439\n",
      "Epoch 10/50\n",
      "20000/20000 [==============================] - 3s 159us/step - loss: 0.4240 - val_loss: 0.1429\n",
      "Epoch 11/50\n",
      "20000/20000 [==============================] - 3s 153us/step - loss: 0.3993 - val_loss: 0.1596\n",
      "Epoch 12/50\n",
      "20000/20000 [==============================] - 3s 155us/step - loss: 0.3737 - val_loss: 0.1566\n",
      "Epoch 13/50\n",
      "20000/20000 [==============================] - 3s 156us/step - loss: 0.3546 - val_loss: 0.1564\n",
      "Epoch 14/50\n",
      "20000/20000 [==============================] - 3s 158us/step - loss: 0.3334 - val_loss: 0.1538\n",
      "Epoch 15/50\n",
      "20000/20000 [==============================] - 3s 157us/step - loss: 0.3176 - val_loss: 0.1328\n",
      "Epoch 16/50\n",
      "20000/20000 [==============================] - 3s 159us/step - loss: 0.3031 - val_loss: 0.1494\n",
      "Epoch 17/50\n",
      "20000/20000 [==============================] - 3s 160us/step - loss: 0.2888 - val_loss: 0.1342\n",
      "Epoch 18/50\n",
      "20000/20000 [==============================] - 3s 161us/step - loss: 0.2717 - val_loss: 0.1366\n",
      "Epoch 19/50\n",
      "20000/20000 [==============================] - 3s 162us/step - loss: 0.2533 - val_loss: 0.1336\n",
      "Epoch 20/50\n",
      "20000/20000 [==============================] - 3s 168us/step - loss: 0.2353 - val_loss: 0.1357\n"
     ]
    }
   ],
   "source": [
    "history = model.fit(X_train, y_train,\n",
    "                    batch_size=batch_size,\n",
    "                    epochs=epochs,\n",
    "                    verbose=1,\n",
    "                    shuffle=True,\n",
    "                    validation_data=(X_test, y_test), callbacks = [EarlyStopping(patience = 5)])"
   ]
  },
  {
   "cell_type": "markdown",
   "metadata": {},
   "source": [
    "The model training stopped after 20 epochs, having seen no improvement in test MSE since epoch 15."
   ]
  },
  {
   "cell_type": "code",
   "execution_count": 17,
   "metadata": {},
   "outputs": [
    {
     "data": {
      "image/png": "[encoded data removed]",
      "text/plain": [
       "<Figure size 432x288 with 1 Axes>"
      ]
     },
     "metadata": {
      "needs_background": "light"
     },
     "output_type": "display_data"
    },
    {
     "name": "stdout",
     "output_type": "stream",
     "text": [
      "Test MSE: 0.14\n",
      "R Squared: 0.43\n"
     ]
    }
   ],
   "source": [
    "y_pred = model.predict(X_test)\n",
    "plt.scatter(y_test, y_pred,  color='black')\n",
    "plt.xlabel('True Log(Price)')\n",
    "plt.ylabel('Predicted Log(Price)')\n",
    "plt.show()\n",
    "\n",
    "print('Test MSE: %.2f' % mean_squared_error(y_test, y_pred))\n",
    "print('R Squared: %.2f' % r2_score(y_test, y_pred))"
   ]
  },
  {
   "cell_type": "markdown",
   "metadata": {},
   "source": [
    "Bottom-line MLP performed better than Linear Regression, worse than Random Forests."
   ]
  },
  {
   "cell_type": "markdown",
   "metadata": {},
   "source": [
    "3. But MLP isn't what we're here for. The DL method to go to when dealing with text is currently [LSTM](https://en.wikipedia.org/wiki/Long_short-term_memory).\n",
    "\n",
    "    If we made it in class - great, if not, here is how it's done:"
   ]
  },
  {
   "cell_type": "code",
   "execution_count": 20,
   "metadata": {},
   "outputs": [
    {
     "name": "stdout",
     "output_type": "stream",
     "text": [
      "(20000, 20)\n",
      "(5000, 20)\n"
     ]
    }
   ],
   "source": [
    "from keras.preprocessing import sequence\n",
    "from keras.models import Sequential\n",
    "from keras.layers import Dense, Embedding\n",
    "from keras.layers import LSTM\n",
    "from keras.preprocessing.text import Tokenizer\n",
    "\n",
    "maxlen = 20\n",
    "batch_size = 128\n",
    "epochs = 50\n",
    "max_features = 15000\n",
    "\n",
    "all_df = pd.concat([train_df, test_df])\n",
    "tokenizer = Tokenizer()\n",
    "tokenizer.fit_on_texts(all_df['title'].values)\n",
    "X = tokenizer.texts_to_sequences(all_df['title'].values)\n",
    "X = sequence.pad_sequences(X, maxlen = maxlen)\n",
    "\n",
    "X_tr = X[:20000, :]\n",
    "X_te = X[20000:, :]\n",
    "print(X_tr.shape)\n",
    "print(X_te.shape)"
   ]
  },
  {
   "cell_type": "code",
   "execution_count": 51,
   "metadata": {},
   "outputs": [],
   "source": [
    "model = Sequential()\n",
    "model.add(Embedding(max_features, 256))\n",
    "model.add(LSTM(256, dropout=0.2, recurrent_dropout=0.2))\n",
    "model.add(Dense(1, activation='linear'))\n",
    "\n",
    "model.compile(loss='mean_squared_error',\n",
    "              optimizer='adam')"
   ]
  },
  {
   "cell_type": "code",
   "execution_count": 52,
   "metadata": {},
   "outputs": [
    {
     "name": "stdout",
     "output_type": "stream",
     "text": [
      "Train on 20000 samples, validate on 5000 samples\n",
      "Epoch 1/50\n",
      "20000/20000 [==============================] - 30s 1ms/step - loss: 0.8962 - val_loss: 0.2221\n",
      "Epoch 2/50\n",
      "20000/20000 [==============================] - 29s 1ms/step - loss: 0.2093 - val_loss: 0.1936\n",
      "Epoch 3/50\n",
      "20000/20000 [==============================] - 31s 2ms/step - loss: 0.1579 - val_loss: 0.1645\n",
      "Epoch 4/50\n",
      "20000/20000 [==============================] - 31s 2ms/step - loss: 0.1214 - val_loss: 0.1834\n",
      "Epoch 5/50\n",
      "20000/20000 [==============================] - 32s 2ms/step - loss: 0.1000 - val_loss: 0.1486\n",
      "Epoch 6/50\n",
      "20000/20000 [==============================] - 32s 2ms/step - loss: 0.0894 - val_loss: 0.1592\n",
      "Epoch 7/50\n",
      "20000/20000 [==============================] - 33s 2ms/step - loss: 0.0822 - val_loss: 0.1455\n",
      "Epoch 8/50\n",
      "20000/20000 [==============================] - 31s 2ms/step - loss: 0.0749 - val_loss: 0.1495\n",
      "Epoch 9/50\n",
      "20000/20000 [==============================] - 32s 2ms/step - loss: 0.0687 - val_loss: 0.1483\n",
      "Epoch 10/50\n",
      "20000/20000 [==============================] - 33s 2ms/step - loss: 0.0647 - val_loss: 0.1466\n",
      "Epoch 11/50\n",
      "20000/20000 [==============================] - 34s 2ms/step - loss: 0.0596 - val_loss: 0.1501\n",
      "Epoch 12/50\n",
      "20000/20000 [==============================] - 33s 2ms/step - loss: 0.0561 - val_loss: 0.1471\n"
     ]
    }
   ],
   "source": [
    "history = model.fit(X_tr, y_train,\n",
    "                    batch_size=batch_size,\n",
    "                    epochs=epochs,\n",
    "                    verbose=1,\n",
    "                    shuffle=True,\n",
    "                    validation_data=(X_te, y_test), callbacks = [EarlyStopping(patience = 5)])"
   ]
  },
  {
   "cell_type": "code",
   "execution_count": 53,
   "metadata": {},
   "outputs": [
    {
     "data": {
      "image/png": "[encoded data removed]",
      "text/plain": [
       "<Figure size 432x288 with 1 Axes>"
      ]
     },
     "metadata": {
      "needs_background": "light"
     },
     "output_type": "display_data"
    },
    {
     "name": "stdout",
     "output_type": "stream",
     "text": [
      "Test MSE: 0.15\n",
      "R Squared: 0.38\n"
     ]
    }
   ],
   "source": [
    "y_pred = model.predict(X_te)\n",
    "plt.scatter(y_test, y_pred,  color='black')\n",
    "plt.xlabel('True Log(Price)')\n",
    "plt.ylabel('Predicted Log(Price)')\n",
    "plt.show()\n",
    "\n",
    "print('Test MSE: %.2f' % mean_squared_error(y_test, y_pred))\n",
    "print('R Squared: %.2f' % r2_score(y_test, y_pred))"
   ]
  },
  {
   "cell_type": "markdown",
   "metadata": {},
   "source": [
    "The not so impressive of LSTM here only goes to show how hard a task price prediction can be."
   ]
  },
  {
   "cell_type": "markdown",
   "metadata": {},
   "source": [
    "4. Lastly it is interesting whether title + image can improve on predicting a shirt's price.\n",
    "\n",
    "    This is somewhat more complicated architecture, called a \"Bi-Modal\" Network, as it gets its outputs from two different kinds of data. Once the each type of data is \"flattened\" into a vector they are simply glued together and we can add more layers as we please. To make it more schematic:\n",
    "    \n",
    "    <img src = \"multi_modal_nn.png\" width =\"50%\" height = \"50%\">"
   ]
  },
  {
   "cell_type": "markdown",
   "metadata": {},
   "source": [
    "Get the images data again:"
   ]
  },
  {
   "cell_type": "code",
   "execution_count": 1,
   "metadata": {},
   "outputs": [],
   "source": [
    "import sys\n",
    "import warnings\n",
    "import pandas as pd\n",
    "import numpy as np\n",
    "import matplotlib.pyplot as plt\n",
    "from skimage import transform, color, img_as_ubyte\n",
    "\n",
    "%matplotlib inline\n",
    "\n",
    "def get_file_list(df, folder, n_sample = None, seed = None):\n",
    "    if n_sample is None:\n",
    "        file_ids_list = df.file_id.values\n",
    "    else:\n",
    "        file_ids_list = df.sample(n = n_sample, random_state = seed).file_id.values\n",
    "    files_list = [folder + '/' + str(file_id) + '.jpg' for file_id in file_ids_list]\n",
    "    return files_list\n",
    "\n",
    "def read_image_and_resize(f, w = 100, h = 100):\n",
    "    img = plt.imread(f)\n",
    "    with warnings.catch_warnings():\n",
    "        warnings.simplefilter(\"ignore\")\n",
    "        img = transform.resize(img, (w, h), mode='constant')\n",
    "        img = img_as_ubyte(img)\n",
    "    img = color.gray2rgb(img)\n",
    "    img = img[np.newaxis, :, :, :3]\n",
    "    if img.shape != (1, 100, 100, 3):\n",
    "        raise ValueError(f + str(img.shape))\n",
    "    return img\n",
    "\n",
    "def read_images_4d_array(files_list):\n",
    "    images_list = [read_image_and_resize(file) for file in files_list]\n",
    "    images_array = np.concatenate(images_list)\n",
    "    return images_array\n",
    "\n",
    "def get_images_matrix(csv_file, folder, n = None, seed = 1976):\n",
    "    df = pd.read_csv(csv_file)\n",
    "    files_list = get_file_list(df, folder, n, seed)\n",
    "    images = read_images_4d_array(files_list)\n",
    "    return images, files_list\n",
    "\n",
    "def get_all_pixels(x):\n",
    "    return x.reshape(-1, np.prod(x.shape[1:]))\n",
    "\n",
    "def numpy_array_size_in_bytes(a):\n",
    "    return a.size * a.itemsize\n",
    "\n",
    "def shape_and_size(x, name):\n",
    "    n_rows = x.shape[0]\n",
    "    if len(x.shape) == 1:\n",
    "        n_cols = 1\n",
    "    elif len(x.shape) == 2:\n",
    "        n_cols = x.shape[1]\n",
    "    else:\n",
    "        warnings.warn('Function is meaningful for 1 or 2-D numpy arrays, taking 2nd dimension as n_cols')\n",
    "        n_cols = x.shape[1]        \n",
    "    size = numpy_array_size_in_bytes(x)\n",
    "    print('%s Shape: %d X %d, Size (bytes): %d' % (name, n_rows, n_cols, size))\n",
    "\n",
    "def conf_matrix(y_true, y_pred):\n",
    "    return pd.crosstab(y_true, y_pred, rownames=['True'], colnames=['Predicted'], margins=True)\n",
    "\n",
    "def get_final_matrices(n_train = None, n_test = None):\n",
    "    folder = 'ebay_boys_girls_shirts/'\n",
    "    x_boys_train, boys_train_files = get_images_matrix(folder + 'boys_train.csv', folder + 'boys', n_train)\n",
    "    x_boys_test, boys_test_files = get_images_matrix(folder + 'boys_test.csv', folder + 'boys', n_test)\n",
    "    x_girls_train, girls_train_files = get_images_matrix(folder + 'girls_train.csv', folder + 'girls', n_train)\n",
    "    x_girls_test, girls_test_files = get_images_matrix(folder + 'girls_test.csv', folder + 'girls', n_test)\n",
    "    \n",
    "    x_boys_train_all = get_all_pixels(x_boys_train)\n",
    "    x_boys_test_all = get_all_pixels(x_boys_test)\n",
    "    x_girls_train_all = get_all_pixels(x_girls_train)\n",
    "    x_girls_test_all = get_all_pixels(x_girls_test)\n",
    "\n",
    "    x_train = np.vstack([x_boys_train_all, x_girls_train_all])\n",
    "    x_test = np.vstack([x_boys_test_all, x_girls_test_all])\n",
    "\n",
    "    y_boys_train = np.array([0] * x_boys_train.shape[0])\n",
    "    y_boys_test = np.array([0] * x_boys_test.shape[0])\n",
    "    y_girls_train = np.array([1] * x_girls_train.shape[0])\n",
    "    y_girls_test = np.array([1] * x_girls_test.shape[0])\n",
    "    y_train = np.concatenate([y_boys_train, y_girls_train])\n",
    "    y_test = np.concatenate([y_boys_test, y_girls_test])\n",
    "    \n",
    "    return x_train, x_test, y_train, y_test"
   ]
  },
  {
   "cell_type": "code",
   "execution_count": 2,
   "metadata": {},
   "outputs": [
    {
     "name": "stdout",
     "output_type": "stream",
     "text": [
      "x_train Shape: 20000 X 30000, Size (bytes): 2400000000\n",
      "x_test Shape: 5000 X 30000, Size (bytes): 600000000\n",
      "y_train_cl Shape: 20000 X 1, Size (bytes): 160000\n",
      "y_test_cl Shape: 5000 X 1, Size (bytes): 40000\n"
     ]
    }
   ],
   "source": [
    "x_train, x_test, y_train_cl, y_test_cl = get_final_matrices() # we call this y_train_cl because these are the classification labels\n",
    "x_train = x_train.astype('float32')\n",
    "x_test = x_test.astype('float32')\n",
    "x_train /= 255\n",
    "x_test /= 255\n",
    "\n",
    "shape_and_size(x_train, 'x_train')\n",
    "shape_and_size(x_test, 'x_test')\n",
    "shape_and_size(y_train_cl, 'y_train_cl')\n",
    "shape_and_size(y_test_cl, 'y_test_cl')"
   ]
  },
  {
   "cell_type": "code",
   "execution_count": 26,
   "metadata": {},
   "outputs": [],
   "source": [
    "from keras.layers import Dense, Dropout, Flatten, Conv2D, MaxPooling2D, concatenate, Embedding, LSTM\n",
    "from keras.engine.input_layer import Input\n",
    "from keras.models import Model, Sequential\n",
    "from keras.callbacks import EarlyStopping\n",
    "\n",
    "img_rows, img_cols, channels = 100, 100, 3\n",
    "\n",
    "x_train = x_train.reshape(x_train.shape[0], img_rows, img_cols, channels)\n",
    "x_test = x_test.reshape(x_test.shape[0], img_rows, img_cols, channels)\n",
    "input_shape = (img_rows, img_cols, channels)\n",
    "\n",
    "model_image = Sequential()\n",
    "model_image.add(Conv2D(32, kernel_size=(3, 3),\n",
    "                 activation='relu',\n",
    "                 input_shape=input_shape))\n",
    "model_image.add(Conv2D(64, (3, 3), activation='relu'))\n",
    "model_image.add(MaxPooling2D(pool_size=(2, 2)))\n",
    "model_image.add(Dropout(0.25))\n",
    "model_image.add(Flatten())\n",
    "\n",
    "image_input = Input(shape = (100, 100, 3), name = \"image_input\")\n",
    "encoded_image = model_image(image_input)"
   ]
  },
  {
   "cell_type": "code",
   "execution_count": 27,
   "metadata": {},
   "outputs": [],
   "source": [
    "max_features = 15000\n",
    "maxlen = 20\n",
    "\n",
    "model_title = Sequential()\n",
    "model_title.add(Embedding(max_features, 256))\n",
    "model_title.add(LSTM(256, dropout=0.2, recurrent_dropout=0.2))\n",
    "\n",
    "title_input = Input(shape = (maxlen,), name = \"title_input\")\n",
    "encoded_title = model_title(title_input)"
   ]
  },
  {
   "cell_type": "code",
   "execution_count": 28,
   "metadata": {},
   "outputs": [
    {
     "name": "stdout",
     "output_type": "stream",
     "text": [
      "Train on 20000 samples, validate on 5000 samples\n",
      "Epoch 1/50\n",
      "20000/20000 [==============================] - 213s 11ms/step - loss: 2.0606 - val_loss: 0.1813\n",
      "Epoch 2/50\n",
      "20000/20000 [==============================] - 221s 11ms/step - loss: 0.1620 - val_loss: 0.1473\n",
      "Epoch 3/50\n",
      "20000/20000 [==============================] - 227s 11ms/step - loss: 0.1241 - val_loss: 0.1495\n",
      "Epoch 4/50\n",
      "20000/20000 [==============================] - 228s 11ms/step - loss: 0.0998 - val_loss: 0.1433\n",
      "Epoch 5/50\n",
      "20000/20000 [==============================] - 227s 11ms/step - loss: 0.0884 - val_loss: 0.1392\n",
      "Epoch 6/50\n",
      "20000/20000 [==============================] - 228s 11ms/step - loss: 0.0754 - val_loss: 0.1515\n",
      "Epoch 7/50\n",
      "20000/20000 [==============================] - 228s 11ms/step - loss: 0.0654 - val_loss: 0.1675\n",
      "Epoch 8/50\n",
      "20000/20000 [==============================] - 229s 11ms/step - loss: 0.0606 - val_loss: 0.1472\n",
      "Epoch 9/50\n",
      "20000/20000 [==============================] - 228s 11ms/step - loss: 0.0556 - val_loss: 0.1387\n",
      "Epoch 10/50\n",
      "20000/20000 [==============================] - 228s 11ms/step - loss: 0.0528 - val_loss: 0.1477\n",
      "Epoch 11/50\n",
      "20000/20000 [==============================] - 231s 12ms/step - loss: 0.0454 - val_loss: 0.1414\n",
      "Epoch 12/50\n",
      "20000/20000 [==============================] - 229s 11ms/step - loss: 0.0448 - val_loss: 0.1560\n",
      "Epoch 13/50\n",
      "20000/20000 [==============================] - 229s 11ms/step - loss: 0.0419 - val_loss: 0.1672\n",
      "Epoch 14/50\n",
      "20000/20000 [==============================] - 229s 11ms/step - loss: 0.0381 - val_loss: 0.1415\n"
     ]
    }
   ],
   "source": [
    "output = concatenate([encoded_title, encoded_image])\n",
    "output = Dense(units = 1, activation = 'linear')(output)\n",
    "\n",
    "image_title_model = Model(inputs = [image_input, title_input], outputs = output)\n",
    "\n",
    "image_title_model.compile(loss='mean_squared_error', optimizer='adam')\n",
    "\n",
    "history = image_title_model.fit(x = {'image_input': x_train, 'title_input': X_tr}, y = y_train,\n",
    "                    batch_size=batch_size,\n",
    "                    epochs=epochs,\n",
    "                    verbose=1,\n",
    "                    shuffle=True,\n",
    "                    validation_data=[{'image_input': x_test, 'title_input': X_te}, y_test],\n",
    "                    callbacks = [EarlyStopping(patience = 5)])"
   ]
  },
  {
   "cell_type": "code",
   "execution_count": 29,
   "metadata": {},
   "outputs": [
    {
     "data": {
      "image/png": "[encoded data removed]",
      "text/plain": [
       "<Figure size 432x288 with 1 Axes>"
      ]
     },
     "metadata": {
      "needs_background": "light"
     },
     "output_type": "display_data"
    },
    {
     "name": "stdout",
     "output_type": "stream",
     "text": [
      "Test MSE: 0.14\n",
      "R Squared: 0.40\n"
     ]
    }
   ],
   "source": [
    "y_pred = image_title_model.predict({'image_input': x_test, 'title_input': X_te})\n",
    "plt.scatter(y_test, y_pred,  color='black')\n",
    "plt.xlabel('True Log(Price)')\n",
    "plt.ylabel('Predicted Log(Price)')\n",
    "plt.show()\n",
    "\n",
    "print('Test MSE: %.2f' % mean_squared_error(y_test, y_pred))\n",
    "print('R Squared: %.2f' % r2_score(y_test, y_pred))"
   ]
  },
  {
   "cell_type": "markdown",
   "metadata": {},
   "source": [
    "The images CNN improved somewhat on the title LSTM but not that much. Random Forests results are still better!"
   ]
  },
  {
   "cell_type": "markdown",
   "metadata": {},
   "source": [
    "5. Can you do better?"
   ]
  },
  {
   "cell_type": "code",
   "execution_count": null,
   "metadata": {},
   "outputs": [],
   "source": [
    "### YOUR CODE HERE ###"
   ]
  }
 ],
 "metadata": {
  "kernelspec": {
   "display_name": "Python 3",
   "language": "python",
   "name": "python3"
  },
  "language_info": {
   "codemirror_mode": {
    "name": "ipython",
    "version": 3
   },
   "file_extension": ".py",
   "mimetype": "text/x-python",
   "name": "python",
   "nbconvert_exporter": "python",
   "pygments_lexer": "ipython3",
   "version": "3.6.6"
  }
 },
 "nbformat": 4,
 "nbformat_minor": 2
}
