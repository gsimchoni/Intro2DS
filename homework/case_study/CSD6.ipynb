{
 "cells": [
  {
   "cell_type": "markdown",
   "metadata": {},
   "source": [
    "# CSD 6: Regression: Linear and RF"
   ]
  },
  {
   "cell_type": "markdown",
   "metadata": {},
   "source": [
    "1. In this Case Study assignment we will try to model and predict the price of a shirt by its title, using the [Bag Of Words](https://en.wikipedia.org/wiki/Bag-of-words_model) approach.\n",
    "\n",
    "    Let's load the CSV files holding the training and test shirts titles and prices, and concatenate them to two big pandas DataFrames, `train_df` and `test_df`:"
   ]
  },
  {
   "cell_type": "code",
   "execution_count": 44,
   "metadata": {},
   "outputs": [
    {
     "name": "stdout",
     "output_type": "stream",
     "text": [
      "(20000, 4)\n",
      "(5000, 4)\n",
      "\n",
      "                 id       file_id         price\n",
      "count  20000.000000  20000.000000  20000.000000\n",
      "mean    8427.182650   8427.182650     52.960293\n",
      "std     4955.363369   4955.363369     30.027565\n",
      "min        0.000000      0.000000      3.700000\n",
      "25%     4172.750000   4172.750000     35.500000\n",
      "50%     8385.000000   8385.000000     48.540000\n",
      "75%    12779.000000  12779.000000     63.490000\n",
      "max    17183.000000  17183.000000    672.570000\n"
     ]
    }
   ],
   "source": [
    "import pandas as pd\n",
    "\n",
    "folder = '../../datasets/ebay_boys_girls_shirts/'\n",
    "boys_train_df = pd.read_csv(folder + 'boys_train.csv')\n",
    "boys_test_df = pd.read_csv(folder + 'boys_test.csv')\n",
    "girls_train_df = pd.read_csv(folder + 'girls_train.csv')\n",
    "girls_test_df = pd.read_csv(folder + 'girls_test.csv')\n",
    "\n",
    "train_df = pd.concat([boys_train_df, girls_train_df])\n",
    "test_df = pd.concat([boys_test_df, girls_test_df])\n",
    "\n",
    "print(train_df.shape)\n",
    "print(test_df.shape)\n",
    "print()\n",
    "print(train_df.describe())"
   ]
  },
  {
   "cell_type": "markdown",
   "metadata": {},
   "source": [
    "2. We can see there are shirts which cost below 5 (remember we got the price in Shekels), and there are shirts which cost over 600. Those are extreme edges.\n",
    "\n",
    "    Let's look at the distribution of a price with a histogram (`plt.hist`):"
   ]
  },
  {
   "cell_type": "code",
   "execution_count": 5,
   "metadata": {},
   "outputs": [
    {
     "data": {
      "image/png": "[encoded data removed]",
      "text/plain": [
       "<Figure size 432x288 with 1 Axes>"
      ]
     },
     "metadata": {
      "needs_background": "light"
     },
     "output_type": "display_data"
    }
   ],
   "source": [
    "import matplotlib.pyplot as plt\n",
    "%matplotlib inline\n",
    "\n",
    "plt.hist(train_df['price'])\n",
    "plt.xlabel('Price (ILS)')\n",
    "plt.ylabel('Frequency')\n",
    "plt.show()"
   ]
  },
  {
   "cell_type": "markdown",
   "metadata": {},
   "source": [
    "3. We can see the price is skewed towards right. Fill in the code to see the histogram for Log(Price):"
   ]
  },
  {
   "cell_type": "code",
   "execution_count": null,
   "metadata": {},
   "outputs": [],
   "source": [
    "import numpy as np\n",
    "\n",
    "### YOUR CODE HERE ###"
   ]
  },
  {
   "cell_type": "markdown",
   "metadata": {},
   "source": [
    "You can see the distribution of Log(Price) is much more symmetric, and therefore this is the metric we will model."
   ]
  },
  {
   "cell_type": "markdown",
   "metadata": {},
   "source": [
    "4. We want to model a shirt's price by its title, let's look at some of those:"
   ]
  },
  {
   "cell_type": "code",
   "execution_count": 8,
   "metadata": {},
   "outputs": [
    {
     "data": {
      "text/html": [
       "<div>\n",
       "<style scoped>\n",
       "    .dataframe tbody tr th:only-of-type {\n",
       "        vertical-align: middle;\n",
       "    }\n",
       "\n",
       "    .dataframe tbody tr th {\n",
       "        vertical-align: top;\n",
       "    }\n",
       "\n",
       "    .dataframe thead th {\n",
       "        text-align: right;\n",
       "    }\n",
       "</style>\n",
       "<table border=\"1\" class=\"dataframe\">\n",
       "  <thead>\n",
       "    <tr style=\"text-align: right;\">\n",
       "      <th></th>\n",
       "      <th>title</th>\n",
       "    </tr>\n",
       "  </thead>\n",
       "  <tbody>\n",
       "    <tr>\n",
       "      <th>0</th>\n",
       "      <td>Boden Boy's Pirate Battle Short Sleeve Graphic...</td>\n",
       "    </tr>\n",
       "    <tr>\n",
       "      <th>1</th>\n",
       "      <td>NEW Faux Real Boy's Shirt 14/16 White, Black, ...</td>\n",
       "    </tr>\n",
       "    <tr>\n",
       "      <th>2</th>\n",
       "      <td>Cherokee Pollo Shirt Boys M (8-10) Green Half ...</td>\n",
       "    </tr>\n",
       "    <tr>\n",
       "      <th>3</th>\n",
       "      <td>Volcom Kids El Rancho S/S Woven (Ultramarine) ...</td>\n",
       "    </tr>\n",
       "    <tr>\n",
       "      <th>4</th>\n",
       "      <td>IZOD Little Boys Short Sleeve Pique Polo Red s...</td>\n",
       "    </tr>\n",
       "  </tbody>\n",
       "</table>\n",
       "</div>"
      ],
      "text/plain": [
       "                                               title\n",
       "0  Boden Boy's Pirate Battle Short Sleeve Graphic...\n",
       "1  NEW Faux Real Boy's Shirt 14/16 White, Black, ...\n",
       "2  Cherokee Pollo Shirt Boys M (8-10) Green Half ...\n",
       "3  Volcom Kids El Rancho S/S Woven (Ultramarine) ...\n",
       "4  IZOD Little Boys Short Sleeve Pique Polo Red s..."
      ]
     },
     "execution_count": 8,
     "metadata": {},
     "output_type": "execute_result"
    }
   ],
   "source": [
    "train_df[['title']].head()"
   ]
  },
  {
   "cell_type": "markdown",
   "metadata": {},
   "source": [
    "We can see these include lower/uppercase letters, non-alphanumeric characters, important words like \"new\", probably unimportant words like \"shirt\", size words like \"M\", Brand words like \"IZOD\", so-called [Stop Words](https://en.wikipedia.org/wiki/Stop_words) like \"the\" and more. Furthermore words like \"boy\", \"boys\", \"boy's\" should may be treated as the same word.\n",
    "\n",
    "Going to into all Text Mining techniques of incorporating all of these insights for building a better model, is out of this assignment scope. For now just keep in mind the Bag Of Words (BOW) approach might be too simplistic for a good Text model. After all, a model which is \"aware\" a shirt is of brand \"Ralph Lauren\" is probably a better model."
   ]
  },
  {
   "cell_type": "markdown",
   "metadata": {},
   "source": [
    "5. Let's start with only the 10 most common words in the titles, after ignoring Stop Words like \"a\" and \"the\". The raw count for each word will be a single variable/feature/predictor in our model.\n",
    "\n",
    "    To get the raw count of each word in the training images titles we'll use sklearn's [CountVectorizer](https://scikit-learn.org/stable/modules/generated/sklearn.feature_extraction.text.CountVectorizer.html) class:"
   ]
  },
  {
   "cell_type": "code",
   "execution_count": 22,
   "metadata": {},
   "outputs": [
    {
     "name": "stdout",
     "output_type": "stream",
     "text": [
      "Document-Term-Matrix size: 20000 X 10651\n"
     ]
    }
   ],
   "source": [
    "from sklearn.feature_extraction.text import CountVectorizer\n",
    "\n",
    "vectorizer = CountVectorizer(stop_words = 'english')\n",
    "\n",
    "train_dtm = vectorizer.fit_transform(train_df['title'])\n",
    "\n",
    "print('Document-Term-Matrix size: %d X %d' % train_dtm.shape)"
   ]
  },
  {
   "cell_type": "markdown",
   "metadata": {},
   "source": [
    "What happened here?\n",
    "\n",
    "* We instantiated a `CountVectorizer` object called `vectorizer`, specifying we do not want to count English Stop Words.\n",
    "* Then we `fit_transform`ed this object to the `train_df` titles.\n",
    "* We got a \"Document-Term\" sparse matrix `train_dtm` of 20K \"documents\" (rows) X ~10K \"words\", where the documents are actually our 20K titles, and the words are all the \"tokens\" found by `CountVectorizer` default definitions (look them up!)\n",
    "* The entry `train_dtm[i, j]` means the count of word `j` in title `i`\n",
    "\n",
    "Now let's get the top 10 words:"
   ]
  },
  {
   "cell_type": "code",
   "execution_count": 23,
   "metadata": {},
   "outputs": [
    {
     "name": "stdout",
     "output_type": "stream",
     "text": [
      "[('shirt', 15393), ('nwt', 6857), ('size', 6841), ('girls', 6445), ('short', 5571), ('sleeve', 5436), ('boys', 5200), ('new', 4809), ('tee', 4657), ('youth', 4211)]\n"
     ]
    }
   ],
   "source": [
    "sum_words = train_dtm.sum(axis=0) \n",
    "words_freq = [(word, sum_words[0, idx]) for word, idx in vectorizer.vocabulary_.items()]\n",
    "words_freq = sorted(words_freq, key = lambda x: x[1], reverse=True)\n",
    "top_10_words = words_freq[:10]\n",
    "print(top_10_words)"
   ]
  },
  {
   "cell_type": "markdown",
   "metadata": {},
   "source": [
    "What happened here?\n",
    "\n",
    "* We summed `train_dtm` count for each word (column), getting `sum_words`\n",
    "* Iterated over the `vocabulary_` dictionary (member of the `vectorizer` object) to get a list of (word, freq) tuples in `word_freqs`\n",
    "* Sorted them from top to bottom\n",
    "* Got the top 10 words and put them in `top_10_words`\n",
    "\n",
    "Notice these words might not be that imformative in predicting the price (the word \"shirt\" appears in 75% of titles!) but that's our current strategy."
   ]
  },
  {
   "cell_type": "markdown",
   "metadata": {},
   "source": [
    "6. We actually have all we need to do linear regression. `np.log(train_df['price'])` is our `y` explained variable, and if we filter `dtm_train` to just the relevant columns this is in fact our `X` matrix of explanatory variables.\n",
    "\n",
    "    But in order for you to see that's it is possible to use `CountVectorizer` with a pre-given vocabulary list we'll do it from the start, now we know the top 10 words:"
   ]
  },
  {
   "cell_type": "code",
   "execution_count": 24,
   "metadata": {},
   "outputs": [
    {
     "name": "stdout",
     "output_type": "stream",
     "text": [
      "X_train size: 20000 X 10\n"
     ]
    }
   ],
   "source": [
    "top_10_words = [x[0] for x in top_10_words]\n",
    "\n",
    "vectorizer = CountVectorizer(stop_words = 'english', vocabulary = top_10_words)\n",
    "\n",
    "X_train = vectorizer.fit_transform(train_df['title'])\n",
    "\n",
    "print('X_train size: %d X %d' % X_train.shape)"
   ]
  },
  {
   "cell_type": "markdown",
   "metadata": {},
   "source": [
    "7. To fit a linear regression model to our data we'll use sklearn's [LinearRegression](https://scikit-learn.org/stable/modules/generated/sklearn.linear_model.LinearRegression.html) class:"
   ]
  },
  {
   "cell_type": "code",
   "execution_count": 26,
   "metadata": {},
   "outputs": [
    {
     "data": {
      "text/plain": [
       "LinearRegression(copy_X=True, fit_intercept=True, n_jobs=None,\n",
       "         normalize=False)"
      ]
     },
     "execution_count": 26,
     "metadata": {},
     "output_type": "execute_result"
    }
   ],
   "source": [
    "from sklearn.linear_model import LinearRegression\n",
    "\n",
    "mod = LinearRegression()\n",
    "mod.fit(X_train, np.log(train_df['price']))"
   ]
  },
  {
   "cell_type": "markdown",
   "metadata": {},
   "source": [
    "Get the regression coefficients (notice we use `vectorizer.get_feature_names()` not `top_10_words`):"
   ]
  },
  {
   "cell_type": "code",
   "execution_count": 31,
   "metadata": {},
   "outputs": [
    {
     "name": "stdout",
     "output_type": "stream",
     "text": [
      "intercept: 3.85\n",
      "shirt: -0.01\n",
      "nwt: -0.01\n",
      "size: -0.10\n",
      "girls: 0.01\n",
      "short: -0.11\n",
      "sleeve: 0.08\n",
      "boys: 0.05\n",
      "new: -0.03\n",
      "tee: -0.03\n",
      "youth: 0.16\n"
     ]
    }
   ],
   "source": [
    "print('intercept: %.2f' % mod.intercept_)\n",
    "for i, w in enumerate(vectorizer.get_feature_names()):\n",
    "    print('%s: %.2f' % (w, mod.coef_[i]))"
   ]
  },
  {
   "cell_type": "markdown",
   "metadata": {},
   "source": [
    "Fit the model to the test set:"
   ]
  },
  {
   "cell_type": "code",
   "execution_count": 33,
   "metadata": {},
   "outputs": [],
   "source": [
    "vectorizer_test = CountVectorizer(stop_words = 'english', vocabulary = top_10_words)\n",
    "X_test = vectorizer_test.fit_transform(test_df['title'])\n",
    "y_pred = mod.predict(X_test)"
   ]
  },
  {
   "cell_type": "markdown",
   "metadata": {},
   "source": [
    "See a plot of predicted vs. true test values:"
   ]
  },
  {
   "cell_type": "code",
   "execution_count": 38,
   "metadata": {},
   "outputs": [
    {
     "data": {
      "image/png": "[encoded data removed]",
      "text/plain": [
       "<Figure size 432x288 with 1 Axes>"
      ]
     },
     "metadata": {
      "needs_background": "light"
     },
     "output_type": "display_data"
    }
   ],
   "source": [
    "y_test = np.log(test_df['price'])\n",
    "plt.scatter(y_test, y_pred,  color='black')\n",
    "plt.xlabel('True Log(Price)')\n",
    "plt.ylabel('Predicted Log(Price)')\n",
    "plt.show()"
   ]
  },
  {
   "cell_type": "markdown",
   "metadata": {},
   "source": [
    "As expected this doesn't look good. Get the MSE and R squared:"
   ]
  },
  {
   "cell_type": "code",
   "execution_count": 40,
   "metadata": {},
   "outputs": [
    {
     "name": "stdout",
     "output_type": "stream",
     "text": [
      "Test MSE: 0.23\n",
      "R Squared: 0.04\n"
     ]
    }
   ],
   "source": [
    "from sklearn.metrics import mean_squared_error, r2_score\n",
    "\n",
    "print('Test MSE: %.2f' % mean_squared_error(y_test, y_pred))\n",
    "print('R Squared: %.2f' % r2_score(y_test, y_pred))"
   ]
  },
  {
   "cell_type": "markdown",
   "metadata": {},
   "source": [
    "8. Not that with such a poor model we need this - some basic diagnostics is always in place. Complete the following code to plot a residuals plot showing test residuals vs. the test Log(Price):"
   ]
  },
  {
   "cell_type": "code",
   "execution_count": 43,
   "metadata": {},
   "outputs": [],
   "source": [
    "resid = y_pred - y_test\n",
    "### YOUR CODE HERE ###"
   ]
  },
  {
   "cell_type": "markdown",
   "metadata": {},
   "source": [
    "Do you understand how with such a bad model you got this plot?"
   ]
  },
  {
   "cell_type": "markdown",
   "metadata": {},
   "source": [
    "9. It's time to get all words!\n",
    "\n",
    "    But wait, maybe not *all* words. Let's use `CountVectorizer`'s paramter `min_df` (\"minimum document frequency\") specifying we want a word to appear in the model only if it appears in say at least 10 out of 20K (so: 0.0005 of documents)."
   ]
  },
  {
   "cell_type": "code",
   "execution_count": 46,
   "metadata": {},
   "outputs": [
    {
     "name": "stdout",
     "output_type": "stream",
     "text": [
      "X_train size: 20000 X 1618\n"
     ]
    }
   ],
   "source": [
    "vectorizer = CountVectorizer(stop_words = 'english', min_df = 0.0005)\n",
    "\n",
    "X_train = vectorizer.fit_transform(train_df['title'])\n",
    "\n",
    "print('X_train size: %d X %d' % X_train.shape)"
   ]
  },
  {
   "cell_type": "markdown",
   "metadata": {},
   "source": [
    "Repeat all of the above with the new `X_train` (except for printing all coefficients!).\n",
    "\n",
    "Notice how we define `vectorizer_test` with `vectorizer`'s words (why).\n",
    "\n",
    "You should get (not amazing but) much better results (plots, MSE and R-Squared)."
   ]
  },
  {
   "cell_type": "code",
   "execution_count": 47,
   "metadata": {},
   "outputs": [],
   "source": [
    "mod = LinearRegression()\n",
    "mod.fit(X_train, np.log(train_df['price']))\n",
    "vectorizer_test = CountVectorizer(stop_words = 'english', vocabulary = vectorizer.get_feature_names())\n",
    "X_test = vectorizer_test.fit_transform(test_df['title'])\n",
    "### YOUR CODE HERE ###"
   ]
  },
  {
   "cell_type": "markdown",
   "metadata": {},
   "source": [
    "10. Can Random Forest regressor perform better (this could take some time, we're not using \"only\" 20% of data here)?"
   ]
  },
  {
   "cell_type": "code",
   "execution_count": 60,
   "metadata": {},
   "outputs": [
    {
     "data": {
      "image/png": "[encoded data removed]",
      "text/plain": [
       "<Figure size 432x288 with 1 Axes>"
      ]
     },
     "metadata": {
      "needs_background": "light"
     },
     "output_type": "display_data"
    },
    {
     "name": "stdout",
     "output_type": "stream",
     "text": [
      "Test MSE: 0.12\n",
      "R Squared: 0.49\n"
     ]
    }
   ],
   "source": [
    "from sklearn.ensemble import RandomForestRegressor\n",
    "\n",
    "mod = RandomForestRegressor(n_estimators = 100)\n",
    "mod.fit(X_train, np.log(train_df['price']))\n",
    "y_pred = mod.predict(X_test)\n",
    "\n",
    "plt.scatter(y_test, y_pred,  color='black')\n",
    "plt.xlabel('True Log(Price)')\n",
    "plt.ylabel('Predicted Log(Price)')\n",
    "plt.show()\n",
    "\n",
    "print('Test MSE: %.2f' % mean_squared_error(y_test, y_pred))\n",
    "print('R Squared: %.2f' % r2_score(y_test, y_pred))"
   ]
  },
  {
   "cell_type": "markdown",
   "metadata": {},
   "source": [
    "Much better :)"
   ]
  }
 ],
 "metadata": {
  "kernelspec": {
   "display_name": "Python 3",
   "language": "python",
   "name": "python3"
  },
  "language_info": {
   "codemirror_mode": {
    "name": "ipython",
    "version": 3
   },
   "file_extension": ".py",
   "mimetype": "text/x-python",
   "name": "python",
   "nbconvert_exporter": "python",
   "pygments_lexer": "ipython3",
   "version": "3.6.6"
  }
 },
 "nbformat": 4,
 "nbformat_minor": 2
}
